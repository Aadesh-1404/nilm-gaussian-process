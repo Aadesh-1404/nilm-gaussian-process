{
 "cells": [
  {
   "cell_type": "code",
   "execution_count": 1,
   "metadata": {},
   "outputs": [],
   "source": [
    "import os\n",
    "import torch\n",
    "os.chdir(\"../\")\n",
    "os.environ['CUDA_VISIBLE_DEVICES']=\"3\""
   ]
  },
  {
   "cell_type": "code",
   "execution_count": 2,
   "metadata": {},
   "outputs": [],
   "source": [
    "import jax\n",
    "import jax.numpy as jnp\n",
    "import flax.linen as nn\n",
    "import optax\n",
    "import pandas as pd\n",
    "from functools import partial\n",
    "from sklearn.preprocessing import StandardScaler\n",
    "import matplotlib.pyplot as plt\n",
    "import seaborn as sns\n",
    "from utilities.fits import fit\n",
    "from datasets.dataset_loader import dataset_load\n",
    "from utilities import plot, gmm, errors, predict, preprocess\n",
    "from models import seq2point"
   ]
  },
  {
   "cell_type": "code",
   "execution_count": 3,
   "metadata": {},
   "outputs": [],
   "source": [
    "import pandas as pd\n",
    "import jax.numpy as jnp\n",
    "from datetime import datetime\n",
    "from sklearn.preprocessing import StandardScaler\n",
    "\n",
    "\n",
    "def dataset_load(appliances, train, test=None):\n",
    "    x_train = []\n",
    "    y_train = []\n",
    "    x_train_timestamp = []\n",
    "    n = 9\n",
    "    units_to_pad = n // 2\n",
    "    scaler_x = StandardScaler()\n",
    "    scaler_y = StandardScaler()\n",
    "    scaler_time = StandardScaler()\n",
    "    # train\n",
    "    for key, values in train.items():\n",
    "        df = pd.read_csv(\n",
    "            f\"datasets/Building{key}_NILM_data_basic.csv\", usecols=[\"Timestamp\", \"main\", appliances[0]])\n",
    "        df[\"date\"] = pd.to_datetime(df[\"Timestamp\"]).dt.date\n",
    "        startDate = datetime.strptime(values[\"start_time\"], \"%Y-%m-%d\").date()\n",
    "        endDate = datetime.strptime(values[\"end_time\"], \"%Y-%m-%d\").date()\n",
    "\n",
    "        if startDate > endDate:\n",
    "            raise \"Start Date must be smaller than Enddate.\"\n",
    "\n",
    "        df = df[(df[\"date\"] >= startDate) & (df[\"date\"] <= endDate)]\n",
    "        df.dropna(inplace=True)\n",
    "        x = df[\"main\"].values\n",
    "        y = df[appliances[0]].values\n",
    "        timestamp_train = (pd.to_datetime(df[\"Timestamp\"]).astype(int)/ 10**18).values\n",
    "        x = jnp.pad(x, (units_to_pad, units_to_pad),\n",
    "                    'constant', constant_values=(0, 0))\n",
    "        x = jnp.array([x[i: i + n] for i in range(len(x) - n + 1)])\n",
    "        x_train.extend(x)\n",
    "        y_train.extend(y)\n",
    "        x_train_timestamp.extend(torch.Tensor(timestamp_train))\n",
    "\n",
    "\n",
    "    x_train = jnp.array(x_train)\n",
    "    y_train = jnp.array(y_train).reshape(-1, 1)\n",
    "    x_train_timestamp = torch.Tensor(x_train_timestamp).reshape(-1,1)\n",
    "    x_train = scaler_x.fit_transform(x_train)\n",
    "    y_train = scaler_y.fit_transform(y_train)\n",
    "    x_train_timestamp = scaler_time.fit_transform(x_train_timestamp)\n",
    "\n",
    "\n",
    "    # test\n",
    "    x_test = []\n",
    "    y_test = []\n",
    "    x_test_timestamp = []\n",
    "    for key, values in test.items():\n",
    "        df = pd.read_csv(\n",
    "            f\"datasets/Building{key}_NILM_data_basic.csv\", usecols=[\"Timestamp\", \"main\", appliances[0]])\n",
    "        df[\"date\"] = pd.to_datetime(df[\"Timestamp\"]).dt.date\n",
    "        startDate = datetime.strptime(values[\"start_time\"], \"%Y-%m-%d\").date()\n",
    "        endDate = datetime.strptime(values[\"end_time\"], \"%Y-%m-%d\").date()\n",
    "\n",
    "        if startDate > endDate:\n",
    "            raise \"Start Date must be smaller than Enddate.\"\n",
    "\n",
    "        df = df[(df[\"date\"] >= startDate) & (df[\"date\"] <= endDate)]\n",
    "        df.dropna(inplace=True)\n",
    "        x = df[\"main\"].values\n",
    "        y = df[appliances[0]].values\n",
    "        timestamp = (pd.to_datetime(df[\"Timestamp\"]).astype(int)/ 10**18).values\n",
    "        x = jnp.pad(x, (units_to_pad, units_to_pad),\n",
    "                    'constant', constant_values=(0, 0))\n",
    "        x = jnp.array([x[i: i + n] for i in range(len(x) - n + 1)])\n",
    "        x_test.extend(x)\n",
    "        y_test.extend(y)\n",
    "        x_test_timestamp.extend(timestamp)\n",
    "\n",
    "    x_test = jnp.array(x_test)\n",
    "    y_test = jnp.array(y_test).reshape(-1, 1)\n",
    "    x_test_timestamp = torch.Tensor(x_test_timestamp).reshape(-1,1)\n",
    "\n",
    "    x_test = scaler_x.transform(x_test)\n",
    "    x_test_timestamp = scaler_time.transform(x_test_timestamp)\n",
    "#     y_test = scaler_y.transform(y_test)\n",
    "\n",
    "    x_train = jnp.array(x_train).reshape(x_train.shape[0], n)\n",
    "    y_train = jnp.array(y_train)\n",
    "    x_train_timestamp = torch.Tensor(x_train_timestamp).reshape(x_train_timestamp.shape[0], 1)\n",
    "    x_test = jnp.array(x_test).reshape(x_test.shape[0], n)\n",
    "    y_test = jnp.array(y_test)\n",
    "    x_test_timestamp = torch.Tensor(x_test_timestamp).reshape(x_test_timestamp.shape[0], 1)\n",
    "\n",
    "    return x_train, y_train, x_test, y_test, x_train_timestamp, x_test_timestamp, scaler_x, scaler_y, scaler_time\n"
   ]
  },
  {
   "cell_type": "code",
   "execution_count": 4,
   "metadata": {},
   "outputs": [],
   "source": [
    "train ={\n",
    "    1: {\n",
    "          'start_time': \"2011-04-28\" ,\n",
    "          'end_time': \"2011-05-15\"\n",
    "        },\n",
    "    3: {\n",
    "          'start_time': \"2011-04-19\" ,\n",
    "          'end_time': \"2011-05-22\"\n",
    "    }\n",
    "}\n",
    "test = {\n",
    "     2: {\n",
    "          'start_time': \"2011-04-21\" ,\n",
    "          'end_time': \"2011-05-21\"\n",
    "    }\n",
    "}\n",
    "appliances = [\"Microwave\"]"
   ]
  },
  {
   "cell_type": "code",
   "execution_count": 5,
   "metadata": {},
   "outputs": [],
   "source": [
    "x_train, y_train, x_test, y_test, x_train_timstamp, x_test_timestamp, scaler_x, scaler_y,scaler_time= dataset_load(appliances, train, test)"
   ]
  },
  {
   "cell_type": "code",
   "execution_count": 7,
   "metadata": {},
   "outputs": [],
   "source": [
    "model = seq2point.seq2point()"
   ]
  },
  {
   "cell_type": "code",
   "execution_count": 8,
   "metadata": {},
   "outputs": [],
   "source": [
    "%%capture cap --no-stderr\n",
    "%%time\n",
    "params =  model.init(jax.random.PRNGKey(0), x_train, True)\n",
    "params, losses = fit(model, params, x_train, y_train, False, batch_size=32, learning_rate=0.001, epochs=200)"
   ]
  },
  {
   "cell_type": "code",
   "execution_count": 9,
   "metadata": {},
   "outputs": [
    {
     "name": "stdout",
     "output_type": "stream",
     "text": [
      "RMSE : 94.6669\n",
      "MAE  : 14.5782\n"
     ]
    }
   ],
   "source": [
    "y_hat = model.apply(params, x_test, True, rngs={\"dropout\":jax.random.PRNGKey(0)})\n",
    "y_hat = scaler_y.inverse_transform(y_hat)\n",
    "print(f\"RMSE : {errors.rmse(y_test, y_hat):.4f}\\nMAE  : {errors.mae(y_test,y_hat):.4f}\")"
   ]
  },
  {
   "cell_type": "code",
   "execution_count": 10,
   "metadata": {},
   "outputs": [],
   "source": [
    "train ={\n",
    "    1: {\n",
    "          'start_time': \"2011-04-28\" ,\n",
    "          'end_time': \"2011-05-15\"\n",
    "        },\n",
    "         2: {\n",
    "          'start_time': \"2011-04-21\" ,\n",
    "          'end_time': \"2011-05-21\"\n",
    "    }\n",
    "    \n",
    "}\n",
    "test = {\n",
    "    3: {\n",
    "          'start_time': \"2011-04-19\" ,\n",
    "          'end_time': \"2011-05-22\"\n",
    "    }\n",
    "}\n",
    "appliances = [\"Microwave\"]"
   ]
  },
  {
   "cell_type": "code",
   "execution_count": 11,
   "metadata": {},
   "outputs": [],
   "source": [
    "x_train, y_train, x_test, y_test, x_train_timstamp, x_test_timestamp, scaler_x, scaler_y,scaler_time= dataset_load(appliances, train, test)"
   ]
  },
  {
   "cell_type": "code",
   "execution_count": 12,
   "metadata": {},
   "outputs": [],
   "source": [
    "model = seq2point.seq2point()"
   ]
  },
  {
   "cell_type": "code",
   "execution_count": 13,
   "metadata": {},
   "outputs": [],
   "source": [
    "%%capture cap --no-stderr\n",
    "%%time\n",
    "params =  model.init(jax.random.PRNGKey(0), x_train, True)\n",
    "params, losses = fit(model, params, x_train, y_train, False, batch_size=32, learning_rate=0.001, epochs=200)"
   ]
  },
  {
   "cell_type": "code",
   "execution_count": 14,
   "metadata": {},
   "outputs": [],
   "source": [
    "y_hat = model.apply(params, x_test, True, rngs={\"dropout\":jax.random.PRNGKey(0)})\n",
    "y_hat = scaler_y.inverse_transform(y_hat)"
   ]
  },
  {
   "cell_type": "code",
   "execution_count": 15,
   "metadata": {},
   "outputs": [
    {
     "name": "stdout",
     "output_type": "stream",
     "text": [
      "RMSE : 82.1849\n",
      "MAE  : 13.5092\n"
     ]
    }
   ],
   "source": [
    "print(f\"RMSE : {errors.rmse(y_test, y_hat):.4f}\\nMAE  : {errors.mae(y_test,y_hat):.4f}\")"
   ]
  },
  {
   "cell_type": "code",
   "execution_count": 16,
   "metadata": {},
   "outputs": [],
   "source": [
    "train ={ 3: {\n",
    "          'start_time': \"2011-04-19\" ,\n",
    "          'end_time': \"2011-05-22\"\n",
    "    },\n",
    "    \n",
    "         2: {\n",
    "          'start_time': \"2011-04-21\" ,\n",
    "          'end_time': \"2011-05-21\"\n",
    "    }\n",
    "    \n",
    "}\n",
    "test = {1: {\n",
    "          'start_time': \"2011-04-28\" ,\n",
    "          'end_time': \"2011-05-15\"\n",
    "        },\n",
    "   \n",
    "}\n",
    "appliances = [\"Microwave\"]"
   ]
  },
  {
   "cell_type": "code",
   "execution_count": 17,
   "metadata": {},
   "outputs": [],
   "source": [
    "x_train, y_train, x_test, y_test, x_train_timstamp, x_test_timestamp, scaler_x, scaler_y,scaler_time= dataset_load(appliances, train, test)"
   ]
  },
  {
   "cell_type": "code",
   "execution_count": 18,
   "metadata": {},
   "outputs": [],
   "source": [
    "model = seq2point.seq2point()"
   ]
  },
  {
   "cell_type": "code",
   "execution_count": 19,
   "metadata": {},
   "outputs": [],
   "source": [
    "%%capture cap --no-stderr\n",
    "%%time\n",
    "params =  model.init(jax.random.PRNGKey(0), x_train, True)\n",
    "params, losses = fit(model, params, x_train, y_train, False, batch_size=32, learning_rate=0.001, epochs=200)"
   ]
  },
  {
   "cell_type": "code",
   "execution_count": 20,
   "metadata": {},
   "outputs": [],
   "source": [
    "y_hat = model.apply(params, x_test, True, rngs={\"dropout\":jax.random.PRNGKey(0)})\n",
    "y_hat = scaler_y.inverse_transform(y_hat)"
   ]
  },
  {
   "cell_type": "code",
   "execution_count": 21,
   "metadata": {},
   "outputs": [
    {
     "name": "stdout",
     "output_type": "stream",
     "text": [
      "RMSE : 107.6699\n",
      "MAE  : 17.0333\n"
     ]
    }
   ],
   "source": [
    "print(f\"RMSE : {errors.rmse(y_test, y_hat):.4f}\\nMAE  : {errors.mae(y_test,y_hat):.4f}\")"
   ]
  },
  {
   "cell_type": "code",
   "execution_count": null,
   "metadata": {},
   "outputs": [],
   "source": [
    "MAE  :14.5782 build2\n",
    "MAE  : 13.5092 build3\n",
    "MAE : 17.0333 build1"
   ]
  }
 ],
 "metadata": {
  "kernelspec": {
   "display_name": "Python 3.10.4 ('nlim')",
   "language": "python",
   "name": "python3"
  },
  "language_info": {
   "codemirror_mode": {
    "name": "ipython",
    "version": 3
   },
   "file_extension": ".py",
   "mimetype": "text/x-python",
   "name": "python",
   "nbconvert_exporter": "python",
   "pygments_lexer": "ipython3",
   "version": "3.10.4"
  },
  "orig_nbformat": 4,
  "vscode": {
   "interpreter": {
    "hash": "4a19952a8cb0d513e360355f3718fc7b5b0ccef7313ddd97e7b7ab66b1ecfbb8"
   }
  }
 },
 "nbformat": 4,
 "nbformat_minor": 2
}
