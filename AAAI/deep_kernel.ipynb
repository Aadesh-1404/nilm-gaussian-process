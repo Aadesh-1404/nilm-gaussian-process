{
 "cells": [
  {
   "cell_type": "code",
   "execution_count": 1,
   "metadata": {},
   "outputs": [],
   "source": [
    "import os\n",
    "os.chdir(\"../\")\n",
    "os.environ[\"CUDA_VISIBLE_DEVICES\"] = \"1\""
   ]
  },
  {
   "cell_type": "code",
   "execution_count": 2,
   "metadata": {},
   "outputs": [],
   "source": [
    "import math\n",
    "import torch\n",
    "import gpytorch\n",
    "from matplotlib import pyplot as plt\n",
    "import jax.numpy as jnp\n",
    "import pandas as pd\n",
    "from sklearn.preprocessing import StandardScaler\n",
    "import matplotlib.pyplot as plt\n",
    "import seaborn as sns\n",
    "from utilities.fits import fit\n",
    "# from utilities import plot\n",
    "import tensorflow_probability.substrates.jax as tfp\n",
    "dist = tfp.distributions\n",
    "import pandas as pd\n",
    "import jax.numpy as jnp\n",
    "from datetime import datetime\n",
    "from sklearn.preprocessing import StandardScaler\n",
    "from gpytorch.constraints import GreaterThan\n",
    "from skgpytorch.metrics import mean_squared_error, negative_log_predictive_density\n",
    "import time\n",
    "import numpy as np\n",
    "\n",
    "# from datasets.dataset_load import dataset_loader\n",
    "from utilities import plot,fits,gmm,errors,predict,preprocess\n",
    "\n",
    "# device = \"cpu\"\n",
    "# torch.set_default_dtype(torch.float32)\n",
    "# torch.set_default_tensor_type(torch.FloatTensor)\n"
   ]
  },
  {
   "cell_type": "code",
   "execution_count": 3,
   "metadata": {},
   "outputs": [],
   "source": [
    "import torch\n",
    "from gpytorch.kernels import RBFKernel, ScaleKernel, PeriodicKernel, MaternKernel, CosineKernel\n",
    "from skgpytorch.models import SVGPRegressor, SGPRegressor"
   ]
  },
  {
   "cell_type": "code",
   "execution_count": 4,
   "metadata": {},
   "outputs": [],
   "source": [
    "train ={1:{\n",
    "                    'start_time': \"2011-04-21\" ,\n",
    "                    'end_time': \"2011-05-21\"\n",
    "                } ,\n",
    "                3: {\n",
    "                    'start_time': \"2011-04-19\" ,\n",
    "                    'end_time': \"2011-05-22\"\n",
    "                }  ,\n",
    "                6: {\n",
    "                    'start_time': \"2011-05-25\" ,\n",
    "                    'end_time': \"2011-06-13\"\n",
    "                } \n",
    "              ,\n",
    "\n",
    "                \n",
    "                2: {\n",
    "                    'start_time': \"2011-04-21\" ,\n",
    "                    'end_time': \"2011-05-21\"\n",
    "                }\n",
    "                \n",
    "              \n",
    "            \n",
    "               \n",
    "                }\n",
    "test = {   5: {\n",
    "                    'start_time': \"2011-04-22\" ,\n",
    "                    'end_time': \"2011-06-01\"\n",
    "                }  }\n",
    "appliances = [\"Refrigerator\"]"
   ]
  },
  {
   "cell_type": "code",
   "execution_count": 5,
   "metadata": {},
   "outputs": [],
   "source": [
    "import pandas as pd\n",
    "import jax.numpy as jnp\n",
    "from datetime import datetime\n",
    "from sklearn.preprocessing import StandardScaler\n",
    "\n",
    "\n",
    "def dataset_load(appliances, train, test=None):\n",
    "    x_train = []\n",
    "    y_train = []\n",
    "    x_train_timestamp = []\n",
    "    n = 99\n",
    "    units_to_pad = n // 2\n",
    "    scaler_x = StandardScaler()\n",
    "    scaler_y = StandardScaler()\n",
    "    scaler_time = StandardScaler()\n",
    "    # train\n",
    "    for key, values in train.items():\n",
    "        df = pd.read_csv(\n",
    "            f\"datasets/Building{key}_NILM_data_basic.csv\", usecols=[\"Timestamp\", \"main\", appliances[0]])\n",
    "        df[\"date\"] = pd.to_datetime(df[\"Timestamp\"]).dt.date\n",
    "        startDate = datetime.strptime(values[\"start_time\"], \"%Y-%m-%d\").date()\n",
    "        endDate = datetime.strptime(values[\"end_time\"], \"%Y-%m-%d\").date()\n",
    "\n",
    "        if startDate > endDate:\n",
    "            raise \"Start Date must be smaller than Enddate.\"\n",
    "\n",
    "        df = df[(df[\"date\"] >= startDate) & (df[\"date\"] <= endDate)]\n",
    "        df.dropna(inplace=True)\n",
    "        x = df[\"main\"].values\n",
    "        y = df[appliances[0]].values\n",
    "        timestamp_train = (pd.to_datetime(df[\"Timestamp\"]).astype(int)/ 10**18).values\n",
    "        x = jnp.pad(x, (units_to_pad, units_to_pad),\n",
    "                    'constant', constant_values=(0, 0))\n",
    "        x = jnp.array([x[i: i + n] for i in range(len(x) - n + 1)])\n",
    "        x_train.extend(x)\n",
    "        y_train.extend(y)\n",
    "        x_train_timestamp.extend(torch.Tensor(timestamp_train))\n",
    "\n",
    "\n",
    "    x_train = jnp.array(x_train)\n",
    "    y_train = jnp.array(y_train).reshape(-1, 1)\n",
    "    x_train_timestamp = torch.Tensor(x_train_timestamp).reshape(-1,1)\n",
    "    x_train = scaler_x.fit_transform(x_train)\n",
    "    y_train = scaler_y.fit_transform(y_train)\n",
    "    x_train_timestamp = scaler_time.fit_transform(x_train_timestamp)\n",
    "\n",
    "\n",
    "    # test\n",
    "    x_test = []\n",
    "    y_test = []\n",
    "    x_test_timestamp = []\n",
    "    for key, values in test.items():\n",
    "        df = pd.read_csv(\n",
    "            f\"datasets/Building{key}_NILM_data_basic.csv\", usecols=[\"Timestamp\", \"main\", appliances[0]])\n",
    "        df[\"date\"] = pd.to_datetime(df[\"Timestamp\"]).dt.date\n",
    "        startDate = datetime.strptime(values[\"start_time\"], \"%Y-%m-%d\").date()\n",
    "        endDate = datetime.strptime(values[\"end_time\"], \"%Y-%m-%d\").date()\n",
    "\n",
    "        if startDate > endDate:\n",
    "            raise \"Start Date must be smaller than Enddate.\"\n",
    "\n",
    "        df = df[(df[\"date\"] >= startDate) & (df[\"date\"] <= endDate)]\n",
    "        df.dropna(inplace=True)\n",
    "        x = df[\"main\"].values\n",
    "        y = df[appliances[0]].values\n",
    "        timestamp = (pd.to_datetime(df[\"Timestamp\"]).astype(int)/ 10**18).values\n",
    "        x = jnp.pad(x, (units_to_pad, units_to_pad),\n",
    "                    'constant', constant_values=(0, 0))\n",
    "        x = jnp.array([x[i: i + n] for i in range(len(x) - n + 1)])\n",
    "        x_test.extend(x)\n",
    "        y_test.extend(y)\n",
    "        x_test_timestamp.extend(timestamp)\n",
    "\n",
    "    x_test = jnp.array(x_test)\n",
    "    y_test = jnp.array(y_test).reshape(-1, 1)\n",
    "    x_test_timestamp = torch.Tensor(x_test_timestamp).reshape(-1,1)\n",
    "\n",
    "    x_test = scaler_x.transform(x_test)\n",
    "    x_test_timestamp = scaler_time.transform(x_test_timestamp)\n",
    "#     y_test = scaler_y.transform(y_test)\n",
    "\n",
    "    x_train = jnp.array(x_train).reshape(x_train.shape[0], n)\n",
    "    y_train = jnp.array(y_train)\n",
    "    x_train_timestamp = torch.Tensor(x_train_timestamp).reshape(x_train_timestamp.shape[0], 1)\n",
    "    x_test = jnp.array(x_test).reshape(x_test.shape[0], n)\n",
    "    y_test = jnp.array(y_test)\n",
    "    x_test_timestamp = torch.Tensor(x_test_timestamp).reshape(x_test_timestamp.shape[0], 1)\n",
    "\n",
    "    return x_train, y_train, x_test, y_test, x_train_timestamp, x_test_timestamp, scaler_x, scaler_y, scaler_time\n"
   ]
  },
  {
   "cell_type": "code",
   "execution_count": 6,
   "metadata": {},
   "outputs": [],
   "source": [
    "# import pandas as pd\n",
    "# import jax.numpy as jnp\n",
    "# from datetime import datetime\n",
    "# from sklearn.preprocessing import StandardScaler\n",
    "# import torch\n",
    "\n",
    "# def dataset_load(appliances, train, test=None):\n",
    "#     x_train = []\n",
    "#     y_train = []\n",
    "#     x_train_timestamp = []\n",
    "#     scaler_x = StandardScaler()\n",
    "#     scaler_y = StandardScaler()\n",
    "#     scaler_time = StandardScaler()\n",
    "#     # train\n",
    "#     for key, values in train.items():\n",
    "#         df = pd.read_csv(\n",
    "#             f\"datasets/Building{key}_NILM_data_basic.csv\", usecols=[\"Timestamp\", \"main\", appliances[0]])\n",
    "#         df[\"date\"] = pd.to_datetime(df[\"Timestamp\"]).dt.date\n",
    "#         startDate = datetime.strptime(values[\"start_time\"], \"%Y-%m-%d\").date()\n",
    "#         endDate = datetime.strptime(values[\"end_time\"], \"%Y-%m-%d\").date()\n",
    "        \n",
    "\n",
    "#         if startDate > endDate:\n",
    "#             raise \"Start Date must be smaller than Enddate.\"\n",
    "\n",
    "#         df = df[(df[\"date\"] >= startDate) & (df[\"date\"] <= endDate)]\n",
    "#         df.dropna(inplace=True)\n",
    "#         x = df[\"main\"].values\n",
    "#         y = df[appliances[0]].values\n",
    "        \n",
    "#         timestamp_train = (pd.to_datetime(df[\"Timestamp\"]).astype(int)/ 10**18).values\n",
    "\n",
    "#         x_train.extend(torch.tensor(x))\n",
    "#         y_train.extend(torch.tensor(y))\n",
    "#         x_train_timestamp.extend(torch.tensor(timestamp_train))\n",
    "\n",
    "#     x_train = torch.tensor(x_train).reshape(-1, 1)\n",
    "#     y_train = torch.tensor(y_train).reshape(-1, 1)\n",
    "#     x_train_timestamp = torch.tensor(x_train_timestamp).reshape(-1,1)\n",
    "#     x_train = scaler_x.fit_transform(x_train)\n",
    "#     y_train = scaler_y.fit_transform(y_train)\n",
    "#     x_train_timestamp = scaler_time.fit_transform(x_train_timestamp)\n",
    "\n",
    "\n",
    "#     # test\n",
    "#     x_test = []\n",
    "#     y_test = []\n",
    "#     x_test_timestamp = []\n",
    "#     for key, values in test.items():\n",
    "#         df = pd.read_csv(\n",
    "#             f\"datasets/Building{key}_NILM_data_basic.csv\", usecols=[\"Timestamp\", \"main\", appliances[0]])\n",
    "#         df[\"date\"] = pd.to_datetime(df[\"Timestamp\"]).dt.date\n",
    "#         startDate = datetime.strptime(values[\"start_time\"], \"%Y-%m-%d\").date()\n",
    "#         endDate = datetime.strptime(values[\"end_time\"], \"%Y-%m-%d\").date()\n",
    "\n",
    "#         if startDate > endDate:\n",
    "#             raise \"Start Date must be smaller than Enddate.\"\n",
    "\n",
    "#         df = df[(df[\"date\"] >= startDate) & (df[\"date\"] <= endDate)]\n",
    "#         df.dropna(inplace=True)\n",
    "#         x = df[\"main\"].values\n",
    "#         y = df[appliances[0]].values\n",
    "#         timestamp = (pd.to_datetime(df[\"Timestamp\"]).astype(int)/ 10**18).values\n",
    "\n",
    "#         x_test.extend(torch.tensor(x))\n",
    "#         y_test.extend(torch.tensor(y))\n",
    "#         x_test_timestamp.extend(timestamp)\n",
    "\n",
    "#     x_test = torch.tensor(x_test).reshape(-1, 1)\n",
    "#     y_test = torch.tensor(y_test).reshape(-1, 1)\n",
    "#     x_test_timestamp = torch.tensor(x_test_timestamp).reshape(-1,1)\n",
    "\n",
    "#     x_test = scaler_x.transform(x_test)\n",
    "#     x_test_timestamp = scaler_time.transform(x_test_timestamp)\n",
    "\n",
    "#     x_train = torch.tensor(x_train).reshape(x_train.shape[0], 1).contiguous()\n",
    "#     y_train = torch.tensor(y_train).reshape(-1,).contiguous()\n",
    "#     x_train_timestamp = torch.tensor(x_train_timestamp).reshape(x_train_timestamp.shape[0], 1).contiguous()\n",
    "#     x_test = torch.tensor(x_test).reshape(x_test.shape[0], 1).contiguous()\n",
    "#     y_test = torch.tensor(y_test).reshape(-1,).contiguous()\n",
    "#     x_test_timestamp = torch.tensor(x_test_timestamp).reshape(x_test_timestamp.shape[0], 1).contiguous()\n",
    "\n",
    "\n",
    "#     return x_train, y_train, x_test, y_test, x_train_timestamp, x_test_timestamp, scaler_x, scaler_y\n"
   ]
  },
  {
   "cell_type": "code",
   "execution_count": 7,
   "metadata": {},
   "outputs": [],
   "source": [
    "x_train, y_train, x_test, y_test, x_train_timstamp, x_test_timestamp, scaler_x, scaler_y,scaler_time = dataset_load(appliances, train, test)"
   ]
  },
  {
   "cell_type": "code",
   "execution_count": 8,
   "metadata": {},
   "outputs": [
    {
     "data": {
      "text/plain": [
       "(67134, 99)"
      ]
     },
     "execution_count": 8,
     "metadata": {},
     "output_type": "execute_result"
    }
   ],
   "source": [
    "x_train.shape"
   ]
  },
  {
   "cell_type": "code",
   "execution_count": 9,
   "metadata": {},
   "outputs": [],
   "source": [
    "indexes = 53456\n",
    "n = 99\n",
    "# x_train_full = jnp.concatenate((jnp.array(x_train.reshape(-1,n)), jnp.array(np.array(x_train_timstamp))), axis=1)\n",
    "# x_test_full = jnp.concatenate((jnp.array(x_test.reshape(-1,n)), jnp.array(np.array(x_test_timestamp))), axis=1)\n",
    "# x_train_full.shape, x_test_full.shape\n",
    "\n",
    "x = torch.Tensor(np.array(x_train))\n",
    "y = torch.Tensor(np.array(y_train)).reshape(-1)\n",
    "xt = torch.Tensor(np.array(x_test))\n",
    "yt = torch.Tensor(np.array(y_test)).reshape(-1)\n",
    "\n",
    "if x.shape[0]>indexes:\n",
    "  x = x[:indexes]\n",
    "  y = y[:indexes]\n",
    "\n",
    "# xt1= x[indexes:]\n",
    "# yt1 = y[indexes:]"
   ]
  },
  {
   "cell_type": "code",
   "execution_count": 10,
   "metadata": {},
   "outputs": [
    {
     "data": {
      "text/plain": [
       "(torch.Size([53456, 99]), torch.Size([53456]))"
      ]
     },
     "execution_count": 10,
     "metadata": {},
     "output_type": "execute_result"
    }
   ],
   "source": [
    "x.shape, y.shape"
   ]
  },
  {
   "cell_type": "code",
   "execution_count": 11,
   "metadata": {},
   "outputs": [],
   "source": [
    "# x1.shape, y1.shape, x.size(-1), xt1.shape\n",
    "#\n",
    "# x = torch.Tensor(x[:20000,:])\n",
    "# y = torch.Tensor(y[:20000])"
   ]
  },
  {
   "cell_type": "code",
   "execution_count": 12,
   "metadata": {},
   "outputs": [],
   "source": [
    "# data_dim = x.size(-1)\n",
    "# class LargeFeatureExtractor1(torch.nn.Sequential):\n",
    "#     def __init__(self):\n",
    "#         super(LargeFeatureExtractor1, self).__init__()\n",
    "#         self.add_module('lstm', torch.nn.LSTM(data_dim, 256,4))\n",
    "#         # self.add_module('linear1', torch.nn.Linear(data_dim, 250))\n",
    "#         # self.add_module('relu1', torch.nn.ReLU())\n",
    "#         # self.add_module('linear2', torch.nn.Linear(250, 50))     \n",
    "#         # self.add_module('relu2', torch.nn.ReLU())                  \n",
    "#         # self.add_module('linear3', torch.nn.Linear(50, 9))       \n",
    "#         # self.add_module('relu3', torch.nn.ReLU())   \n",
    "#         # self.add_module('linear4', torch.nn.Linear(250, 100))       \n",
    "#         # self.add_module('relu4', torch.nn.ReLU())                         \n",
    "#         # self.add_module('linear5', torch.nn.Linear(100, 9))\n",
    "\n",
    "# class LargeFeatureExtractor2(torch.nn.Sequential):\n",
    "#     def __init__(self):\n",
    "#         super(LargeFeatureExtractor2, self).__init__()\n",
    "#         # self.add_module('lstm', torch.nn.LSTM(data_dim, 500,2))\n",
    "#         # self.add_module('linear1', torch.nn.Linear(data_dim, 1000))\n",
    "#         # self.add_module('relu1', torch.nn.ReLU())\n",
    "#         # self.add_module('linear2', torch.nn.Linear(1000, 500))     \n",
    "#         # self.add_module('relu2', torch.nn.ReLU())                  \n",
    "#         self.add_module('linear1', torch.nn.Linear(256, 64))       \n",
    "#         self.add_module('relu1', torch.nn.ReLU())   \n",
    "#         self.add_module('linear2', torch.nn.Linear(64, 9))                          \n",
    "#         # self.add_module('linear1', torch.nn.Linear(200, 99))  \n",
    "\n",
    "# feature_extractor1 = LargeFeatureExtractor1().cuda()\n",
    "# feature_extractor2 = LargeFeatureExtractor2().cuda()"
   ]
  },
  {
   "cell_type": "code",
   "execution_count": 13,
   "metadata": {},
   "outputs": [],
   "source": [
    "class LSTM(torch.nn.Module):\n",
    "    def __init__(self, hidden_layers=[256,256,256,256]):\n",
    "        super(LSTM, self).__init__()\n",
    "        self.hidden_layers1 = hidden_layers[0]\n",
    "        self.hidden_layers2 = hidden_layers[1]\n",
    "        self.hidden_layers3 = hidden_layers[2]\n",
    "        self.hidden_layers4 = hidden_layers[3]\n",
    "        # lstm1, lstm2, linear are all layers in the network\n",
    "        self.lstm1 = torch.nn.LSTMCell(x.shape[1], self.hidden_layers1)\n",
    "        self.lstm2 = torch.nn.LSTMCell(self.hidden_layers1, self.hidden_layers2)\n",
    "        self.lstm3 = torch.nn.LSTMCell(self.hidden_layers2, self.hidden_layers3)\n",
    "        self.lstm4 = torch.nn.LSTMCell(self.hidden_layers3, self.hidden_layers4)\n",
    "        self.lstm5 = torch.nn.LSTMCell(self.hidden_layers4, self.hidden_layers4)\n",
    "        # self.lstm6 = torch.nn.LSTMCell(self.hidden_layers4, self.hidden_layers4)\n",
    "        # self.lstm7 = torch.nn.LSTMCell(self.hidden_layers4, self.hidden_layers4)\n",
    "        self.linear = torch.nn.Linear(self.hidden_layers4, x.shape[1])\n",
    "        \n",
    "    def forward(self,x1):\n",
    "        h_t = torch.zeros(x1.shape[0], self.hidden_layers1).cuda()\n",
    "        c_t = torch.zeros(x1.shape[0], self.hidden_layers1).cuda()\n",
    "        h_t2 = torch.zeros(x1.shape[0], self.hidden_layers2).cuda()\n",
    "        c_t2 = torch.zeros(x1.shape[0], self.hidden_layers2).cuda()\n",
    "        h_t3 = torch.zeros(x1.shape[0], self.hidden_layers3).cuda()\n",
    "        c_t3 = torch.zeros(x1.shape[0], self.hidden_layers3).cuda()\n",
    "        h_t4 = torch.zeros(x1.shape[0], self.hidden_layers4).cuda()\n",
    "        c_t4 = torch.zeros(x1.shape[0], self.hidden_layers4).cuda()\n",
    "        h_t5 = torch.zeros(x1.shape[0], self.hidden_layers4).cuda()\n",
    "        c_t5 = torch.zeros(x1.shape[0], self.hidden_layers4).cuda()\n",
    "        # h_t6 = torch.zeros(x1.shape[0], self.hidden_layers4).cuda()\n",
    "        # c_t6 = torch.zeros(x1.shape[0], self.hidden_layers4).cuda()\n",
    "        # h_t7 = torch.zeros(x1.shape[0], self.hidden_layers4).cuda()\n",
    "        # c_t7 = torch.zeros(x1.shape[0], self.hidden_layers4).cuda()\n",
    "    \n",
    "        h_t, c_t = self.lstm1(x1, (h_t, c_t)) # initial hidden and cell states\n",
    "        h_t2, c_t2 = self.lstm2(h_t, (h_t2, c_t2)) # new hidden and cell states\n",
    "        h_t3, c_t3 = self.lstm3(h_t2, (h_t3, c_t3)) # new hidden and cell states\n",
    "        h_t4, c_t4 = self.lstm4(h_t3, (h_t4, c_t4)) # new hidden and cell states\n",
    "        h_t5, c_t5 = self.lstm5(h_t4, (h_t5, c_t5)) # new hidden and cell states\n",
    "        # h_t6, c_t6 = self.lstm6(h_t5, (h_t6, c_t6)) # new hidden and cell states\n",
    "        # h_t7, c_t7 = self.lstm7(h_t6, (h_t7, c_t7)) # new hidden and cell states\n",
    "        # print(0)\n",
    "        output = self.linear(h_t5)\n",
    "\n",
    "        return output\n",
    "        \n",
    "feature_extractor1 =LSTM().cuda()"
   ]
  },
  {
   "cell_type": "code",
   "execution_count": 14,
   "metadata": {},
   "outputs": [],
   "source": [
    "# x1[np.arange(0,x1.shape[0], 10)].shape"
   ]
  },
  {
   "cell_type": "code",
   "execution_count": 15,
   "metadata": {},
   "outputs": [],
   "source": [
    "from gpytorch.kernels import ScaleKernel, RBFKernel, InducingPointKernel\n",
    "class GPRegressionModel(gpytorch.models.ExactGP):\n",
    "        def __init__(self, train_x, train_y, likelihood):\n",
    "            super(GPRegressionModel, self).__init__(train_x, train_y, likelihood)\n",
    "            self.mean_module = gpytorch.means.ConstantMean()\n",
    "            self.base_covar_module = ( gpytorch.kernels.ScaleKernel(gpytorch.kernels.RBFKernel(ard_num_dims=n)) )\n",
    "            #+ gpytorch.kernels.ScaleKernel(gpytorch.kernels.RBFKernel(ard_num_dims=1, active_dims=(49)))*gpytorch.kernels.ScaleKernel(gpytorch.kernels.PeriodicKernel(ard_num_dims=1, active_dims=(49)))\n",
    "            # self.covar_module = gpytorch.kernels.GridInterpolationKernel(\n",
    "            #     gpytorch.kernels.ScaleKernel(gpytorch.kernels.RBFKernel(ard_num_dims=2)),\n",
    "            #     num_dims=2, grid_size=100\n",
    "            # )\n",
    "            self.covar_module = InducingPointKernel(self.base_covar_module, inducing_points=train_x[np.arange(0, train_x.shape[0], 95)], likelihood=likelihood)\n",
    "            # print(self.covar_module)\n",
    "            self.feature_extractor1 = feature_extractor1\n",
    "            # self.feature_extractor2 = feature_extractor2\n",
    "\n",
    "            # This module will scale the NN features so that they're nice values\n",
    "            # self.scale_to_bounds = gpytorch.utils.grid.ScaleToBounds(-1., 1.)\n",
    "\n",
    "        def forward(self, x1):\n",
    "            # We're first putting our data through a deep net (feature extractor)\n",
    "            projected_x = self.feature_extractor1(x1)\n",
    "            # print(projected_x.shape)\n",
    "            # print(projected_x.shape, hn.shape,cn.shape)\n",
    "            # projected_x = self.feature_extractor2(projected_x)\n",
    "            # print(projected_x.shape, hn.shape,cn.shape)\n",
    "            # projected_x = self.scale_to_bounds(projected_x)  # Make the NN values \"nice\"\n",
    "            # project_x = projected_x\n",
    "            # plt.figure()\n",
    "            # plt.plot(projected_x.detach().cpu()[:,49],x1.detach().cpu()[:,49])\n",
    "            projected_x = projected_x - projected_x.min(0)[0]\n",
    "            projected_x = 2 * (projected_x / projected_x.max(0)[0]) - 1\n",
    "            # print(projected_x.dtype)\n",
    "            mean_x = self.mean_module(projected_x) #projected_\n",
    "            covar_x = self.covar_module(projected_x)\n",
    "            return gpytorch.distributions.MultivariateNormal(mean_x, covar_x)"
   ]
  },
  {
   "cell_type": "code",
   "execution_count": 16,
   "metadata": {},
   "outputs": [],
   "source": [
    "# from gpytorch.means import ConstantMean\n",
    "# from gpytorch.kernels import ScaleKernel, RBFKernel, InducingPointKernel, PeriodicKernel\n",
    "# from gpytorch.distributions import MultivariateNormal\n",
    "\n",
    "# class GPRegressionModel(gpytorch.models.ExactGP):\n",
    "#     def __init__(self, train_x, train_y, likelihood):\n",
    "#         super(GPRegressionModel, self).__init__(train_x, train_y, likelihood)\n",
    "#         self.mean_module = ConstantMean()\n",
    "#         self.base_covar_module = ScaleKernel(RBFKernel(ard_num_dims=1, active_dims=(0))) + ScaleKernel(RBFKernel(ard_num_dims=1, active_dims=(1)))*ScaleKernel(PeriodicKernel(ard_num_dims=1, active_dims=(1)))\n",
    "#         self.covar_module = InducingPointKernel(self.base_covar_module, inducing_points=train_x[np.arange(0, train_x.shape[0], 30)], likelihood=likelihood)\n",
    "#         self.feature_extractor = feature_extractor\n",
    "#     def forward(self, x):\n",
    "\n",
    "#         # We're first putting our data through a deep net (feature extractor)\n",
    "#         # We're also scaling the features so that they're nice values\n",
    "#         projected_x = self.feature_extractor(x)\n",
    "#         projected_x = projected_x - projected_x.min(0)[0]\n",
    "#         projected_x = 2 * (projected_x / projected_x.max(0)[0]) - 1\n",
    "#         mean_x = self.mean_module(projected_x)\n",
    "#         covar_x = self.covar_module(projected_x)\n",
    "#         return MultivariateNormal(mean_x, covar_x)"
   ]
  },
  {
   "cell_type": "code",
   "execution_count": 17,
   "metadata": {},
   "outputs": [],
   "source": [
    "likelihood = gpytorch.likelihoods.GaussianLikelihood()\n",
    "model = GPRegressionModel(x, y, likelihood)\n",
    "\n",
    "if torch.cuda.is_available():\n",
    "    model = model.cuda()\n",
    "    likelihood = likelihood.cuda()"
   ]
  },
  {
   "cell_type": "code",
   "execution_count": 18,
   "metadata": {},
   "outputs": [
    {
     "data": {
      "application/vnd.jupyter.widget-view+json": {
       "model_id": "172dcb5273e540439f31dd0eb0abb751",
       "version_major": 2,
       "version_minor": 0
      },
      "text/plain": [
       "  0%|          | 0/1500 [00:00<?, ?it/s]"
      ]
     },
     "metadata": {},
     "output_type": "display_data"
    },
    {
     "name": "stderr",
     "output_type": "stream",
     "text": [
      "/home/desai.aadesh/miniconda3/envs/nlim/lib/python3.10/site-packages/gpytorch/kernels/inducing_point_kernel.py:61: UserWarning: torch.triangular_solve is deprecated in favor of torch.linalg.solve_triangularand will be removed in a future PyTorch release.\n",
      "torch.linalg.solve_triangular has its arguments reversed and does not return a copy of one of the inputs.\n",
      "X = torch.triangular_solve(B, A).solution\n",
      "should be replaced with\n",
      "X = torch.linalg.solve_triangular(A, B). (Triggered internally at  /opt/conda/conda-bld/pytorch_1656352645774/work/aten/src/ATen/native/BatchLinearAlgebra.cpp:2183.)\n",
      "  inv_root = torch.triangular_solve(eye, chol)[0]\n"
     ]
    },
    {
     "name": "stdout",
     "output_type": "stream",
     "text": [
      "CPU times: user 3h 17min 29s, sys: 30min 54s, total: 3h 48min 24s\n",
      "Wall time: 6min 38s\n"
     ]
    }
   ],
   "source": [
    "import tqdm\n",
    "training_iterations = 1500\n",
    "\n",
    "# Find optimal model hyperparameters\n",
    "model.train()\n",
    "likelihood.train()\n",
    "\n",
    "# Use the adam optimizer\n",
    "optimizer = torch.optim.Adam(model.parameters(), lr=0.001)\n",
    "\n",
    "# \"Loss\" for GPs - the marginal log likelihood\n",
    "mll = gpytorch.mlls.ExactMarginalLogLikelihood(likelihood, model)\n",
    "loss_arr =[]\n",
    "def train():\n",
    "    iterator = tqdm.notebook.tqdm(range(training_iterations))\n",
    "    for i in iterator:\n",
    "        # Zero backprop gradients\n",
    "        optimizer.zero_grad()\n",
    "        # Get output from model\n",
    "        output= model(x.cuda())\n",
    "        # print(output.loc.shape)\n",
    "        # Calc loss and backprop derivatives\n",
    "        loss = -mll(output, y.cuda())\n",
    "        # loss_arr.append(loss.cpu())\n",
    "        loss.backward()\n",
    "        iterator.set_postfix(loss=loss.item())\n",
    "        optimizer.step()\n",
    " \n",
    "%time train()"
   ]
  },
  {
   "cell_type": "code",
   "execution_count": 19,
   "metadata": {},
   "outputs": [],
   "source": [
    "# model_name = \"Refri_induce25_trial2_lstm_build6.pt\"\n",
    "# torch.save(model.state_dict(), os.path.join(\n",
    "#    \"./deepkernel_models/\", model_name))"
   ]
  },
  {
   "cell_type": "code",
   "execution_count": 20,
   "metadata": {},
   "outputs": [],
   "source": [
    "# model_name =  \"Refri_induce30_train_test_trial.pt\"\n",
    "# model.load_state_dict(torch.load(\n",
    "#     os.path.join(\"./deepkernel_models/\", model_name)))"
   ]
  },
  {
   "cell_type": "code",
   "execution_count": 21,
   "metadata": {},
   "outputs": [],
   "source": [
    "model.eval()\n",
    "likelihood.eval()\n",
    "with torch.no_grad(), gpytorch.settings.use_toeplitz(False), gpytorch.settings.fast_pred_var():\n",
    "    preds= model(xt.cuda())"
   ]
  },
  {
   "cell_type": "code",
   "execution_count": 22,
   "metadata": {},
   "outputs": [],
   "source": [
    "# print('Test MAE: {}'.format(torch.mean(torch.abs(torch.tensor(scaler_y.inverse_transform(preds.mean.cpu().reshape(-1,1)).squeeze()) - torch.tensor(scaler_y.inverse_transform(yt1.reshape(-1,1)).squeeze())))))\n",
    "# yt1_trans = torch.tensor(scaler_y.inverse_transform(yt1.reshape(-1,1)).squeeze())"
   ]
  },
  {
   "cell_type": "code",
   "execution_count": 23,
   "metadata": {},
   "outputs": [],
   "source": [
    "y_mean = np.array(preds.mean.cpu())\n",
    "y_mean = scaler_y.inverse_transform(y_mean.reshape(-1,1)).squeeze()\n",
    "y_mean2 = np.clip(y_mean,0,y_mean.max(),out=y_mean)"
   ]
  },
  {
   "cell_type": "code",
   "execution_count": 24,
   "metadata": {},
   "outputs": [
    {
     "name": "stdout",
     "output_type": "stream",
     "text": [
      "Test MAE: 43.10635757446289\n"
     ]
    }
   ],
   "source": [
    "print('Test MAE: {}'.format(torch.mean(torch.abs(torch.tensor(y_mean2) - yt))))"
   ]
  },
  {
   "cell_type": "code",
   "execution_count": 25,
   "metadata": {},
   "outputs": [
    {
     "data": {
      "image/png": "[encoded data removed]",
      "text/plain": [
       "<Figure size 720x432 with 1 Axes>"
      ]
     },
     "metadata": {
      "needs_background": "light"
     },
     "output_type": "display_data"
    }
   ],
   "source": [
    "idx = 300\n",
    "plt.figure(figsize=(10,6))\n",
    "plt.plot(x_test_timestamp[:idx], scaler_x.inverse_transform(xt[:,:99].cpu())[:idx,49], label = \"Main\")\n",
    "plt.plot(x_test_timestamp[:idx],yt[:idx], label = \"Refri\")\n",
    "plt.plot(x_test_timestamp[:idx], y_mean2[:idx], label = \"Predicted\")\n",
    "plt.legend(bbox_to_anchor=(1, 1),fontsize=20)\n",
    "sns.despine()\n",
    "# plt.savefig(\"./Results/Refrigerator_building5.png\", bbox_inches=\"tight\")"
   ]
  },
  {
   "cell_type": "code",
   "execution_count": 26,
   "metadata": {},
   "outputs": [],
   "source": [
    "# model.eval()\n",
    "# likelihood.eval()\n",
    "# with torch.no_grad(), gpytorch.settings.use_toeplitz(False), gpytorch.settings.fast_pred_var():\n",
    "#     preds = model(x.cuda())"
   ]
  },
  {
   "cell_type": "code",
   "execution_count": 27,
   "metadata": {},
   "outputs": [],
   "source": [
    "# print('Test MAE: {}'.format(torch.mean(torch.abs(torch.tensor(scaler_y.inverse_transform(preds.mean.cpu().reshape(-1,1)).squeeze()) - scaler_y.inverse_transform(y.cpu().reshape(-1,1)))))"
   ]
  },
  {
   "cell_type": "code",
   "execution_count": 28,
   "metadata": {},
   "outputs": [],
   "source": [
    "#Test MAE: 39.76863965146571 Building2\n",
    "#Test MAE: 36.98316004753912 Building6\n",
    "#Test MAE: 30.979215164980495 Building3\n",
    "#Test MAE: 41.61947102463735 Building1\n",
    "#Test MAE: 52.847451669822426 Building5"
   ]
  },
  {
   "cell_type": "code",
   "execution_count": 29,
   "metadata": {},
   "outputs": [
    {
     "data": {
      "text/plain": [
       "36.87"
      ]
     },
     "execution_count": 29,
     "metadata": {},
     "output_type": "execute_result"
    }
   ],
   "source": [
    "# 27.2431 6\n",
    "# 35.66199 2\n",
    "# 43.1256 5\n",
    "# 39.92468 3\n",
    "# 36.41136 1\n",
    "\n",
    "# 36.47"
   ]
  }
 ],
 "metadata": {
  "kernelspec": {
   "display_name": "Python 3.10.4 ('nlim')",
   "language": "python",
   "name": "python3"
  },
  "language_info": {
   "codemirror_mode": {
    "name": "ipython",
    "version": 3
   },
   "file_extension": ".py",
   "mimetype": "text/x-python",
   "name": "python",
   "nbconvert_exporter": "python",
   "pygments_lexer": "ipython3",
   "version": "3.10.4"
  },
  "orig_nbformat": 4,
  "vscode": {
   "interpreter": {
    "hash": "4a19952a8cb0d513e360355f3718fc7b5b0ccef7313ddd97e7b7ab66b1ecfbb8"
   }
  }
 },
 "nbformat": 4,
 "nbformat_minor": 2
}
