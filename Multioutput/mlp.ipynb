{
 "cells": [
  {
   "cell_type": "code",
   "execution_count": 1,
   "metadata": {},
   "outputs": [],
   "source": [
    "import os\n",
    "os.chdir(\"../\")\n",
    "os.environ[\"CUDA_VISIBLE_DEVICES\"] = \"1\""
   ]
  },
  {
   "cell_type": "code",
   "execution_count": 2,
   "metadata": {},
   "outputs": [],
   "source": [
    "import jax.numpy as jnp\n",
    "import pandas as pd\n",
    "from sklearn.preprocessing import StandardScaler\n",
    "import matplotlib.pyplot as plt\n",
    "import seaborn as sns\n",
    "import tensorflow_probability.substrates.jax as tfp\n",
    "dist = tfp.distributions\n",
    "import pandas as pd\n",
    "import jax.numpy as jnp\n",
    "from datetime import datetime\n",
    "from sklearn.preprocessing import StandardScaler\n",
    "import time\n",
    "import numpy as np"
   ]
  },
  {
   "cell_type": "code",
   "execution_count": 3,
   "metadata": {},
   "outputs": [],
   "source": [
    "from flax import linen as nn\n",
    "import jax\n",
    "import jax.numpy as jnp\n",
    "import optax\n",
    "from sklearn.model_selection import train_test_split\n"
   ]
  },
  {
   "cell_type": "code",
   "execution_count": 4,
   "metadata": {},
   "outputs": [],
   "source": [
    "def dataset_load(appliances, train, test=None,split_factor=0.3):\n",
    "    x_train = []\n",
    "    y_train = []\n",
    "    scaler_x = StandardScaler()\n",
    "    scaler_y = StandardScaler()\n",
    "    app = 0\n",
    "    y_ground = pd.DataFrame()\n",
    "    #train\n",
    "    for key, values in train.items():\n",
    "        for app in range(len(appliances)):\n",
    "            df = pd.read_csv(f\"datasets/Building{key}_NILM_data_basic.csv\", usecols=[\"Timestamp\",\"main\", appliances[app]])\n",
    "            df[\"date\"] = pd.to_datetime(df[\"Timestamp\"]).dt.date\n",
    "            startDate = datetime.strptime(values[\"start_time\"], \"%Y-%m-%d\").date()\n",
    "            endDate = datetime.strptime(values[\"end_time\"], \"%Y-%m-%d\").date()\n",
    "            \n",
    "            if startDate > endDate:\n",
    "                raise \"Start Date must be smaller than Enddate.\"\n",
    "            \n",
    "            df = df[(df[\"date\"] >= startDate) & (df[\"date\"] <= endDate)]\n",
    "            df.dropna(inplace=True)\n",
    "            if app == 0:\n",
    "                x = df[appliances[app]].values\n",
    "                y = jnp.array(df[appliances[app]].values).reshape(-1,1)\n",
    "            else:\n",
    "                x += df[appliances[app]].values\n",
    "                y = jnp.concatenate((y,jnp.array(df[appliances[app]].values).reshape(-1,1)), axis=1)\n",
    "        # x = df[\"main\"].values\n",
    "        # y = df[appliances[0]].values\n",
    "        # x = jnp.pad(x, (units_to_pad, units_to_pad), 'constant', constant_values = (0,0))\n",
    "        # x = jnp.array([x[i: i + n] for i in range(len(x) - n + 1)])\n",
    "        x_train.extend(x)\n",
    "        y_train.extend(y)\n",
    "    \n",
    "    # print(x_train.shape)\n",
    "    x_train = jnp.array(x_train).reshape(-1,1)    \n",
    "    # print(x_train.shape)\n",
    "    y_train = jnp.array(y_train).reshape(-1,3)\n",
    "    # print(y_train.shape)\n",
    "    x_train = scaler_x.fit_transform(x_train)\n",
    "    y_train = scaler_y.fit_transform(y_train)\n",
    "\n",
    "    #test\n",
    "    x_test = []\n",
    "    y_test = []\n",
    "    x_test_timestamp = []\n",
    "    y_ground = jnp.array([])\n",
    "    app = 0\n",
    "    for key, values in test.items():\n",
    "        for app in range(len(appliances)):\n",
    "            df = pd.read_csv(f\"datasets/Building{key}_NILM_data_basic.csv\", usecols=[\"Timestamp\",\"main\", appliances[app]])\n",
    "            df[\"date\"] = pd.to_datetime(df[\"Timestamp\"]).dt.date\n",
    "            startDate = datetime.strptime(values[\"start_time\"], \"%Y-%m-%d\").date()\n",
    "            endDate = datetime.strptime(values[\"end_time\"], \"%Y-%m-%d\").date()\n",
    "            \n",
    "            if startDate > endDate:\n",
    "                raise \"Start Date must be smaller than Enddate.\"     \n",
    "            df = df[(df[\"date\"] >= startDate) & (df[\"date\"] <= endDate)]\n",
    "            df.dropna(inplace=True)\n",
    "            if app == 0:\n",
    "                x = df[appliances[app]].values\n",
    "                y = jnp.array(df[appliances[app]].values).reshape(-1,1)\n",
    "            else:\n",
    "                x += df[appliances[app]].values\n",
    "            # df[appliances[app]].values\n",
    "                y = jnp.concatenate((y,jnp.array(df[appliances[app]].values).reshape(-1,1)), axis=1)\n",
    "        # x = df[\"main\"].values\n",
    "        # y = df[appliances[0]].values\n",
    "        # x = jnp.pad(x, (units_to_pad, units_to_pad), 'constant', constant_values = (0,0))\n",
    "        # x = jnp.array([x[i: i + n] for i in range(len(x) - n + 1)])\n",
    "        # x = df[\"main\"].values\n",
    "        # y = df[appliances[0]].values\n",
    "        timestamp = df[\"Timestamp\"].values\n",
    "        # x = jnp.pad(x, (units_to_pad, units_to_pad), 'constant', constant_values = (0,0))\n",
    "        # x = jnp.array([x[i: i + n] for i in range(len(x) - n + 1)])\n",
    "        x_test.extend(x)\n",
    "        y_test.extend(y)\n",
    "        x_test_timestamp.extend(timestamp)\n",
    "    \n",
    "    # print(y_test.shape)\n",
    "    x_test = jnp.array(x_test).reshape(-1,1)\n",
    "    y_test = jnp.array(y_test).reshape(-1,3)\n",
    "    # print(y_test.shape)\n",
    "    x_test = scaler_x.transform(x_test)\n",
    "    x_train = jnp.array(x_train).reshape(x_train.shape[0], 1)\n",
    "    y_train = jnp.array(y_train).reshape(x_train.shape[0],3)\n",
    "    x_test = jnp.array(x_test).reshape(x_test.shape[0], 1)\n",
    "    y_test = jnp.array(y_test).reshape(x_test.shape[0],3)\n",
    "    # x_train,x_cal , y_train, y_cal = train_test_split(x_train, y_train, test_size=split_factor, random_state=42)\n",
    "    return x_train, y_train, x_test, y_test, x_test_timestamp, scaler_x, scaler_y"
   ]
  },
  {
   "cell_type": "code",
   "execution_count": 5,
   "metadata": {},
   "outputs": [],
   "source": [
    "# appliances = [\"Microwave\", \"Refrigerator\",  \"Dish Washer\"] #\n",
    "# df1 = pd.read_csv(f\"datasets/Building{2}_NILM_data_basic.csv\", usecols=[\"Timestamp\",*appliances])\n",
    "# df1.dropna(inplace=True)\n",
    "# df1[\"date\"] = pd.to_datetime(df1[\"Timestamp\"]).dt.date\n",
    "# key, values = list(test.items())[0]\n",
    "# startDate = datetime.strptime(values[\"start_time\"], \"%Y-%m-%d\").date()\n",
    "# endDate = datetime.strptime(values[\"end_time\"], \"%Y-%m-%d\").date()\n",
    "# if startDate > endDate:\n",
    "#     raise \"Start Date must be smaller than Enddate.\"     \n",
    "# df1 = df1[(df1[\"date\"] >= startDate) & (df1[\"date\"] <= endDate)]\n",
    "# df1 = df1[appliances]\n",
    "# print(df1)\n",
    "# arr = jnp.array(df1)\n",
    "# # arr, arr.shape"
   ]
  },
  {
   "cell_type": "code",
   "execution_count": 6,
   "metadata": {},
   "outputs": [],
   "source": [
    "train ={\n",
    "    \n",
    "    1:{\n",
    "        'start_time': \"2011-04-28\" ,\n",
    "        'end_time': \"2011-05-15\"\n",
    "                },\n",
    "    3: {\n",
    "            'start_time': \"2011-04-19\" ,\n",
    "            'end_time': \"2011-05-22\"\n",
    "        }\n",
    "                }\n",
    "test = { 2: {\n",
    "                'start_time': \"2011-04-21\" ,\n",
    "                'end_time': \"2011-05-21\"\n",
    "                },\n",
    "                }\n",
    "\n",
    "appliances = [\"Microwave\", \"Refrigerator\",  \"Dish Washer\"] #"
   ]
  },
  {
   "cell_type": "code",
   "execution_count": 7,
   "metadata": {},
   "outputs": [],
   "source": [
    "x_train, y_train, x_test, y_test, x_test_timestamp, scaler_x, scaler_y = dataset_load(appliances, train, test)"
   ]
  },
  {
   "cell_type": "code",
   "execution_count": 8,
   "metadata": {},
   "outputs": [
    {
     "data": {
      "text/plain": [
       "((24918, 1), (24918, 3), (15656, 1), (15656, 3))"
      ]
     },
     "execution_count": 8,
     "metadata": {},
     "output_type": "execute_result"
    }
   ],
   "source": [
    "x_train.shape, y_train.shape, x_test.shape, y_test.shape"
   ]
  },
  {
   "cell_type": "code",
   "execution_count": 9,
   "metadata": {},
   "outputs": [],
   "source": [
    "class MyMLP(nn.Module):\n",
    "    features: list\n",
    "    @nn.compact  \n",
    "    def __call__(self, x):\n",
    "        for i, feature in enumerate(self.features):\n",
    "            x = nn.Dense(feature, name=f\"{i}_Dense\")(x)\n",
    "            if i != len(self.features)-1:\n",
    "                x = nn.relu(x)\n",
    "            if i == len(self.features)-1:\n",
    "                x = nn.softmax(x)\n",
    "                # if (main_x.all() == (x[:,0].reshape(-1,1)*main_x.reshape(-1,1)  + x[:,1].reshape(-1,1)*main_x.reshape(-1,1)  + x[:,2].reshape(-1,1)*main_x.reshape(-1,1) ).all()):\n",
    "                #     print(\"Constraint Successfull\")\n",
    "                print(x.shape)\n",
    "\n",
    "        return x"
   ]
  },
  {
   "cell_type": "code",
   "execution_count": 10,
   "metadata": {},
   "outputs": [
    {
     "name": "stdout",
     "output_type": "stream",
     "text": [
      "(24918, 3)\n"
     ]
    }
   ],
   "source": [
    "k1, k2 = jax.random.split(jax.random.PRNGKey(0), 2)\n",
    "model = MyMLP(features=[256, 128, 64, 16, 3])\n",
    "params = model.init(k1 , x_train)"
   ]
  },
  {
   "cell_type": "code",
   "execution_count": 11,
   "metadata": {},
   "outputs": [],
   "source": [
    "# import jaxopt\n",
    "\n",
    "# def loss(params, x, y_true):\n",
    "#   y_pred = model.apply(params, x)\n",
    "#   y_pred *= x\n",
    "#   return jnp.mean(jnp.square(jnp.array(y_pred) - jnp.array(y_true)))\n",
    "  \n",
    "# solver = jaxopt.ScipyMinimize(fun=loss, method=\"L-BFGS-B\")\n",
    "# soln = solver.run(params, x_train,y_train)"
   ]
  },
  {
   "cell_type": "code",
   "execution_count": 12,
   "metadata": {},
   "outputs": [
    {
     "name": "stderr",
     "output_type": "stream",
     "text": [
      "  0%|          | 0/1000 [00:00<?, ?it/s]"
     ]
    },
    {
     "name": "stdout",
     "output_type": "stream",
     "text": [
      "(24918, 3)\n"
     ]
    },
    {
     "name": "stderr",
     "output_type": "stream",
     "text": [
      "100%|██████████| 1000/1000 [01:27<00:00, 11.39it/s]\n"
     ]
    },
    {
     "data": {
      "text/plain": [
       "[<matplotlib.lines.Line2D at 0x7f908c353c40>]"
      ]
     },
     "execution_count": 12,
     "metadata": {},
     "output_type": "execute_result"
    },
    {
     "data": {
      "image/png": "[encoded data removed]",
      "text/plain": [
       "<Figure size 432x288 with 1 Axes>"
      ]
     },
     "metadata": {
      "needs_background": "light"
     },
     "output_type": "display_data"
    }
   ],
   "source": [
    "from tqdm import trange\n",
    "import optax\n",
    "\n",
    "def loss(params, x, y_true):\n",
    "  y_pred = model.apply(params, x)\n",
    "  y_pred *= x\n",
    "  return jnp.mean(jnp.square(jnp.array(y_pred) - jnp.array(y_true)))\n",
    "\n",
    "lr = 0.001\n",
    "loss_func = jax.jit(jax.value_and_grad(loss))\n",
    "optimizer = optax.adam(learning_rate=lr)\n",
    "state = optimizer.init(params)\n",
    "losses=[]\n",
    "for i in trange(1000):\n",
    "  l, g = loss_func(params, x_train, y_train)\n",
    "  losses.append(l)\n",
    "  # params = jax.tree_util.tree_map(lambda p, g: p - lr*g, params, g)\n",
    "  update, state = optimizer.update(g, state)\n",
    "  params = optax.apply_updates(params, update)\n",
    "plt.plot(losses)\n",
    "# print(params)"
   ]
  },
  {
   "cell_type": "code",
   "execution_count": 43,
   "metadata": {},
   "outputs": [
    {
     "name": "stdout",
     "output_type": "stream",
     "text": [
      "(15656, 3)\n",
      "(15656, 3) (15656, 3)\n"
     ]
    },
    {
     "data": {
      "image/png": "[encoded data removed]",
      "text/plain": [
       "<Figure size 432x288 with 1 Axes>"
      ]
     },
     "metadata": {
      "needs_background": "light"
     },
     "output_type": "display_data"
    }
   ],
   "source": [
    "y_pred = model.apply(params, x_test)\n",
    "plt.scatter(jnp.arange(x_test.shape[0]),y_pred[:,1].reshape(-1,), label=\"Refrigerator\",s=6)\n",
    "# plt.scatter(jnp.arange(x_test.shape[0]),y_pred[:,0], label=\"Dishwasher\",s=6)\n",
    "plt.scatter(jnp.arange(x_test.shape[0]),y_pred[:,2], label=\"Microwave\",s=6,c='g')\n",
    "plt.legend()\n",
    "plt.title(\"Softmax Values\")\n",
    "y_pred *= x_test\n",
    "y_pred = scaler_y.inverse_transform(y_pred)\n",
    "print(y_pred.shape, y_test.shape)\n",
    "rmse = jnp.sqrt(jnp.mean(jnp.square(jnp.subtract(y_pred[:,0], y_test[:,0]))))\n",
    "rmse1 = jnp.sqrt(jnp.mean(jnp.square(jnp.subtract(y_pred[:,1], y_test[:,1]))))\n",
    "rmse2 = jnp.sqrt(jnp.mean(jnp.square(jnp.subtract(y_pred[:,2], y_test[:,2]))))"
   ]
  },
  {
   "cell_type": "code",
   "execution_count": 14,
   "metadata": {},
   "outputs": [
    {
     "data": {
      "text/plain": [
       "array([[ 9.8882265, 20.218273 , 11.276931 ],\n",
       "       [ 9.8882265, 20.277708 , 11.276931 ],\n",
       "       [ 9.8882265, 20.188557 , 11.276931 ],\n",
       "       ...,\n",
       "       [ 9.8882265, 92.75784  , 11.276931 ],\n",
       "       [ 9.8882265, 92.63898  , 11.276931 ],\n",
       "       [ 9.8882265, 92.15162  , 11.276931 ]], dtype=float32)"
      ]
     },
     "execution_count": 14,
     "metadata": {},
     "output_type": "execute_result"
    }
   ],
   "source": [
    "y_pred"
   ]
  },
  {
   "cell_type": "code",
   "execution_count": 15,
   "metadata": {},
   "outputs": [
    {
     "data": {
      "text/plain": [
       "(DeviceArray(68.46766, dtype=float32),\n",
       " DeviceArray(52.952625, dtype=float32),\n",
       " DeviceArray(71.10178, dtype=float32))"
      ]
     },
     "execution_count": 15,
     "metadata": {},
     "output_type": "execute_result"
    }
   ],
   "source": [
    "rmse, rmse1, rmse2"
   ]
  },
  {
   "cell_type": "code",
   "execution_count": 20,
   "metadata": {},
   "outputs": [
    {
     "data": {
      "text/plain": [
       "Text(0, 0.5, 'Power')"
      ]
     },
     "execution_count": 20,
     "metadata": {},
     "output_type": "execute_result"
    },
    {
     "data": {
      "text/plain": [
       "<Figure size 432x288 with 0 Axes>"
      ]
     },
     "metadata": {},
     "output_type": "display_data"
    },
    {
     "data": {
      "image/png": "[encoded data removed]",
      "text/plain": [
       "<Figure size 432x288 with 1 Axes>"
      ]
     },
     "metadata": {
      "needs_background": "light"
     },
     "output_type": "display_data"
    }
   ],
   "source": [
    "idx = 2000 #x2.shape[0]\n",
    "start = 1000\n",
    "\n",
    "plt.figure()\n",
    "# latexify(width_scale_factor=2, fig_height=1.75)\n",
    "df = pd.read_csv(\"./time_stamp.csv\", index_col=0)\n",
    "df.index = df[\"0\"]\n",
    "df.index = pd.to_datetime(df.index)\n",
    "df.index.name = \"Time\"\n",
    "df = df.drop(columns=[\"0\"])\n",
    "df[\"Main Power\"] =  scaler_x.inverse_transform(x_test.reshape(-1,1) )\n",
    "app = 1\n",
    "df[\"Ground Truth\"] = y_test[:,app]\n",
    "df[\"Prediction Dish\"] = y_pred[:,app]\n",
    "df[start:start+idx].plot(rot=90)\n",
    "sns.despine()\n",
    "# df.plot.( rotation=90)\n",
    "plt.legend(frameon=False, bbox_to_anchor=(0.5, 0.5))\n",
    "# df.head()\n",
    "# plt.ylim(0,350)\n",
    "plt.ylabel(\"Power\")"
   ]
  },
  {
   "cell_type": "code",
   "execution_count": null,
   "metadata": {},
   "outputs": [],
   "source": []
  }
 ],
 "metadata": {
  "kernelspec": {
   "display_name": "Python 3.10.4 ('nlim')",
   "language": "python",
   "name": "python3"
  },
  "language_info": {
   "codemirror_mode": {
    "name": "ipython",
    "version": 3
   },
   "file_extension": ".py",
   "mimetype": "text/x-python",
   "name": "python",
   "nbconvert_exporter": "python",
   "pygments_lexer": "ipython3",
   "version": "3.10.4"
  },
  "orig_nbformat": 4,
  "vscode": {
   "interpreter": {
    "hash": "4a19952a8cb0d513e360355f3718fc7b5b0ccef7313ddd97e7b7ab66b1ecfbb8"
   }
  }
 },
 "nbformat": 4,
 "nbformat_minor": 2
}
