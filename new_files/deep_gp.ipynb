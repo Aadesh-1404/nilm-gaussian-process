{
 "cells": [
  {
   "cell_type": "code",
   "execution_count": 1,
   "metadata": {},
   "outputs": [],
   "source": [
    "import os\n",
    "os.chdir(\"../\")\n",
    "os.environ[\"CUDA_VISIBLE_DEVICES\"] = \"0\""
   ]
  },
  {
   "cell_type": "code",
   "execution_count": 2,
   "metadata": {},
   "outputs": [],
   "source": [
    "import torch"
   ]
  },
  {
   "cell_type": "code",
   "execution_count": 3,
   "metadata": {},
   "outputs": [],
   "source": [
    "try:\n",
    "    import gpflux\n",
    "except ModuleNotFoundError:\n",
    "    %pip install gpflux\n",
    "    import gpflux\n",
    "\n",
    "from gpflux.architectures import Config, build_constant_input_dim_deep_gp\n",
    "from gpflux.models import DeepGP\n",
    "\n",
    "try:\n",
    "    import tensorflow as tf\n",
    "except ModuleNotFoundError:\n",
    "    %pip install tensorflow\n",
    "    import tensorflow as tf\n",
    "    \n",
    "import numpy as np\n",
    "import pandas as pd\n",
    "import gpflow\n",
    "import gpflux\n",
    "\n",
    "\n",
    "from gpflux.architectures import Config, build_constant_input_dim_deep_gp\n",
    "from gpflux.models import DeepGP\n",
    "\n",
    "# we want to carry out GP calculations in 64 bit\n",
    "tf.keras.backend.set_floatx(\"float64\")\n",
    "tf.get_logger().setLevel(\"INFO\")\n",
    "\n",
    "import tensorflow as tf\n",
    "import gpflow\n",
    "import gpflux\n",
    "import numpy as np\n",
    "import matplotlib.pyplot as plt\n",
    "from tqdm import tqdm\n",
    "\n",
    "import tensorflow_probability as tfp\n",
    "from sklearn.neighbors import KernelDensity\n",
    "\n",
    "import pandas as pd\n",
    "import jax.numpy as jnp\n",
    "from datetime import datetime\n",
    "from sklearn.preprocessing import StandardScaler\n",
    "import numpy as np\n",
    "tf.keras.backend.set_floatx(\"float64\")"
   ]
  },
  {
   "cell_type": "code",
   "execution_count": 4,
   "metadata": {},
   "outputs": [],
   "source": [
    "train ={1:{\n",
    "                    'start_time': \"2011-04-21\" ,\n",
    "                    'end_time': \"2011-05-21\"\n",
    "                },\n",
    "                3: {\n",
    "                    'start_time': \"2011-04-19\" ,\n",
    "                    'end_time': \"2011-05-22\"\n",
    "                },\n",
    "                2: {\n",
    "                    'start_time': \"2011-04-21\" ,\n",
    "                    'end_time': \"2011-05-21\"\n",
    "                },\n",
    "                5: {\n",
    "                    'start_time': \"2011-04-22\" ,\n",
    "                    'end_time': \"2011-06-01\"\n",
    "                }\n",
    "                }\n",
    "test = {6: {\n",
    "                    'start_time': \"2011-05-25\" ,\n",
    "                    'end_time': \"2011-06-13\"\n",
    "                }}\n",
    "appliances = [\"Refrigerator\"]"
   ]
  },
  {
   "cell_type": "code",
   "execution_count": 5,
   "metadata": {},
   "outputs": [],
   "source": [
    "\n",
    "def dataset_loader(appliances, train, test=None):\n",
    "    x_train = []\n",
    "    y_train = []\n",
    "    x_train_timestamp = []\n",
    "    scaler_x = StandardScaler()\n",
    "    scaler_y = StandardScaler()\n",
    "    scaler_time = StandardScaler()\n",
    "    # train\n",
    "    # torch.set_default_dtype(torch.float64)\n",
    "    for key, values in train.items():\n",
    "        df = pd.read_csv(\n",
    "            f\"datasets/Building{key}_NILM_data_basic.csv\", usecols=[\"Timestamp\", \"main\", appliances[0]])\n",
    "        df[\"date\"] = pd.to_datetime(df[\"Timestamp\"]).dt.date\n",
    "        startDate = datetime.strptime(values[\"start_time\"], \"%Y-%m-%d\").date()\n",
    "        endDate = datetime.strptime(values[\"end_time\"], \"%Y-%m-%d\").date()\n",
    "        \n",
    "\n",
    "        if startDate > endDate:\n",
    "            raise \"Start Date must be smaller than Enddate.\"\n",
    "\n",
    "        df = df[(df[\"date\"] >= startDate) & (df[\"date\"] <= endDate)]\n",
    "        df.dropna(inplace=True)\n",
    "        x = df[\"main\"].values\n",
    "        y = df[appliances[0]].values\n",
    "    \n",
    "        timestamp_train = (pd.to_datetime(df[\"Timestamp\"]).astype(int)/ 10**18).values\n",
    "\n",
    "        x_train.extend(torch.tensor(x))\n",
    "        y_train.extend(torch.tensor(y))\n",
    "        x_train_timestamp.extend(torch.tensor(timestamp_train))\n",
    "\n",
    "\n",
    "    x_train = torch.tensor(x_train).reshape(-1, 1)\n",
    "    y_train = torch.tensor(y_train).reshape(-1, 1)\n",
    "    x_train_timestamp = torch.tensor(x_train_timestamp).reshape(-1,1)\n",
    "    x_train = scaler_x.fit_transform(x_train)\n",
    "    y_train = scaler_y.fit_transform(y_train)\n",
    "    x_train_timestamp = scaler_time.fit_transform(x_train_timestamp)\n",
    "\n",
    "\n",
    "\n",
    "    # test\n",
    "    x_test = []\n",
    "    y_test = []\n",
    "    x_test_timestamp = []\n",
    "    for key, values in test.items():\n",
    "        df = pd.read_csv(\n",
    "            f\"datasets/Building{key}_NILM_data_basic.csv\", usecols=[\"Timestamp\", \"main\", appliances[0]])\n",
    "        df[\"date\"] = pd.to_datetime(df[\"Timestamp\"]).dt.date\n",
    "        startDate = datetime.strptime(values[\"start_time\"], \"%Y-%m-%d\").date()\n",
    "        endDate = datetime.strptime(values[\"end_time\"], \"%Y-%m-%d\").date()\n",
    "\n",
    "        if startDate > endDate:\n",
    "            raise \"Start Date must be smaller than Enddate.\"\n",
    "\n",
    "        df = df[(df[\"date\"] >= startDate) & (df[\"date\"] <= endDate)]\n",
    "        df.dropna(inplace=True)\n",
    "        x = df[\"main\"].values\n",
    "        y = df[appliances[0]].values\n",
    "        timestamp = (pd.to_datetime(df[\"Timestamp\"]).astype(int)/ 10**18).values\n",
    "\n",
    "        x_test.extend(torch.tensor(x))\n",
    "        y_test.extend(torch.tensor(y))\n",
    "        x_test_timestamp.extend(timestamp)\n",
    "\n",
    "    x_test = torch.tensor(x_test).reshape(-1, 1)\n",
    "    y_test = torch.tensor(y_test).reshape(-1, 1)\n",
    "    x_test_timestamp = torch.tensor(x_test_timestamp).reshape(-1,1)\n",
    "\n",
    "    x_test = scaler_x.transform(x_test)\n",
    "    x_test_timestamp = scaler_time.transform(x_test_timestamp)\n",
    "\n",
    "    x_train = torch.tensor(x_train).reshape(x_train.shape[0], 1)\n",
    "    y_train = torch.tensor(y_train).reshape(-1,)\n",
    "    x_train_timestamp = torch.tensor(x_train_timestamp).reshape(x_train_timestamp.shape[0], 1)\n",
    "    x_test = torch.tensor(x_test).reshape(x_test.shape[0], 1)\n",
    "    y_test = torch.tensor(y_test).reshape(-1,)\n",
    "    x_test_timestamp = torch.tensor(x_test_timestamp).reshape(x_test_timestamp.shape[0], 1)\n",
    "\n",
    "\n",
    "    return x_train, y_train, x_test, y_test, x_train_timestamp, x_test_timestamp, scaler_x, scaler_y\n"
   ]
  },
  {
   "cell_type": "code",
   "execution_count": 6,
   "metadata": {},
   "outputs": [
    {
     "name": "stderr",
     "output_type": "stream",
     "text": [
      "/tmp/ipykernel_1339627/3396249836.py:77: UserWarning: To copy construct from a tensor, it is recommended to use sourceTensor.clone().detach() or sourceTensor.clone().detach().requires_grad_(True), rather than torch.tensor(sourceTensor).\n",
      "  y_test = torch.tensor(y_test).reshape(-1,)\n"
     ]
    }
   ],
   "source": [
    "x_train, y_train, x_test, y_test, x_train_timestamp, x_test_timestamp, scaler_x, scaler_y = dataset_loader(appliances, train, test)"
   ]
  },
  {
   "cell_type": "code",
   "execution_count": 7,
   "metadata": {},
   "outputs": [
    {
     "data": {
      "text/plain": [
       "(torch.Size([53456, 2]), torch.Size([16781, 2]))"
      ]
     },
     "execution_count": 7,
     "metadata": {},
     "output_type": "execute_result"
    }
   ],
   "source": [
    "x_train_full = torch.cat((x_train, x_train_timestamp), axis=1)\n",
    "x_test_full = torch.cat((x_test, x_test_timestamp), axis=1)\n",
    "x_train_full.shape, x_test_full.shape"
   ]
  },
  {
   "cell_type": "code",
   "execution_count": 8,
   "metadata": {},
   "outputs": [
    {
     "name": "stderr",
     "output_type": "stream",
     "text": [
      "/tmp/ipykernel_1339627/3005490755.py:5: DeprecationWarning: Call to deprecated class TrackableLayer. (GPflux's `TrackableLayer` was prior to TF2.5 used to collect GPflow variables in subclassed layers. As of TF 2.5, `tf.Module` supports this natively and there is no need for `TrackableLayer` anymore. It will be removed in GPflux version `1.0.0`.)\n",
      "  encoder = gpflux.encoders.DirectlyParameterizedNormalDiag(num_data, w_dim)\n",
      "/tmp/ipykernel_1339627/3005490755.py:7: DeprecationWarning: Call to deprecated class TrackableLayer. (GPflux's `TrackableLayer` was prior to TF2.5 used to collect GPflow variables in subclassed layers. As of TF 2.5, `tf.Module` supports this natively and there is no need for `TrackableLayer` anymore. It will be removed in GPflux version `1.0.0`.)\n",
      "  lv = gpflux.layers.LatentVariableLayer(prior, encoder)\n"
     ]
    }
   ],
   "source": [
    "num_data = x_train.shape[0]\n",
    "w_dim = 2\n",
    "prior_means = np.zeros(w_dim)\n",
    "prior_std = np.ones(w_dim)\n",
    "encoder = gpflux.encoders.DirectlyParameterizedNormalDiag(num_data, w_dim)\n",
    "prior = tfp.distributions.MultivariateNormalDiag(prior_means, prior_std)\n",
    "lv = gpflux.layers.LatentVariableLayer(prior, encoder)"
   ]
  },
  {
   "cell_type": "code",
   "execution_count": 9,
   "metadata": {},
   "outputs": [
    {
     "name": "stderr",
     "output_type": "stream",
     "text": [
      "/home/desai.aadesh/miniconda3/envs/nlim/lib/python3.10/site-packages/gpflux/layers/gp_layer.py:198: UserWarning: Could not verify the compatibility of the `kernel`, `inducing_variable` and `mean_function`. We advise using `gpflux.helpers.construct_*` to create compatible kernels and inducing variables. As `num_latent_gps=1` has been specified explicitly, this will be used to create the `q_mu` and `q_sqrt` parameters.\n",
      "  warnings.warn(\n"
     ]
    }
   ],
   "source": [
    "NUM_INDUCING = 5096\n",
    "kernel = gpflow.kernels.SquaredExponential(lengthscales=[.05, .2], variance=1.)\n",
    "inducing_variable = gpflow.inducing_variables.InducingPoints(\n",
    "    np.concatenate(\n",
    "        [\n",
    "            np.linspace(x_train.min(), x_train.max(), NUM_INDUCING).reshape(-1, 1),\n",
    "            np.random.randn(NUM_INDUCING, 1),\n",
    "        ],\n",
    "        axis=1\n",
    "    )\n",
    ")\n",
    "gp_layer = gpflux.layers.GPLayer(\n",
    "    kernel,\n",
    "    inducing_variable,\n",
    "    num_data=num_data,\n",
    "    num_latent_gps=1,\n",
    "    mean_function=gpflow.mean_functions.Zero(),\n",
    ")"
   ]
  },
  {
   "cell_type": "code",
   "execution_count": 10,
   "metadata": {},
   "outputs": [],
   "source": [
    "kernel = gpflow.kernels.SquaredExponential()\n",
    "inducing_variable = gpflow.inducing_variables.InducingPoints(\n",
    "    np.random.randn(NUM_INDUCING, 1),\n",
    ")\n",
    "gp_layer2 = gpflux.layers.GPLayer(\n",
    "    kernel,\n",
    "    inducing_variable,\n",
    "    num_data=num_data,\n",
    "    num_latent_gps=1,\n",
    "    mean_function=gpflow.mean_functions.Identity(),\n",
    ")\n",
    "gp_layer2.q_sqrt.assign(gp_layer.q_sqrt * 1e-5);\n",
    "\n",
    "kernel = gpflow.kernels.SquaredExponential()\n",
    "inducing_variable = gpflow.inducing_variables.InducingPoints(\n",
    "    np.random.randn(NUM_INDUCING, 1),\n",
    ")\n",
    "gp_layer3 = gpflux.layers.GPLayer(\n",
    "    kernel,\n",
    "    inducing_variable,\n",
    "    num_data=num_data,\n",
    "    num_latent_gps=1,\n",
    "    mean_function=gpflow.mean_functions.Identity(),\n",
    ")\n",
    "gp_layer3.q_sqrt.assign(gp_layer2.q_sqrt * 1e-5);\n",
    "\n",
    "kernel = gpflow.kernels.SquaredExponential()\n",
    "inducing_variable = gpflow.inducing_variables.InducingPoints(\n",
    "    np.random.randn(NUM_INDUCING, 1),\n",
    ")\n",
    "gp_layer4 = gpflux.layers.GPLayer(\n",
    "    kernel,\n",
    "    inducing_variable,\n",
    "    num_data=num_data,\n",
    "    num_latent_gps=1,\n",
    "    mean_function=gpflow.mean_functions.Identity(),\n",
    ")\n",
    "gp_layer4.q_sqrt.assign(gp_layer3.q_sqrt * 1e-5);"
   ]
  },
  {
   "cell_type": "code",
   "execution_count": 11,
   "metadata": {},
   "outputs": [
    {
     "name": "stderr",
     "output_type": "stream",
     "text": [
      "/tmp/ipykernel_1339627/1245979906.py:1: DeprecationWarning: Call to deprecated class TrackableLayer. (GPflux's `TrackableLayer` was prior to TF2.5 used to collect GPflow variables in subclassed layers. As of TF 2.5, `tf.Module` supports this natively and there is no need for `TrackableLayer` anymore. It will be removed in GPflux version `1.0.0`.)\n",
      "  likelihood_layer = gpflux.layers.LikelihoodLayer(gpflow.likelihoods.Gaussian(0.0001))\n",
      "2022-07-15 23:19:32.717612: W tensorflow/python/util/util.cc:368] Sets are not currently considered sequences, but this may change in the future, so consider avoiding using them.\n"
     ]
    },
    {
     "data": {
      "text/html": [
       "<table>\n",
       "<thead>\n",
       "<tr><th>name                                    </th><th>class           </th><th>transform       </th><th>prior  </th><th>trainable  </th><th>shape          </th><th>dtype  </th><th>value                          </th></tr>\n",
       "</thead>\n",
       "<tbody>\n",
       "<tr><td>DeepGP.f_layers[0]._self_tracked_trackables[1]._trainable_weights[0]\n",
       "DeepGP.f_layers[0].encoder._trainable_weights[0]                                         </td><td>ResourceVariable</td><td>                </td><td>       </td><td>True       </td><td>(53456, 2)     </td><td>float64</td><td>[[0.00437402, -0.00694302...   </td></tr>\n",
       "<tr><td>DeepGP.f_layers[0]._self_tracked_trackables[1]._trainable_weights[1]\n",
       "DeepGP.f_layers[0].encoder._trainable_weights[1]                                         </td><td>ResourceVariable</td><td>                </td><td>       </td><td>True       </td><td>(53456, 2)     </td><td>float64</td><td>[[-11.51292046, -11.51292046...</td></tr>\n",
       "<tr><td>DeepGP.f_layers[0]._self_tracked_trackables[1]._self_tracked_trackables[0]\n",
       "DeepGP.f_layers[0]._self_tracked_trackables[1].means\n",
       "DeepGP.f_layers[0].encoder._self_tracked_trackables[0]\n",
       "DeepGP.f_layers[0].encoder.means                                         </td><td>Parameter       </td><td>Identity        </td><td>       </td><td>True       </td><td>(53456, 2)     </td><td>float64</td><td>[[0.00437402, -0.00694302...   </td></tr>\n",
       "<tr><td>DeepGP.f_layers[0]._self_tracked_trackables[1]._self_tracked_trackables[1]\n",
       "DeepGP.f_layers[0]._self_tracked_trackables[1].stds\n",
       "DeepGP.f_layers[0].encoder._self_tracked_trackables[1]\n",
       "DeepGP.f_layers[0].encoder.stds                                         </td><td>Parameter       </td><td>Softplus        </td><td>       </td><td>True       </td><td>(53456, 2)     </td><td>float64</td><td>[[1.e-05, 1.e-05...            </td></tr>\n",
       "<tr><td>DeepGP.f_layers[1]._trainable_weights[0]</td><td>ResourceVariable</td><td>                </td><td>       </td><td>True       </td><td>(5096, 1)      </td><td>float64</td><td>[[0....                        </td></tr>\n",
       "<tr><td>DeepGP.f_layers[1]._trainable_weights[1]</td><td>ResourceVariable</td><td>                </td><td>       </td><td>True       </td><td>(1, 12987156)  </td><td>float64</td><td>[[1., 0., 0....                </td></tr>\n",
       "<tr><td>DeepGP.f_layers[1]._self_tracked_trackables[1].variance\n",
       "DeepGP.f_layers[1].kernel.variance                                         </td><td>Parameter       </td><td>Softplus        </td><td>       </td><td>True       </td><td>()             </td><td>float64</td><td>1.0                            </td></tr>\n",
       "<tr><td>DeepGP.f_layers[1]._self_tracked_trackables[1].lengthscales\n",
       "DeepGP.f_layers[1].kernel.lengthscales                                         </td><td>Parameter       </td><td>Softplus        </td><td>       </td><td>True       </td><td>(2,)           </td><td>float64</td><td>[0.05 0.2 ]                    </td></tr>\n",
       "<tr><td>DeepGP.f_layers[1]._self_tracked_trackables[2].Z\n",
       "DeepGP.f_layers[1].inducing_variable.Z                                         </td><td>Parameter       </td><td>Identity        </td><td>       </td><td>True       </td><td>(5096, 2)      </td><td>float64</td><td>[[-0.48580545, 0.83722631...   </td></tr>\n",
       "<tr><td>DeepGP.f_layers[1]._self_tracked_trackables[4]\n",
       "DeepGP.f_layers[1].q_mu                                         </td><td>Parameter       </td><td>Identity        </td><td>       </td><td>True       </td><td>(5096, 1)      </td><td>float64</td><td>[[0....                        </td></tr>\n",
       "<tr><td>DeepGP.f_layers[1]._self_tracked_trackables[5]\n",
       "DeepGP.f_layers[1].q_sqrt                                         </td><td>Parameter       </td><td>FillTriangular  </td><td>       </td><td>True       </td><td>(1, 5096, 5096)</td><td>float64</td><td>[[[1., 0., 0....               </td></tr>\n",
       "<tr><td>DeepGP.f_layers[2]._trainable_weights[0]</td><td>ResourceVariable</td><td>                </td><td>       </td><td>True       </td><td>(5096, 1)      </td><td>float64</td><td>[[0....                        </td></tr>\n",
       "<tr><td>DeepGP.f_layers[2]._trainable_weights[1]</td><td>ResourceVariable</td><td>                </td><td>       </td><td>True       </td><td>(1, 12987156)  </td><td>float64</td><td>[[1.e-05, 0.e+00, 0.e+00...    </td></tr>\n",
       "<tr><td>DeepGP.f_layers[2]._self_tracked_trackables[1].variance\n",
       "DeepGP.f_layers[2].kernel.variance                                         </td><td>Parameter       </td><td>Softplus        </td><td>       </td><td>True       </td><td>()             </td><td>float64</td><td>1.0                            </td></tr>\n",
       "<tr><td>DeepGP.f_layers[2]._self_tracked_trackables[1].lengthscales\n",
       "DeepGP.f_layers[2].kernel.lengthscales                                         </td><td>Parameter       </td><td>Softplus        </td><td>       </td><td>True       </td><td>()             </td><td>float64</td><td>1.0                            </td></tr>\n",
       "<tr><td>DeepGP.f_layers[2]._self_tracked_trackables[2].Z\n",
       "DeepGP.f_layers[2].inducing_variable.Z                                         </td><td>Parameter       </td><td>Identity        </td><td>       </td><td>True       </td><td>(5096, 1)      </td><td>float64</td><td>[[-1.31513209...               </td></tr>\n",
       "<tr><td>DeepGP.f_layers[2]._self_tracked_trackables[4]\n",
       "DeepGP.f_layers[2].q_mu                                         </td><td>Parameter       </td><td>Identity        </td><td>       </td><td>True       </td><td>(5096, 1)      </td><td>float64</td><td>[[0....                        </td></tr>\n",
       "<tr><td>DeepGP.f_layers[2]._self_tracked_trackables[5]\n",
       "DeepGP.f_layers[2].q_sqrt                                         </td><td>Parameter       </td><td>FillTriangular  </td><td>       </td><td>True       </td><td>(1, 5096, 5096)</td><td>float64</td><td>[[[1.e-05, 0.e+00, 0.e+00...   </td></tr>\n",
       "<tr><td>DeepGP.f_layers[3]._trainable_weights[0]</td><td>ResourceVariable</td><td>                </td><td>       </td><td>True       </td><td>(5096, 1)      </td><td>float64</td><td>[[0....                        </td></tr>\n",
       "<tr><td>DeepGP.f_layers[3]._trainable_weights[1]</td><td>ResourceVariable</td><td>                </td><td>       </td><td>True       </td><td>(1, 12987156)  </td><td>float64</td><td>[[1.e-10, 0.e+00, 0.e+00...    </td></tr>\n",
       "<tr><td>DeepGP.f_layers[3]._self_tracked_trackables[1].variance\n",
       "DeepGP.f_layers[3].kernel.variance                                         </td><td>Parameter       </td><td>Softplus        </td><td>       </td><td>True       </td><td>()             </td><td>float64</td><td>1.0                            </td></tr>\n",
       "<tr><td>DeepGP.f_layers[3]._self_tracked_trackables[1].lengthscales\n",
       "DeepGP.f_layers[3].kernel.lengthscales                                         </td><td>Parameter       </td><td>Softplus        </td><td>       </td><td>True       </td><td>()             </td><td>float64</td><td>1.0                            </td></tr>\n",
       "<tr><td>DeepGP.f_layers[3]._self_tracked_trackables[2].Z\n",
       "DeepGP.f_layers[3].inducing_variable.Z                                         </td><td>Parameter       </td><td>Identity        </td><td>       </td><td>True       </td><td>(5096, 1)      </td><td>float64</td><td>[[-0.00994589...               </td></tr>\n",
       "<tr><td>DeepGP.f_layers[3]._self_tracked_trackables[4]\n",
       "DeepGP.f_layers[3].q_mu                                         </td><td>Parameter       </td><td>Identity        </td><td>       </td><td>True       </td><td>(5096, 1)      </td><td>float64</td><td>[[0....                        </td></tr>\n",
       "<tr><td>DeepGP.f_layers[3]._self_tracked_trackables[5]\n",
       "DeepGP.f_layers[3].q_sqrt                                         </td><td>Parameter       </td><td>FillTriangular  </td><td>       </td><td>True       </td><td>(1, 5096, 5096)</td><td>float64</td><td>[[[1.e-10, 0.e+00, 0.e+00...   </td></tr>\n",
       "<tr><td>DeepGP.f_layers[4]._trainable_weights[0]</td><td>ResourceVariable</td><td>                </td><td>       </td><td>True       </td><td>(5096, 1)      </td><td>float64</td><td>[[0....                        </td></tr>\n",
       "<tr><td>DeepGP.f_layers[4]._trainable_weights[1]</td><td>ResourceVariable</td><td>                </td><td>       </td><td>True       </td><td>(1, 12987156)  </td><td>float64</td><td>[[1.e-15, 0.e+00, 0.e+00...    </td></tr>\n",
       "<tr><td>DeepGP.f_layers[4]._self_tracked_trackables[1].variance\n",
       "DeepGP.f_layers[4].kernel.variance                                         </td><td>Parameter       </td><td>Softplus        </td><td>       </td><td>True       </td><td>()             </td><td>float64</td><td>1.0                            </td></tr>\n",
       "<tr><td>DeepGP.f_layers[4]._self_tracked_trackables[1].lengthscales\n",
       "DeepGP.f_layers[4].kernel.lengthscales                                         </td><td>Parameter       </td><td>Softplus        </td><td>       </td><td>True       </td><td>()             </td><td>float64</td><td>1.0                            </td></tr>\n",
       "<tr><td>DeepGP.f_layers[4]._self_tracked_trackables[2].Z\n",
       "DeepGP.f_layers[4].inducing_variable.Z                                         </td><td>Parameter       </td><td>Identity        </td><td>       </td><td>True       </td><td>(5096, 1)      </td><td>float64</td><td>[[1.81918277...                </td></tr>\n",
       "<tr><td>DeepGP.f_layers[4]._self_tracked_trackables[4]\n",
       "DeepGP.f_layers[4].q_mu                                         </td><td>Parameter       </td><td>Identity        </td><td>       </td><td>True       </td><td>(5096, 1)      </td><td>float64</td><td>[[0....                        </td></tr>\n",
       "<tr><td>DeepGP.f_layers[4]._self_tracked_trackables[5]\n",
       "DeepGP.f_layers[4].q_sqrt                                         </td><td>Parameter       </td><td>FillTriangular  </td><td>       </td><td>True       </td><td>(1, 5096, 5096)</td><td>float64</td><td>[[[1.e-15, 0.e+00, 0.e+00...   </td></tr>\n",
       "<tr><td>DeepGP.likelihood_layer._self_tracked_trackables[0].variance\n",
       "DeepGP.likelihood_layer.likelihood.variance                                         </td><td>Parameter       </td><td>Softplus + Shift</td><td>       </td><td>False      </td><td>()             </td><td>float64</td><td>0.00010000000000000011         </td></tr>\n",
       "</tbody>\n",
       "</table>"
      ],
      "text/plain": [
       "<IPython.core.display.HTML object>"
      ]
     },
     "metadata": {},
     "output_type": "display_data"
    }
   ],
   "source": [
    "likelihood_layer = gpflux.layers.LikelihoodLayer(gpflow.likelihoods.Gaussian(0.0001))\n",
    "gpflow.set_trainable(likelihood_layer, False)\n",
    "dgp = gpflux.models.DeepGP([lv, gp_layer, gp_layer2, gp_layer3, gp_layer4], likelihood_layer)\n",
    "gpflow.utilities.print_summary(dgp, fmt=\"notebook\")"
   ]
  },
  {
   "cell_type": "code",
   "execution_count": 12,
   "metadata": {},
   "outputs": [
    {
     "name": "stdout",
     "output_type": "stream",
     "text": [
      "Num GPUs Available:  1\n"
     ]
    }
   ],
   "source": [
    "import tensorflow as tf\n",
    "print(\"Num GPUs Available: \", len(tf.config.list_physical_devices('GPU')))"
   ]
  },
  {
   "cell_type": "code",
   "execution_count": 13,
   "metadata": {},
   "outputs": [],
   "source": [
    "tf.debugging.set_log_device_placement(True)"
   ]
  },
  {
   "cell_type": "code",
   "execution_count": 14,
   "metadata": {},
   "outputs": [
    {
     "name": "stdout",
     "output_type": "stream",
     "text": [
      "WARNING:tensorflow:From /home/desai.aadesh/miniconda3/envs/nlim/lib/python3.10/site-packages/tensorflow_probability/python/distributions/distribution.py:342: calling MultivariateNormalDiag.__init__ (from tensorflow_probability.python.distributions.mvn_diag) with scale_identity_multiplier is deprecated and will be removed after 2020-01-01.\n",
      "Instructions for updating:\n",
      "`scale_identity_multiplier` is deprecated; please combine it into `scale_diag` directly instead.\n",
      "Epoch 1/2000\n"
     ]
    },
    {
     "ename": "ValueError",
     "evalue": "in user code:\n\n    File \"/home/desai.aadesh/miniconda3/envs/nlim/lib/python3.10/site-packages/keras/engine/training.py\", line 1021, in train_function  *\n        return step_function(self, iterator)\n    File \"/home/desai.aadesh/miniconda3/envs/nlim/lib/python3.10/site-packages/keras/engine/training.py\", line 1010, in step_function  **\n        outputs = model.distribute_strategy.run(run_step, args=(data,))\n    File \"/home/desai.aadesh/miniconda3/envs/nlim/lib/python3.10/site-packages/keras/engine/training.py\", line 1000, in run_step  **\n        outputs = model.train_step(data)\n    File \"/home/desai.aadesh/miniconda3/envs/nlim/lib/python3.10/site-packages/keras/engine/training.py\", line 859, in train_step\n        y_pred = self(x, training=True)\n    File \"/home/desai.aadesh/miniconda3/envs/nlim/lib/python3.10/site-packages/keras/utils/traceback_utils.py\", line 67, in error_handler\n        raise e.with_traceback(filtered_tb) from None\n    File \"/home/desai.aadesh/miniconda3/envs/nlim/lib/python3.10/site-packages/tensorflow_probability/python/layers/distribution_layer.py\", line 220, in __call__\n        distribution, _ = super(DistributionLambda, self).__call__(\n\n    ValueError: Exception encountered when calling layer \"gp_layer\" (type GPLayer).\n    \n    in user code:\n    \n        File \"/home/desai.aadesh/miniconda3/envs/nlim/lib/python3.10/site-packages/gpflux/layers/gp_layer.py\", line 284, in call  *\n            outputs = super().call(inputs, *args, **kwargs)\n        File \"/home/desai.aadesh/miniconda3/envs/nlim/lib/python3.10/site-packages/tensorflow_probability/python/layers/distribution_layer.py\", line 226, in call  **\n            distribution, value = super(DistributionLambda, self).call(\n        File \"/home/desai.aadesh/miniconda3/envs/nlim/lib/python3.10/site-packages/keras/layers/core/lambda_layer.py\", line 196, in call\n            result = self.function(inputs, **kwargs)\n        File \"/home/desai.aadesh/miniconda3/envs/nlim/lib/python3.10/site-packages/tensorflow_probability/python/layers/distribution_layer.py\", line 166, in _fn\n            d = make_distribution_fn(*fargs, **fkwargs)\n        File \"/home/desai.aadesh/miniconda3/envs/nlim/lib/python3.10/site-packages/gpflux/layers/gp_layer.py\", line 323, in _make_distribution_fn\n            mean, cov = self.predict(\n        File \"/home/desai.aadesh/miniconda3/envs/nlim/lib/python3.10/site-packages/gpflux/layers/gp_layer.py\", line 257, in predict\n            mean_cond, cov = conditional(\n        File \"/home/desai.aadesh/miniconda3/envs/nlim/lib/python3.10/site-packages/multipledispatch/dispatcher.py\", line 278, in __call__\n            return func(*args, **kwargs)\n        File \"/home/desai.aadesh/miniconda3/envs/nlim/lib/python3.10/site-packages/gpflow/conditionals/conditionals.py\", line 80, in _sparse_conditional\n            return posterior.fused_predict_f(Xnew, full_cov=full_cov, full_output_cov=full_output_cov)\n        File \"/home/desai.aadesh/miniconda3/envs/nlim/lib/python3.10/site-packages/gpflow/posteriors.py\", line 210, in fused_predict_f\n            mean, cov = self._conditional_fused(\n        File \"/home/desai.aadesh/miniconda3/envs/nlim/lib/python3.10/site-packages/gpflow/posteriors.py\", line 766, in _conditional_fused\n            Kmn = covariances.Kuf(self.X_data, self.kernel, Xnew)  # [M, N]\n        File \"/home/desai.aadesh/miniconda3/envs/nlim/lib/python3.10/site-packages/multipledispatch/dispatcher.py\", line 278, in __call__\n            return func(*args, **kwargs)\n        File \"/home/desai.aadesh/miniconda3/envs/nlim/lib/python3.10/site-packages/gpflow/covariances/kufs.py\", line 28, in Kuf_kernel_inducingpoints\n            return kernel(inducing_variable.Z, Xnew)\n        File \"/home/desai.aadesh/miniconda3/envs/nlim/lib/python3.10/site-packages/gpflow/kernels/base.py\", line 189, in __call__\n            return self.K(X, X2)\n        File \"/home/desai.aadesh/miniconda3/envs/nlim/lib/python3.10/site-packages/gpflow/kernels/stationaries.py\", line 93, in K\n            r2 = self.scaled_squared_euclid_dist(X, X2)\n        File \"/home/desai.aadesh/miniconda3/envs/nlim/lib/python3.10/site-packages/gpflow/kernels/stationaries.py\", line 109, in scaled_squared_euclid_dist\n            return square_distance(self.scale(X), self.scale(X2))\n        File \"/home/desai.aadesh/miniconda3/envs/nlim/lib/python3.10/site-packages/gpflow/kernels/stationaries.py\", line 69, in scale\n            X_scaled = X / self.lengthscales if X is not None else X\n    \n        ValueError: Dimensions must be equal, but are 4 and 2 for '{{node model/gp_layer/truediv_2}} = RealDiv[T=DT_DOUBLE](model/gp_layer/strided_slice_6, model/gp_layer/truediv_2/softplus_CONSTRUCTED_AT_top_level/forward/IdentityN)' with input shapes: [53456,4], [2].\n    \n    \n    Call arguments received:\n      • inputs=tf.Tensor(shape=(53456, 4), dtype=float64)\n      • args=<class 'inspect._empty'>\n      • kwargs={'training': 'True'}\n",
     "output_type": "error",
     "traceback": [
      "\u001b[0;31m---------------------------------------------------------------------------\u001b[0m",
      "\u001b[0;31mValueError\u001b[0m                                Traceback (most recent call last)",
      "\u001b[1;32m/home/desai.aadesh/NLIM/new_files/deep_gp.ipynb Cell 14\u001b[0m in \u001b[0;36m<cell line: 3>\u001b[0;34m()\u001b[0m\n\u001b[1;32m      <a href='vscode-notebook-cell://ssh-remote%2B10.0.62.168/home/desai.aadesh/NLIM/new_files/deep_gp.ipynb#ch0000013vscode-remote?line=0'>1</a>\u001b[0m model \u001b[39m=\u001b[39m dgp\u001b[39m.\u001b[39mas_training_model()\n\u001b[1;32m      <a href='vscode-notebook-cell://ssh-remote%2B10.0.62.168/home/desai.aadesh/NLIM/new_files/deep_gp.ipynb#ch0000013vscode-remote?line=1'>2</a>\u001b[0m model\u001b[39m.\u001b[39mcompile(tf\u001b[39m.\u001b[39moptimizers\u001b[39m.\u001b[39mAdam(\u001b[39m0.1\u001b[39m))\n\u001b[0;32m----> <a href='vscode-notebook-cell://ssh-remote%2B10.0.62.168/home/desai.aadesh/NLIM/new_files/deep_gp.ipynb#ch0000013vscode-remote?line=2'>3</a>\u001b[0m history \u001b[39m=\u001b[39m model\u001b[39m.\u001b[39;49mfit({\u001b[39m\"\u001b[39;49m\u001b[39minputs\u001b[39;49m\u001b[39m\"\u001b[39;49m: tf\u001b[39m.\u001b[39;49mconstant(x_train_full), \u001b[39m\"\u001b[39;49m\u001b[39mtargets\u001b[39;49m\u001b[39m\"\u001b[39;49m: tf\u001b[39m.\u001b[39;49mconstant(y_train\u001b[39m.\u001b[39;49mreshape(\u001b[39m-\u001b[39;49m\u001b[39m1\u001b[39;49m,\u001b[39m1\u001b[39;49m))}, epochs\u001b[39m=\u001b[39;49m\u001b[39mint\u001b[39;49m(\u001b[39m2000\u001b[39;49m), verbose\u001b[39m=\u001b[39;49m\u001b[39m1\u001b[39;49m, batch_size\u001b[39m=\u001b[39;49mnum_data, shuffle\u001b[39m=\u001b[39;49m\u001b[39mFalse\u001b[39;49;00m)\n",
      "File \u001b[0;32m~/miniconda3/envs/nlim/lib/python3.10/site-packages/keras/utils/traceback_utils.py:67\u001b[0m, in \u001b[0;36mfilter_traceback.<locals>.error_handler\u001b[0;34m(*args, **kwargs)\u001b[0m\n\u001b[1;32m     65\u001b[0m \u001b[39mexcept\u001b[39;00m \u001b[39mException\u001b[39;00m \u001b[39mas\u001b[39;00m e:  \u001b[39m# pylint: disable=broad-except\u001b[39;00m\n\u001b[1;32m     66\u001b[0m   filtered_tb \u001b[39m=\u001b[39m _process_traceback_frames(e\u001b[39m.\u001b[39m__traceback__)\n\u001b[0;32m---> 67\u001b[0m   \u001b[39mraise\u001b[39;00m e\u001b[39m.\u001b[39mwith_traceback(filtered_tb) \u001b[39mfrom\u001b[39;00m \u001b[39mNone\u001b[39m\n\u001b[1;32m     68\u001b[0m \u001b[39mfinally\u001b[39;00m:\n\u001b[1;32m     69\u001b[0m   \u001b[39mdel\u001b[39;00m filtered_tb\n",
      "File \u001b[0;32m~/miniconda3/envs/nlim/lib/python3.10/site-packages/tensorflow/python/framework/func_graph.py:1147\u001b[0m, in \u001b[0;36mfunc_graph_from_py_func.<locals>.autograph_handler\u001b[0;34m(*args, **kwargs)\u001b[0m\n\u001b[1;32m   1145\u001b[0m \u001b[39mexcept\u001b[39;00m \u001b[39mException\u001b[39;00m \u001b[39mas\u001b[39;00m e:  \u001b[39m# pylint:disable=broad-except\u001b[39;00m\n\u001b[1;32m   1146\u001b[0m   \u001b[39mif\u001b[39;00m \u001b[39mhasattr\u001b[39m(e, \u001b[39m\"\u001b[39m\u001b[39mag_error_metadata\u001b[39m\u001b[39m\"\u001b[39m):\n\u001b[0;32m-> 1147\u001b[0m     \u001b[39mraise\u001b[39;00m e\u001b[39m.\u001b[39mag_error_metadata\u001b[39m.\u001b[39mto_exception(e)\n\u001b[1;32m   1148\u001b[0m   \u001b[39melse\u001b[39;00m:\n\u001b[1;32m   1149\u001b[0m     \u001b[39mraise\u001b[39;00m\n",
      "\u001b[0;31mValueError\u001b[0m: in user code:\n\n    File \"/home/desai.aadesh/miniconda3/envs/nlim/lib/python3.10/site-packages/keras/engine/training.py\", line 1021, in train_function  *\n        return step_function(self, iterator)\n    File \"/home/desai.aadesh/miniconda3/envs/nlim/lib/python3.10/site-packages/keras/engine/training.py\", line 1010, in step_function  **\n        outputs = model.distribute_strategy.run(run_step, args=(data,))\n    File \"/home/desai.aadesh/miniconda3/envs/nlim/lib/python3.10/site-packages/keras/engine/training.py\", line 1000, in run_step  **\n        outputs = model.train_step(data)\n    File \"/home/desai.aadesh/miniconda3/envs/nlim/lib/python3.10/site-packages/keras/engine/training.py\", line 859, in train_step\n        y_pred = self(x, training=True)\n    File \"/home/desai.aadesh/miniconda3/envs/nlim/lib/python3.10/site-packages/keras/utils/traceback_utils.py\", line 67, in error_handler\n        raise e.with_traceback(filtered_tb) from None\n    File \"/home/desai.aadesh/miniconda3/envs/nlim/lib/python3.10/site-packages/tensorflow_probability/python/layers/distribution_layer.py\", line 220, in __call__\n        distribution, _ = super(DistributionLambda, self).__call__(\n\n    ValueError: Exception encountered when calling layer \"gp_layer\" (type GPLayer).\n    \n    in user code:\n    \n        File \"/home/desai.aadesh/miniconda3/envs/nlim/lib/python3.10/site-packages/gpflux/layers/gp_layer.py\", line 284, in call  *\n            outputs = super().call(inputs, *args, **kwargs)\n        File \"/home/desai.aadesh/miniconda3/envs/nlim/lib/python3.10/site-packages/tensorflow_probability/python/layers/distribution_layer.py\", line 226, in call  **\n            distribution, value = super(DistributionLambda, self).call(\n        File \"/home/desai.aadesh/miniconda3/envs/nlim/lib/python3.10/site-packages/keras/layers/core/lambda_layer.py\", line 196, in call\n            result = self.function(inputs, **kwargs)\n        File \"/home/desai.aadesh/miniconda3/envs/nlim/lib/python3.10/site-packages/tensorflow_probability/python/layers/distribution_layer.py\", line 166, in _fn\n            d = make_distribution_fn(*fargs, **fkwargs)\n        File \"/home/desai.aadesh/miniconda3/envs/nlim/lib/python3.10/site-packages/gpflux/layers/gp_layer.py\", line 323, in _make_distribution_fn\n            mean, cov = self.predict(\n        File \"/home/desai.aadesh/miniconda3/envs/nlim/lib/python3.10/site-packages/gpflux/layers/gp_layer.py\", line 257, in predict\n            mean_cond, cov = conditional(\n        File \"/home/desai.aadesh/miniconda3/envs/nlim/lib/python3.10/site-packages/multipledispatch/dispatcher.py\", line 278, in __call__\n            return func(*args, **kwargs)\n        File \"/home/desai.aadesh/miniconda3/envs/nlim/lib/python3.10/site-packages/gpflow/conditionals/conditionals.py\", line 80, in _sparse_conditional\n            return posterior.fused_predict_f(Xnew, full_cov=full_cov, full_output_cov=full_output_cov)\n        File \"/home/desai.aadesh/miniconda3/envs/nlim/lib/python3.10/site-packages/gpflow/posteriors.py\", line 210, in fused_predict_f\n            mean, cov = self._conditional_fused(\n        File \"/home/desai.aadesh/miniconda3/envs/nlim/lib/python3.10/site-packages/gpflow/posteriors.py\", line 766, in _conditional_fused\n            Kmn = covariances.Kuf(self.X_data, self.kernel, Xnew)  # [M, N]\n        File \"/home/desai.aadesh/miniconda3/envs/nlim/lib/python3.10/site-packages/multipledispatch/dispatcher.py\", line 278, in __call__\n            return func(*args, **kwargs)\n        File \"/home/desai.aadesh/miniconda3/envs/nlim/lib/python3.10/site-packages/gpflow/covariances/kufs.py\", line 28, in Kuf_kernel_inducingpoints\n            return kernel(inducing_variable.Z, Xnew)\n        File \"/home/desai.aadesh/miniconda3/envs/nlim/lib/python3.10/site-packages/gpflow/kernels/base.py\", line 189, in __call__\n            return self.K(X, X2)\n        File \"/home/desai.aadesh/miniconda3/envs/nlim/lib/python3.10/site-packages/gpflow/kernels/stationaries.py\", line 93, in K\n            r2 = self.scaled_squared_euclid_dist(X, X2)\n        File \"/home/desai.aadesh/miniconda3/envs/nlim/lib/python3.10/site-packages/gpflow/kernels/stationaries.py\", line 109, in scaled_squared_euclid_dist\n            return square_distance(self.scale(X), self.scale(X2))\n        File \"/home/desai.aadesh/miniconda3/envs/nlim/lib/python3.10/site-packages/gpflow/kernels/stationaries.py\", line 69, in scale\n            X_scaled = X / self.lengthscales if X is not None else X\n    \n        ValueError: Dimensions must be equal, but are 4 and 2 for '{{node model/gp_layer/truediv_2}} = RealDiv[T=DT_DOUBLE](model/gp_layer/strided_slice_6, model/gp_layer/truediv_2/softplus_CONSTRUCTED_AT_top_level/forward/IdentityN)' with input shapes: [53456,4], [2].\n    \n    \n    Call arguments received:\n      • inputs=tf.Tensor(shape=(53456, 4), dtype=float64)\n      • args=<class 'inspect._empty'>\n      • kwargs={'training': 'True'}\n"
     ]
    }
   ],
   "source": [
    "model = dgp.as_training_model()\n",
    "model.compile(tf.optimizers.Adam(0.1))\n",
    "history = model.fit({\"inputs\": tf.constant(x_train_full), \"targets\": tf.constant(y_train.reshape(-1,1))}, epochs=int(2000), verbose=1, batch_size=num_data, shuffle=False)"
   ]
  },
  {
   "cell_type": "code",
   "execution_count": 15,
   "metadata": {},
   "outputs": [],
   "source": [
    "prediction_model = dgp.as_prediction_model()\n",
    "out = prediction_model(tf.constant(x_test))\n",
    "y_mean = out.y_mean\n",
    "y_sigma = out.y_var ** .5 \n"
   ]
  },
  {
   "cell_type": "code",
   "execution_count": 18,
   "metadata": {},
   "outputs": [
    {
     "name": "stdout",
     "output_type": "stream",
     "text": [
      "torch.Size([16781]) (16781,)\n"
     ]
    }
   ],
   "source": [
    "y_mean = scaler_y.inverse_transform(np.array(y_mean).reshape(-1,1)).squeeze()\n",
    "y_sigma = scaler_y.inverse_transform(np.array(y_sigma).reshape(-1,1)).squeeze()\n",
    "print(y_test.shape, y_mean.shape)"
   ]
  },
  {
   "cell_type": "code",
   "execution_count": 19,
   "metadata": {},
   "outputs": [
    {
     "name": "stdout",
     "output_type": "stream",
     "text": [
      "MAE:  5177.308716524688\n"
     ]
    }
   ],
   "source": [
    "mae = np.mean(np.abs(np.array(y_test) - y_mean))\n",
    "# rms = errors.rmse(jnp.array(y_test), y_mean)\n",
    "\n",
    "print(\"MAE: \", mae)\n",
    "# print(\"RMSE: \", rms)"
   ]
  },
  {
   "cell_type": "code",
   "execution_count": 20,
   "metadata": {},
   "outputs": [
    {
     "name": "stderr",
     "output_type": "stream",
     "text": [
      "WARNING:absl:No GPU/TPU found, falling back to CPU. (Set TF_CPP_MIN_LOG_LEVEL=0 and rerun for more info.)\n"
     ]
    },
    {
     "data": {
      "image/png": "[encoded data removed]",
      "text/plain": [
       "<Figure size 720x432 with 1 Axes>"
      ]
     },
     "metadata": {
      "needs_background": "light"
     },
     "output_type": "display_data"
    }
   ],
   "source": [
    "idx = 3000\n",
    "plt.figure(figsize=(10,6))\n",
    "plt.plot(jnp.arange(idx), y_test.cpu()[:idx], label = \"Refrigerator\", color=\"green\")\n",
    "plt.plot(jnp.arange(idx), y_mean[:idx].reshape(-1,1), label = \"Predicted\")\n",
    "for i in range(1,4):\n",
    "    plt.fill_between(jnp.arange(idx), y_mean[:idx] - i*y_sigma[:idx], y_mean[:idx] + i*y_sigma[:idx],\n",
    "                    color=\"orange\", alpha=(1/(i*3)), label=f\"$\\mu\\pm{i}*\\sigma$\")\n",
    "plt.legend(bbox_to_anchor=(1, 1),fontsize=20)\n",
    "plt.ylabel(\"Power\", fontsize=20)\n",
    "# sns.despine()\n",
    "plt.savefig(\"gp_ref_full__matern.png\")"
   ]
  },
  {
   "cell_type": "code",
   "execution_count": null,
   "metadata": {},
   "outputs": [],
   "source": []
  }
 ],
 "metadata": {
  "kernelspec": {
   "display_name": "Python 3.10.4 ('nlim')",
   "language": "python",
   "name": "python3"
  },
  "language_info": {
   "codemirror_mode": {
    "name": "ipython",
    "version": 3
   },
   "file_extension": ".py",
   "mimetype": "text/x-python",
   "name": "python",
   "nbconvert_exporter": "python",
   "pygments_lexer": "ipython3",
   "version": "3.10.4"
  },
  "orig_nbformat": 4,
  "vscode": {
   "interpreter": {
    "hash": "4a19952a8cb0d513e360355f3718fc7b5b0ccef7313ddd97e7b7ab66b1ecfbb8"
   }
  }
 },
 "nbformat": 4,
 "nbformat_minor": 2
}
