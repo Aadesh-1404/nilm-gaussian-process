{
 "cells": [
  {
   "cell_type": "code",
   "execution_count": 1,
   "metadata": {},
   "outputs": [],
   "source": [
    "import os\n",
    "os.chdir(\"../\")\n",
    "os.environ[\"CUDA_VISIBLE_DEVICES\"] = \"3\""
   ]
  },
  {
   "cell_type": "code",
   "execution_count": 2,
   "metadata": {},
   "outputs": [],
   "source": [
    "import torch\n",
    "from gpytorch.kernels import RBFKernel, ScaleKernel, PeriodicKernel, MaternKernel, CosineKernel\n",
    "from skgpytorch.models import SVGPRegressor, SGPRegressor\n",
    "from scipy.stats import kurtosis,skew"
   ]
  },
  {
   "cell_type": "code",
   "execution_count": 3,
   "metadata": {},
   "outputs": [],
   "source": [
    "import jax.numpy as jnp\n",
    "import pandas as pd\n",
    "from sklearn.preprocessing import StandardScaler\n",
    "import matplotlib.pyplot as plt\n",
    "import seaborn as sns\n",
    "from utilities.fits import fit\n",
    "# from utilities import plot\n",
    "import tensorflow_probability.substrates.jax as tfp\n",
    "dist = tfp.distributions\n",
    "import pandas as pd\n",
    "import jax.numpy as jnp\n",
    "from datetime import datetime\n",
    "from sklearn.preprocessing import StandardScaler\n",
    "from gpytorch.constraints import GreaterThan\n",
    "from skgpytorch.metrics import mean_squared_error, negative_log_predictive_density\n",
    "import time\n",
    "import numpy as np\n",
    "\n",
    "# from datasets.dataset_load import dataset_loader\n",
    "from utilities import plot,fits,gmm,errors,predict,preprocess\n",
    "\n",
    "# device = \"cpu\"\n",
    "# torch.set_default_dtype(torch.float32)\n",
    "# torch.set_default_tensor_type(torch.FloatTensor)\n"
   ]
  },
  {
   "cell_type": "code",
   "execution_count": 4,
   "metadata": {},
   "outputs": [],
   "source": [
    "train ={1:{\n",
    "            'start_time': \"2011-04-28\" ,\n",
    "            'end_time': \"2011-05-15\"\n",
    "        }, \n",
    "        3: {\n",
    "        'start_time': \"2011-04-19\" ,\n",
    "        'end_time': \"2011-05-22\"\n",
    "        },\n",
    "            \n",
    "        }\n",
    "\n",
    "test = {  2: {\n",
    "                    'start_time': \"2011-04-21\" ,\n",
    "                    'end_time': \"2011-05-21\"\n",
    "                },\n",
    "                }\n",
    "\n",
    "# 6: {\n",
    "#                     'start_time': \"2011-05-25\" ,\n",
    "#                     'end_time': \"2011-06-13\"\n",
    "#                 }\n",
    "\n",
    "# 5: {\n",
    "#                     'start_time': \"2011-04-22\" ,\n",
    "#                     'end_time': \"2011-06-01\"\n",
    "#                 }\n",
    "appliances = [\"Microwave\", \"Refrigerator\",  \"Dish Washer\"] #"
   ]
  },
  {
   "cell_type": "code",
   "execution_count": 5,
   "metadata": {},
   "outputs": [],
   "source": [
    "import pandas as pd\n",
    "import jax.numpy as jnp\n",
    "from datetime import datetime\n",
    "from sklearn.preprocessing import StandardScaler\n",
    "\n",
    "\n",
    "def dataset_load(appliances, train, test=None):\n",
    "    x_train = []\n",
    "    y_train = []\n",
    "    x_train_timestamp = []\n",
    "    x_train_mean = []\n",
    "    x_train_std = []\n",
    "    x_train_max_min = []\n",
    "    x_train_main = []\n",
    "    x_train_main_dif = []\n",
    "    x_train_max = []\n",
    "    x_train_min = []\n",
    "    x_train_kurtosis = []\n",
    "    x_train_skew = []\n",
    "    n = 99\n",
    "    m = 9\n",
    "    units_to_pad = n // 2\n",
    "    units_to_pad1 = m//2\n",
    "    scaler_x = StandardScaler()\n",
    "    scaler_y = StandardScaler()\n",
    "    scaler_time = StandardScaler()\n",
    "    scaler_mean = StandardScaler()\n",
    "    scaler_std = StandardScaler()\n",
    "    scaler_max_min = StandardScaler()\n",
    "    scaler_main = StandardScaler()\n",
    "    scaler_diff = StandardScaler()\n",
    "    scaler_max = StandardScaler()\n",
    "    scaler_min = StandardScaler()\n",
    "    scaler_kurtosis = StandardScaler()\n",
    "    scaler_skew = StandardScaler()\n",
    "    # train\n",
    "    for key, values in train.items():\n",
    "        for app in range(len(appliances)):\n",
    "            df = pd.read_csv(\n",
    "                f\"datasets/Building{key}_NILM_data_basic.csv\", usecols=[\"Timestamp\", \"main\", appliances[app]])\n",
    "            df[\"date\"] = pd.to_datetime(df[\"Timestamp\"]).dt.date\n",
    "            startDate = datetime.strptime(values[\"start_time\"], \"%Y-%m-%d\").date()\n",
    "            endDate = datetime.strptime(values[\"end_time\"], \"%Y-%m-%d\").date()\n",
    "\n",
    "            if startDate > endDate:\n",
    "                raise \"Start Date must be smaller than Enddate.\"\n",
    "\n",
    "            df = df[(df[\"date\"] >= startDate) & (df[\"date\"] <= endDate)]\n",
    "            df.dropna(inplace=True)\n",
    "            # x = df[\"main\"].values\n",
    "\n",
    "            # x_diff = x\n",
    "            # for i in range(1,len(x)):\n",
    "            #     x_diff[i] = x_diff[i] - x_diff[i-1]\n",
    "            if app == 0:\n",
    "                x = df[appliances[app]].values\n",
    "            else:\n",
    "                print(app)\n",
    "                x += df[appliances[app]].values\n",
    "            if appliances[app] == \"Refrigerator\":\n",
    "                y = df[appliances[app]].values\n",
    "            # \n",
    "            # y = df[appliances[0]].values\n",
    "        x_train_main.extend(x)\n",
    "        timestamp_train = (pd.to_datetime(df[\"Timestamp\"]).astype(int)/ 10**18).values\n",
    "        x2 = x\n",
    "        x = jnp.pad(x, (units_to_pad, units_to_pad),\n",
    "                    'constant', constant_values=(0, 0))\n",
    "        x = jnp.array([x[i: i + n] for i in range(len(x) - n + 1)])\n",
    "        # print(0)\n",
    "        x_train_mean.extend(jnp.mean(x, axis=1))\n",
    "        # print(0)\n",
    "        x_train_std.extend(jnp.std(x, axis=1))\n",
    "        x1 = jnp.pad(x2, (units_to_pad1, units_to_pad1),\n",
    "                    'constant', constant_values=(0, 0))\n",
    "        x1 = jnp.array([x1[i: i + m] for i in range(len(x1) - m + 1)])\n",
    "        x_train_max_min.extend(jnp.max(x, axis=1)-jnp.min(x,axis=1))\n",
    "        x_train_max.extend(jnp.max(x1, axis = 1))\n",
    "        x_train_min.extend(jnp.min(x1, axis = 1))\n",
    "        x_train_kurtosis.extend(kurtosis(x,axis=1))\n",
    "        x_train_skew.extend(skew(x,axis = 1))\n",
    "        x_train.extend(x)\n",
    "        y_train.extend(y)\n",
    "        x_train_timestamp.extend(torch.tensor(timestamp_train))\n",
    "        # x_train_diff.extend(x_diff)\n",
    "\n",
    "    # for i in range(1,len(x_train)):\n",
    "    #     x_train[i] = x_train[i] - x_train[i-1]\n",
    "    x_train = jnp.array(x_train)\n",
    "    y_train = jnp.array(y_train).reshape(-1, 1)\n",
    "    x_train_timestamp = torch.tensor(x_train_timestamp).reshape(-1,1)\n",
    "    x_train_main = jnp.array(x_train_main).reshape(-1,1)\n",
    "    x_train_mean = jnp.array(x_train_mean).reshape(-1,1)\n",
    "    x_train_std =  jnp.array(x_train_std).reshape(-1,1)\n",
    "    x_train_max_min =  jnp.array(x_train_max_min).reshape(-1,1)\n",
    "    x_train_max =  jnp.array(x_train_max).reshape(-1,1)\n",
    "    x_train_skew = jnp.array(x_train_skew).reshape(-1,1)\n",
    "    x_train_min =  jnp.array(x_train_min).reshape(-1,1)\n",
    "    x_train_kurtosis = jnp.array(x_train_kurtosis).reshape(-1,1)\n",
    "    # x_train_diff =  jnp.array(x_train_diff).reshape(-1,1)\n",
    "   \n",
    "\n",
    "\n",
    "    x_train = scaler_x.fit_transform(x_train)\n",
    "    y_train = scaler_y.fit_transform(y_train)\n",
    "    x_train_timestamp = scaler_time.fit_transform(x_train_timestamp)\n",
    "    x_train_main = scaler_main.fit_transform(x_train_main)\n",
    "    x_train_mean = scaler_mean.fit_transform(x_train_mean)\n",
    "    x_train_std = scaler_std.fit_transform(x_train_std)\n",
    "    x_train_max_min = scaler_max_min.fit_transform(x_train_max_min)\n",
    "    x_train_max = scaler_max.fit_transform(x_train_max)\n",
    "    x_train_min = scaler_min.fit_transform(x_train_min)\n",
    "    x_train_kurtosis = scaler_kurtosis.fit_transform(x_train_kurtosis)\n",
    "    x_train_skew = scaler_skew.fit_transform(x_train_skew)\n",
    "    # x_train_diff = scaler_diff.fit_transform(x_train_diff)\n",
    "\n",
    "    print(0)\n",
    "    # test\n",
    "    x_test = []\n",
    "    y_test = []\n",
    "    x_test_timestamp = []\n",
    "    x_test_mean = []\n",
    "    x_test_std = []\n",
    "    x_test_max_min = []\n",
    "    x_test_timestamp_true =[]\n",
    "    x_test_main = []\n",
    "    x_test_max = []\n",
    "    x_test_min = []\n",
    "    x_test_kurtosis = []\n",
    "    x_test_skew = []\n",
    "\n",
    "    for key, values in test.items():\n",
    "        for app in range(len(appliances)):\n",
    "            df = pd.read_csv(\n",
    "                f\"datasets/Building{key}_NILM_data_basic.csv\", usecols=[\"Timestamp\", \"main\", appliances[app]])\n",
    "            df[\"date\"] = pd.to_datetime(df[\"Timestamp\"]).dt.date\n",
    "            startDate = datetime.strptime(values[\"start_time\"], \"%Y-%m-%d\").date()\n",
    "            endDate = datetime.strptime(values[\"end_time\"], \"%Y-%m-%d\").date()\n",
    "\n",
    "            if startDate > endDate:\n",
    "                raise \"Start Date must be smaller than Enddate.\"\n",
    "\n",
    "            df = df[(df[\"date\"] >= startDate) & (df[\"date\"] <= endDate)]\n",
    "            df.dropna(inplace=True)\n",
    "            # x = df[\"main\"].values \n",
    "\n",
    "            if app == 0:\n",
    "                x = df[appliances[app]].values\n",
    "            else:\n",
    "                print(app)\n",
    "                x += df[appliances[app]].values\n",
    "            if appliances[app] == \"Refrigerator\":\n",
    "                y = df[appliances[app]].values\n",
    "            # x = x - 100\n",
    "            # x_diff = x\n",
    "            # for i in range(1,len(x)):\n",
    "            #     x_diff[i] = x_diff[i] - x_diff[i-1]\n",
    "            # \n",
    "            # y = df[appliances[0]].values\n",
    "        x_test_main.extend(x)\n",
    "        timestamp_true = df[\"Timestamp\"].values\n",
    "        timestamp = (pd.to_datetime(df[\"Timestamp\"]).astype(int)/ 10**18).values\n",
    "        x2 = x\n",
    "        x = jnp.pad(x, (units_to_pad, units_to_pad),\n",
    "                    'constant', constant_values=(0, 0))\n",
    "        x = jnp.array([x[i: i + n] for i in range(len(x) - n + 1)])\n",
    "\n",
    "        x_test_mean.extend(jnp.mean(x, axis=1))\n",
    "        x_test_std.extend(jnp.std(x, axis=1))\n",
    "        x1 = jnp.pad(x2, (units_to_pad1, units_to_pad1),\n",
    "                    'constant', constant_values=(0, 0))\n",
    "        x1 = jnp.array([x1[i: i + m] for i in range(len(x1) - m + 1)])\n",
    "        x_test_max_min.extend(jnp.max(x, axis=1)-jnp.min(x, axis=1))\n",
    "        x_test_max.extend(jnp.max(x1, axis=1))\n",
    "        x_test_min.extend(jnp.min(x1, axis=1))\n",
    "        x_test.extend(x)\n",
    "        x_test_kurtosis.extend(kurtosis(x,axis=1))\n",
    "        x_test_skew.extend(skew(x,axis=1))\n",
    "        y_test.extend(y)\n",
    "        x_test_timestamp_true.extend(timestamp_true)\n",
    "        x_test_timestamp.extend(timestamp)\n",
    "        # x_test_diff.extend(x_diff)\n",
    "\n",
    "    # for i in range(1,len(x_test)):\n",
    "    #     x_test[i] = x_test[i] - x_test[i-1]\n",
    "    x_test = jnp.array(x_test)\n",
    "    y_test = jnp.array(y_test).reshape(-1, 1)\n",
    "    x_test_timestamp = torch.tensor(x_test_timestamp).reshape(-1,1)\n",
    "    x_test_main = jnp.array(x_test_main).reshape(-1,1)\n",
    "    x_test_mean = jnp.array(x_test_mean).reshape(-1,1)\n",
    "    x_test_std =  jnp.array(x_test_std).reshape(-1,1)\n",
    "    x_test_max_min =  jnp.array(x_test_max_min).reshape(-1,1)\n",
    "    x_test_max = jnp.array(x_test_max).reshape(-1,1)\n",
    "    x_test_min = jnp.array(x_test_min).reshape(-1,1)\n",
    "    x_test_kurtosis = jnp.array(x_test_kurtosis).reshape(-1,1)\n",
    "    x_test_skew = jnp.array(x_test_skew).reshape(-1,1)\n",
    "\n",
    "    x_test = scaler_x.transform(x_test)\n",
    "    x_test_timestamp = scaler_time.transform(x_test_timestamp)\n",
    "    x_test_mean = scaler_mean.transform(x_test_mean)\n",
    "    x_test_std = scaler_std.transform(x_test_std)\n",
    "    x_test_max_min = scaler_max_min.transform(x_test_max_min)\n",
    "    x_test_main = scaler_main.transform(x_test_main)\n",
    "    x_test_max =  scaler_max.transform(x_test_max)\n",
    "    x_test_min = scaler_min.transform(x_test_min)\n",
    "    x_test_kurtosis = scaler_kurtosis.transform(x_test_kurtosis)\n",
    "    x_test_skew = scaler_skew.transform(x_test_skew)\n",
    "    # x_test_diff = scaler_diff.transform(x_test_diff)\n",
    "#     y_test = scaler_y.transform(y_test)\n",
    "\n",
    "    # x_train_features = x_train_main_dif\n",
    "    # x_test_features = x_test_main_dif\n",
    "\n",
    "    x_train = jnp.array(x_train[:,1:]).reshape(x_train.shape[0], n-1)\n",
    "    y_train = jnp.array(y_train)\n",
    "    x_train_timestamp = torch.tensor(x_train_timestamp).reshape(x_train_timestamp.shape[0], 1)\n",
    "    x_test = jnp.array(x_test[:,1:]).reshape(x_test.shape[0], n-1)\n",
    "    y_test = jnp.array(y_test)\n",
    "    x_test_timestamp = torch.tensor(x_test_timestamp).reshape(x_test_timestamp.shape[0], 1).to(torch.float64)\n",
    "\n",
    "    #x_train_std, \n",
    "    #, x_test_std, x_test_max_min,\n",
    "    num_features_selected = 6\n",
    "    x_train_features = jnp.concatenate((x_train_main, x_train_mean,  x_train_max_min,x_train_max, x_train_min, x_train_kurtosis), axis=1).reshape(x_train.shape[0], num_features_selected)\n",
    "    x_test_features = jnp.concatenate((x_test_main, x_test_mean,  x_test_max_min, x_test_max, x_test_min,  x_test_kurtosis), axis=1).reshape(x_test.shape[0], num_features_selected)\n",
    "\n",
    "    scalers = np.array([scaler_x, scaler_y, scaler_time, scaler_main, scaler_mean, scaler_std, scaler_max_min, scaler_max, scaler_min, scaler_kurtosis, scaler_skew])\n",
    "    return x_train, y_train, x_test, y_test, x_train_features, x_test_features, x_train_timestamp, x_test_timestamp, scalers, x_test_main\n"
   ]
  },
  {
   "cell_type": "code",
   "execution_count": 6,
   "metadata": {},
   "outputs": [
    {
     "name": "stdout",
     "output_type": "stream",
     "text": [
      "1\n",
      "2\n",
      "1\n",
      "2\n",
      "0\n",
      "1\n",
      "2\n"
     ]
    }
   ],
   "source": [
    "x_train, y_train, x_test, y_test, x_train_features, x_test_features, x_train_timstamp, x_test_timestamp, scalers, x_test_main = dataset_load(appliances, train, test)"
   ]
  },
  {
   "cell_type": "code",
   "execution_count": 7,
   "metadata": {},
   "outputs": [],
   "source": [
    "# x_train_full = jnp.concatenate((x_train_features, jnp.array(np.array(x_train_timstamp))), axis=1)\n",
    "# x_test_full = jnp.concatenate((x_test_features, jnp.array(np.array(x_test_timestamp))), axis=1)"
   ]
  },
  {
   "cell_type": "code",
   "execution_count": 8,
   "metadata": {},
   "outputs": [],
   "source": [
    "# x_train_full = jnp.concatenate((x_train.reshape(-1,n), jnp.array(np.array(x_train_timstamp))), axis=1)\n",
    "# x_test_full = jnp.concatenate((x_test.reshape(-1,n), jnp.array(np.array(x_test_timestamp))), axis=1)\n",
    "# x_train_full.shape, x_test_full.shape"
   ]
  },
  {
   "cell_type": "code",
   "execution_count": 9,
   "metadata": {},
   "outputs": [],
   "source": [
    "# x_train.reshape(-1,n).shape, x_test.reshape(-1,n).shape, y_train.shape, y_test.shape"
   ]
  },
  {
   "cell_type": "code",
   "execution_count": 10,
   "metadata": {},
   "outputs": [],
   "source": [
    "# x = x_train_full[:14000]\n",
    "# y = y_train[:14000]\n",
    "# xt = x_train_full[14000:]\n",
    "# yt = y_train[14000:]"
   ]
  },
  {
   "cell_type": "code",
   "execution_count": 11,
   "metadata": {},
   "outputs": [],
   "source": [
    "# x.shape, y.shape"
   ]
  },
  {
   "cell_type": "code",
   "execution_count": 12,
   "metadata": {},
   "outputs": [],
   "source": [
    "x_train_diff = x_train_features[:,0]\n",
    "diff = np.array(x_train_diff)\n",
    "for i in range(1, len(x_train_diff)):\n",
    "\t\tvalue = x_train_diff[i] - x_train_diff[i - 1]\n",
    "\t\tdiff[i] = value\n",
    "\n",
    "x_test_diff = x_test_features[:,0]\n",
    "diff = np.array(x_test_diff)\n",
    "for i in range(1, len(x_test_diff)):\n",
    "\t\tvalue = x_test_diff[i] - x_test_diff[i - 1]\n",
    "\t\tdiff[i] = value\n",
    "\n",
    "# x_train_zeros = np.zeros(x_train_diff.shape)\n",
    "# x_test_zeros = np.zeros(x_test_diff.shape)"
   ]
  },
  {
   "cell_type": "code",
   "execution_count": 13,
   "metadata": {},
   "outputs": [],
   "source": [
    "# x1 = x_train_features[:,0]\n",
    "# x2 = x_test_features[:,0]\n",
    "# x_train_thresh = np.array(x1)\n",
    "# x_test_thresh = np.array(x2)\n",
    "\n",
    "# for i in range(len(x1)):\n",
    "#   if x_train_thresh[i]<250:\n",
    "#     x_train_thresh[i] = 0\n",
    "#   if x_train_thresh[i]>340:\n",
    "#     x_train_thresh[i] = 360\n",
    "  \n",
    "\n",
    "# for i in range(len(x2)):\n",
    "#   if x_test_thresh[i]<250:\n",
    "#     x_test_thresh[i] = 0\n",
    "#   if x_test_thresh[i]>340:\n",
    "#     x_test_thresh[i] = 360\n",
    "\n",
    "# #jnp.array(np.array(x_train_thresh.reshape(-1,1))), jnp.array(np.array(x_test_thresh.reshape(-1,1))),"
   ]
  },
  {
   "cell_type": "code",
   "execution_count": 14,
   "metadata": {},
   "outputs": [],
   "source": [
    "# x_train_fft = jnp.array(np.fft.fft(scalers[3].inverse_transform(x_train_features[:,0].reshape(-1,1))))\n",
    "# x_test_fft = jnp.array(np.fft.fft(scalers[3].inverse_transform(x_test_features[:,0].reshape(-1,1))))"
   ]
  },
  {
   "cell_type": "code",
   "execution_count": 15,
   "metadata": {},
   "outputs": [],
   "source": [
    "# x_train_features = jnp.concatenate(( x_train_features, jnp.array(np.array(x_train_diff.reshape(-1,1)))), axis=1)\n",
    "# x_test_features = jnp.concatenate((x_test_features, jnp.array(np.array(x_test_diff.reshape(-1,1)))), axis=1)"
   ]
  },
  {
   "cell_type": "code",
   "execution_count": 16,
   "metadata": {},
   "outputs": [],
   "source": [
    "# from sklearn.decomposition import PCA\n",
    "# pca = PCA(.90)\n",
    "\n",
    "# pca.fit(x_train)\n",
    "# x_train = pca.transform(x_train)\n",
    "# x_test = pca.transform(x_test)"
   ]
  },
  {
   "cell_type": "code",
   "execution_count": 13,
   "metadata": {},
   "outputs": [],
   "source": [
    "x_train_features = jnp.concatenate((x_train_features, jnp.array(np.array(x_train_diff.reshape(-1,1))), jnp.array(x_train_timstamp)), axis=1)\n",
    "x_test_features = jnp.concatenate((x_test_features, jnp.array(np.array(x_test_diff.reshape(-1,1))), jnp.array(x_test_timestamp)), axis=1)"
   ]
  },
  {
   "cell_type": "code",
   "execution_count": 14,
   "metadata": {},
   "outputs": [
    {
     "data": {
      "text/plain": [
       "(24918, 8)"
      ]
     },
     "execution_count": 14,
     "metadata": {},
     "output_type": "execute_result"
    }
   ],
   "source": [
    "x_train_features.shape"
   ]
  },
  {
   "cell_type": "code",
   "execution_count": 15,
   "metadata": {},
   "outputs": [],
   "source": [
    "import gpytorch\n",
    "indexes = 53456\n",
    "n = x_train_features.shape[1]\n",
    "x = torch.tensor(np.array(x_train_features)).to(torch.float64)\n",
    "y = torch.tensor(np.array(y_train)).reshape(-1,).to(torch.float64)\n",
    "xt = torch.tensor(np.array(x_test_features)).to(torch.float64)\n",
    "yt = torch.tensor(np.array(y_test)).reshape(-1,).to(torch.float64)\n",
    "\n",
    "if x.shape[0]>indexes:\n",
    "  x = x[:indexes]\n",
    "  y = y[:indexes]\n",
    "\n",
    "# xt = xt[:16000]\n",
    "# yt = yt[:16000]"
   ]
  },
  {
   "cell_type": "code",
   "execution_count": 16,
   "metadata": {},
   "outputs": [
    {
     "data": {
      "text/plain": [
       "torch.float64"
      ]
     },
     "execution_count": 16,
     "metadata": {},
     "output_type": "execute_result"
    }
   ],
   "source": [
    "x.dtype"
   ]
  },
  {
   "cell_type": "code",
   "execution_count": 18,
   "metadata": {},
   "outputs": [
    {
     "data": {
      "text/plain": [
       "(torch.Size([24918, 8]),\n",
       " torch.Size([24918]),\n",
       " torch.Size([15656, 8]),\n",
       " torch.Size([15656]))"
      ]
     },
     "execution_count": 18,
     "metadata": {},
     "output_type": "execute_result"
    }
   ],
   "source": [
    "x.shape, y.shape, xt.shape, yt.shape"
   ]
  },
  {
   "cell_type": "code",
   "execution_count": 19,
   "metadata": {},
   "outputs": [
    {
     "name": "stdout",
     "output_type": "stream",
     "text": [
      "restart: 0, epoch: 1, iter: 1, loss: 0.9995\n",
      "restart: 0, epoch: 2, iter: 1, loss: 0.9874\n",
      "restart: 0, epoch: 3, iter: 1, loss: 0.9820\n",
      "restart: 0, epoch: 4, iter: 1, loss: 0.9752\n",
      "restart: 0, epoch: 5, iter: 1, loss: 0.9690\n",
      "restart: 0, epoch: 6, iter: 1, loss: 0.9632\n",
      "restart: 0, epoch: 7, iter: 1, loss: 0.9579\n"
     ]
    },
    {
     "name": "stderr",
     "output_type": "stream",
     "text": [
      "/home/desai.aadesh/miniconda3/envs/nlim/lib/python3.10/site-packages/gpytorch/kernels/inducing_point_kernel.py:61: UserWarning: torch.triangular_solve is deprecated in favor of torch.linalg.solve_triangularand will be removed in a future PyTorch release.\n",
      "torch.linalg.solve_triangular has its arguments reversed and does not return a copy of one of the inputs.\n",
      "X = torch.triangular_solve(B, A).solution\n",
      "should be replaced with\n",
      "X = torch.linalg.solve_triangular(A, B). (Triggered internally at  /opt/conda/conda-bld/pytorch_1656352645774/work/aten/src/ATen/native/BatchLinearAlgebra.cpp:2183.)\n",
      "  inv_root = torch.triangular_solve(eye, chol)[0]\n"
     ]
    },
    {
     "name": "stdout",
     "output_type": "stream",
     "text": [
      "restart: 0, epoch: 8, iter: 1, loss: 0.9519\n",
      "restart: 0, epoch: 9, iter: 1, loss: 0.9470\n",
      "restart: 0, epoch: 10, iter: 1, loss: 0.9414\n",
      "restart: 0, epoch: 11, iter: 1, loss: 0.9363\n",
      "restart: 0, epoch: 12, iter: 1, loss: 0.9310\n",
      "restart: 0, epoch: 13, iter: 1, loss: 0.9258\n",
      "restart: 0, epoch: 14, iter: 1, loss: 0.9207\n",
      "restart: 0, epoch: 15, iter: 1, loss: 0.9156\n",
      "restart: 0, epoch: 16, iter: 1, loss: 0.9102\n",
      "restart: 0, epoch: 17, iter: 1, loss: 0.9055\n",
      "restart: 0, epoch: 18, iter: 1, loss: 0.9002\n",
      "restart: 0, epoch: 19, iter: 1, loss: 0.8951\n",
      "restart: 0, epoch: 20, iter: 1, loss: 0.8900\n",
      "restart: 0, epoch: 21, iter: 1, loss: 0.8849\n",
      "restart: 0, epoch: 22, iter: 1, loss: 0.8802\n",
      "restart: 0, epoch: 23, iter: 1, loss: 0.8753\n",
      "restart: 0, epoch: 24, iter: 1, loss: 0.8700\n",
      "restart: 0, epoch: 25, iter: 1, loss: 0.8651\n",
      "restart: 0, epoch: 26, iter: 1, loss: 0.8602\n",
      "restart: 0, epoch: 27, iter: 1, loss: 0.8549\n",
      "restart: 0, epoch: 28, iter: 1, loss: 0.8500\n",
      "restart: 0, epoch: 29, iter: 1, loss: 0.8450\n",
      "restart: 0, epoch: 30, iter: 1, loss: 0.8399\n",
      "restart: 0, epoch: 31, iter: 1, loss: 0.8349\n",
      "restart: 0, epoch: 32, iter: 1, loss: 0.8297\n",
      "restart: 0, epoch: 33, iter: 1, loss: 0.8244\n",
      "restart: 0, epoch: 34, iter: 1, loss: 0.8189\n",
      "restart: 0, epoch: 35, iter: 1, loss: 0.8138\n",
      "restart: 0, epoch: 36, iter: 1, loss: 0.8083\n",
      "restart: 0, epoch: 37, iter: 1, loss: 0.8029\n",
      "restart: 0, epoch: 38, iter: 1, loss: 0.7973\n",
      "restart: 0, epoch: 39, iter: 1, loss: 0.7915\n",
      "restart: 0, epoch: 40, iter: 1, loss: 0.7861\n",
      "restart: 0, epoch: 41, iter: 1, loss: 0.7805\n",
      "restart: 0, epoch: 42, iter: 1, loss: 0.7749\n",
      "restart: 0, epoch: 43, iter: 1, loss: 0.7693\n",
      "restart: 0, epoch: 44, iter: 1, loss: 0.7635\n",
      "restart: 0, epoch: 45, iter: 1, loss: 0.7580\n",
      "restart: 0, epoch: 46, iter: 1, loss: 0.7524\n",
      "restart: 0, epoch: 47, iter: 1, loss: 0.7466\n",
      "restart: 0, epoch: 48, iter: 1, loss: 0.7410\n",
      "restart: 0, epoch: 49, iter: 1, loss: 0.7354\n",
      "restart: 0, epoch: 50, iter: 1, loss: 0.7298\n",
      "restart: 0, epoch: 51, iter: 1, loss: 0.7242\n",
      "restart: 0, epoch: 52, iter: 1, loss: 0.7187\n",
      "restart: 0, epoch: 53, iter: 1, loss: 0.7131\n",
      "restart: 0, epoch: 54, iter: 1, loss: 0.7076\n",
      "restart: 0, epoch: 55, iter: 1, loss: 0.7021\n",
      "restart: 0, epoch: 56, iter: 1, loss: 0.6965\n",
      "restart: 0, epoch: 57, iter: 1, loss: 0.6909\n",
      "restart: 0, epoch: 58, iter: 1, loss: 0.6854\n",
      "restart: 0, epoch: 59, iter: 1, loss: 0.6797\n",
      "restart: 0, epoch: 60, iter: 1, loss: 0.6741\n",
      "restart: 0, epoch: 61, iter: 1, loss: 0.6683\n",
      "restart: 0, epoch: 62, iter: 1, loss: 0.6627\n",
      "restart: 0, epoch: 63, iter: 1, loss: 0.6570\n",
      "restart: 0, epoch: 64, iter: 1, loss: 0.6513\n",
      "restart: 0, epoch: 65, iter: 1, loss: 0.6456\n",
      "restart: 0, epoch: 66, iter: 1, loss: 0.6399\n",
      "restart: 0, epoch: 67, iter: 1, loss: 0.6340\n",
      "restart: 0, epoch: 68, iter: 1, loss: 0.6280\n",
      "restart: 0, epoch: 69, iter: 1, loss: 0.6223\n",
      "restart: 0, epoch: 70, iter: 1, loss: 0.6167\n",
      "restart: 0, epoch: 71, iter: 1, loss: 0.6108\n",
      "restart: 0, epoch: 72, iter: 1, loss: 0.6053\n",
      "restart: 0, epoch: 73, iter: 1, loss: 0.5996\n",
      "restart: 0, epoch: 74, iter: 1, loss: 0.5937\n",
      "restart: 0, epoch: 75, iter: 1, loss: 0.5878\n",
      "restart: 0, epoch: 76, iter: 1, loss: 0.5824\n",
      "restart: 0, epoch: 77, iter: 1, loss: 0.5767\n",
      "restart: 0, epoch: 78, iter: 1, loss: 0.5709\n",
      "restart: 0, epoch: 79, iter: 1, loss: 0.5654\n",
      "restart: 0, epoch: 80, iter: 1, loss: 0.5599\n",
      "restart: 0, epoch: 81, iter: 1, loss: 0.5542\n",
      "restart: 0, epoch: 82, iter: 1, loss: 0.5488\n",
      "restart: 0, epoch: 83, iter: 1, loss: 0.5433\n",
      "restart: 0, epoch: 84, iter: 1, loss: 0.5379\n",
      "restart: 0, epoch: 85, iter: 1, loss: 0.5325\n",
      "restart: 0, epoch: 86, iter: 1, loss: 0.5270\n",
      "restart: 0, epoch: 87, iter: 1, loss: 0.5218\n",
      "restart: 0, epoch: 88, iter: 1, loss: 0.5164\n",
      "restart: 0, epoch: 89, iter: 1, loss: 0.5112\n",
      "restart: 0, epoch: 90, iter: 1, loss: 0.5061\n",
      "restart: 0, epoch: 91, iter: 1, loss: 0.5009\n",
      "restart: 0, epoch: 92, iter: 1, loss: 0.4957\n",
      "restart: 0, epoch: 93, iter: 1, loss: 0.4904\n",
      "restart: 0, epoch: 94, iter: 1, loss: 0.4853\n",
      "restart: 0, epoch: 95, iter: 1, loss: 0.4804\n",
      "restart: 0, epoch: 96, iter: 1, loss: 0.4753\n",
      "restart: 0, epoch: 97, iter: 1, loss: 0.4701\n",
      "restart: 0, epoch: 98, iter: 1, loss: 0.4649\n",
      "restart: 0, epoch: 99, iter: 1, loss: 0.4602\n",
      "restart: 0, epoch: 100, iter: 1, loss: 0.4553\n",
      "restart: 0, epoch: 101, iter: 1, loss: 0.4503\n",
      "restart: 0, epoch: 102, iter: 1, loss: 0.4452\n",
      "restart: 0, epoch: 103, iter: 1, loss: 0.4405\n",
      "restart: 0, epoch: 104, iter: 1, loss: 0.4355\n",
      "restart: 0, epoch: 105, iter: 1, loss: 0.4306\n",
      "restart: 0, epoch: 106, iter: 1, loss: 0.4258\n",
      "restart: 0, epoch: 107, iter: 1, loss: 0.4210\n",
      "restart: 0, epoch: 108, iter: 1, loss: 0.4160\n",
      "restart: 0, epoch: 109, iter: 1, loss: 0.4111\n",
      "restart: 0, epoch: 110, iter: 1, loss: 0.4064\n",
      "restart: 0, epoch: 111, iter: 1, loss: 0.4017\n",
      "restart: 0, epoch: 112, iter: 1, loss: 0.3968\n",
      "restart: 0, epoch: 113, iter: 1, loss: 0.3921\n",
      "restart: 0, epoch: 114, iter: 1, loss: 0.3876\n",
      "restart: 0, epoch: 115, iter: 1, loss: 0.3829\n",
      "restart: 0, epoch: 116, iter: 1, loss: 0.3780\n",
      "restart: 0, epoch: 117, iter: 1, loss: 0.3735\n",
      "restart: 0, epoch: 118, iter: 1, loss: 0.3689\n",
      "restart: 0, epoch: 119, iter: 1, loss: 0.3644\n",
      "restart: 0, epoch: 120, iter: 1, loss: 0.3597\n",
      "restart: 0, epoch: 121, iter: 1, loss: 0.3551\n",
      "restart: 0, epoch: 122, iter: 1, loss: 0.3504\n",
      "restart: 0, epoch: 123, iter: 1, loss: 0.3458\n",
      "restart: 0, epoch: 124, iter: 1, loss: 0.3412\n",
      "restart: 0, epoch: 125, iter: 1, loss: 0.3368\n",
      "restart: 0, epoch: 126, iter: 1, loss: 0.3322\n",
      "restart: 0, epoch: 127, iter: 1, loss: 0.3274\n",
      "restart: 0, epoch: 128, iter: 1, loss: 0.3231\n",
      "restart: 0, epoch: 129, iter: 1, loss: 0.3186\n",
      "restart: 0, epoch: 130, iter: 1, loss: 0.3139\n",
      "restart: 0, epoch: 131, iter: 1, loss: 0.3094\n",
      "restart: 0, epoch: 132, iter: 1, loss: 0.3051\n",
      "restart: 0, epoch: 133, iter: 1, loss: 0.3007\n",
      "restart: 0, epoch: 134, iter: 1, loss: 0.2963\n",
      "restart: 0, epoch: 135, iter: 1, loss: 0.2918\n",
      "restart: 0, epoch: 136, iter: 1, loss: 0.2874\n",
      "restart: 0, epoch: 137, iter: 1, loss: 0.2830\n",
      "restart: 0, epoch: 138, iter: 1, loss: 0.2786\n",
      "restart: 0, epoch: 139, iter: 1, loss: 0.2743\n",
      "restart: 0, epoch: 140, iter: 1, loss: 0.2699\n",
      "restart: 0, epoch: 141, iter: 1, loss: 0.2655\n",
      "restart: 0, epoch: 142, iter: 1, loss: 0.2610\n",
      "restart: 0, epoch: 143, iter: 1, loss: 0.2569\n",
      "restart: 0, epoch: 144, iter: 1, loss: 0.2526\n",
      "restart: 0, epoch: 145, iter: 1, loss: 0.2482\n",
      "restart: 0, epoch: 146, iter: 1, loss: 0.2441\n",
      "restart: 0, epoch: 147, iter: 1, loss: 0.2400\n",
      "restart: 0, epoch: 148, iter: 1, loss: 0.2357\n",
      "restart: 0, epoch: 149, iter: 1, loss: 0.2315\n",
      "restart: 0, epoch: 150, iter: 1, loss: 0.2270\n",
      "restart: 0, epoch: 151, iter: 1, loss: 0.2228\n",
      "restart: 0, epoch: 152, iter: 1, loss: 0.2187\n",
      "restart: 0, epoch: 153, iter: 1, loss: 0.2143\n",
      "restart: 0, epoch: 154, iter: 1, loss: 0.2099\n",
      "restart: 0, epoch: 155, iter: 1, loss: 0.2057\n",
      "restart: 0, epoch: 156, iter: 1, loss: 0.2015\n",
      "restart: 0, epoch: 157, iter: 1, loss: 0.1973\n",
      "restart: 0, epoch: 158, iter: 1, loss: 0.1931\n",
      "restart: 0, epoch: 159, iter: 1, loss: 0.1893\n",
      "restart: 0, epoch: 160, iter: 1, loss: 0.1851\n",
      "restart: 0, epoch: 161, iter: 1, loss: 0.1811\n",
      "restart: 0, epoch: 162, iter: 1, loss: 0.1768\n",
      "restart: 0, epoch: 163, iter: 1, loss: 0.1728\n",
      "restart: 0, epoch: 164, iter: 1, loss: 0.1688\n",
      "restart: 0, epoch: 165, iter: 1, loss: 0.1647\n",
      "restart: 0, epoch: 166, iter: 1, loss: 0.1604\n",
      "restart: 0, epoch: 167, iter: 1, loss: 0.1566\n",
      "restart: 0, epoch: 168, iter: 1, loss: 0.1527\n",
      "restart: 0, epoch: 169, iter: 1, loss: 0.1486\n",
      "restart: 0, epoch: 170, iter: 1, loss: 0.1445\n",
      "restart: 0, epoch: 171, iter: 1, loss: 0.1401\n",
      "restart: 0, epoch: 172, iter: 1, loss: 0.1365\n",
      "restart: 0, epoch: 173, iter: 1, loss: 0.1324\n",
      "restart: 0, epoch: 174, iter: 1, loss: 0.1289\n",
      "restart: 0, epoch: 175, iter: 1, loss: 0.1250\n",
      "restart: 0, epoch: 176, iter: 1, loss: 0.1210\n",
      "restart: 0, epoch: 177, iter: 1, loss: 0.1171\n",
      "restart: 0, epoch: 178, iter: 1, loss: 0.1133\n",
      "restart: 0, epoch: 179, iter: 1, loss: 0.1092\n",
      "restart: 0, epoch: 180, iter: 1, loss: 0.1056\n",
      "restart: 0, epoch: 181, iter: 1, loss: 0.1018\n",
      "restart: 0, epoch: 182, iter: 1, loss: 0.0981\n",
      "restart: 0, epoch: 183, iter: 1, loss: 0.0942\n",
      "restart: 0, epoch: 184, iter: 1, loss: 0.0903\n",
      "restart: 0, epoch: 185, iter: 1, loss: 0.0861\n",
      "restart: 0, epoch: 186, iter: 1, loss: 0.0824\n",
      "restart: 0, epoch: 187, iter: 1, loss: 0.0790\n",
      "restart: 0, epoch: 188, iter: 1, loss: 0.0752\n",
      "restart: 0, epoch: 189, iter: 1, loss: 0.0715\n",
      "restart: 0, epoch: 190, iter: 1, loss: 0.0674\n",
      "restart: 0, epoch: 191, iter: 1, loss: 0.0640\n",
      "restart: 0, epoch: 192, iter: 1, loss: 0.0605\n",
      "restart: 0, epoch: 193, iter: 1, loss: 0.0570\n",
      "restart: 0, epoch: 194, iter: 1, loss: 0.0533\n",
      "restart: 0, epoch: 195, iter: 1, loss: 0.0494\n",
      "restart: 0, epoch: 196, iter: 1, loss: 0.0459\n",
      "restart: 0, epoch: 197, iter: 1, loss: 0.0423\n",
      "restart: 0, epoch: 198, iter: 1, loss: 0.0387\n",
      "restart: 0, epoch: 199, iter: 1, loss: 0.0351\n",
      "restart: 0, epoch: 200, iter: 1, loss: 0.0315\n",
      "restart: 0, epoch: 201, iter: 1, loss: 0.0280\n",
      "restart: 0, epoch: 202, iter: 1, loss: 0.0244\n",
      "restart: 0, epoch: 203, iter: 1, loss: 0.0207\n",
      "restart: 0, epoch: 204, iter: 1, loss: 0.0170\n",
      "restart: 0, epoch: 205, iter: 1, loss: 0.0138\n",
      "restart: 0, epoch: 206, iter: 1, loss: 0.0104\n",
      "restart: 0, epoch: 207, iter: 1, loss: 0.0070\n",
      "restart: 0, epoch: 208, iter: 1, loss: 0.0033\n",
      "restart: 0, epoch: 209, iter: 1, loss: -0.0006\n",
      "restart: 0, epoch: 210, iter: 1, loss: -0.0035\n",
      "restart: 0, epoch: 211, iter: 1, loss: -0.0067\n",
      "restart: 0, epoch: 212, iter: 1, loss: -0.0100\n",
      "restart: 0, epoch: 213, iter: 1, loss: -0.0134\n",
      "restart: 0, epoch: 214, iter: 1, loss: -0.0167\n",
      "restart: 0, epoch: 215, iter: 1, loss: -0.0201\n",
      "restart: 0, epoch: 216, iter: 1, loss: -0.0236\n",
      "restart: 0, epoch: 217, iter: 1, loss: -0.0266\n",
      "restart: 0, epoch: 218, iter: 1, loss: -0.0298\n",
      "restart: 0, epoch: 219, iter: 1, loss: -0.0331\n",
      "restart: 0, epoch: 220, iter: 1, loss: -0.0367\n",
      "restart: 0, epoch: 221, iter: 1, loss: -0.0402\n",
      "restart: 0, epoch: 222, iter: 1, loss: -0.0431\n",
      "restart: 0, epoch: 223, iter: 1, loss: -0.0464\n",
      "restart: 0, epoch: 224, iter: 1, loss: -0.0498\n",
      "restart: 0, epoch: 225, iter: 1, loss: -0.0530\n",
      "restart: 0, epoch: 226, iter: 1, loss: -0.0560\n",
      "restart: 0, epoch: 227, iter: 1, loss: -0.0592\n",
      "restart: 0, epoch: 228, iter: 1, loss: -0.0625\n",
      "restart: 0, epoch: 229, iter: 1, loss: -0.0658\n",
      "restart: 0, epoch: 230, iter: 1, loss: -0.0687\n",
      "restart: 0, epoch: 231, iter: 1, loss: -0.0720\n",
      "restart: 0, epoch: 232, iter: 1, loss: -0.0753\n",
      "restart: 0, epoch: 233, iter: 1, loss: -0.0782\n",
      "restart: 0, epoch: 234, iter: 1, loss: -0.0816\n",
      "restart: 0, epoch: 235, iter: 1, loss: -0.0845\n",
      "restart: 0, epoch: 236, iter: 1, loss: -0.0875\n",
      "restart: 0, epoch: 237, iter: 1, loss: -0.0908\n",
      "restart: 0, epoch: 238, iter: 1, loss: -0.0937\n",
      "restart: 0, epoch: 239, iter: 1, loss: -0.0966\n",
      "restart: 0, epoch: 240, iter: 1, loss: -0.0997\n",
      "restart: 0, epoch: 241, iter: 1, loss: -0.1031\n",
      "restart: 0, epoch: 242, iter: 1, loss: -0.1058\n",
      "restart: 0, epoch: 243, iter: 1, loss: -0.1089\n",
      "restart: 0, epoch: 244, iter: 1, loss: -0.1119\n",
      "restart: 0, epoch: 245, iter: 1, loss: -0.1149\n",
      "restart: 0, epoch: 246, iter: 1, loss: -0.1179\n",
      "restart: 0, epoch: 247, iter: 1, loss: -0.1209\n",
      "restart: 0, epoch: 248, iter: 1, loss: -0.1238\n",
      "restart: 0, epoch: 249, iter: 1, loss: -0.1265\n",
      "restart: 0, epoch: 250, iter: 1, loss: -0.1296\n",
      "restart: 0, epoch: 251, iter: 1, loss: -0.1326\n",
      "restart: 0, epoch: 252, iter: 1, loss: -0.1353\n",
      "restart: 0, epoch: 253, iter: 1, loss: -0.1381\n",
      "restart: 0, epoch: 254, iter: 1, loss: -0.1409\n",
      "restart: 0, epoch: 255, iter: 1, loss: -0.1437\n",
      "restart: 0, epoch: 256, iter: 1, loss: -0.1461\n",
      "restart: 0, epoch: 257, iter: 1, loss: -0.1488\n",
      "restart: 0, epoch: 258, iter: 1, loss: -0.1515\n",
      "restart: 0, epoch: 259, iter: 1, loss: -0.1543\n",
      "restart: 0, epoch: 260, iter: 1, loss: -0.1569\n",
      "restart: 0, epoch: 261, iter: 1, loss: -0.1597\n",
      "restart: 0, epoch: 262, iter: 1, loss: -0.1622\n",
      "restart: 0, epoch: 263, iter: 1, loss: -0.1647\n",
      "restart: 0, epoch: 264, iter: 1, loss: -0.1671\n",
      "restart: 0, epoch: 265, iter: 1, loss: -0.1698\n",
      "restart: 0, epoch: 266, iter: 1, loss: -0.1721\n",
      "restart: 0, epoch: 267, iter: 1, loss: -0.1745\n",
      "restart: 0, epoch: 268, iter: 1, loss: -0.1770\n",
      "restart: 0, epoch: 269, iter: 1, loss: -0.1794\n",
      "restart: 0, epoch: 270, iter: 1, loss: -0.1813\n",
      "restart: 0, epoch: 271, iter: 1, loss: -0.1835\n",
      "restart: 0, epoch: 272, iter: 1, loss: -0.1862\n",
      "restart: 0, epoch: 273, iter: 1, loss: -0.1880\n",
      "restart: 0, epoch: 274, iter: 1, loss: -0.1901\n",
      "restart: 0, epoch: 275, iter: 1, loss: -0.1924\n",
      "restart: 0, epoch: 276, iter: 1, loss: -0.1947\n",
      "restart: 0, epoch: 277, iter: 1, loss: -0.1968\n",
      "restart: 0, epoch: 278, iter: 1, loss: -0.1989\n",
      "restart: 0, epoch: 279, iter: 1, loss: -0.2008\n",
      "restart: 0, epoch: 280, iter: 1, loss: -0.2030\n",
      "restart: 0, epoch: 281, iter: 1, loss: -0.2049\n",
      "restart: 0, epoch: 282, iter: 1, loss: -0.2069\n",
      "restart: 0, epoch: 283, iter: 1, loss: -0.2089\n",
      "restart: 0, epoch: 284, iter: 1, loss: -0.2107\n",
      "restart: 0, epoch: 285, iter: 1, loss: -0.2126\n",
      "restart: 0, epoch: 286, iter: 1, loss: -0.2147\n",
      "restart: 0, epoch: 287, iter: 1, loss: -0.2163\n",
      "restart: 0, epoch: 288, iter: 1, loss: -0.2181\n",
      "restart: 0, epoch: 289, iter: 1, loss: -0.2202\n",
      "restart: 0, epoch: 290, iter: 1, loss: -0.2216\n",
      "restart: 0, epoch: 291, iter: 1, loss: -0.2232\n",
      "restart: 0, epoch: 292, iter: 1, loss: -0.2251\n",
      "restart: 0, epoch: 293, iter: 1, loss: -0.2271\n",
      "restart: 0, epoch: 294, iter: 1, loss: -0.2287\n",
      "restart: 0, epoch: 295, iter: 1, loss: -0.2303\n",
      "restart: 0, epoch: 296, iter: 1, loss: -0.2320\n",
      "restart: 0, epoch: 297, iter: 1, loss: -0.2339\n",
      "restart: 0, epoch: 298, iter: 1, loss: -0.2353\n",
      "restart: 0, epoch: 299, iter: 1, loss: -0.2368\n",
      "restart: 0, epoch: 300, iter: 1, loss: -0.2384\n",
      "restart: 0, epoch: 301, iter: 1, loss: -0.2401\n",
      "restart: 0, epoch: 302, iter: 1, loss: -0.2417\n",
      "restart: 0, epoch: 303, iter: 1, loss: -0.2432\n",
      "restart: 0, epoch: 304, iter: 1, loss: -0.2449\n",
      "restart: 0, epoch: 305, iter: 1, loss: -0.2460\n",
      "restart: 0, epoch: 306, iter: 1, loss: -0.2474\n",
      "restart: 0, epoch: 307, iter: 1, loss: -0.2490\n",
      "restart: 0, epoch: 308, iter: 1, loss: -0.2508\n",
      "restart: 0, epoch: 309, iter: 1, loss: -0.2517\n",
      "restart: 0, epoch: 310, iter: 1, loss: -0.2529\n",
      "restart: 0, epoch: 311, iter: 1, loss: -0.2543\n",
      "restart: 0, epoch: 312, iter: 1, loss: -0.2557\n",
      "restart: 0, epoch: 313, iter: 1, loss: -0.2573\n",
      "restart: 0, epoch: 314, iter: 1, loss: -0.2588\n",
      "restart: 0, epoch: 315, iter: 1, loss: -0.2599\n",
      "restart: 0, epoch: 316, iter: 1, loss: -0.2614\n",
      "restart: 0, epoch: 317, iter: 1, loss: -0.2623\n",
      "restart: 0, epoch: 318, iter: 1, loss: -0.2635\n",
      "restart: 0, epoch: 319, iter: 1, loss: -0.2648\n",
      "restart: 0, epoch: 320, iter: 1, loss: -0.2663\n",
      "restart: 0, epoch: 321, iter: 1, loss: -0.2675\n",
      "restart: 0, epoch: 322, iter: 1, loss: -0.2686\n",
      "restart: 0, epoch: 323, iter: 1, loss: -0.2700\n",
      "restart: 0, epoch: 324, iter: 1, loss: -0.2711\n",
      "restart: 0, epoch: 325, iter: 1, loss: -0.2721\n",
      "restart: 0, epoch: 326, iter: 1, loss: -0.2734\n",
      "restart: 0, epoch: 327, iter: 1, loss: -0.2747\n",
      "restart: 0, epoch: 328, iter: 1, loss: -0.2757\n",
      "restart: 0, epoch: 329, iter: 1, loss: -0.2769\n",
      "restart: 0, epoch: 330, iter: 1, loss: -0.2780\n",
      "restart: 0, epoch: 331, iter: 1, loss: -0.2797\n",
      "restart: 0, epoch: 332, iter: 1, loss: -0.2804\n",
      "restart: 0, epoch: 333, iter: 1, loss: -0.2815\n",
      "restart: 0, epoch: 334, iter: 1, loss: -0.2828\n",
      "restart: 0, epoch: 335, iter: 1, loss: -0.2842\n",
      "restart: 0, epoch: 336, iter: 1, loss: -0.2853\n",
      "restart: 0, epoch: 337, iter: 1, loss: -0.2868\n",
      "restart: 0, epoch: 338, iter: 1, loss: -0.2883\n",
      "restart: 0, epoch: 339, iter: 1, loss: -0.2893\n",
      "restart: 0, epoch: 340, iter: 1, loss: -0.2910\n",
      "restart: 0, epoch: 341, iter: 1, loss: -0.2922\n",
      "restart: 0, epoch: 342, iter: 1, loss: -0.2932\n",
      "restart: 0, epoch: 343, iter: 1, loss: -0.2945\n",
      "restart: 0, epoch: 344, iter: 1, loss: -0.2963\n",
      "restart: 0, epoch: 345, iter: 1, loss: -0.2978\n",
      "restart: 0, epoch: 346, iter: 1, loss: -0.2987\n",
      "restart: 0, epoch: 347, iter: 1, loss: -0.2998\n",
      "restart: 0, epoch: 348, iter: 1, loss: -0.3015\n",
      "restart: 0, epoch: 349, iter: 1, loss: -0.3033\n",
      "restart: 0, epoch: 350, iter: 1, loss: -0.3043\n",
      "restart: 0, epoch: 351, iter: 1, loss: -0.3054\n",
      "restart: 0, epoch: 352, iter: 1, loss: -0.3068\n",
      "restart: 0, epoch: 353, iter: 1, loss: -0.3082\n",
      "restart: 0, epoch: 354, iter: 1, loss: -0.3094\n",
      "restart: 0, epoch: 355, iter: 1, loss: -0.3106\n",
      "restart: 0, epoch: 356, iter: 1, loss: -0.3111\n",
      "restart: 0, epoch: 357, iter: 1, loss: -0.3124\n",
      "restart: 0, epoch: 358, iter: 1, loss: -0.3139\n",
      "restart: 0, epoch: 359, iter: 1, loss: -0.3152\n",
      "restart: 0, epoch: 360, iter: 1, loss: -0.3164\n",
      "restart: 0, epoch: 361, iter: 1, loss: -0.3179\n",
      "restart: 0, epoch: 362, iter: 1, loss: -0.3188\n",
      "restart: 0, epoch: 363, iter: 1, loss: -0.3201\n",
      "restart: 0, epoch: 364, iter: 1, loss: -0.3214\n",
      "restart: 0, epoch: 365, iter: 1, loss: -0.3223\n",
      "restart: 0, epoch: 366, iter: 1, loss: -0.3235\n",
      "restart: 0, epoch: 367, iter: 1, loss: -0.3247\n",
      "restart: 0, epoch: 368, iter: 1, loss: -0.3254\n",
      "restart: 0, epoch: 369, iter: 1, loss: -0.3262\n",
      "restart: 0, epoch: 370, iter: 1, loss: -0.3271\n",
      "restart: 0, epoch: 371, iter: 1, loss: -0.3281\n",
      "restart: 0, epoch: 372, iter: 1, loss: -0.3291\n",
      "restart: 0, epoch: 373, iter: 1, loss: -0.3299\n",
      "restart: 0, epoch: 374, iter: 1, loss: -0.3309\n",
      "restart: 0, epoch: 375, iter: 1, loss: -0.3317\n",
      "restart: 0, epoch: 376, iter: 1, loss: -0.3326\n",
      "restart: 0, epoch: 377, iter: 1, loss: -0.3332\n",
      "restart: 0, epoch: 378, iter: 1, loss: -0.3339\n",
      "restart: 0, epoch: 379, iter: 1, loss: -0.3345\n",
      "restart: 0, epoch: 380, iter: 1, loss: -0.3354\n",
      "restart: 0, epoch: 381, iter: 1, loss: -0.3362\n",
      "restart: 0, epoch: 382, iter: 1, loss: -0.3369\n",
      "restart: 0, epoch: 383, iter: 1, loss: -0.3379\n",
      "restart: 0, epoch: 384, iter: 1, loss: -0.3388\n",
      "restart: 0, epoch: 385, iter: 1, loss: -0.3393\n",
      "restart: 0, epoch: 386, iter: 1, loss: -0.3399\n",
      "restart: 0, epoch: 387, iter: 1, loss: -0.3406\n",
      "restart: 0, epoch: 388, iter: 1, loss: -0.3412\n",
      "restart: 0, epoch: 389, iter: 1, loss: -0.3419\n",
      "restart: 0, epoch: 390, iter: 1, loss: -0.3428\n",
      "restart: 0, epoch: 391, iter: 1, loss: -0.3435\n",
      "restart: 0, epoch: 392, iter: 1, loss: -0.3441\n",
      "restart: 0, epoch: 393, iter: 1, loss: -0.3448\n",
      "restart: 0, epoch: 394, iter: 1, loss: -0.3453\n",
      "restart: 0, epoch: 395, iter: 1, loss: -0.3460\n",
      "restart: 0, epoch: 396, iter: 1, loss: -0.3466\n",
      "restart: 0, epoch: 397, iter: 1, loss: -0.3475\n",
      "restart: 0, epoch: 398, iter: 1, loss: -0.3478\n",
      "restart: 0, epoch: 399, iter: 1, loss: -0.3483\n",
      "restart: 0, epoch: 400, iter: 1, loss: -0.3486\n",
      "restart: 0, epoch: 401, iter: 1, loss: -0.3492\n",
      "restart: 0, epoch: 402, iter: 1, loss: -0.3497\n",
      "restart: 0, epoch: 403, iter: 1, loss: -0.3509\n",
      "restart: 0, epoch: 404, iter: 1, loss: -0.3512\n",
      "restart: 0, epoch: 405, iter: 1, loss: -0.3514\n",
      "restart: 0, epoch: 406, iter: 1, loss: -0.3520\n",
      "restart: 0, epoch: 407, iter: 1, loss: -0.3527\n",
      "restart: 0, epoch: 408, iter: 1, loss: -0.3527\n",
      "restart: 0, epoch: 409, iter: 1, loss: -0.3533\n",
      "restart: 0, epoch: 410, iter: 1, loss: -0.3535\n",
      "restart: 0, epoch: 411, iter: 1, loss: -0.3539\n",
      "restart: 0, epoch: 412, iter: 1, loss: -0.3543\n",
      "restart: 0, epoch: 413, iter: 1, loss: -0.3550\n",
      "restart: 0, epoch: 414, iter: 1, loss: -0.3556\n",
      "restart: 0, epoch: 415, iter: 1, loss: -0.3562\n",
      "restart: 0, epoch: 416, iter: 1, loss: -0.3569\n",
      "restart: 0, epoch: 417, iter: 1, loss: -0.3573\n",
      "restart: 0, epoch: 418, iter: 1, loss: -0.3579\n",
      "restart: 0, epoch: 419, iter: 1, loss: -0.3587\n",
      "restart: 0, epoch: 420, iter: 1, loss: -0.3586\n",
      "restart: 0, epoch: 421, iter: 1, loss: -0.3588\n",
      "restart: 0, epoch: 422, iter: 1, loss: -0.3591\n",
      "restart: 0, epoch: 423, iter: 1, loss: -0.3596\n",
      "restart: 0, epoch: 424, iter: 1, loss: -0.3602\n",
      "restart: 0, epoch: 425, iter: 1, loss: -0.3607\n",
      "restart: 0, epoch: 426, iter: 1, loss: -0.3610\n",
      "restart: 0, epoch: 427, iter: 1, loss: -0.3614\n",
      "restart: 0, epoch: 428, iter: 1, loss: -0.3620\n",
      "restart: 0, epoch: 429, iter: 1, loss: -0.3623\n",
      "restart: 0, epoch: 430, iter: 1, loss: -0.3627\n",
      "restart: 0, epoch: 431, iter: 1, loss: -0.3632\n",
      "restart: 0, epoch: 432, iter: 1, loss: -0.3636\n",
      "restart: 0, epoch: 433, iter: 1, loss: -0.3640\n",
      "restart: 0, epoch: 434, iter: 1, loss: -0.3644\n",
      "restart: 0, epoch: 435, iter: 1, loss: -0.3651\n",
      "restart: 0, epoch: 436, iter: 1, loss: -0.3656\n",
      "restart: 0, epoch: 437, iter: 1, loss: -0.3657\n",
      "restart: 0, epoch: 438, iter: 1, loss: -0.3660\n",
      "restart: 0, epoch: 439, iter: 1, loss: -0.3664\n",
      "restart: 0, epoch: 440, iter: 1, loss: -0.3668\n",
      "restart: 0, epoch: 441, iter: 1, loss: -0.3673\n",
      "restart: 0, epoch: 442, iter: 1, loss: -0.3680\n",
      "restart: 0, epoch: 443, iter: 1, loss: -0.3684\n",
      "restart: 0, epoch: 444, iter: 1, loss: -0.3686\n",
      "restart: 0, epoch: 445, iter: 1, loss: -0.3690\n",
      "restart: 0, epoch: 446, iter: 1, loss: -0.3694\n",
      "restart: 0, epoch: 447, iter: 1, loss: -0.3700\n",
      "restart: 0, epoch: 448, iter: 1, loss: -0.3709\n",
      "restart: 0, epoch: 449, iter: 1, loss: -0.3713\n",
      "restart: 0, epoch: 450, iter: 1, loss: -0.3717\n",
      "restart: 0, epoch: 451, iter: 1, loss: -0.3721\n",
      "restart: 0, epoch: 452, iter: 1, loss: -0.3727\n",
      "restart: 0, epoch: 453, iter: 1, loss: -0.3734\n",
      "restart: 0, epoch: 454, iter: 1, loss: -0.3740\n",
      "restart: 0, epoch: 455, iter: 1, loss: -0.3747\n",
      "restart: 0, epoch: 456, iter: 1, loss: -0.3754\n",
      "restart: 0, epoch: 457, iter: 1, loss: -0.3760\n",
      "restart: 0, epoch: 458, iter: 1, loss: -0.3767\n",
      "restart: 0, epoch: 459, iter: 1, loss: -0.3775\n",
      "restart: 0, epoch: 460, iter: 1, loss: -0.3782\n",
      "restart: 0, epoch: 461, iter: 1, loss: -0.3790\n",
      "restart: 0, epoch: 462, iter: 1, loss: -0.3797\n",
      "restart: 0, epoch: 463, iter: 1, loss: -0.3803\n",
      "restart: 0, epoch: 464, iter: 1, loss: -0.3808\n",
      "restart: 0, epoch: 465, iter: 1, loss: -0.3814\n",
      "restart: 0, epoch: 466, iter: 1, loss: -0.3819\n",
      "restart: 0, epoch: 467, iter: 1, loss: -0.3826\n",
      "restart: 0, epoch: 468, iter: 1, loss: -0.3833\n",
      "restart: 0, epoch: 469, iter: 1, loss: -0.3840\n",
      "restart: 0, epoch: 470, iter: 1, loss: -0.3847\n",
      "restart: 0, epoch: 471, iter: 1, loss: -0.3854\n",
      "restart: 0, epoch: 472, iter: 1, loss: -0.3861\n",
      "restart: 0, epoch: 473, iter: 1, loss: -0.3866\n",
      "restart: 0, epoch: 474, iter: 1, loss: -0.3873\n",
      "restart: 0, epoch: 475, iter: 1, loss: -0.3879\n",
      "restart: 0, epoch: 476, iter: 1, loss: -0.3885\n",
      "restart: 0, epoch: 477, iter: 1, loss: -0.3891\n",
      "restart: 0, epoch: 478, iter: 1, loss: -0.3897\n",
      "restart: 0, epoch: 479, iter: 1, loss: -0.3902\n",
      "restart: 0, epoch: 480, iter: 1, loss: -0.3908\n",
      "restart: 0, epoch: 481, iter: 1, loss: -0.3914\n",
      "restart: 0, epoch: 482, iter: 1, loss: -0.3919\n",
      "restart: 0, epoch: 483, iter: 1, loss: -0.3926\n",
      "restart: 0, epoch: 484, iter: 1, loss: -0.3930\n",
      "restart: 0, epoch: 485, iter: 1, loss: -0.3936\n",
      "restart: 0, epoch: 486, iter: 1, loss: -0.3942\n",
      "restart: 0, epoch: 487, iter: 1, loss: -0.3947\n",
      "restart: 0, epoch: 488, iter: 1, loss: -0.3952\n",
      "restart: 0, epoch: 489, iter: 1, loss: -0.3958\n",
      "restart: 0, epoch: 490, iter: 1, loss: -0.3963\n",
      "restart: 0, epoch: 491, iter: 1, loss: -0.3968\n",
      "restart: 0, epoch: 492, iter: 1, loss: -0.3974\n",
      "restart: 0, epoch: 493, iter: 1, loss: -0.3978\n",
      "restart: 0, epoch: 494, iter: 1, loss: -0.3984\n",
      "restart: 0, epoch: 495, iter: 1, loss: -0.3989\n",
      "restart: 0, epoch: 496, iter: 1, loss: -0.3994\n",
      "restart: 0, epoch: 497, iter: 1, loss: -0.3999\n",
      "restart: 0, epoch: 498, iter: 1, loss: -0.4004\n",
      "restart: 0, epoch: 499, iter: 1, loss: -0.4009\n",
      "restart: 0, epoch: 500, iter: 1, loss: -0.4015\n",
      "restart: 0, epoch: 501, iter: 1, loss: -0.4020\n",
      "restart: 0, epoch: 502, iter: 1, loss: -0.4025\n",
      "restart: 0, epoch: 503, iter: 1, loss: -0.4031\n",
      "restart: 0, epoch: 504, iter: 1, loss: -0.4036\n",
      "restart: 0, epoch: 505, iter: 1, loss: -0.4042\n",
      "restart: 0, epoch: 506, iter: 1, loss: -0.4048\n",
      "restart: 0, epoch: 507, iter: 1, loss: -0.4054\n",
      "restart: 0, epoch: 508, iter: 1, loss: -0.4060\n",
      "restart: 0, epoch: 509, iter: 1, loss: -0.4066\n",
      "restart: 0, epoch: 510, iter: 1, loss: -0.4072\n",
      "restart: 0, epoch: 511, iter: 1, loss: -0.4079\n",
      "restart: 0, epoch: 512, iter: 1, loss: -0.4084\n",
      "restart: 0, epoch: 513, iter: 1, loss: -0.4091\n",
      "restart: 0, epoch: 514, iter: 1, loss: -0.4097\n",
      "restart: 0, epoch: 515, iter: 1, loss: -0.4102\n",
      "restart: 0, epoch: 516, iter: 1, loss: -0.4109\n",
      "restart: 0, epoch: 517, iter: 1, loss: -0.4114\n",
      "restart: 0, epoch: 518, iter: 1, loss: -0.4119\n",
      "restart: 0, epoch: 519, iter: 1, loss: -0.4125\n",
      "restart: 0, epoch: 520, iter: 1, loss: -0.4130\n",
      "restart: 0, epoch: 521, iter: 1, loss: -0.4134\n",
      "restart: 0, epoch: 522, iter: 1, loss: -0.4139\n",
      "restart: 0, epoch: 523, iter: 1, loss: -0.4144\n",
      "restart: 0, epoch: 524, iter: 1, loss: -0.4148\n",
      "restart: 0, epoch: 525, iter: 1, loss: -0.4153\n",
      "restart: 0, epoch: 526, iter: 1, loss: -0.4156\n",
      "restart: 0, epoch: 527, iter: 1, loss: -0.4160\n",
      "restart: 0, epoch: 528, iter: 1, loss: -0.4164\n",
      "restart: 0, epoch: 529, iter: 1, loss: -0.4168\n",
      "restart: 0, epoch: 530, iter: 1, loss: -0.4171\n",
      "restart: 0, epoch: 531, iter: 1, loss: -0.4175\n",
      "restart: 0, epoch: 532, iter: 1, loss: -0.4178\n",
      "restart: 0, epoch: 533, iter: 1, loss: -0.4182\n",
      "restart: 0, epoch: 534, iter: 1, loss: -0.4185\n",
      "restart: 0, epoch: 535, iter: 1, loss: -0.4189\n",
      "restart: 0, epoch: 536, iter: 1, loss: -0.4191\n",
      "restart: 0, epoch: 537, iter: 1, loss: -0.4195\n",
      "restart: 0, epoch: 538, iter: 1, loss: -0.4198\n",
      "restart: 0, epoch: 539, iter: 1, loss: -0.4201\n",
      "restart: 0, epoch: 540, iter: 1, loss: -0.4204\n",
      "restart: 0, epoch: 541, iter: 1, loss: -0.4207\n",
      "restart: 0, epoch: 542, iter: 1, loss: -0.4210\n",
      "restart: 0, epoch: 543, iter: 1, loss: -0.4212\n",
      "restart: 0, epoch: 544, iter: 1, loss: -0.4214\n",
      "restart: 0, epoch: 545, iter: 1, loss: -0.4217\n",
      "restart: 0, epoch: 546, iter: 1, loss: -0.4219\n",
      "restart: 0, epoch: 547, iter: 1, loss: -0.4222\n",
      "restart: 0, epoch: 548, iter: 1, loss: -0.4224\n",
      "restart: 0, epoch: 549, iter: 1, loss: -0.4227\n",
      "restart: 0, epoch: 550, iter: 1, loss: -0.4228\n",
      "restart: 0, epoch: 551, iter: 1, loss: -0.4230\n",
      "restart: 0, epoch: 552, iter: 1, loss: -0.4232\n",
      "restart: 0, epoch: 553, iter: 1, loss: -0.4234\n",
      "restart: 0, epoch: 554, iter: 1, loss: -0.4236\n",
      "restart: 0, epoch: 555, iter: 1, loss: -0.4238\n",
      "restart: 0, epoch: 556, iter: 1, loss: -0.4239\n",
      "restart: 0, epoch: 557, iter: 1, loss: -0.4241\n",
      "restart: 0, epoch: 558, iter: 1, loss: -0.4243\n",
      "restart: 0, epoch: 559, iter: 1, loss: -0.4244\n",
      "restart: 0, epoch: 560, iter: 1, loss: -0.4246\n",
      "restart: 0, epoch: 561, iter: 1, loss: -0.4247\n",
      "restart: 0, epoch: 562, iter: 1, loss: -0.4249\n",
      "restart: 0, epoch: 563, iter: 1, loss: -0.4251\n",
      "restart: 0, epoch: 564, iter: 1, loss: -0.4252\n",
      "restart: 0, epoch: 565, iter: 1, loss: -0.4254\n",
      "restart: 0, epoch: 566, iter: 1, loss: -0.4256\n",
      "restart: 0, epoch: 567, iter: 1, loss: -0.4257\n",
      "restart: 0, epoch: 568, iter: 1, loss: -0.4259\n",
      "restart: 0, epoch: 569, iter: 1, loss: -0.4261\n",
      "restart: 0, epoch: 570, iter: 1, loss: -0.4262\n",
      "restart: 0, epoch: 571, iter: 1, loss: -0.4264\n",
      "restart: 0, epoch: 572, iter: 1, loss: -0.4266\n",
      "restart: 0, epoch: 573, iter: 1, loss: -0.4268\n",
      "restart: 0, epoch: 574, iter: 1, loss: -0.4270\n",
      "restart: 0, epoch: 575, iter: 1, loss: -0.4271\n",
      "restart: 0, epoch: 576, iter: 1, loss: -0.4273\n",
      "restart: 0, epoch: 577, iter: 1, loss: -0.4275\n",
      "restart: 0, epoch: 578, iter: 1, loss: -0.4278\n",
      "restart: 0, epoch: 579, iter: 1, loss: -0.4280\n",
      "restart: 0, epoch: 580, iter: 1, loss: -0.4282\n",
      "restart: 0, epoch: 581, iter: 1, loss: -0.4284\n",
      "restart: 0, epoch: 582, iter: 1, loss: -0.4286\n",
      "restart: 0, epoch: 583, iter: 1, loss: -0.4288\n",
      "restart: 0, epoch: 584, iter: 1, loss: -0.4290\n",
      "restart: 0, epoch: 585, iter: 1, loss: -0.4292\n",
      "restart: 0, epoch: 586, iter: 1, loss: -0.4293\n",
      "restart: 0, epoch: 587, iter: 1, loss: -0.4295\n",
      "restart: 0, epoch: 588, iter: 1, loss: -0.4297\n",
      "restart: 0, epoch: 589, iter: 1, loss: -0.4299\n",
      "restart: 0, epoch: 590, iter: 1, loss: -0.4300\n",
      "restart: 0, epoch: 591, iter: 1, loss: -0.4302\n",
      "restart: 0, epoch: 592, iter: 1, loss: -0.4304\n",
      "restart: 0, epoch: 593, iter: 1, loss: -0.4306\n",
      "restart: 0, epoch: 594, iter: 1, loss: -0.4307\n",
      "restart: 0, epoch: 595, iter: 1, loss: -0.4309\n",
      "restart: 0, epoch: 596, iter: 1, loss: -0.4311\n",
      "restart: 0, epoch: 597, iter: 1, loss: -0.4312\n",
      "restart: 0, epoch: 598, iter: 1, loss: -0.4314\n",
      "restart: 0, epoch: 599, iter: 1, loss: -0.4315\n",
      "restart: 0, epoch: 600, iter: 1, loss: -0.4317\n",
      "restart: 0, epoch: 601, iter: 1, loss: -0.4319\n",
      "restart: 0, epoch: 602, iter: 1, loss: -0.4320\n",
      "restart: 0, epoch: 603, iter: 1, loss: -0.4322\n",
      "restart: 0, epoch: 604, iter: 1, loss: -0.4324\n",
      "restart: 0, epoch: 605, iter: 1, loss: -0.4325\n",
      "restart: 0, epoch: 606, iter: 1, loss: -0.4327\n",
      "restart: 0, epoch: 607, iter: 1, loss: -0.4329\n",
      "restart: 0, epoch: 608, iter: 1, loss: -0.4331\n",
      "restart: 0, epoch: 609, iter: 1, loss: -0.4333\n",
      "restart: 0, epoch: 610, iter: 1, loss: -0.4335\n",
      "restart: 0, epoch: 611, iter: 1, loss: -0.4337\n",
      "restart: 0, epoch: 612, iter: 1, loss: -0.4339\n",
      "restart: 0, epoch: 613, iter: 1, loss: -0.4340\n",
      "restart: 0, epoch: 614, iter: 1, loss: -0.4342\n",
      "restart: 0, epoch: 615, iter: 1, loss: -0.4344\n",
      "restart: 0, epoch: 616, iter: 1, loss: -0.4346\n",
      "restart: 0, epoch: 617, iter: 1, loss: -0.4348\n",
      "restart: 0, epoch: 618, iter: 1, loss: -0.4350\n",
      "restart: 0, epoch: 619, iter: 1, loss: -0.4353\n",
      "restart: 0, epoch: 620, iter: 1, loss: -0.4354\n",
      "restart: 0, epoch: 621, iter: 1, loss: -0.4357\n",
      "restart: 0, epoch: 622, iter: 1, loss: -0.4359\n",
      "restart: 0, epoch: 623, iter: 1, loss: -0.4362\n",
      "restart: 0, epoch: 624, iter: 1, loss: -0.4364\n",
      "restart: 0, epoch: 625, iter: 1, loss: -0.4366\n",
      "restart: 0, epoch: 626, iter: 1, loss: -0.4369\n",
      "restart: 0, epoch: 627, iter: 1, loss: -0.4371\n",
      "restart: 0, epoch: 628, iter: 1, loss: -0.4374\n",
      "restart: 0, epoch: 629, iter: 1, loss: -0.4376\n",
      "restart: 0, epoch: 630, iter: 1, loss: -0.4379\n",
      "restart: 0, epoch: 631, iter: 1, loss: -0.4382\n",
      "restart: 0, epoch: 632, iter: 1, loss: -0.4385\n",
      "restart: 0, epoch: 633, iter: 1, loss: -0.4388\n",
      "restart: 0, epoch: 634, iter: 1, loss: -0.4391\n",
      "restart: 0, epoch: 635, iter: 1, loss: -0.4394\n",
      "restart: 0, epoch: 636, iter: 1, loss: -0.4398\n",
      "restart: 0, epoch: 637, iter: 1, loss: -0.4401\n",
      "restart: 0, epoch: 638, iter: 1, loss: -0.4404\n",
      "restart: 0, epoch: 639, iter: 1, loss: -0.4408\n",
      "restart: 0, epoch: 640, iter: 1, loss: -0.4411\n",
      "restart: 0, epoch: 641, iter: 1, loss: -0.4415\n",
      "restart: 0, epoch: 642, iter: 1, loss: -0.4418\n",
      "restart: 0, epoch: 643, iter: 1, loss: -0.4422\n",
      "restart: 0, epoch: 644, iter: 1, loss: -0.4426\n",
      "restart: 0, epoch: 645, iter: 1, loss: -0.4430\n",
      "restart: 0, epoch: 646, iter: 1, loss: -0.4434\n",
      "restart: 0, epoch: 647, iter: 1, loss: -0.4437\n",
      "restart: 0, epoch: 648, iter: 1, loss: -0.4441\n",
      "restart: 0, epoch: 649, iter: 1, loss: -0.4445\n",
      "restart: 0, epoch: 650, iter: 1, loss: -0.4449\n",
      "restart: 0, epoch: 651, iter: 1, loss: -0.4453\n",
      "restart: 0, epoch: 652, iter: 1, loss: -0.4456\n",
      "restart: 0, epoch: 653, iter: 1, loss: -0.4459\n",
      "restart: 0, epoch: 654, iter: 1, loss: -0.4462\n",
      "restart: 0, epoch: 655, iter: 1, loss: -0.4466\n",
      "restart: 0, epoch: 656, iter: 1, loss: -0.4469\n",
      "restart: 0, epoch: 657, iter: 1, loss: -0.4472\n",
      "restart: 0, epoch: 658, iter: 1, loss: -0.4475\n",
      "restart: 0, epoch: 659, iter: 1, loss: -0.4477\n",
      "restart: 0, epoch: 660, iter: 1, loss: -0.4480\n",
      "restart: 0, epoch: 661, iter: 1, loss: -0.4483\n",
      "restart: 0, epoch: 662, iter: 1, loss: -0.4485\n",
      "restart: 0, epoch: 663, iter: 1, loss: -0.4488\n",
      "restart: 0, epoch: 664, iter: 1, loss: -0.4490\n",
      "restart: 0, epoch: 665, iter: 1, loss: -0.4492\n",
      "restart: 0, epoch: 666, iter: 1, loss: -0.4495\n",
      "restart: 0, epoch: 667, iter: 1, loss: -0.4497\n",
      "restart: 0, epoch: 668, iter: 1, loss: -0.4499\n",
      "restart: 0, epoch: 669, iter: 1, loss: -0.4502\n",
      "restart: 0, epoch: 670, iter: 1, loss: -0.4504\n",
      "restart: 0, epoch: 671, iter: 1, loss: -0.4507\n",
      "restart: 0, epoch: 672, iter: 1, loss: -0.4509\n",
      "restart: 0, epoch: 673, iter: 1, loss: -0.4511\n",
      "restart: 0, epoch: 674, iter: 1, loss: -0.4514\n",
      "restart: 0, epoch: 675, iter: 1, loss: -0.4516\n",
      "restart: 0, epoch: 676, iter: 1, loss: -0.4519\n",
      "restart: 0, epoch: 677, iter: 1, loss: -0.4521\n",
      "restart: 0, epoch: 678, iter: 1, loss: -0.4524\n",
      "restart: 0, epoch: 679, iter: 1, loss: -0.4527\n",
      "restart: 0, epoch: 680, iter: 1, loss: -0.4530\n",
      "restart: 0, epoch: 681, iter: 1, loss: -0.4532\n",
      "restart: 0, epoch: 682, iter: 1, loss: -0.4535\n",
      "restart: 0, epoch: 683, iter: 1, loss: -0.4538\n",
      "restart: 0, epoch: 684, iter: 1, loss: -0.4541\n",
      "restart: 0, epoch: 685, iter: 1, loss: -0.4543\n",
      "restart: 0, epoch: 686, iter: 1, loss: -0.4546\n",
      "restart: 0, epoch: 687, iter: 1, loss: -0.4549\n",
      "restart: 0, epoch: 688, iter: 1, loss: -0.4551\n",
      "restart: 0, epoch: 689, iter: 1, loss: -0.4554\n",
      "restart: 0, epoch: 690, iter: 1, loss: -0.4557\n",
      "restart: 0, epoch: 691, iter: 1, loss: -0.4559\n",
      "restart: 0, epoch: 692, iter: 1, loss: -0.4561\n",
      "restart: 0, epoch: 693, iter: 1, loss: -0.4564\n",
      "restart: 0, epoch: 694, iter: 1, loss: -0.4566\n",
      "restart: 0, epoch: 695, iter: 1, loss: -0.4569\n",
      "restart: 0, epoch: 696, iter: 1, loss: -0.4571\n",
      "restart: 0, epoch: 697, iter: 1, loss: -0.4574\n",
      "restart: 0, epoch: 698, iter: 1, loss: -0.4576\n",
      "restart: 0, epoch: 699, iter: 1, loss: -0.4579\n",
      "restart: 0, epoch: 700, iter: 1, loss: -0.4582\n",
      "restart: 0, epoch: 701, iter: 1, loss: -0.4584\n",
      "restart: 0, epoch: 702, iter: 1, loss: -0.4587\n",
      "restart: 0, epoch: 703, iter: 1, loss: -0.4590\n",
      "restart: 0, epoch: 704, iter: 1, loss: -0.4592\n",
      "restart: 0, epoch: 705, iter: 1, loss: -0.4595\n",
      "restart: 0, epoch: 706, iter: 1, loss: -0.4598\n",
      "restart: 0, epoch: 707, iter: 1, loss: -0.4601\n",
      "restart: 0, epoch: 708, iter: 1, loss: -0.4603\n",
      "restart: 0, epoch: 709, iter: 1, loss: -0.4606\n",
      "restart: 0, epoch: 710, iter: 1, loss: -0.4609\n",
      "restart: 0, epoch: 711, iter: 1, loss: -0.4612\n",
      "restart: 0, epoch: 712, iter: 1, loss: -0.4615\n",
      "restart: 0, epoch: 713, iter: 1, loss: -0.4618\n",
      "restart: 0, epoch: 714, iter: 1, loss: -0.4621\n",
      "restart: 0, epoch: 715, iter: 1, loss: -0.4623\n",
      "restart: 0, epoch: 716, iter: 1, loss: -0.4627\n",
      "restart: 0, epoch: 717, iter: 1, loss: -0.4630\n",
      "restart: 0, epoch: 718, iter: 1, loss: -0.4633\n",
      "restart: 0, epoch: 719, iter: 1, loss: -0.4637\n",
      "restart: 0, epoch: 720, iter: 1, loss: -0.4640\n",
      "restart: 0, epoch: 721, iter: 1, loss: -0.4644\n",
      "restart: 0, epoch: 722, iter: 1, loss: -0.4648\n",
      "restart: 0, epoch: 723, iter: 1, loss: -0.4651\n",
      "restart: 0, epoch: 724, iter: 1, loss: -0.4655\n",
      "restart: 0, epoch: 725, iter: 1, loss: -0.4660\n",
      "restart: 0, epoch: 726, iter: 1, loss: -0.4664\n",
      "restart: 0, epoch: 727, iter: 1, loss: -0.4668\n",
      "restart: 0, epoch: 728, iter: 1, loss: -0.4672\n",
      "restart: 0, epoch: 729, iter: 1, loss: -0.4676\n",
      "restart: 0, epoch: 730, iter: 1, loss: -0.4681\n",
      "restart: 0, epoch: 731, iter: 1, loss: -0.4685\n",
      "restart: 0, epoch: 732, iter: 1, loss: -0.4688\n",
      "restart: 0, epoch: 733, iter: 1, loss: -0.4692\n",
      "restart: 0, epoch: 734, iter: 1, loss: -0.4695\n",
      "restart: 0, epoch: 735, iter: 1, loss: -0.4699\n",
      "restart: 0, epoch: 736, iter: 1, loss: -0.4702\n",
      "restart: 0, epoch: 737, iter: 1, loss: -0.4706\n",
      "restart: 0, epoch: 738, iter: 1, loss: -0.4708\n",
      "restart: 0, epoch: 739, iter: 1, loss: -0.4711\n",
      "restart: 0, epoch: 740, iter: 1, loss: -0.4714\n",
      "restart: 0, epoch: 741, iter: 1, loss: -0.4717\n",
      "restart: 0, epoch: 742, iter: 1, loss: -0.4719\n",
      "restart: 0, epoch: 743, iter: 1, loss: -0.4722\n",
      "restart: 0, epoch: 744, iter: 1, loss: -0.4724\n",
      "restart: 0, epoch: 745, iter: 1, loss: -0.4727\n",
      "restart: 0, epoch: 746, iter: 1, loss: -0.4730\n",
      "restart: 0, epoch: 747, iter: 1, loss: -0.4732\n",
      "restart: 0, epoch: 748, iter: 1, loss: -0.4735\n",
      "restart: 0, epoch: 749, iter: 1, loss: -0.4737\n",
      "restart: 0, epoch: 750, iter: 1, loss: -0.4739\n",
      "restart: 0, epoch: 751, iter: 1, loss: -0.4741\n",
      "restart: 0, epoch: 752, iter: 1, loss: -0.4744\n",
      "restart: 0, epoch: 753, iter: 1, loss: -0.4746\n",
      "restart: 0, epoch: 754, iter: 1, loss: -0.4749\n",
      "restart: 0, epoch: 755, iter: 1, loss: -0.4751\n",
      "restart: 0, epoch: 756, iter: 1, loss: -0.4753\n",
      "restart: 0, epoch: 757, iter: 1, loss: -0.4755\n",
      "restart: 0, epoch: 758, iter: 1, loss: -0.4757\n",
      "restart: 0, epoch: 759, iter: 1, loss: -0.4759\n",
      "restart: 0, epoch: 760, iter: 1, loss: -0.4761\n",
      "restart: 0, epoch: 761, iter: 1, loss: -0.4763\n",
      "restart: 0, epoch: 762, iter: 1, loss: -0.4765\n",
      "restart: 0, epoch: 763, iter: 1, loss: -0.4767\n",
      "restart: 0, epoch: 764, iter: 1, loss: -0.4769\n",
      "restart: 0, epoch: 765, iter: 1, loss: -0.4770\n",
      "restart: 0, epoch: 766, iter: 1, loss: -0.4772\n",
      "restart: 0, epoch: 767, iter: 1, loss: -0.4775\n",
      "restart: 0, epoch: 768, iter: 1, loss: -0.4776\n",
      "restart: 0, epoch: 769, iter: 1, loss: -0.4779\n",
      "restart: 0, epoch: 770, iter: 1, loss: -0.4780\n",
      "restart: 0, epoch: 771, iter: 1, loss: -0.4782\n",
      "restart: 0, epoch: 772, iter: 1, loss: -0.4784\n",
      "restart: 0, epoch: 773, iter: 1, loss: -0.4786\n",
      "restart: 0, epoch: 774, iter: 1, loss: -0.4788\n",
      "restart: 0, epoch: 775, iter: 1, loss: -0.4790\n",
      "restart: 0, epoch: 776, iter: 1, loss: -0.4792\n",
      "restart: 0, epoch: 777, iter: 1, loss: -0.4794\n",
      "restart: 0, epoch: 778, iter: 1, loss: -0.4796\n",
      "restart: 0, epoch: 779, iter: 1, loss: -0.4798\n",
      "restart: 0, epoch: 780, iter: 1, loss: -0.4800\n",
      "restart: 0, epoch: 781, iter: 1, loss: -0.4801\n",
      "restart: 0, epoch: 782, iter: 1, loss: -0.4803\n",
      "restart: 0, epoch: 783, iter: 1, loss: -0.4805\n",
      "restart: 0, epoch: 784, iter: 1, loss: -0.4809\n",
      "restart: 0, epoch: 785, iter: 1, loss: -0.4811\n",
      "restart: 0, epoch: 786, iter: 1, loss: -0.4812\n",
      "restart: 0, epoch: 787, iter: 1, loss: -0.4815\n",
      "restart: 0, epoch: 788, iter: 1, loss: -0.4819\n",
      "restart: 0, epoch: 789, iter: 1, loss: -0.4820\n",
      "restart: 0, epoch: 790, iter: 1, loss: -0.4823\n",
      "restart: 0, epoch: 791, iter: 1, loss: -0.4826\n",
      "restart: 0, epoch: 792, iter: 1, loss: -0.4828\n",
      "restart: 0, epoch: 793, iter: 1, loss: -0.4830\n",
      "restart: 0, epoch: 794, iter: 1, loss: -0.4833\n",
      "restart: 0, epoch: 795, iter: 1, loss: -0.4835\n",
      "restart: 0, epoch: 796, iter: 1, loss: -0.4838\n",
      "restart: 0, epoch: 797, iter: 1, loss: -0.4840\n",
      "restart: 0, epoch: 798, iter: 1, loss: -0.4842\n",
      "restart: 0, epoch: 799, iter: 1, loss: -0.4844\n",
      "restart: 0, epoch: 800, iter: 1, loss: -0.4847\n",
      "restart: 0, epoch: 801, iter: 1, loss: -0.4849\n",
      "restart: 0, epoch: 802, iter: 1, loss: -0.4851\n",
      "restart: 0, epoch: 803, iter: 1, loss: -0.4853\n",
      "restart: 0, epoch: 804, iter: 1, loss: -0.4855\n",
      "restart: 0, epoch: 805, iter: 1, loss: -0.4857\n",
      "restart: 0, epoch: 806, iter: 1, loss: -0.4859\n",
      "restart: 0, epoch: 807, iter: 1, loss: -0.4862\n",
      "restart: 0, epoch: 808, iter: 1, loss: -0.4864\n",
      "restart: 0, epoch: 809, iter: 1, loss: -0.4866\n",
      "restart: 0, epoch: 810, iter: 1, loss: -0.4868\n",
      "restart: 0, epoch: 811, iter: 1, loss: -0.4870\n",
      "restart: 0, epoch: 812, iter: 1, loss: -0.4872\n",
      "restart: 0, epoch: 813, iter: 1, loss: -0.4874\n",
      "restart: 0, epoch: 814, iter: 1, loss: -0.4876\n",
      "restart: 0, epoch: 815, iter: 1, loss: -0.4878\n",
      "restart: 0, epoch: 816, iter: 1, loss: -0.4880\n",
      "restart: 0, epoch: 817, iter: 1, loss: -0.4882\n",
      "restart: 0, epoch: 818, iter: 1, loss: -0.4884\n",
      "restart: 0, epoch: 819, iter: 1, loss: -0.4886\n",
      "restart: 0, epoch: 820, iter: 1, loss: -0.4888\n",
      "restart: 0, epoch: 821, iter: 1, loss: -0.4891\n",
      "restart: 0, epoch: 822, iter: 1, loss: -0.4893\n",
      "restart: 0, epoch: 823, iter: 1, loss: -0.4895\n",
      "restart: 0, epoch: 824, iter: 1, loss: -0.4898\n",
      "restart: 0, epoch: 825, iter: 1, loss: -0.4900\n",
      "restart: 0, epoch: 826, iter: 1, loss: -0.4902\n",
      "restart: 0, epoch: 827, iter: 1, loss: -0.4905\n",
      "restart: 0, epoch: 828, iter: 1, loss: -0.4907\n",
      "restart: 0, epoch: 829, iter: 1, loss: -0.4909\n",
      "restart: 0, epoch: 830, iter: 1, loss: -0.4912\n",
      "restart: 0, epoch: 831, iter: 1, loss: -0.4914\n",
      "restart: 0, epoch: 832, iter: 1, loss: -0.4916\n",
      "restart: 0, epoch: 833, iter: 1, loss: -0.4920\n",
      "restart: 0, epoch: 834, iter: 1, loss: -0.4923\n",
      "restart: 0, epoch: 835, iter: 1, loss: -0.4926\n",
      "restart: 0, epoch: 836, iter: 1, loss: -0.4929\n",
      "restart: 0, epoch: 837, iter: 1, loss: -0.4933\n",
      "restart: 0, epoch: 838, iter: 1, loss: -0.4936\n",
      "restart: 0, epoch: 839, iter: 1, loss: -0.4940\n",
      "restart: 0, epoch: 840, iter: 1, loss: -0.4943\n",
      "restart: 0, epoch: 841, iter: 1, loss: -0.4947\n",
      "restart: 0, epoch: 842, iter: 1, loss: -0.4951\n",
      "restart: 0, epoch: 843, iter: 1, loss: -0.4956\n",
      "restart: 0, epoch: 844, iter: 1, loss: -0.4960\n",
      "restart: 0, epoch: 845, iter: 1, loss: -0.4964\n",
      "restart: 0, epoch: 846, iter: 1, loss: -0.4969\n",
      "restart: 0, epoch: 847, iter: 1, loss: -0.4974\n",
      "restart: 0, epoch: 848, iter: 1, loss: -0.4979\n",
      "restart: 0, epoch: 849, iter: 1, loss: -0.4985\n",
      "restart: 0, epoch: 850, iter: 1, loss: -0.4990\n",
      "restart: 0, epoch: 851, iter: 1, loss: -0.4996\n",
      "restart: 0, epoch: 852, iter: 1, loss: -0.5002\n",
      "restart: 0, epoch: 853, iter: 1, loss: -0.5009\n",
      "restart: 0, epoch: 854, iter: 1, loss: -0.5015\n",
      "restart: 0, epoch: 855, iter: 1, loss: -0.5022\n",
      "restart: 0, epoch: 856, iter: 1, loss: -0.5029\n",
      "restart: 0, epoch: 857, iter: 1, loss: -0.5036\n",
      "restart: 0, epoch: 858, iter: 1, loss: -0.5043\n",
      "restart: 0, epoch: 859, iter: 1, loss: -0.5051\n",
      "restart: 0, epoch: 860, iter: 1, loss: -0.5058\n",
      "restart: 0, epoch: 861, iter: 1, loss: -0.5065\n",
      "restart: 0, epoch: 862, iter: 1, loss: -0.5073\n",
      "restart: 0, epoch: 863, iter: 1, loss: -0.5080\n",
      "restart: 0, epoch: 864, iter: 1, loss: -0.5088\n",
      "restart: 0, epoch: 865, iter: 1, loss: -0.5095\n",
      "restart: 0, epoch: 866, iter: 1, loss: -0.5103\n",
      "restart: 0, epoch: 867, iter: 1, loss: -0.5111\n",
      "restart: 0, epoch: 868, iter: 1, loss: -0.5120\n",
      "restart: 0, epoch: 869, iter: 1, loss: -0.5128\n",
      "restart: 0, epoch: 870, iter: 1, loss: -0.5137\n",
      "restart: 0, epoch: 871, iter: 1, loss: -0.5146\n",
      "restart: 0, epoch: 872, iter: 1, loss: -0.5156\n",
      "restart: 0, epoch: 873, iter: 1, loss: -0.5166\n",
      "restart: 0, epoch: 874, iter: 1, loss: -0.5176\n",
      "restart: 0, epoch: 875, iter: 1, loss: -0.5187\n",
      "restart: 0, epoch: 876, iter: 1, loss: -0.5197\n",
      "restart: 0, epoch: 877, iter: 1, loss: -0.5209\n",
      "restart: 0, epoch: 878, iter: 1, loss: -0.5220\n",
      "restart: 0, epoch: 879, iter: 1, loss: -0.5232\n",
      "restart: 0, epoch: 880, iter: 1, loss: -0.5244\n",
      "restart: 0, epoch: 881, iter: 1, loss: -0.5256\n",
      "restart: 0, epoch: 882, iter: 1, loss: -0.5269\n",
      "restart: 0, epoch: 883, iter: 1, loss: -0.5283\n",
      "restart: 0, epoch: 884, iter: 1, loss: -0.5298\n",
      "restart: 0, epoch: 885, iter: 1, loss: -0.5312\n",
      "restart: 0, epoch: 886, iter: 1, loss: -0.5327\n",
      "restart: 0, epoch: 887, iter: 1, loss: -0.5343\n",
      "restart: 0, epoch: 888, iter: 1, loss: -0.5359\n",
      "restart: 0, epoch: 889, iter: 1, loss: -0.5375\n",
      "restart: 0, epoch: 890, iter: 1, loss: -0.5393\n",
      "restart: 0, epoch: 891, iter: 1, loss: -0.5411\n",
      "restart: 0, epoch: 892, iter: 1, loss: -0.5430\n",
      "restart: 0, epoch: 893, iter: 1, loss: -0.5449\n",
      "restart: 0, epoch: 894, iter: 1, loss: -0.5470\n",
      "restart: 0, epoch: 895, iter: 1, loss: -0.5490\n",
      "restart: 0, epoch: 896, iter: 1, loss: -0.5511\n",
      "restart: 0, epoch: 897, iter: 1, loss: -0.5533\n",
      "restart: 0, epoch: 898, iter: 1, loss: -0.5556\n",
      "restart: 0, epoch: 899, iter: 1, loss: -0.5579\n",
      "restart: 0, epoch: 900, iter: 1, loss: -0.5603\n",
      "restart: 0, epoch: 901, iter: 1, loss: -0.5626\n",
      "restart: 0, epoch: 902, iter: 1, loss: -0.5651\n",
      "restart: 0, epoch: 903, iter: 1, loss: -0.5675\n",
      "restart: 0, epoch: 904, iter: 1, loss: -0.5699\n",
      "restart: 0, epoch: 905, iter: 1, loss: -0.5723\n",
      "restart: 0, epoch: 906, iter: 1, loss: -0.5746\n",
      "restart: 0, epoch: 907, iter: 1, loss: -0.5770\n",
      "restart: 0, epoch: 908, iter: 1, loss: -0.5793\n",
      "restart: 0, epoch: 909, iter: 1, loss: -0.5816\n",
      "restart: 0, epoch: 910, iter: 1, loss: -0.5839\n",
      "restart: 0, epoch: 911, iter: 1, loss: -0.5861\n",
      "restart: 0, epoch: 912, iter: 1, loss: -0.5881\n",
      "restart: 0, epoch: 913, iter: 1, loss: -0.5901\n",
      "restart: 0, epoch: 914, iter: 1, loss: -0.5919\n",
      "restart: 0, epoch: 915, iter: 1, loss: -0.5938\n",
      "restart: 0, epoch: 916, iter: 1, loss: -0.5956\n",
      "restart: 0, epoch: 917, iter: 1, loss: -0.5973\n",
      "restart: 0, epoch: 918, iter: 1, loss: -0.5989\n",
      "restart: 0, epoch: 919, iter: 1, loss: -0.6004\n",
      "restart: 0, epoch: 920, iter: 1, loss: -0.6019\n",
      "restart: 0, epoch: 921, iter: 1, loss: -0.6033\n",
      "restart: 0, epoch: 922, iter: 1, loss: -0.6047\n",
      "restart: 0, epoch: 923, iter: 1, loss: -0.6061\n",
      "restart: 0, epoch: 924, iter: 1, loss: -0.6077\n",
      "restart: 0, epoch: 925, iter: 1, loss: -0.6091\n",
      "restart: 0, epoch: 926, iter: 1, loss: -0.6102\n",
      "restart: 0, epoch: 927, iter: 1, loss: -0.6114\n",
      "restart: 0, epoch: 928, iter: 1, loss: -0.6126\n",
      "restart: 0, epoch: 929, iter: 1, loss: -0.6138\n",
      "restart: 0, epoch: 930, iter: 1, loss: -0.6151\n",
      "restart: 0, epoch: 931, iter: 1, loss: -0.6161\n",
      "restart: 0, epoch: 932, iter: 1, loss: -0.6172\n",
      "restart: 0, epoch: 933, iter: 1, loss: -0.6183\n",
      "restart: 0, epoch: 934, iter: 1, loss: -0.6194\n",
      "restart: 0, epoch: 935, iter: 1, loss: -0.6204\n",
      "restart: 0, epoch: 936, iter: 1, loss: -0.6213\n",
      "restart: 0, epoch: 937, iter: 1, loss: -0.6222\n",
      "restart: 0, epoch: 938, iter: 1, loss: -0.6232\n",
      "restart: 0, epoch: 939, iter: 1, loss: -0.6241\n",
      "restart: 0, epoch: 940, iter: 1, loss: -0.6249\n",
      "restart: 0, epoch: 941, iter: 1, loss: -0.6257\n",
      "restart: 0, epoch: 942, iter: 1, loss: -0.6266\n",
      "restart: 0, epoch: 943, iter: 1, loss: -0.6274\n",
      "restart: 0, epoch: 944, iter: 1, loss: -0.6282\n",
      "restart: 0, epoch: 945, iter: 1, loss: -0.6289\n",
      "restart: 0, epoch: 946, iter: 1, loss: -0.6297\n",
      "restart: 0, epoch: 947, iter: 1, loss: -0.6305\n",
      "restart: 0, epoch: 948, iter: 1, loss: -0.6312\n",
      "restart: 0, epoch: 949, iter: 1, loss: -0.6319\n",
      "restart: 0, epoch: 950, iter: 1, loss: -0.6326\n",
      "restart: 0, epoch: 951, iter: 1, loss: -0.6333\n",
      "restart: 0, epoch: 952, iter: 1, loss: -0.6339\n",
      "restart: 0, epoch: 953, iter: 1, loss: -0.6346\n",
      "restart: 0, epoch: 954, iter: 1, loss: -0.6353\n",
      "restart: 0, epoch: 955, iter: 1, loss: -0.6359\n",
      "restart: 0, epoch: 956, iter: 1, loss: -0.6366\n",
      "restart: 0, epoch: 957, iter: 1, loss: -0.6372\n",
      "restart: 0, epoch: 958, iter: 1, loss: -0.6379\n",
      "restart: 0, epoch: 959, iter: 1, loss: -0.6385\n",
      "restart: 0, epoch: 960, iter: 1, loss: -0.6391\n",
      "restart: 0, epoch: 961, iter: 1, loss: -0.6397\n",
      "restart: 0, epoch: 962, iter: 1, loss: -0.6403\n",
      "restart: 0, epoch: 963, iter: 1, loss: -0.6409\n",
      "restart: 0, epoch: 964, iter: 1, loss: -0.6414\n",
      "restart: 0, epoch: 965, iter: 1, loss: -0.6420\n",
      "restart: 0, epoch: 966, iter: 1, loss: -0.6425\n",
      "restart: 0, epoch: 967, iter: 1, loss: -0.6431\n",
      "restart: 0, epoch: 968, iter: 1, loss: -0.6436\n",
      "restart: 0, epoch: 969, iter: 1, loss: -0.6441\n",
      "restart: 0, epoch: 970, iter: 1, loss: -0.6446\n",
      "restart: 0, epoch: 971, iter: 1, loss: -0.6451\n",
      "restart: 0, epoch: 972, iter: 1, loss: -0.6455\n",
      "restart: 0, epoch: 973, iter: 1, loss: -0.6460\n",
      "restart: 0, epoch: 974, iter: 1, loss: -0.6464\n",
      "restart: 0, epoch: 975, iter: 1, loss: -0.6469\n",
      "restart: 0, epoch: 976, iter: 1, loss: -0.6473\n",
      "restart: 0, epoch: 977, iter: 1, loss: -0.6477\n",
      "restart: 0, epoch: 978, iter: 1, loss: -0.6481\n",
      "restart: 0, epoch: 979, iter: 1, loss: -0.6485\n",
      "restart: 0, epoch: 980, iter: 1, loss: -0.6489\n",
      "restart: 0, epoch: 981, iter: 1, loss: -0.6493\n",
      "restart: 0, epoch: 982, iter: 1, loss: -0.6497\n",
      "restart: 0, epoch: 983, iter: 1, loss: -0.6501\n",
      "restart: 0, epoch: 984, iter: 1, loss: -0.6504\n",
      "restart: 0, epoch: 985, iter: 1, loss: -0.6508\n",
      "restart: 0, epoch: 986, iter: 1, loss: -0.6511\n",
      "restart: 0, epoch: 987, iter: 1, loss: -0.6514\n",
      "restart: 0, epoch: 988, iter: 1, loss: -0.6517\n",
      "restart: 0, epoch: 989, iter: 1, loss: -0.6520\n",
      "restart: 0, epoch: 990, iter: 1, loss: -0.6523\n",
      "restart: 0, epoch: 991, iter: 1, loss: -0.6526\n",
      "restart: 0, epoch: 992, iter: 1, loss: -0.6529\n",
      "restart: 0, epoch: 993, iter: 1, loss: -0.6531\n",
      "restart: 0, epoch: 994, iter: 1, loss: -0.6534\n",
      "restart: 0, epoch: 995, iter: 1, loss: -0.6536\n",
      "restart: 0, epoch: 996, iter: 1, loss: -0.6538\n",
      "restart: 0, epoch: 997, iter: 1, loss: -0.6541\n",
      "restart: 0, epoch: 998, iter: 1, loss: -0.6543\n",
      "restart: 0, epoch: 999, iter: 1, loss: -0.6545\n",
      "restart: 0, epoch: 1000, iter: 1, loss: -0.6547\n",
      "restart: 0, epoch: 1001, iter: 1, loss: -0.6550\n",
      "restart: 0, epoch: 1002, iter: 1, loss: -0.6552\n",
      "restart: 0, epoch: 1003, iter: 1, loss: -0.6554\n",
      "restart: 0, epoch: 1004, iter: 1, loss: -0.6555\n",
      "restart: 0, epoch: 1005, iter: 1, loss: -0.6557\n",
      "restart: 0, epoch: 1006, iter: 1, loss: -0.6559\n",
      "restart: 0, epoch: 1007, iter: 1, loss: -0.6561\n",
      "restart: 0, epoch: 1008, iter: 1, loss: -0.6563\n",
      "restart: 0, epoch: 1009, iter: 1, loss: -0.6565\n",
      "restart: 0, epoch: 1010, iter: 1, loss: -0.6566\n",
      "restart: 0, epoch: 1011, iter: 1, loss: -0.6569\n",
      "restart: 0, epoch: 1012, iter: 1, loss: -0.6570\n",
      "restart: 0, epoch: 1013, iter: 1, loss: -0.6571\n",
      "restart: 0, epoch: 1014, iter: 1, loss: -0.6573\n",
      "restart: 0, epoch: 1015, iter: 1, loss: -0.6575\n",
      "restart: 0, epoch: 1016, iter: 1, loss: -0.6576\n",
      "restart: 0, epoch: 1017, iter: 1, loss: -0.6578\n",
      "restart: 0, epoch: 1018, iter: 1, loss: -0.6580\n",
      "restart: 0, epoch: 1019, iter: 1, loss: -0.6581\n",
      "restart: 0, epoch: 1020, iter: 1, loss: -0.6582\n",
      "restart: 0, epoch: 1021, iter: 1, loss: -0.6584\n",
      "restart: 0, epoch: 1022, iter: 1, loss: -0.6585\n",
      "restart: 0, epoch: 1023, iter: 1, loss: -0.6586\n",
      "restart: 0, epoch: 1024, iter: 1, loss: -0.6587\n",
      "restart: 0, epoch: 1025, iter: 1, loss: -0.6589\n",
      "restart: 0, epoch: 1026, iter: 1, loss: -0.6590\n",
      "restart: 0, epoch: 1027, iter: 1, loss: -0.6591\n",
      "restart: 0, epoch: 1028, iter: 1, loss: -0.6593\n",
      "restart: 0, epoch: 1029, iter: 1, loss: -0.6594\n",
      "restart: 0, epoch: 1030, iter: 1, loss: -0.6595\n",
      "restart: 0, epoch: 1031, iter: 1, loss: -0.6596\n",
      "restart: 0, epoch: 1032, iter: 1, loss: -0.6597\n",
      "restart: 0, epoch: 1033, iter: 1, loss: -0.6599\n",
      "restart: 0, epoch: 1034, iter: 1, loss: -0.6600\n",
      "restart: 0, epoch: 1035, iter: 1, loss: -0.6601\n",
      "restart: 0, epoch: 1036, iter: 1, loss: -0.6602\n",
      "restart: 0, epoch: 1037, iter: 1, loss: -0.6603\n",
      "restart: 0, epoch: 1038, iter: 1, loss: -0.6605\n",
      "restart: 0, epoch: 1039, iter: 1, loss: -0.6606\n",
      "restart: 0, epoch: 1040, iter: 1, loss: -0.6606\n",
      "restart: 0, epoch: 1041, iter: 1, loss: -0.6608\n",
      "restart: 0, epoch: 1042, iter: 1, loss: -0.6609\n",
      "restart: 0, epoch: 1043, iter: 1, loss: -0.6611\n",
      "restart: 0, epoch: 1044, iter: 1, loss: -0.6612\n",
      "restart: 0, epoch: 1045, iter: 1, loss: -0.6613\n",
      "restart: 0, epoch: 1046, iter: 1, loss: -0.6614\n",
      "restart: 0, epoch: 1047, iter: 1, loss: -0.6615\n",
      "restart: 0, epoch: 1048, iter: 1, loss: -0.6616\n",
      "restart: 0, epoch: 1049, iter: 1, loss: -0.6618\n",
      "restart: 0, epoch: 1050, iter: 1, loss: -0.6619\n",
      "restart: 0, epoch: 1051, iter: 1, loss: -0.6620\n",
      "restart: 0, epoch: 1052, iter: 1, loss: -0.6621\n",
      "restart: 0, epoch: 1053, iter: 1, loss: -0.6622\n",
      "restart: 0, epoch: 1054, iter: 1, loss: -0.6622\n",
      "restart: 0, epoch: 1055, iter: 1, loss: -0.6623\n",
      "restart: 0, epoch: 1056, iter: 1, loss: -0.6624\n",
      "restart: 0, epoch: 1057, iter: 1, loss: -0.6625\n",
      "restart: 0, epoch: 1058, iter: 1, loss: -0.6626\n",
      "restart: 0, epoch: 1059, iter: 1, loss: -0.6628\n",
      "restart: 0, epoch: 1060, iter: 1, loss: -0.6629\n",
      "restart: 0, epoch: 1061, iter: 1, loss: -0.6629\n",
      "restart: 0, epoch: 1062, iter: 1, loss: -0.6630\n",
      "restart: 0, epoch: 1063, iter: 1, loss: -0.6631\n",
      "restart: 0, epoch: 1064, iter: 1, loss: -0.6632\n",
      "restart: 0, epoch: 1065, iter: 1, loss: -0.6633\n",
      "restart: 0, epoch: 1066, iter: 1, loss: -0.6634\n",
      "restart: 0, epoch: 1067, iter: 1, loss: -0.6634\n",
      "restart: 0, epoch: 1068, iter: 1, loss: -0.6635\n",
      "restart: 0, epoch: 1069, iter: 1, loss: -0.6635\n",
      "restart: 0, epoch: 1070, iter: 1, loss: -0.6636\n",
      "restart: 0, epoch: 1071, iter: 1, loss: -0.6637\n",
      "restart: 0, epoch: 1072, iter: 1, loss: -0.6638\n",
      "restart: 0, epoch: 1073, iter: 1, loss: -0.6639\n",
      "restart: 0, epoch: 1074, iter: 1, loss: -0.6639\n",
      "restart: 0, epoch: 1075, iter: 1, loss: -0.6640\n",
      "restart: 0, epoch: 1076, iter: 1, loss: -0.6641\n",
      "restart: 0, epoch: 1077, iter: 1, loss: -0.6641\n",
      "restart: 0, epoch: 1078, iter: 1, loss: -0.6642\n",
      "restart: 0, epoch: 1079, iter: 1, loss: -0.6643\n",
      "restart: 0, epoch: 1080, iter: 1, loss: -0.6644\n",
      "restart: 0, epoch: 1081, iter: 1, loss: -0.6644\n",
      "restart: 0, epoch: 1082, iter: 1, loss: -0.6645\n",
      "restart: 0, epoch: 1083, iter: 1, loss: -0.6646\n",
      "restart: 0, epoch: 1084, iter: 1, loss: -0.6646\n",
      "restart: 0, epoch: 1085, iter: 1, loss: -0.6647\n",
      "restart: 0, epoch: 1086, iter: 1, loss: -0.6648\n",
      "restart: 0, epoch: 1087, iter: 1, loss: -0.6648\n",
      "restart: 0, epoch: 1088, iter: 1, loss: -0.6649\n",
      "restart: 0, epoch: 1089, iter: 1, loss: -0.6650\n",
      "restart: 0, epoch: 1090, iter: 1, loss: -0.6650\n",
      "restart: 0, epoch: 1091, iter: 1, loss: -0.6651\n",
      "restart: 0, epoch: 1092, iter: 1, loss: -0.6651\n",
      "restart: 0, epoch: 1093, iter: 1, loss: -0.6652\n",
      "restart: 0, epoch: 1094, iter: 1, loss: -0.6652\n",
      "restart: 0, epoch: 1095, iter: 1, loss: -0.6653\n",
      "restart: 0, epoch: 1096, iter: 1, loss: -0.6654\n",
      "restart: 0, epoch: 1097, iter: 1, loss: -0.6654\n",
      "restart: 0, epoch: 1098, iter: 1, loss: -0.6655\n",
      "restart: 0, epoch: 1099, iter: 1, loss: -0.6656\n",
      "restart: 0, epoch: 1100, iter: 1, loss: -0.6656\n",
      "restart: 0, epoch: 1101, iter: 1, loss: -0.6657\n",
      "restart: 0, epoch: 1102, iter: 1, loss: -0.6657\n",
      "restart: 0, epoch: 1103, iter: 1, loss: -0.6658\n",
      "restart: 0, epoch: 1104, iter: 1, loss: -0.6659\n",
      "restart: 0, epoch: 1105, iter: 1, loss: -0.6659\n",
      "restart: 0, epoch: 1106, iter: 1, loss: -0.6659\n",
      "restart: 0, epoch: 1107, iter: 1, loss: -0.6660\n",
      "restart: 0, epoch: 1108, iter: 1, loss: -0.6661\n",
      "restart: 0, epoch: 1109, iter: 1, loss: -0.6661\n",
      "restart: 0, epoch: 1110, iter: 1, loss: -0.6661\n",
      "restart: 0, epoch: 1111, iter: 1, loss: -0.6662\n",
      "restart: 0, epoch: 1112, iter: 1, loss: -0.6663\n",
      "restart: 0, epoch: 1113, iter: 1, loss: -0.6663\n",
      "restart: 0, epoch: 1114, iter: 1, loss: -0.6663\n",
      "restart: 0, epoch: 1115, iter: 1, loss: -0.6664\n",
      "restart: 0, epoch: 1116, iter: 1, loss: -0.6665\n",
      "restart: 0, epoch: 1117, iter: 1, loss: -0.6665\n",
      "restart: 0, epoch: 1118, iter: 1, loss: -0.6666\n",
      "restart: 0, epoch: 1119, iter: 1, loss: -0.6666\n",
      "restart: 0, epoch: 1120, iter: 1, loss: -0.6667\n",
      "restart: 0, epoch: 1121, iter: 1, loss: -0.6668\n",
      "restart: 0, epoch: 1122, iter: 1, loss: -0.6668\n",
      "restart: 0, epoch: 1123, iter: 1, loss: -0.6669\n",
      "restart: 0, epoch: 1124, iter: 1, loss: -0.6669\n",
      "restart: 0, epoch: 1125, iter: 1, loss: -0.6670\n",
      "restart: 0, epoch: 1126, iter: 1, loss: -0.6671\n",
      "restart: 0, epoch: 1127, iter: 1, loss: -0.6671\n",
      "restart: 0, epoch: 1128, iter: 1, loss: -0.6672\n",
      "restart: 0, epoch: 1129, iter: 1, loss: -0.6673\n",
      "restart: 0, epoch: 1130, iter: 1, loss: -0.6673\n",
      "restart: 0, epoch: 1131, iter: 1, loss: -0.6674\n",
      "restart: 0, epoch: 1132, iter: 1, loss: -0.6675\n",
      "restart: 0, epoch: 1133, iter: 1, loss: -0.6675\n",
      "restart: 0, epoch: 1134, iter: 1, loss: -0.6676\n",
      "restart: 0, epoch: 1135, iter: 1, loss: -0.6677\n",
      "restart: 0, epoch: 1136, iter: 1, loss: -0.6677\n",
      "restart: 0, epoch: 1137, iter: 1, loss: -0.6678\n",
      "restart: 0, epoch: 1138, iter: 1, loss: -0.6679\n",
      "restart: 0, epoch: 1139, iter: 1, loss: -0.6680\n",
      "restart: 0, epoch: 1140, iter: 1, loss: -0.6680\n",
      "restart: 0, epoch: 1141, iter: 1, loss: -0.6681\n",
      "restart: 0, epoch: 1142, iter: 1, loss: -0.6682\n",
      "restart: 0, epoch: 1143, iter: 1, loss: -0.6682\n",
      "restart: 0, epoch: 1144, iter: 1, loss: -0.6683\n",
      "restart: 0, epoch: 1145, iter: 1, loss: -0.6684\n",
      "restart: 0, epoch: 1146, iter: 1, loss: -0.6685\n",
      "restart: 0, epoch: 1147, iter: 1, loss: -0.6686\n",
      "restart: 0, epoch: 1148, iter: 1, loss: -0.6687\n",
      "restart: 0, epoch: 1149, iter: 1, loss: -0.6688\n",
      "restart: 0, epoch: 1150, iter: 1, loss: -0.6689\n",
      "restart: 0, epoch: 1151, iter: 1, loss: -0.6690\n",
      "restart: 0, epoch: 1152, iter: 1, loss: -0.6691\n",
      "restart: 0, epoch: 1153, iter: 1, loss: -0.6691\n",
      "restart: 0, epoch: 1154, iter: 1, loss: -0.6692\n",
      "restart: 0, epoch: 1155, iter: 1, loss: -0.6693\n",
      "restart: 0, epoch: 1156, iter: 1, loss: -0.6694\n",
      "restart: 0, epoch: 1157, iter: 1, loss: -0.6696\n",
      "restart: 0, epoch: 1158, iter: 1, loss: -0.6697\n",
      "restart: 0, epoch: 1159, iter: 1, loss: -0.6698\n",
      "restart: 0, epoch: 1160, iter: 1, loss: -0.6698\n",
      "restart: 0, epoch: 1161, iter: 1, loss: -0.6699\n",
      "restart: 0, epoch: 1162, iter: 1, loss: -0.6701\n",
      "restart: 0, epoch: 1163, iter: 1, loss: -0.6702\n",
      "restart: 0, epoch: 1164, iter: 1, loss: -0.6703\n",
      "restart: 0, epoch: 1165, iter: 1, loss: -0.6704\n",
      "restart: 0, epoch: 1166, iter: 1, loss: -0.6706\n",
      "restart: 0, epoch: 1167, iter: 1, loss: -0.6707\n",
      "restart: 0, epoch: 1168, iter: 1, loss: -0.6708\n",
      "restart: 0, epoch: 1169, iter: 1, loss: -0.6709\n",
      "restart: 0, epoch: 1170, iter: 1, loss: -0.6710\n",
      "restart: 0, epoch: 1171, iter: 1, loss: -0.6711\n",
      "restart: 0, epoch: 1172, iter: 1, loss: -0.6712\n",
      "restart: 0, epoch: 1173, iter: 1, loss: -0.6713\n",
      "restart: 0, epoch: 1174, iter: 1, loss: -0.6714\n",
      "restart: 0, epoch: 1175, iter: 1, loss: -0.6715\n",
      "restart: 0, epoch: 1176, iter: 1, loss: -0.6716\n",
      "restart: 0, epoch: 1177, iter: 1, loss: -0.6718\n",
      "restart: 0, epoch: 1178, iter: 1, loss: -0.6718\n",
      "restart: 0, epoch: 1179, iter: 1, loss: -0.6719\n",
      "restart: 0, epoch: 1180, iter: 1, loss: -0.6720\n",
      "restart: 0, epoch: 1181, iter: 1, loss: -0.6721\n",
      "restart: 0, epoch: 1182, iter: 1, loss: -0.6722\n",
      "restart: 0, epoch: 1183, iter: 1, loss: -0.6723\n",
      "restart: 0, epoch: 1184, iter: 1, loss: -0.6724\n",
      "restart: 0, epoch: 1185, iter: 1, loss: -0.6725\n",
      "restart: 0, epoch: 1186, iter: 1, loss: -0.6726\n",
      "restart: 0, epoch: 1187, iter: 1, loss: -0.6727\n",
      "restart: 0, epoch: 1188, iter: 1, loss: -0.6728\n",
      "restart: 0, epoch: 1189, iter: 1, loss: -0.6729\n",
      "restart: 0, epoch: 1190, iter: 1, loss: -0.6730\n",
      "restart: 0, epoch: 1191, iter: 1, loss: -0.6731\n",
      "restart: 0, epoch: 1192, iter: 1, loss: -0.6732\n",
      "restart: 0, epoch: 1193, iter: 1, loss: -0.6733\n",
      "restart: 0, epoch: 1194, iter: 1, loss: -0.6735\n",
      "restart: 0, epoch: 1195, iter: 1, loss: -0.6736\n",
      "restart: 0, epoch: 1196, iter: 1, loss: -0.6738\n",
      "restart: 0, epoch: 1197, iter: 1, loss: -0.6740\n",
      "restart: 0, epoch: 1198, iter: 1, loss: -0.6741\n",
      "restart: 0, epoch: 1199, iter: 1, loss: -0.6743\n",
      "restart: 0, epoch: 1200, iter: 1, loss: -0.6745\n",
      "restart: 0, epoch: 1201, iter: 1, loss: -0.6747\n",
      "restart: 0, epoch: 1202, iter: 1, loss: -0.6749\n",
      "restart: 0, epoch: 1203, iter: 1, loss: -0.6751\n",
      "restart: 0, epoch: 1204, iter: 1, loss: -0.6754\n",
      "restart: 0, epoch: 1205, iter: 1, loss: -0.6756\n",
      "restart: 0, epoch: 1206, iter: 1, loss: -0.6759\n",
      "restart: 0, epoch: 1207, iter: 1, loss: -0.6762\n",
      "restart: 0, epoch: 1208, iter: 1, loss: -0.6765\n",
      "restart: 0, epoch: 1209, iter: 1, loss: -0.6768\n",
      "restart: 0, epoch: 1210, iter: 1, loss: -0.6771\n",
      "restart: 0, epoch: 1211, iter: 1, loss: -0.6775\n",
      "restart: 0, epoch: 1212, iter: 1, loss: -0.6778\n",
      "restart: 0, epoch: 1213, iter: 1, loss: -0.6782\n",
      "restart: 0, epoch: 1214, iter: 1, loss: -0.6785\n",
      "restart: 0, epoch: 1215, iter: 1, loss: -0.6789\n",
      "restart: 0, epoch: 1216, iter: 1, loss: -0.6792\n",
      "restart: 0, epoch: 1217, iter: 1, loss: -0.6796\n",
      "restart: 0, epoch: 1218, iter: 1, loss: -0.6800\n",
      "restart: 0, epoch: 1219, iter: 1, loss: -0.6804\n",
      "restart: 0, epoch: 1220, iter: 1, loss: -0.6807\n",
      "restart: 0, epoch: 1221, iter: 1, loss: -0.6810\n",
      "restart: 0, epoch: 1222, iter: 1, loss: -0.6814\n",
      "restart: 0, epoch: 1223, iter: 1, loss: -0.6817\n",
      "restart: 0, epoch: 1224, iter: 1, loss: -0.6821\n",
      "restart: 0, epoch: 1225, iter: 1, loss: -0.6823\n",
      "restart: 0, epoch: 1226, iter: 1, loss: -0.6826\n",
      "restart: 0, epoch: 1227, iter: 1, loss: -0.6828\n",
      "restart: 0, epoch: 1228, iter: 1, loss: -0.6830\n",
      "restart: 0, epoch: 1229, iter: 1, loss: -0.6832\n",
      "restart: 0, epoch: 1230, iter: 1, loss: -0.6834\n",
      "restart: 0, epoch: 1231, iter: 1, loss: -0.6837\n",
      "restart: 0, epoch: 1232, iter: 1, loss: -0.6841\n",
      "restart: 0, epoch: 1233, iter: 1, loss: -0.6843\n",
      "restart: 0, epoch: 1234, iter: 1, loss: -0.6844\n",
      "restart: 0, epoch: 1235, iter: 1, loss: -0.6845\n",
      "restart: 0, epoch: 1236, iter: 1, loss: -0.6847\n",
      "restart: 0, epoch: 1237, iter: 1, loss: -0.6849\n",
      "restart: 0, epoch: 1238, iter: 1, loss: -0.6851\n",
      "restart: 0, epoch: 1239, iter: 1, loss: -0.6852\n",
      "restart: 0, epoch: 1240, iter: 1, loss: -0.6853\n",
      "restart: 0, epoch: 1241, iter: 1, loss: -0.6854\n",
      "restart: 0, epoch: 1242, iter: 1, loss: -0.6855\n",
      "restart: 0, epoch: 1243, iter: 1, loss: -0.6857\n",
      "restart: 0, epoch: 1244, iter: 1, loss: -0.6858\n",
      "restart: 0, epoch: 1245, iter: 1, loss: -0.6859\n",
      "restart: 0, epoch: 1246, iter: 1, loss: -0.6859\n",
      "restart: 0, epoch: 1247, iter: 1, loss: -0.6861\n",
      "restart: 0, epoch: 1248, iter: 1, loss: -0.6861\n",
      "restart: 0, epoch: 1249, iter: 1, loss: -0.6862\n",
      "restart: 0, epoch: 1250, iter: 1, loss: -0.6863\n",
      "restart: 0, epoch: 1251, iter: 1, loss: -0.6864\n",
      "restart: 0, epoch: 1252, iter: 1, loss: -0.6865\n",
      "restart: 0, epoch: 1253, iter: 1, loss: -0.6865\n",
      "restart: 0, epoch: 1254, iter: 1, loss: -0.6866\n",
      "restart: 0, epoch: 1255, iter: 1, loss: -0.6867\n",
      "restart: 0, epoch: 1256, iter: 1, loss: -0.6868\n",
      "restart: 0, epoch: 1257, iter: 1, loss: -0.6868\n",
      "restart: 0, epoch: 1258, iter: 1, loss: -0.6869\n",
      "restart: 0, epoch: 1259, iter: 1, loss: -0.6869\n",
      "restart: 0, epoch: 1260, iter: 1, loss: -0.6870\n",
      "restart: 0, epoch: 1261, iter: 1, loss: -0.6871\n",
      "restart: 0, epoch: 1262, iter: 1, loss: -0.6871\n",
      "restart: 0, epoch: 1263, iter: 1, loss: -0.6872\n",
      "restart: 0, epoch: 1264, iter: 1, loss: -0.6873\n",
      "restart: 0, epoch: 1265, iter: 1, loss: -0.6873\n",
      "restart: 0, epoch: 1266, iter: 1, loss: -0.6874\n",
      "restart: 0, epoch: 1267, iter: 1, loss: -0.6874\n",
      "restart: 0, epoch: 1268, iter: 1, loss: -0.6875\n",
      "restart: 0, epoch: 1269, iter: 1, loss: -0.6876\n",
      "restart: 0, epoch: 1270, iter: 1, loss: -0.6876\n",
      "restart: 0, epoch: 1271, iter: 1, loss: -0.6876\n",
      "restart: 0, epoch: 1272, iter: 1, loss: -0.6876\n",
      "restart: 0, epoch: 1273, iter: 1, loss: -0.6876\n",
      "restart: 0, epoch: 1274, iter: 1, loss: -0.6877\n",
      "restart: 0, epoch: 1275, iter: 1, loss: -0.6877\n",
      "restart: 0, epoch: 1276, iter: 1, loss: -0.6878\n",
      "restart: 0, epoch: 1277, iter: 1, loss: -0.6878\n",
      "restart: 0, epoch: 1278, iter: 1, loss: -0.6879\n",
      "restart: 0, epoch: 1279, iter: 1, loss: -0.6879\n",
      "restart: 0, epoch: 1280, iter: 1, loss: -0.6880\n",
      "restart: 0, epoch: 1281, iter: 1, loss: -0.6881\n",
      "restart: 0, epoch: 1282, iter: 1, loss: -0.6881\n",
      "restart: 0, epoch: 1283, iter: 1, loss: -0.6882\n",
      "restart: 0, epoch: 1284, iter: 1, loss: -0.6882\n",
      "restart: 0, epoch: 1285, iter: 1, loss: -0.6883\n",
      "restart: 0, epoch: 1286, iter: 1, loss: -0.6885\n",
      "restart: 0, epoch: 1287, iter: 1, loss: -0.6886\n",
      "restart: 0, epoch: 1288, iter: 1, loss: -0.6887\n",
      "restart: 0, epoch: 1289, iter: 1, loss: -0.6888\n",
      "restart: 0, epoch: 1290, iter: 1, loss: -0.6889\n",
      "restart: 0, epoch: 1291, iter: 1, loss: -0.6890\n",
      "restart: 0, epoch: 1292, iter: 1, loss: -0.6891\n",
      "restart: 0, epoch: 1293, iter: 1, loss: -0.6891\n",
      "restart: 0, epoch: 1294, iter: 1, loss: -0.6892\n",
      "restart: 0, epoch: 1295, iter: 1, loss: -0.6893\n",
      "restart: 0, epoch: 1296, iter: 1, loss: -0.6894\n",
      "restart: 0, epoch: 1297, iter: 1, loss: -0.6895\n",
      "restart: 0, epoch: 1298, iter: 1, loss: -0.6896\n",
      "restart: 0, epoch: 1299, iter: 1, loss: -0.6897\n",
      "restart: 0, epoch: 1300, iter: 1, loss: -0.6897\n",
      "restart: 0, epoch: 1301, iter: 1, loss: -0.6898\n",
      "restart: 0, epoch: 1302, iter: 1, loss: -0.6899\n",
      "restart: 0, epoch: 1303, iter: 1, loss: -0.6900\n",
      "restart: 0, epoch: 1304, iter: 1, loss: -0.6901\n",
      "restart: 0, epoch: 1305, iter: 1, loss: -0.6902\n",
      "restart: 0, epoch: 1306, iter: 1, loss: -0.6902\n",
      "restart: 0, epoch: 1307, iter: 1, loss: -0.6903\n",
      "restart: 0, epoch: 1308, iter: 1, loss: -0.6904\n",
      "restart: 0, epoch: 1309, iter: 1, loss: -0.6904\n",
      "restart: 0, epoch: 1310, iter: 1, loss: -0.6905\n",
      "restart: 0, epoch: 1311, iter: 1, loss: -0.6907\n",
      "restart: 0, epoch: 1312, iter: 1, loss: -0.6907\n",
      "restart: 0, epoch: 1313, iter: 1, loss: -0.6908\n",
      "restart: 0, epoch: 1314, iter: 1, loss: -0.6909\n",
      "restart: 0, epoch: 1315, iter: 1, loss: -0.6909\n",
      "restart: 0, epoch: 1316, iter: 1, loss: -0.6910\n",
      "restart: 0, epoch: 1317, iter: 1, loss: -0.6911\n",
      "restart: 0, epoch: 1318, iter: 1, loss: -0.6911\n",
      "restart: 0, epoch: 1319, iter: 1, loss: -0.6913\n",
      "restart: 0, epoch: 1320, iter: 1, loss: -0.6914\n",
      "restart: 0, epoch: 1321, iter: 1, loss: -0.6915\n",
      "restart: 0, epoch: 1322, iter: 1, loss: -0.6915\n",
      "restart: 0, epoch: 1323, iter: 1, loss: -0.6916\n",
      "restart: 0, epoch: 1324, iter: 1, loss: -0.6916\n",
      "restart: 0, epoch: 1325, iter: 1, loss: -0.6917\n",
      "restart: 0, epoch: 1326, iter: 1, loss: -0.6919\n",
      "restart: 0, epoch: 1327, iter: 1, loss: -0.6919\n",
      "restart: 0, epoch: 1328, iter: 1, loss: -0.6920\n",
      "restart: 0, epoch: 1329, iter: 1, loss: -0.6921\n",
      "restart: 0, epoch: 1330, iter: 1, loss: -0.6922\n",
      "restart: 0, epoch: 1331, iter: 1, loss: -0.6923\n",
      "restart: 0, epoch: 1332, iter: 1, loss: -0.6923\n",
      "restart: 0, epoch: 1333, iter: 1, loss: -0.6924\n",
      "restart: 0, epoch: 1334, iter: 1, loss: -0.6925\n",
      "restart: 0, epoch: 1335, iter: 1, loss: -0.6926\n",
      "restart: 0, epoch: 1336, iter: 1, loss: -0.6926\n",
      "restart: 0, epoch: 1337, iter: 1, loss: -0.6926\n",
      "restart: 0, epoch: 1338, iter: 1, loss: -0.6927\n",
      "restart: 0, epoch: 1339, iter: 1, loss: -0.6928\n",
      "restart: 0, epoch: 1340, iter: 1, loss: -0.6928\n",
      "restart: 0, epoch: 1341, iter: 1, loss: -0.6928\n",
      "restart: 0, epoch: 1342, iter: 1, loss: -0.6929\n",
      "restart: 0, epoch: 1343, iter: 1, loss: -0.6929\n",
      "restart: 0, epoch: 1344, iter: 1, loss: -0.6929\n",
      "restart: 0, epoch: 1345, iter: 1, loss: -0.6930\n",
      "restart: 0, epoch: 1346, iter: 1, loss: -0.6930\n",
      "restart: 0, epoch: 1347, iter: 1, loss: -0.6931\n",
      "restart: 0, epoch: 1348, iter: 1, loss: -0.6931\n",
      "restart: 0, epoch: 1349, iter: 1, loss: -0.6932\n",
      "restart: 0, epoch: 1350, iter: 1, loss: -0.6932\n",
      "restart: 0, epoch: 1351, iter: 1, loss: -0.6932\n",
      "restart: 0, epoch: 1352, iter: 1, loss: -0.6932\n",
      "restart: 0, epoch: 1353, iter: 1, loss: -0.6932\n",
      "restart: 0, epoch: 1354, iter: 1, loss: -0.6932\n",
      "restart: 0, epoch: 1355, iter: 1, loss: -0.6933\n",
      "restart: 0, epoch: 1356, iter: 1, loss: -0.6933\n",
      "restart: 0, epoch: 1357, iter: 1, loss: -0.6933\n",
      "restart: 0, epoch: 1358, iter: 1, loss: -0.6933\n",
      "restart: 0, epoch: 1359, iter: 1, loss: -0.6934\n",
      "restart: 0, epoch: 1360, iter: 1, loss: -0.6934\n",
      "restart: 0, epoch: 1361, iter: 1, loss: -0.6935\n",
      "restart: 0, epoch: 1362, iter: 1, loss: -0.6935\n",
      "restart: 0, epoch: 1363, iter: 1, loss: -0.6935\n",
      "restart: 0, epoch: 1364, iter: 1, loss: -0.6935\n",
      "restart: 0, epoch: 1365, iter: 1, loss: -0.6936\n",
      "restart: 0, epoch: 1366, iter: 1, loss: -0.6936\n",
      "restart: 0, epoch: 1367, iter: 1, loss: -0.6937\n",
      "restart: 0, epoch: 1368, iter: 1, loss: -0.6937\n",
      "restart: 0, epoch: 1369, iter: 1, loss: -0.6937\n",
      "restart: 0, epoch: 1370, iter: 1, loss: -0.6937\n",
      "restart: 0, epoch: 1371, iter: 1, loss: -0.6937\n",
      "restart: 0, epoch: 1372, iter: 1, loss: -0.6938\n",
      "restart: 0, epoch: 1373, iter: 1, loss: -0.6938\n",
      "restart: 0, epoch: 1374, iter: 1, loss: -0.6939\n",
      "restart: 0, epoch: 1375, iter: 1, loss: -0.6939\n",
      "restart: 0, epoch: 1376, iter: 1, loss: -0.6940\n",
      "restart: 0, epoch: 1377, iter: 1, loss: -0.6940\n",
      "restart: 0, epoch: 1378, iter: 1, loss: -0.6940\n",
      "restart: 0, epoch: 1379, iter: 1, loss: -0.6940\n",
      "restart: 0, epoch: 1380, iter: 1, loss: -0.6940\n",
      "restart: 0, epoch: 1381, iter: 1, loss: -0.6941\n",
      "restart: 0, epoch: 1382, iter: 1, loss: -0.6941\n",
      "restart: 0, epoch: 1383, iter: 1, loss: -0.6942\n",
      "restart: 0, epoch: 1384, iter: 1, loss: -0.6942\n",
      "restart: 0, epoch: 1385, iter: 1, loss: -0.6942\n",
      "restart: 0, epoch: 1386, iter: 1, loss: -0.6942\n",
      "restart: 0, epoch: 1387, iter: 1, loss: -0.6943\n",
      "restart: 0, epoch: 1388, iter: 1, loss: -0.6943\n",
      "restart: 0, epoch: 1389, iter: 1, loss: -0.6943\n",
      "restart: 0, epoch: 1390, iter: 1, loss: -0.6943\n",
      "restart: 0, epoch: 1391, iter: 1, loss: -0.6944\n",
      "restart: 0, epoch: 1392, iter: 1, loss: -0.6944\n",
      "restart: 0, epoch: 1393, iter: 1, loss: -0.6944\n",
      "restart: 0, epoch: 1394, iter: 1, loss: -0.6944\n",
      "restart: 0, epoch: 1395, iter: 1, loss: -0.6944\n",
      "restart: 0, epoch: 1396, iter: 1, loss: -0.6945\n",
      "restart: 0, epoch: 1397, iter: 1, loss: -0.6945\n",
      "restart: 0, epoch: 1398, iter: 1, loss: -0.6945\n",
      "restart: 0, epoch: 1399, iter: 1, loss: -0.6945\n",
      "restart: 0, epoch: 1400, iter: 1, loss: -0.6946\n",
      "restart: 0, epoch: 1401, iter: 1, loss: -0.6945\n",
      "restart: 0, epoch: 1402, iter: 1, loss: -0.6945\n",
      "restart: 0, epoch: 1403, iter: 1, loss: -0.6945\n",
      "restart: 0, epoch: 1404, iter: 1, loss: -0.6946\n",
      "restart: 0, epoch: 1405, iter: 1, loss: -0.6946\n",
      "restart: 0, epoch: 1406, iter: 1, loss: -0.6947\n",
      "restart: 0, epoch: 1407, iter: 1, loss: -0.6946\n",
      "restart: 0, epoch: 1408, iter: 1, loss: -0.6947\n",
      "restart: 0, epoch: 1409, iter: 1, loss: -0.6947\n",
      "restart: 0, epoch: 1410, iter: 1, loss: -0.6947\n",
      "restart: 0, epoch: 1411, iter: 1, loss: -0.6947\n",
      "restart: 0, epoch: 1412, iter: 1, loss: -0.6948\n",
      "restart: 0, epoch: 1413, iter: 1, loss: -0.6948\n",
      "restart: 0, epoch: 1414, iter: 1, loss: -0.6949\n",
      "restart: 0, epoch: 1415, iter: 1, loss: -0.6949\n",
      "restart: 0, epoch: 1416, iter: 1, loss: -0.6949\n",
      "restart: 0, epoch: 1417, iter: 1, loss: -0.6949\n",
      "restart: 0, epoch: 1418, iter: 1, loss: -0.6949\n",
      "restart: 0, epoch: 1419, iter: 1, loss: -0.6950\n",
      "restart: 0, epoch: 1420, iter: 1, loss: -0.6950\n",
      "restart: 0, epoch: 1421, iter: 1, loss: -0.6951\n",
      "restart: 0, epoch: 1422, iter: 1, loss: -0.6952\n",
      "restart: 0, epoch: 1423, iter: 1, loss: -0.6951\n",
      "restart: 0, epoch: 1424, iter: 1, loss: -0.6952\n",
      "restart: 0, epoch: 1425, iter: 1, loss: -0.6952\n",
      "restart: 0, epoch: 1426, iter: 1, loss: -0.6953\n",
      "restart: 0, epoch: 1427, iter: 1, loss: -0.6953\n",
      "restart: 0, epoch: 1428, iter: 1, loss: -0.6953\n",
      "restart: 0, epoch: 1429, iter: 1, loss: -0.6954\n",
      "restart: 0, epoch: 1430, iter: 1, loss: -0.6954\n",
      "restart: 0, epoch: 1431, iter: 1, loss: -0.6954\n",
      "restart: 0, epoch: 1432, iter: 1, loss: -0.6955\n",
      "restart: 0, epoch: 1433, iter: 1, loss: -0.6955\n",
      "restart: 0, epoch: 1434, iter: 1, loss: -0.6955\n",
      "restart: 0, epoch: 1435, iter: 1, loss: -0.6956\n",
      "restart: 0, epoch: 1436, iter: 1, loss: -0.6956\n",
      "restart: 0, epoch: 1437, iter: 1, loss: -0.6957\n",
      "restart: 0, epoch: 1438, iter: 1, loss: -0.6957\n",
      "restart: 0, epoch: 1439, iter: 1, loss: -0.6957\n",
      "restart: 0, epoch: 1440, iter: 1, loss: -0.6958\n",
      "restart: 0, epoch: 1441, iter: 1, loss: -0.6958\n",
      "restart: 0, epoch: 1442, iter: 1, loss: -0.6959\n",
      "restart: 0, epoch: 1443, iter: 1, loss: -0.6959\n",
      "restart: 0, epoch: 1444, iter: 1, loss: -0.6959\n",
      "restart: 0, epoch: 1445, iter: 1, loss: -0.6959\n",
      "restart: 0, epoch: 1446, iter: 1, loss: -0.6960\n",
      "restart: 0, epoch: 1447, iter: 1, loss: -0.6960\n",
      "restart: 0, epoch: 1448, iter: 1, loss: -0.6960\n",
      "restart: 0, epoch: 1449, iter: 1, loss: -0.6961\n",
      "restart: 0, epoch: 1450, iter: 1, loss: -0.6961\n",
      "restart: 0, epoch: 1451, iter: 1, loss: -0.6961\n",
      "restart: 0, epoch: 1452, iter: 1, loss: -0.6961\n",
      "restart: 0, epoch: 1453, iter: 1, loss: -0.6961\n",
      "restart: 0, epoch: 1454, iter: 1, loss: -0.6962\n",
      "restart: 0, epoch: 1455, iter: 1, loss: -0.6962\n",
      "restart: 0, epoch: 1456, iter: 1, loss: -0.6962\n",
      "restart: 0, epoch: 1457, iter: 1, loss: -0.6962\n",
      "restart: 0, epoch: 1458, iter: 1, loss: -0.6963\n",
      "restart: 0, epoch: 1459, iter: 1, loss: -0.6963\n",
      "restart: 0, epoch: 1460, iter: 1, loss: -0.6963\n",
      "restart: 0, epoch: 1461, iter: 1, loss: -0.6963\n",
      "restart: 0, epoch: 1462, iter: 1, loss: -0.6963\n",
      "restart: 0, epoch: 1463, iter: 1, loss: -0.6963\n",
      "restart: 0, epoch: 1464, iter: 1, loss: -0.6963\n",
      "restart: 0, epoch: 1465, iter: 1, loss: -0.6964\n",
      "restart: 0, epoch: 1466, iter: 1, loss: -0.6964\n",
      "restart: 0, epoch: 1467, iter: 1, loss: -0.6964\n",
      "restart: 0, epoch: 1468, iter: 1, loss: -0.6964\n",
      "restart: 0, epoch: 1469, iter: 1, loss: -0.6964\n",
      "restart: 0, epoch: 1470, iter: 1, loss: -0.6965\n",
      "restart: 0, epoch: 1471, iter: 1, loss: -0.6965\n",
      "restart: 0, epoch: 1472, iter: 1, loss: -0.6965\n",
      "restart: 0, epoch: 1473, iter: 1, loss: -0.6965\n",
      "restart: 0, epoch: 1474, iter: 1, loss: -0.6966\n",
      "restart: 0, epoch: 1475, iter: 1, loss: -0.6966\n",
      "restart: 0, epoch: 1476, iter: 1, loss: -0.6966\n",
      "restart: 0, epoch: 1477, iter: 1, loss: -0.6967\n",
      "restart: 0, epoch: 1478, iter: 1, loss: -0.6967\n",
      "restart: 0, epoch: 1479, iter: 1, loss: -0.6967\n",
      "restart: 0, epoch: 1480, iter: 1, loss: -0.6967\n",
      "restart: 0, epoch: 1481, iter: 1, loss: -0.6967\n",
      "restart: 0, epoch: 1482, iter: 1, loss: -0.6967\n",
      "restart: 0, epoch: 1483, iter: 1, loss: -0.6967\n",
      "restart: 0, epoch: 1484, iter: 1, loss: -0.6967\n",
      "restart: 0, epoch: 1485, iter: 1, loss: -0.6968\n",
      "restart: 0, epoch: 1486, iter: 1, loss: -0.6968\n",
      "restart: 0, epoch: 1487, iter: 1, loss: -0.6968\n",
      "restart: 0, epoch: 1488, iter: 1, loss: -0.6968\n",
      "restart: 0, epoch: 1489, iter: 1, loss: -0.6969\n",
      "restart: 0, epoch: 1490, iter: 1, loss: -0.6969\n",
      "restart: 0, epoch: 1491, iter: 1, loss: -0.6969\n",
      "restart: 0, epoch: 1492, iter: 1, loss: -0.6969\n",
      "restart: 0, epoch: 1493, iter: 1, loss: -0.6970\n",
      "restart: 0, epoch: 1494, iter: 1, loss: -0.6970\n",
      "restart: 0, epoch: 1495, iter: 1, loss: -0.6970\n",
      "restart: 0, epoch: 1496, iter: 1, loss: -0.6970\n",
      "restart: 0, epoch: 1497, iter: 1, loss: -0.6970\n",
      "restart: 0, epoch: 1498, iter: 1, loss: -0.6970\n",
      "restart: 0, epoch: 1499, iter: 1, loss: -0.6970\n",
      "restart: 0, epoch: 1500, iter: 1, loss: -0.6970\n"
     ]
    },
    {
     "data": {
      "image/png": "[encoded data removed]",
      "text/plain": [
       "<Figure size 432x288 with 1 Axes>"
      ]
     },
     "metadata": {
      "needs_background": "light"
     },
     "output_type": "display_data"
    }
   ],
   "source": [
    "mae_arr =[]\n",
    "rms_arr = []\n",
    "y_pred_arr = []\n",
    "\n",
    "batch = 512\n",
    "\n",
    "# x_train = x_train[:4500]\n",
    "# y_train = y_train[:4500]\n",
    "\n",
    "# y_test_trans = torch.tensor(torch.tensor(scaler_x.transform(y_test.reshape(-1,1))).reshape(-1,)).contiguous().to(torch.float64)\n",
    "for i in range(1):\n",
    "\n",
    "\n",
    "   #nu=2.5,\n",
    "\n",
    "  kernel1 = ScaleKernel(MaternKernel(nu=2.5, ard_num_dims=n))\n",
    "  kernel2 = ScaleKernel(MaternKernel(nu=0.5,ard_num_dims=1,active_dims=(n-1)))\n",
    "  kernel4 = ScaleKernel(PeriodicKernel(ard_num_dims=1, active_dims=(n-1)))\n",
    "  kernel3 = ScaleKernel(PeriodicKernel(ard_num_dims=1,active_dims=(n-1)))\n",
    "  # kernel5 = ScaleKernel(gpytorch.kernels.SpectralDeltaKernel(num_dims=n,ard_num_dims=n))\n",
    "#   theta =  {'base_covar_module.kernels.0.base_kernel.lengthscale': torch.tensor(0.5),\n",
    "#         'base_covar_module.kernels.0.outputscale': torch.tensor(5.0),\n",
    "#         'base_covar_module.kernels.1.kernels.0.outputscale':torch.tensor(1.0),\n",
    "#         'base_covar_module.kernels.1.kernels.0.base_kernel.lengthscale': torch.tensor(0.1),\n",
    "#         'base_covar_module.kernels.1.kernels.1.outputscale':torch.tensor(1.0),\n",
    "#         'base_covar_module.kernels.1.kernels.1.base_kernel.lengthscale': torch.tensor(1.0),\n",
    "#         'base_covar_module.kernels.1.kernels.1.base_kernel.period_length': torch.tensor(0.01),}\n",
    "  theta = { \n",
    "      'base_covar_module.kernels.2.base_kernel.period_length': torch.tensor(0.01),}\n",
    "\n",
    "    # 'base_covar_module.kernels.1.kernels.1.base_kernel.period_length': torch.tensor(0.01),\n",
    "  kernel5 = kernel2 + kernel4\n",
    "  kernel = kernel1 + kernel5\n",
    "  # induce_points = 512\n",
    "  inducing_points =  x[np.arange(0,x.shape[0],95)]  # 95\n",
    "  # inducing_points = x[torch.randperm(x.shape[0])[: 1500]]\n",
    "  \n",
    "  model = SGPRegressor(x.to(\"cuda\"), y.to(\"cuda\"), kernel, \n",
    "                       inducing_points).to(\"cuda\")\n",
    "  # model.base_covar_module.base_kernel.raw_lengthscale_constraint\n",
    "  # model.mll.likelihood.noise_covar.register_constraint(\"raw_noise\", GreaterThan(1e-2))\n",
    "  # for param in model.parameters():\n",
    "  #   # print(param)\n",
    "  #   torch.nn.init.normal_(param, 0, 1)\n",
    "  # theta1 = {'likelihood.noise_covar.noise': torch.tensor(3),\n",
    "  #       'covar_module.base_kernel.lengthscale': torch.tensor(0.1),\n",
    "  #       'covar_module.outputscale': torch.tensor(5),}\n",
    "  loss = model.fit(lr=0.01, n_epochs=1500,verbose=1,thetas = None,\n",
    "          random_state=0, n_restarts=1)\n",
    "#   loss_arr.append(loss)\n",
    "  # print(loss)\n",
    "  plt.plot(np.asarray(loss[0]))\n",
    "  # plt.plot(np.asarray(test_loss[0]))\n",
    "\n",
    "\n",
    "\n",
    "\n",
    "\n",
    "\n",
    "\n",
    "  # y_pred_arr.append(pred_dist.loc)\n",
    "\n",
    "  "
   ]
  },
  {
   "cell_type": "code",
   "execution_count": 20,
   "metadata": {},
   "outputs": [],
   "source": [
    "model_name = \"Point_to_point_main_features_and_time.pt\"\n",
    "torch.save(model.state_dict(), os.path.join(\n",
    "  \"Neurips/models\", model_name))"
   ]
  },
  {
   "cell_type": "markdown",
   "metadata": {},
   "source": [
    "## Decomp"
   ]
  },
  {
   "cell_type": "code",
   "execution_count": 18,
   "metadata": {},
   "outputs": [
    {
     "data": {
      "text/plain": [
       "<All keys matched successfully>"
      ]
     },
     "execution_count": 18,
     "metadata": {},
     "output_type": "execute_result"
    }
   ],
   "source": [
    "kernel1 = ScaleKernel(RBFKernel(ard_num_dims=n))\n",
    "# kernel2 = ScaleKernel(RBFKernel(ard_num_dims=1,active_dims=(99)))\n",
    "# kernel3 = ScaleKernel(CosineKernel(ard_num_dims=1,active_dims=(99)))\n",
    "\n",
    "# kernel4 = kernel2*kernel3\n",
    "kernel = kernel1 #ernel4\n",
    "# induce_points = 512\n",
    "inducing_points =  x[np.arange(0,x.shape[0],70)] \n",
    "# inducing_points = x[torch.randperm(x.shape[0])[: 1500]]\n",
    "\n",
    "model = SGPRegressor(x.to(\"cuda\"), y.to(\"cuda\"), kernel,\n",
    "                      inducing_points).to(\"cuda\")\n",
    "\n",
    "model_name =  \"Refrigerator_rbf_building6_\" + str(0) + \".pt\"\n",
    "model.load_state_dict(torch.load(\n",
    "    os.path.join(\"./final_models/\", model_name)))"
   ]
  },
  {
   "cell_type": "code",
   "execution_count": 40,
   "metadata": {},
   "outputs": [],
   "source": [
    "model1 = SGPRegressor(x.to(\"cuda\"), y.to(\"cuda\"), kernel1,\n",
    "                      inducing_points).to(\"cuda\")"
   ]
  },
  {
   "cell_type": "code",
   "execution_count": 41,
   "metadata": {},
   "outputs": [],
   "source": [
    "pred_dist1 = model1.predict(xt[:4000].to(\"cuda\"))\n",
    "# print(\"Done \", i)\n",
    "\n",
    "y_mean1 = pred_dist1.loc"
   ]
  },
  {
   "cell_type": "code",
   "execution_count": 42,
   "metadata": {},
   "outputs": [
    {
     "data": {
      "text/plain": [
       "torch.Size([4000])"
      ]
     },
     "execution_count": 42,
     "metadata": {},
     "output_type": "execute_result"
    }
   ],
   "source": [
    "y_mean1.shape"
   ]
  },
  {
   "cell_type": "code",
   "execution_count": 43,
   "metadata": {},
   "outputs": [],
   "source": [
    "pred_arr =[]\n",
    "pred_arr.append(np.array(pred_dist1.mean.cpu()))"
   ]
  },
  {
   "cell_type": "code",
   "execution_count": 44,
   "metadata": {},
   "outputs": [],
   "source": [
    "y_mean1 = np.mean(pred_arr, axis =0)\n",
    "\n",
    "# y_Std = np.std(np.array(pred_arr), axis =0)"
   ]
  },
  {
   "cell_type": "code",
   "execution_count": 45,
   "metadata": {},
   "outputs": [],
   "source": [
    "y_mean1 = scalers[1].inverse_transform(y_mean1.reshape(-1,1)).squeeze()\n",
    "# y_std = scaler_y.inverse_transform(y_Std.reshape(-1,1)).squeeze()"
   ]
  },
  {
   "cell_type": "code",
   "execution_count": 46,
   "metadata": {},
   "outputs": [
    {
     "data": {
      "text/plain": [
       "(4000,)"
      ]
     },
     "execution_count": 46,
     "metadata": {},
     "output_type": "execute_result"
    }
   ],
   "source": [
    "y_mean1.shape"
   ]
  },
  {
   "cell_type": "code",
   "execution_count": 47,
   "metadata": {},
   "outputs": [],
   "source": [
    "y_mean_ = np.clip(y_mean1,0,y_mean1.max())\n",
    "# y_sigma =  np.clip(y_mean,0,y_mean.max())"
   ]
  },
  {
   "cell_type": "code",
   "execution_count": 48,
   "metadata": {},
   "outputs": [
    {
     "data": {
      "image/png": "[encoded data removed]",
      "text/plain": [
       "<Figure size 720x432 with 1 Axes>"
      ]
     },
     "metadata": {
      "needs_background": "light"
     },
     "output_type": "display_data"
    }
   ],
   "source": [
    "idx = 3000\n",
    "plt.figure(figsize=(10,6))\n",
    "# plt.plot(x_test_timestamp[:idx], scalers[].inverse_transform(xt.cpu().reshape(-1,1))[:idx], label = \"Main\")\n",
    "plt.plot(x_test_timestamp[:idx], yt.cpu()[:idx], label = \"Refri\")\n",
    "plt.plot(x_test_timestamp[:idx], y_mean_[:idx], label = \"Predicted\")\n",
    "plt.legend(bbox_to_anchor=(1, 1),fontsize=20)\n",
    "plt.xlabel(\"TimeStamp test Scaled\")\n",
    "plt.ylabel(\"Fridge  test Power\")\n",
    "sns.despine()\n",
    "# savefig(\"Uncertainity\")"
   ]
  },
  {
   "cell_type": "code",
   "execution_count": 49,
   "metadata": {},
   "outputs": [],
   "source": [
    "model2 = SGPRegressor(x.to(\"cuda\"), y.to(\"cuda\"), kernel4,\n",
    "                      inducing_points).to(\"cuda\")"
   ]
  },
  {
   "cell_type": "code",
   "execution_count": 50,
   "metadata": {},
   "outputs": [],
   "source": [
    "pred_dist2 = model2.predict(xt[:4000].to(\"cuda\"))\n",
    "# print(\"Done \", i)\n",
    "\n",
    "y_mean2 = pred_dist2.loc"
   ]
  },
  {
   "cell_type": "code",
   "execution_count": 51,
   "metadata": {},
   "outputs": [
    {
     "name": "stdout",
     "output_type": "stream",
     "text": [
      "torch.Size([16781]) (4000,)\n"
     ]
    }
   ],
   "source": [
    "y_mean2 = scalers[1].inverse_transform(y_mean2.cpu().reshape(-1,1)).squeeze()\n",
    "# y_sigma = scaler_y.inverse_transform(y_sigma.reshape(-1,1)).squeeze()\n",
    "print(yt.shape, y_mean2.shape)"
   ]
  },
  {
   "cell_type": "code",
   "execution_count": 52,
   "metadata": {},
   "outputs": [],
   "source": [
    "y_mean_ = np.clip(y_mean2,0,y_mean2.max())"
   ]
  },
  {
   "cell_type": "code",
   "execution_count": 53,
   "metadata": {},
   "outputs": [
    {
     "data": {
      "image/png": "[encoded data removed]",
      "text/plain": [
       "<Figure size 720x432 with 1 Axes>"
      ]
     },
     "metadata": {
      "needs_background": "light"
     },
     "output_type": "display_data"
    }
   ],
   "source": [
    "idx = 3000\n",
    "plt.figure(figsize=(10,6))\n",
    "# plt.plot(x_test_timestamp[:idx], scaler_y.inverse_transform(y.cpu().reshape(-1,1))[:idx], label = \"Main\")\n",
    "plt.plot(x_test_timestamp[:idx], yt.cpu()[:idx], label = \"Refri\")\n",
    "plt.plot(x_test_timestamp[:idx], y_mean_[:idx], label = \"Predicted\")\n",
    "plt.legend(bbox_to_anchor=(1, 1),fontsize=20)\n",
    "plt.xlabel(\"TimeStamp test Scaled\")\n",
    "plt.ylabel(\"Fridge  test Power\")\n",
    "sns.despine()"
   ]
  },
  {
   "cell_type": "code",
   "execution_count": 42,
   "metadata": {},
   "outputs": [
    {
     "data": {
      "image/png": "[encoded data removed]",
      "text/plain": [
       "<Figure size 432x288 with 1 Axes>"
      ]
     },
     "metadata": {
      "needs_background": "light"
     },
     "output_type": "display_data"
    }
   ],
   "source": [
    "idx = 3000\n",
    "# plt.figure(figsize=(10,6))\n",
    "plt.plot(jnp.arange(idx),  yt.cpu().reshape(-1,1)[:idx], label = \"Ground Truth\", color=\"green\")\n",
    "plt.plot(jnp.arange(idx), y_mean_[:idx].reshape(-1,1), label = \"Predicted\")\n",
    "# for i in range(2,3):\n",
    "#     plt.fill_between(jnp.arange(idx), y_mean[:idx] - i*y_std[:idx], y_mean[:idx] + i*y_std[:idx],\n",
    "#                     color=\"orange\", alpha=(1/(i*3)), label=f\"$\\mu\\pm{i}*\\sigma$\")\n",
    "# plt.legend(bbox_to_anchor=(1, 1),fontsize=20)\n",
    "plt.legend( prop={'size': 5.5})\n",
    "plt.ylabel(\"Power\")\n",
    "sns.despine()"
   ]
  },
  {
   "cell_type": "code",
   "execution_count": 22,
   "metadata": {},
   "outputs": [
    {
     "name": "stdout",
     "output_type": "stream",
     "text": [
      "MAE:  27.80521506352558\n",
      "RMSE:  44.84471\n"
     ]
    }
   ],
   "source": [
    "mae = np.mean(np.abs(np.array(yt) - y_mean))\n",
    "rms = errors.rmse(jnp.array(yt), y_mean)\n",
    "\n",
    "print(\"MAE: \", mae)\n",
    "print(\"RMSE: \", rms)"
   ]
  },
  {
   "cell_type": "code",
   "execution_count": 59,
   "metadata": {},
   "outputs": [],
   "source": [
    "try:\n",
    "    from probml_utils import latexify, savefig, is_latexify_enabled\n",
    "except ModuleNotFoundError:\n",
    "    %pip install git+https://github.com/probml/probml-utils.git\n",
    "    from probml_utils import latexify, savefig, is_latexify_enabled\n"
   ]
  },
  {
   "cell_type": "code",
   "execution_count": 60,
   "metadata": {},
   "outputs": [],
   "source": [
    "os.environ[\"LATEXIFY\"] = \"1\"\n",
    "os.environ[\"FIG_DIR\"] = \"./Final_plotss/\""
   ]
  },
  {
   "cell_type": "code",
   "execution_count": 62,
   "metadata": {},
   "outputs": [],
   "source": [
    "latexify(width_scale_factor=2, fig_height=2)"
   ]
  },
  {
   "cell_type": "code",
   "execution_count": 22,
   "metadata": {},
   "outputs": [
    {
     "name": "stdout",
     "output_type": "stream",
     "text": [
      "saving image to ./Final_plotss/CombinationKernel_latexified.pdf\n",
      "Figure size: [2. 2.]\n"
     ]
    }
   ],
   "source": [
    "idx = 2000\n",
    "# plt.figure(figsize=(10,6))\n",
    "plt.figure()\n",
    "plt.plot(jnp.arange(idx), yt[300:idx+300], label = \"Fridge True\")\n",
    "plt.plot(jnp.arange(idx), y_mean[300:idx+300], label = \"Fridge Predicted\")\n",
    "plt.legend()\n",
    "sns.despine()\n",
    "savefig(\"CombinationKernel\")"
   ]
  },
  {
   "cell_type": "code",
   "execution_count": 23,
   "metadata": {},
   "outputs": [],
   "source": [
    "model1 = SGPRegressor(x.to(\"cuda\"), y.to(\"cuda\"), kernel1,\n",
    "                       inducing_points).to(\"cuda\")"
   ]
  },
  {
   "cell_type": "code",
   "execution_count": 24,
   "metadata": {},
   "outputs": [],
   "source": [
    "pred_dist1 = model1.predict(xt.to(\"cuda\"))\n",
    "# print(\"Done \", i)\n",
    "\n",
    "y_mean1 = pred_dist1.loc"
   ]
  },
  {
   "cell_type": "code",
   "execution_count": 25,
   "metadata": {},
   "outputs": [
    {
     "name": "stdout",
     "output_type": "stream",
     "text": [
      "torch.Size([14780]) (14780,)\n"
     ]
    }
   ],
   "source": [
    "y_mean1 = scalers[1].inverse_transform(y_mean1.cpu().reshape(-1,1)).squeeze()\n",
    "# y_sigma = scaler_y.inverse_transform(y_sigma.reshape(-1,1)).squeeze()\n",
    "print(yt.shape, y_mean1.shape)"
   ]
  },
  {
   "cell_type": "code",
   "execution_count": 26,
   "metadata": {},
   "outputs": [
    {
     "name": "stdout",
     "output_type": "stream",
     "text": [
      "saving image to ./Final_plotss/RBFKernel_latexified.pdf\n",
      "Figure size: [2. 2.]\n"
     ]
    }
   ],
   "source": [
    "idx = 2000\n",
    "# plt.figure(figsize=(10,6))\n",
    "plt.figure()\n",
    "plt.plot(jnp.arange(idx), yt[300:idx+300], label = \"Fridge True\")\n",
    "plt.plot(jnp.arange(idx), y_mean1[300:idx+300], label = \"Fridge Predicted\")\n",
    "# plt.legend()\n",
    "sns.despine()\n",
    "savefig(\"RBFKernel\")"
   ]
  },
  {
   "cell_type": "code",
   "execution_count": null,
   "metadata": {},
   "outputs": [],
   "source": [
    "# for name, params in model.named_parameters():\n",
    "#   print(name, params)\n",
    "\n",
    "# # model.mll.model.base_covar_module.kernels.base_kernel.raw_lengthscale"
   ]
  },
  {
   "cell_type": "code",
   "execution_count": 19,
   "metadata": {},
   "outputs": [
    {
     "data": {
      "text/plain": [
       "torch.Size([55457, 100])"
      ]
     },
     "execution_count": 19,
     "metadata": {},
     "output_type": "execute_result"
    }
   ],
   "source": [
    "x.shape"
   ]
  },
  {
   "cell_type": "code",
   "execution_count": 22,
   "metadata": {},
   "outputs": [],
   "source": [
    "model2 = SGPRegressor(x.to(\"cuda\"), y.to(\"cuda\"), kernel4,\n",
    "                       inducing_points).to(\"cuda\")"
   ]
  },
  {
   "cell_type": "code",
   "execution_count": 23,
   "metadata": {},
   "outputs": [
    {
     "name": "stderr",
     "output_type": "stream",
     "text": [
      "/home/desai.aadesh/miniconda3/envs/nlim/lib/python3.10/site-packages/gpytorch/utils/cholesky.py:40: NumericalWarning: A not p.d., added jitter of 1.0e-08 to the diagonal\n",
      "  warnings.warn(\n",
      "/home/desai.aadesh/miniconda3/envs/nlim/lib/python3.10/site-packages/gpytorch/kernels/inducing_point_kernel.py:61: UserWarning: torch.triangular_solve is deprecated in favor of torch.linalg.solve_triangularand will be removed in a future PyTorch release.\n",
      "torch.linalg.solve_triangular has its arguments reversed and does not return a copy of one of the inputs.\n",
      "X = torch.triangular_solve(B, A).solution\n",
      "should be replaced with\n",
      "X = torch.linalg.solve_triangular(A, B). (Triggered internally at  /opt/conda/conda-bld/pytorch_1656352645774/work/aten/src/ATen/native/BatchLinearAlgebra.cpp:2183.)\n",
      "  inv_root = torch.triangular_solve(eye, chol)[0]\n"
     ]
    }
   ],
   "source": [
    "pred_dist2 = model2.predict(xt.to(\"cuda\"))\n",
    "# print(\"Done \", i)\n",
    "\n",
    "y_mean2 = pred_dist2.loc"
   ]
  },
  {
   "cell_type": "code",
   "execution_count": 24,
   "metadata": {},
   "outputs": [
    {
     "name": "stdout",
     "output_type": "stream",
     "text": [
      "torch.Size([14780]) (14780,)\n"
     ]
    }
   ],
   "source": [
    "y_mean2 = scaler_y.inverse_transform(y_mean2.cpu().reshape(-1,1)).squeeze()\n",
    "# y_sigma = scaler_y.inverse_transform(y_sigma.reshape(-1,1)).squeeze()\n",
    "print(yt.shape, y_mean2.shape)"
   ]
  },
  {
   "cell_type": "code",
   "execution_count": 26,
   "metadata": {},
   "outputs": [
    {
     "name": "stdout",
     "output_type": "stream",
     "text": [
      "saving image to ./Final_plotss/RBFxPeriodicKernel_latexified.pdf\n",
      "Figure size: [2. 2.]\n"
     ]
    }
   ],
   "source": [
    "idx = 2000\n",
    "plt.figure()\n",
    "# plt.figure(figsize=(10,6))\n",
    "plt.plot(jnp.arange(idx), yt[300:idx+300], label = \"Fridge True\")\n",
    "plt.plot(jnp.arange(idx), y_mean2[300:idx+300], label = \"Fridge Predicted\")\n",
    "# plt.legend()\n",
    "sns.despine()\n",
    "savefig(\"RBFxPeriodicKernel\")"
   ]
  },
  {
   "cell_type": "markdown",
   "metadata": {},
   "source": [
    "## Normal"
   ]
  },
  {
   "cell_type": "code",
   "execution_count": 16,
   "metadata": {},
   "outputs": [],
   "source": [
    "# kernel1 = ScaleKernel(MaternKernel(nu=2.5,ard_num_dims=n))\n",
    "# # kernel2 = ScaleKernel(MaternKernel(nu=0.5,ard_num_dims=1,active_dims=(99)))\n",
    "# # kernel3 = ScaleKernel(PeriodicKernel(ard_num_dims=1,active_dims=(99)))\n",
    "# # # kernel5 = ScaleKernel(gpytorch.kernels.SpectralDeltaKernel(num_dims=n,ard_num_dims=n))\n",
    "# # #   theta =  {'base_covar_module.kernels.0.base_kernel.lengthscale': torch.tensor(0.5),\n",
    "# # #         'base_covar_module.kernels.0.outputscale': torch.tensor(5.0),\n",
    "# # #         'base_covar_module.kernels.1.kernels.0.outputscale':torch.tensor(1.0),\n",
    "# # #         'base_covar_module.kernels.1.kernels.0.base_kernel.lengthscale': torch.tensor(0.1),\n",
    "# # #         'base_covar_module.kernels.1.kernels.1.outputscale':torch.tensor(1.0),\n",
    "# # #         'base_covar_module.kernels.1.kernels.1.base_kernel.lengthscale': torch.tensor(1.0),\n",
    "# # #         'base_covar_module.kernels.1.kernels.1.base_kernel.period_length': torch.tensor(0.01),}\n",
    "# # #theta = { 'base_covar_module.kernels.1.kernels.1.base_kernel.period_length': torch.tensor(0.01),}\n",
    "# # kernel4 = kernel2*kernel3\n",
    "# kernel = kernel1 #+ kernel4\n",
    "# inducing_points =  x[np.arange(0,x.shape[0],95)] \n",
    "# # inducing_points = x[torch.randperm(x.shape[0])[: 1500]]\n",
    "\n",
    "# model = SGPRegressor(x.to(\"cuda\"), y.to(\"cuda\"), kernel,\n",
    "#                       inducing_points).to(\"cuda\")\n",
    "# model_name = \"Refrigerator_trial_seq_time.pt\"\n",
    "# # model_name =  \"Refrigerator_trial_seq_time.pt\"\n",
    "# model.load_state_dict(torch.load(\n",
    "#     os.path.join(\"models/\", model_name)))"
   ]
  },
  {
   "cell_type": "code",
   "execution_count": 17,
   "metadata": {},
   "outputs": [
    {
     "data": {
      "text/plain": [
       "<matplotlib.collections.PathCollection at 0x7f3c86c11ba0>"
      ]
     },
     "execution_count": 17,
     "metadata": {},
     "output_type": "execute_result"
    },
    {
     "data": {
      "image/png": "[encoded data removed]",
      "text/plain": [
       "<Figure size 432x288 with 1 Axes>"
      ]
     },
     "metadata": {
      "needs_background": "light"
     },
     "output_type": "display_data"
    }
   ],
   "source": [
    "plt.scatter(range(x_train_features.shape[1]),model.mll.model.base_covar_module.base_kernel.lengthscale.cpu().detach().reshape(-1,1))"
   ]
  },
  {
   "cell_type": "code",
   "execution_count": null,
   "metadata": {},
   "outputs": [
    {
     "data": {
      "text/plain": [
       "<matplotlib.collections.PathCollection at 0x7f8ff1191a50>"
      ]
     },
     "execution_count": 17,
     "metadata": {},
     "output_type": "execute_result"
    },
    {
     "data": {
      "image/png": "[encoded data removed]",
      "text/plain": [
       "<Figure size 432x288 with 1 Axes>"
      ]
     },
     "metadata": {
      "needs_background": "light"
     },
     "output_type": "display_data"
    }
   ],
   "source": [
    "# plt.scatter(range(7),model.mll.model.base_covar_module.kernels[0].base_kernel.lengthscale.cpu().detach().reshape(-1,1)[:7])"
   ]
  },
  {
   "cell_type": "code",
   "execution_count": 23,
   "metadata": {},
   "outputs": [
    {
     "name": "stdout",
     "output_type": "stream",
     "text": [
      "mll.likelihood.noise_covar.raw_noise Parameter containing:\n",
      "tensor([0.], device='cuda:0', requires_grad=True)\n",
      "mll.model.mean_module.constant Parameter containing:\n",
      "tensor([0.], device='cuda:0', requires_grad=True)\n",
      "mll.model.base_covar_module.kernels.0.raw_outputscale Parameter containing:\n",
      "tensor(0., device='cuda:0', requires_grad=True)\n",
      "mll.model.base_covar_module.kernels.0.base_kernel.raw_lengthscale Parameter containing:\n",
      "tensor([[0., 0., 0., 0., 0., 0., 0., 0.]], device='cuda:0', requires_grad=True)\n",
      "mll.model.base_covar_module.kernels.1.kernels.0.raw_outputscale Parameter containing:\n",
      "tensor(0., device='cuda:0', requires_grad=True)\n",
      "mll.model.base_covar_module.kernels.1.kernels.0.base_kernel.raw_lengthscale Parameter containing:\n",
      "tensor([[0.]], device='cuda:0', requires_grad=True)\n",
      "mll.model.base_covar_module.kernels.1.kernels.1.raw_outputscale Parameter containing:\n",
      "tensor(0., device='cuda:0', requires_grad=True)\n",
      "mll.model.base_covar_module.kernels.1.kernels.1.base_kernel.raw_lengthscale Parameter containing:\n",
      "tensor([[0.]], device='cuda:0', requires_grad=True)\n",
      "mll.model.base_covar_module.kernels.1.kernels.1.base_kernel.raw_period_length Parameter containing:\n",
      "tensor([[-4.6002]], device='cuda:0', requires_grad=True)\n",
      "mll.model.base_covar_module.kernels.2.raw_outputscale Parameter containing:\n",
      "tensor(0., device='cuda:0', requires_grad=True)\n",
      "mll.model.base_covar_module.kernels.2.base_kernel.raw_lengthscale Parameter containing:\n",
      "tensor([[0.]], device='cuda:0', requires_grad=True)\n",
      "mll.model.base_covar_module.kernels.2.base_kernel.raw_period_length Parameter containing:\n",
      "tensor([[0.]], device='cuda:0', requires_grad=True)\n",
      "mll.model.covar_module.inducing_points Parameter containing:\n",
      "tensor([[-0.2894, -0.5732, -0.4339,  ..., -0.3728, -0.2894, -0.9552],\n",
      "        [-0.0950, -0.3617, -0.5689,  ..., -0.0872, -0.0950, -0.9464],\n",
      "        [-0.0724,  0.3677,  0.5707,  ...,  0.1996, -0.0724, -0.9248],\n",
      "        ...,\n",
      "        [ 5.0168,  4.7217,  1.9852,  ..., -0.5320,  5.0168,  3.1885],\n",
      "        [ 5.0279,  6.9658,  1.9885,  ...,  0.8021,  5.0279,  3.1974],\n",
      "        [-0.0485,  0.7413,  1.9217,  ...,  0.4286, -0.0485,  3.2063]],\n",
      "       device='cuda:0', dtype=torch.float64, requires_grad=True)\n"
     ]
    }
   ],
   "source": [
    "for name, params in model.named_parameters():\n",
    "  print(name, params)"
   ]
  },
  {
   "cell_type": "code",
   "execution_count": 16,
   "metadata": {},
   "outputs": [],
   "source": [
    "# import numpy as np\n",
    "# try:\n",
    "#     from probml_utils import latexify, savefig, is_latexify_enabled\n",
    "# except ModuleNotFoundError:\n",
    "#     %pip install git+https://github.com/probml/probml-utils.git\n",
    "#     from probml_utils import latexify, savefig, is_latexify_enabled\n",
    "\n",
    "\n",
    "# os.environ[\"LATEXIFY\"] = \"1\"\n",
    "# os.environ[\"FIG_DIR\"] = \"./Final_plotss/\"\n",
    "\n",
    "# latexify(width_scale_factor=2, fig_height=2)\n"
   ]
  },
  {
   "cell_type": "code",
   "execution_count": 17,
   "metadata": {},
   "outputs": [],
   "source": [
    "# import seaborn as sns\n",
    "# import matplotlib.pyplot as plt"
   ]
  },
  {
   "cell_type": "code",
   "execution_count": 18,
   "metadata": {},
   "outputs": [],
   "source": [
    "# arr = np.array([3.8464, 4.5094, 4.7394, 4.9024, 4.9117, 5.0150, 4.8746, 4.9372, 4.3143,\n",
    "#          4.5656, 5.0050, 5.1365, 5.1490, 5.2152, 5.2837, 5.2594, 5.1965, 5.0747,\n",
    "#          5.1212, 4.8200, 4.6431, 4.8732, 4.7529, 0.3853, 4.4826, 4.9550, 5.0677,\n",
    "#          5.2859, 4.9612, 5.1401, 5.2131, 4.4774, 4.5654, 4.5685, 3.8310, 3.0889,\n",
    "#          2.7822, 4.0948, 4.0399, 4.6180, 4.5923, 4.5015, 4.0521, 4.8423, 5.2143,\n",
    "#          5.4020, 4.8021, 4.5021, 0.6626, 0.1252, 1.3779, 4.8821, 4.6781, 4.8554,\n",
    "#          4.5223, 4.5568, 5.0172, 5.4072, 5.0706, 4.5916, 4.5663, 4.1121, 4.2572,\n",
    "#          4.2228, 3.7784, 0.4839, 3.6554, 4.3523, 4.6682, 4.6549, 4.8291, 5.0260,\n",
    "#          4.7748, 4.5609, 4.4541, 4.4165, 4.4292, 4.1279, 3.6382, 4.1110, 4.7252,\n",
    "#          5.0184, 5.0391, 5.2424, 5.5062, 5.4739, 5.5326, 5.6874, 5.6897, 5.4765,\n",
    "#          5.4602, 5.4513, 5.5450, 5.6225, 5.5479, 5.3580, 5.3926, 5.1536, 4.6321])\n",
    "# ar1 = np.arange(0,99,1)\n",
    "# plt.plot(ar1,arr,'b')\n",
    "# plt.xlabel('ARD')\n",
    "# plt.ylabel('Learned ARD LengthScale values')\n",
    "# # plt.title(\"Building 6 Test\")\n",
    "\n",
    "# plt.show()\n",
    "# sns.despine()\n",
    "# savefig(\"ARD_Ref\")\n"
   ]
  },
  {
   "cell_type": "code",
   "execution_count": 21,
   "metadata": {},
   "outputs": [],
   "source": [
    "pred_dist = model.predict(xt.to(\"cuda\"))\n",
    "# print(\"Done \", i)/\n",
    "\n"
   ]
  },
  {
   "cell_type": "code",
   "execution_count": 22,
   "metadata": {},
   "outputs": [],
   "source": [
    "y_mean = pred_dist.loc"
   ]
  },
  {
   "cell_type": "code",
   "execution_count": 23,
   "metadata": {},
   "outputs": [
    {
     "name": "stdout",
     "output_type": "stream",
     "text": [
      "torch.Size([15656]) (15656,)\n"
     ]
    }
   ],
   "source": [
    "y_mean = scalers[1].inverse_transform(y_mean.cpu().reshape(-1,1)).squeeze()\n",
    "# y_sigma = scaler_y.inverse_transform(y_sigma.reshape(-1,1)).squeeze()\n",
    "print(yt.shape, y_mean.shape)"
   ]
  },
  {
   "cell_type": "code",
   "execution_count": 24,
   "metadata": {},
   "outputs": [],
   "source": [
    "y_mean = np.clip(y_mean,0,y_mean.max(),out=y_mean)"
   ]
  },
  {
   "cell_type": "markdown",
   "metadata": {},
   "source": []
  },
  {
   "cell_type": "code",
   "execution_count": 25,
   "metadata": {},
   "outputs": [
    {
     "data": {
      "text/plain": [
       "Text(0, 0.5, 'Raw Error on Test')"
      ]
     },
     "execution_count": 25,
     "metadata": {},
     "output_type": "execute_result"
    },
    {
     "data": {
      "image/png": "[encoded data removed]",
      "text/plain": [
       "<Figure size 432x288 with 1 Axes>"
      ]
     },
     "metadata": {
      "needs_background": "light"
     },
     "output_type": "display_data"
    }
   ],
   "source": [
    "idx=3000\n",
    "mae_arr = (np.array(yt) - y_mean)\n",
    "# mae_arr = np.abs(np.array(yt) - y_mean)\n",
    "plt.plot(x_test_timestamp[:idx],mae_arr[:idx])\n",
    "plt.xlabel(\"TimeStamp\")\n",
    "plt.ylabel(\"Raw Error on Test\")"
   ]
  },
  {
   "cell_type": "code",
   "execution_count": 26,
   "metadata": {},
   "outputs": [
    {
     "data": {
      "text/plain": [
       "<matplotlib.legend.Legend at 0x7f8b44e10f70>"
      ]
     },
     "execution_count": 26,
     "metadata": {},
     "output_type": "execute_result"
    },
    {
     "data": {
      "image/png": "[encoded data removed]",
      "text/plain": [
       "<Figure size 432x288 with 1 Axes>"
      ]
     },
     "metadata": {
      "needs_background": "light"
     },
     "output_type": "display_data"
    }
   ],
   "source": [
    "idx=yt.shape[0]\n",
    "mae_arr = np.abs(np.array(yt) - y_mean)\n",
    "plt.plot(x_test_timestamp[:idx],yt[:idx], label = \"ref\")\n",
    "plt.plot(x_test_timestamp[:idx],mae_arr[:idx], label=\"Eror\")\n",
    "plt.xlabel(\"TimeStamp\")\n",
    "plt.ylabel(\"Power and Error\")\n",
    "plt.legend()"
   ]
  },
  {
   "cell_type": "code",
   "execution_count": 27,
   "metadata": {},
   "outputs": [
    {
     "data": {
      "text/plain": [
       "<AxesSubplot:ylabel='Density'>"
      ]
     },
     "execution_count": 27,
     "metadata": {},
     "output_type": "execute_result"
    },
    {
     "data": {
      "image/png": "[encoded data removed]",
      "text/plain": [
       "<Figure size 432x288 with 1 Axes>"
      ]
     },
     "metadata": {
      "needs_background": "light"
     },
     "output_type": "display_data"
    }
   ],
   "source": [
    "sns.kdeplot(mae_arr)"
   ]
  },
  {
   "cell_type": "code",
   "execution_count": 28,
   "metadata": {},
   "outputs": [
    {
     "data": {
      "text/plain": [
       "Text(0, 0.5, 'Absolute Error on Test')"
      ]
     },
     "execution_count": 28,
     "metadata": {},
     "output_type": "execute_result"
    },
    {
     "data": {
      "image/png": "[encoded data removed]",
      "text/plain": [
       "<Figure size 432x288 with 1 Axes>"
      ]
     },
     "metadata": {
      "needs_background": "light"
     },
     "output_type": "display_data"
    }
   ],
   "source": [
    "mae_arr1 = []\n",
    "\n",
    "\n",
    "for i in range(len(mae_arr)):\n",
    "  if (mae_arr[i]>300):\n",
    "    mae_arr1.append(0)\n",
    "  else:\n",
    "    mae_arr1.append(mae_arr[i])\n",
    "\n",
    "np.mean(mae_arr1)\n",
    "\n",
    "plt.plot(x_test_timestamp[:],mae_arr1[:])\n",
    "plt.xlabel(\"TimeStamp\")\n",
    "plt.ylabel(\"Absolute Error on Test\")"
   ]
  },
  {
   "cell_type": "code",
   "execution_count": 29,
   "metadata": {},
   "outputs": [
    {
     "name": "stdout",
     "output_type": "stream",
     "text": [
      "MAE:  7.27310890395241\n",
      "RMSE:  20.885637\n"
     ]
    }
   ],
   "source": [
    "mae = np.mean(np.abs(np.array(yt) - y_mean))\n",
    "rms = errors.rmse(jnp.array(yt), y_mean)\n",
    "\n",
    "print(\"MAE: \", mae)\n",
    "print(\"RMSE: \", rms)"
   ]
  },
  {
   "cell_type": "code",
   "execution_count": 31,
   "metadata": {},
   "outputs": [],
   "source": [
    "x1 = x_test_features[:,0].reshape(-1,1)"
   ]
  },
  {
   "cell_type": "code",
   "execution_count": 32,
   "metadata": {},
   "outputs": [],
   "source": [
    "x2 =  x_test_features[:,1].reshape(-1,1)"
   ]
  },
  {
   "cell_type": "code",
   "execution_count": 30,
   "metadata": {},
   "outputs": [],
   "source": [
    "\n",
    "# x3 = x_train_features[:,0].reshape(-1,1)\n",
    "# x4 =  x_train_features[:,1].reshape(-1,1)\n",
    "# print(x4.min())\n",
    "# idx = 5000\n",
    "# plt.figure(figsize=(10,6))\n",
    "# plt.plot(x_train_timstamp[:idx], scalers[3].inverse_transform(x3)[:idx], label = \"Main\")\n",
    "# plt.legend()\n",
    "# plt.title(\"Train\")"
   ]
  },
  {
   "cell_type": "code",
   "execution_count": 31,
   "metadata": {},
   "outputs": [],
   "source": [
    "# idx = 3000\n",
    "# plt.figure(figsize=(10,6))\n",
    "# plt.plot(x_test_timestamp[:idx], scalers[3].inverse_transform(x1)[:idx], label = \"Main\")\n",
    "# plt.plot(x_test_timestamp[:idx], scalers[-1].inverse_transform(x2)[:idx], label = \"Main Ref Dif\")\n",
    "# plt.legend()\n",
    "# plt.title(\"Test\")"
   ]
  },
  {
   "cell_type": "code",
   "execution_count": 29,
   "metadata": {},
   "outputs": [
    {
     "data": {
      "text/plain": [
       "0.0"
      ]
     },
     "execution_count": 29,
     "metadata": {},
     "output_type": "execute_result"
    }
   ],
   "source": [
    "y_mean.min()"
   ]
  },
  {
   "cell_type": "code",
   "execution_count": 38,
   "metadata": {},
   "outputs": [
    {
     "data": {
      "text/plain": [
       "<matplotlib.legend.Legend at 0x7fa2986f3520>"
      ]
     },
     "execution_count": 38,
     "metadata": {},
     "output_type": "execute_result"
    },
    {
     "data": {
      "image/png": "[encoded data removed]",
      "text/plain": [
       "<Figure size 432x288 with 1 Axes>"
      ]
     },
     "metadata": {
      "needs_background": "light"
     },
     "output_type": "display_data"
    }
   ],
   "source": [
    "\n",
    "y_train1 = scalers[1].inverse_transform(y_train.reshape(-1,1))\n",
    "idx = 1000\n",
    "start = 0\n",
    "x_train_plt = scalers[3].inverse_transform (x_train_features[:,0].reshape(-1,1))\n",
    "plt.plot(x_train_timstamp[start : start + idx], x_train_plt[start : start + idx], label = \"Main\")\n",
    "plt.plot(x_train_timstamp[start : start + idx], y_train1[start : start + idx], label = \"Refri\")\n",
    "plt.legend()"
   ]
  },
  {
   "cell_type": "code",
   "execution_count": 31,
   "metadata": {},
   "outputs": [
    {
     "name": "stdout",
     "output_type": "stream",
     "text": [
      "-4.809015e-08\n"
     ]
    },
    {
     "data": {
      "text/plain": [
       "<matplotlib.collections.PathCollection at 0x7fa298613ac0>"
      ]
     },
     "execution_count": 31,
     "metadata": {},
     "output_type": "execute_result"
    },
    {
     "data": {
      "image/png": "[encoded data removed]",
      "text/plain": [
       "<Figure size 432x288 with 1 Axes>"
      ]
     },
     "metadata": {
      "needs_background": "light"
     },
     "output_type": "display_data"
    }
   ],
   "source": [
    "y_train1 = scalers[1].inverse_transform(y_train.reshape(-1,1))\n",
    "print(y_train1.min())\n",
    "plt.scatter(x_train_timstamp[:idx], y_train1[:idx], label = \"Refri\")"
   ]
  },
  {
   "cell_type": "code",
   "execution_count": 33,
   "metadata": {},
   "outputs": [],
   "source": [
    "time_plot = scalers[2].inverse_transform(x_test_timestamp.reshape(-1,1))"
   ]
  },
  {
   "cell_type": "code",
   "execution_count": 40,
   "metadata": {},
   "outputs": [
    {
     "data": {
      "image/png": "[encoded data removed]",
      "text/plain": [
       "<Figure size 720x432 with 1 Axes>"
      ]
     },
     "metadata": {
      "needs_background": "light"
     },
     "output_type": "display_data"
    }
   ],
   "source": [
    "idx = 1000 #x2.shape[0]\n",
    "start = 4000\n",
    "plt.figure(figsize=(10,6))\n",
    "# plt.plot(time_plot[start:start+idx], scalers[3].inverse_transform(x1)[start:start+idx], label = \"Main\")\n",
    "# plt.plot(x_test_timestamp[:idx], scalers[-1].inverse_transform(x2)[:idx], label = \"Main Ref Dif\")\n",
    "plt.plot(time_plot[start:start+idx], yt.cpu()[start:start+idx], label = \"Refri\")\n",
    "plt.plot(time_plot[start:start+idx], y_mean[start:start+idx], label = \"Predicted\")\n",
    "plt.legend(bbox_to_anchor=(1, 1),fontsize=20)\n",
    "plt.xlabel(\"TimeStamp test Scaled\")\n",
    "plt.ylabel(\"Fridge  test Power\")\n",
    "plt.title(\"Building 6\")\n",
    "sns.despine()"
   ]
  },
  {
   "cell_type": "code",
   "execution_count": 33,
   "metadata": {},
   "outputs": [
    {
     "data": {
      "text/plain": [
       "<matplotlib.legend.Legend at 0x7fa298713760>"
      ]
     },
     "execution_count": 33,
     "metadata": {},
     "output_type": "execute_result"
    },
    {
     "data": {
      "image/png": "[encoded data removed]",
      "text/plain": [
       "<Figure size 432x288 with 1 Axes>"
      ]
     },
     "metadata": {
      "needs_background": "light"
     },
     "output_type": "display_data"
    }
   ],
   "source": [
    "# idx= 6000#yt.shape[0]\n",
    "# start = 3000\n",
    "mae_arr = np.abs(np.array(yt) - y_mean)\n",
    "plt.plot(x_test_timestamp[start:start+idx],yt[start:start+idx], label = \"ref ground truth\")\n",
    "plt.plot(x_test_timestamp[start:start+idx],mae_arr[start:start+idx], label=\"Eror\")\n",
    "plt.xlabel(\"TimeStamp\")\n",
    "plt.ylabel(\"Power and Error\")\n",
    "plt.legend()"
   ]
  },
  {
   "cell_type": "code",
   "execution_count": 34,
   "metadata": {},
   "outputs": [
    {
     "data": {
      "text/plain": [
       "(172.19618234826427, 1)"
      ]
     },
     "execution_count": 34,
     "metadata": {},
     "output_type": "execute_result"
    }
   ],
   "source": [
    "value, count = np.unique(y_mean, return_counts=True)\n",
    "\n",
    "Z = [x for _,x in sorted(zip(value,count))]\n",
    "\n",
    "value[13000:14000].max(), count[13000:14000].max()"
   ]
  },
  {
   "cell_type": "code",
   "execution_count": 35,
   "metadata": {},
   "outputs": [],
   "source": [
    "y_mean1 = np.array(y_mean)\n",
    "for i in range(len(y_mean)):\n",
    "\n",
    "  # if y_mean1[i]>80 and y_mean[i]<120:\n",
    "  if y_mean[i]>150:\n",
    "    y_mean1[i] = 145\n",
    "  if y_mean1[i]<100 and y_mean1[i]>50:\n",
    "    y_mean1[i] = 145\n",
    "  if y_mean1[i]<50:\n",
    "      y_mean1[i] = 0"
   ]
  },
  {
   "cell_type": "code",
   "execution_count": 36,
   "metadata": {},
   "outputs": [
    {
     "data": {
      "image/png": "[encoded data removed]",
      "text/plain": [
       "<Figure size 720x432 with 1 Axes>"
      ]
     },
     "metadata": {
      "needs_background": "light"
     },
     "output_type": "display_data"
    }
   ],
   "source": [
    "index = 3009\n",
    "start = 0\n",
    "plt.figure(figsize=(10,6))\n",
    "# plt.plot(x_test_timestamp[:idx], scalers[3].inverse_transform(x1)[:idx], label = \"Main\")\n",
    "# plt.plot(x_test_timestamp[:idx], scalers[-1].inverse_transform(x2)[:idx], label = \"Main Ref Dif\")\n",
    "plt.plot(x_test_timestamp[start:start+index], yt.cpu()[start:start+index], label = \"Refri\")\n",
    "plt.plot(x_test_timestamp[start:start+index], y_mean1[start:start+index], label = \"Predicted\")\n",
    "plt.legend(bbox_to_anchor=(1, 1),fontsize=20)\n",
    "plt.xlabel(\"TimeStamp test Scaled\")\n",
    "plt.ylabel(\"Fridge  test Power\")\n",
    "plt.title(\"Building 6\")\n",
    "sns.despine()"
   ]
  },
  {
   "cell_type": "code",
   "execution_count": 37,
   "metadata": {},
   "outputs": [
    {
     "name": "stdout",
     "output_type": "stream",
     "text": [
      "MAE:  18.530257224714664\n",
      "RMSE:  39.461452\n"
     ]
    }
   ],
   "source": [
    "mae = np.mean(np.abs(np.array(yt) - y_mean1))\n",
    "rms = errors.rmse(jnp.array(yt), y_mean1)\n",
    "\n",
    "print(\"MAE: \", mae)\n",
    "print(\"RMSE: \", rms)"
   ]
  },
  {
   "cell_type": "code",
   "execution_count": 41,
   "metadata": {},
   "outputs": [
    {
     "data": {
      "text/plain": [
       "24.50672942623629"
      ]
     },
     "execution_count": 41,
     "metadata": {},
     "output_type": "execute_result"
    }
   ],
   "source": [
    "mae_arr = np.abs(np.array(yt) - y_mean1)\n",
    "mae_arr1 = []\n",
    "for i in range(len(mae_arr)):\n",
    "  if (mae_arr[i]>300):\n",
    "    mae_arr1.append(0)\n",
    "  else:\n",
    "    mae_arr1.append(mae_arr[i])\n",
    "\n",
    "np.mean(mae_arr1)\n"
   ]
  },
  {
   "cell_type": "code",
   "execution_count": null,
   "metadata": {},
   "outputs": [],
   "source": [
    "# idx = 3000\n",
    "# plt.figure(figsize=(10,6))\n",
    "# plt.plot(jnp.arange(idx), scaler_y.inverse_transform(y.cpu().reshape(-1,1))[:idx], label = \"Main\")\n",
    "# plt.plot(jnp.arange(idx), yt.cpu()[:idx], label = \"Refri\")\n",
    "# plt.plot(jnp.arange(idx), y_mean[:idx], label = \"Predicted\")\n",
    "# plt.legend(bbox_to_anchor=(1, 1),fontsize=20)\n",
    "# plt.xlabel(\"Indexes\")\n",
    "# plt.ylabel(\"Fridge Power\")\n",
    "# sns.despine()"
   ]
  },
  {
   "cell_type": "code",
   "execution_count": 20,
   "metadata": {},
   "outputs": [],
   "source": [
    "# plt.plot(np.array(test_timestamp_orig)[:300],np.array(yt)[:300])\n",
    "# plt.plot(np.array(test_timestamp_orig)[:300],np.array(y_mean)[:300])"
   ]
  },
  {
   "cell_type": "code",
   "execution_count": 21,
   "metadata": {},
   "outputs": [],
   "source": [
    "# plt.scatter(np.array(test_timestamp_orig)[:3000],np.array(y_mean)[:3000],label=\"True\")\n",
    "# plt.scatter(np.array(test_timestamp_orig)[:3000],np.array(yt)[:3000],label=\"Pred\")\n",
    "# plt.legend()\n",
    "# plt.xlabel(\"TimeStamp\")\n",
    "# plt.xlabel(\"Refrogerator Power\")"
   ]
  },
  {
   "cell_type": "code",
   "execution_count": 22,
   "metadata": {},
   "outputs": [
    {
     "data": {
      "image/png": "[encoded data removed]",
      "text/plain": [
       "<Figure size 720x432 with 1 Axes>"
      ]
     },
     "metadata": {
      "needs_background": "light"
     },
     "output_type": "display_data"
    }
   ],
   "source": [
    "idx = x_test.shape[0]\n",
    "plt.figure(figsize=(10,6))\n",
    "plt.plot(x_test_timestamp, y_test[:idx], label = \"Refri\")\n",
    "plt.plot(x_test_timestamp, y_mean[:idx], label = \"Predicted\")\n",
    "plt.legend(bbox_to_anchor=(1, 1),fontsize=20)\n",
    "plt.xlabel(\"TimeStamp test Scaled\")\n",
    "plt.ylabel(\"Fridge  test Power\")\n",
    "sns.despine()\n",
    "# savefig(\"CombinationKernel\")\n",
    "# plt.savefig(\"./Results/Refrigerator_building5.png\", bbox_inches=\"tight\")"
   ]
  },
  {
   "cell_type": "code",
   "execution_count": 27,
   "metadata": {},
   "outputs": [],
   "source": [
    "model1 = SGPRegressor(x.to(\"cuda\"), y.to(\"cuda\"), kernel1,\n",
    "                      inducing_points).to(\"cuda\")"
   ]
  },
  {
   "cell_type": "code",
   "execution_count": null,
   "metadata": {},
   "outputs": [],
   "source": [
    "pred_dist1 = model.predict(torch.tensor(np.array(x_train_full)).to(\"cuda\"))\n",
    "# print(\"Done \", i)\n",
    "\n",
    "y_mean1 = pred_dist1.loc"
   ]
  },
  {
   "cell_type": "code",
   "execution_count": null,
   "metadata": {},
   "outputs": [],
   "source": [
    "y_mean1 = scaler_y.inverse_transform(y_mean1.cpu().reshape(-1,1)).squeeze()\n",
    "# y_sigma = scaler_y.inverse_transform(y_sigma.reshape(-1,1)).squeeze()\n",
    "print(y_train.shape, y_mean1.shape)"
   ]
  },
  {
   "cell_type": "code",
   "execution_count": null,
   "metadata": {},
   "outputs": [],
   "source": [
    "mae = np.mean(np.abs(np.array(y_train) - y_mean1))\n",
    "rms = errors.rmse(jnp.array(y_train), y_mean1)\n",
    "\n",
    "print(\"MAE: \", mae)\n",
    "print(\"RMSE: \", rms)"
   ]
  },
  {
   "cell_type": "code",
   "execution_count": null,
   "metadata": {},
   "outputs": [],
   "source": [
    "idx = x_train.shape[0]\n",
    "plt.figure(figsize=(10,6))\n",
    "plt.plot(x_train_timstamp, y_train[:idx], label = \"Refri\")\n",
    "plt.plot(x_train_timstamp, y_mean[:idx], label = \"Predicted\")\n",
    "plt.legend(bbox_to_anchor=(1, 1),fontsize=20)\n",
    "plt.xlabel(\"TimeStamp test Scaled\")\n",
    "plt.ylabel(\"Fridge  test Power\")\n",
    "sns.despine()\n",
    "# savefig(\"CombinationKernel\")\n",
    "# plt.savefig(\"./Results/Refrigerator_building5.png\", bbox_inches=\"tight\")"
   ]
  },
  {
   "cell_type": "code",
   "execution_count": null,
   "metadata": {},
   "outputs": [],
   "source": [
    "#MAE:  39.81858310475401 build 6\n",
    "#MAE:  30.333733374869247 build 3\n",
    "#MAE:  37.32115756605644 build 2\n",
    "#MAE: 43.212248588857065 build 5\n",
    "#MAE:  48.917852990726765"
   ]
  },
  {
   "cell_type": "code",
   "execution_count": null,
   "metadata": {},
   "outputs": [],
   "source": [
    "# MAE: Building 6 MAE: 35.07\n",
    "# MAE: Building 3 MAE:  31.565\n",
    "# MAE: Building 2 MAE: 31.089\n",
    "# MAE: Building 1 MAE: 37.3657\n",
    "# MAE: Building 5 MAE:  46.316869"
   ]
  },
  {
   "cell_type": "code",
   "execution_count": null,
   "metadata": {},
   "outputs": [],
   "source": [
    "# MAE: Building 6 MAE: 34.3709125\n",
    "# MAE: Building 3 MAE: 30.919\n",
    "# MAE: Building 2 MAE: 30.43776\n",
    "# MAE: Building 1 MAE: 37.10209\n",
    "# MAE: Building 5 MAE: 45.02767"
   ]
  },
  {
   "cell_type": "code",
   "execution_count": null,
   "metadata": {},
   "outputs": [],
   "source": [
    "frequency decomposition\n",
    "knn for all features \n",
    "try features which have numpy inbuilt\n",
    "spectral kernel"
   ]
  }
 ],
 "metadata": {
  "kernelspec": {
   "display_name": "Python 3.10.4 ('nlim')",
   "language": "python",
   "name": "python3"
  },
  "language_info": {
   "codemirror_mode": {
    "name": "ipython",
    "version": 3
   },
   "file_extension": ".py",
   "mimetype": "text/x-python",
   "name": "python",
   "nbconvert_exporter": "python",
   "pygments_lexer": "ipython3",
   "version": "3.10.4"
  },
  "orig_nbformat": 4,
  "vscode": {
   "interpreter": {
    "hash": "4a19952a8cb0d513e360355f3718fc7b5b0ccef7313ddd97e7b7ab66b1ecfbb8"
   }
  }
 },
 "nbformat": 4,
 "nbformat_minor": 2
}
