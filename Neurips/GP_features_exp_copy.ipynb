{
 "cells": [
  {
   "cell_type": "code",
   "execution_count": 1,
   "metadata": {},
   "outputs": [],
   "source": [
    "import os\n",
    "os.chdir(\"../\")\n",
    "os.environ[\"CUDA_VISIBLE_DEVICES\"] = \"1\""
   ]
  },
  {
   "cell_type": "code",
   "execution_count": 2,
   "metadata": {},
   "outputs": [],
   "source": [
    "import torch\n",
    "from gpytorch.kernels import RBFKernel, ScaleKernel, PeriodicKernel, MaternKernel, CosineKernel\n",
    "from skgpytorch.models import SVGPRegressor, SGPRegressor\n",
    "from scipy.stats import kurtosis,skew"
   ]
  },
  {
   "cell_type": "code",
   "execution_count": 3,
   "metadata": {},
   "outputs": [],
   "source": [
    "import jax.numpy as jnp\n",
    "import pandas as pd\n",
    "from sklearn.preprocessing import StandardScaler\n",
    "import matplotlib.pyplot as plt\n",
    "import seaborn as sns\n",
    "from utilities.fits import fit\n",
    "# from utilities import plot\n",
    "import tensorflow_probability.substrates.jax as tfp\n",
    "dist = tfp.distributions\n",
    "import pandas as pd\n",
    "import jax.numpy as jnp\n",
    "from datetime import datetime\n",
    "from sklearn.preprocessing import StandardScaler\n",
    "from gpytorch.constraints import GreaterThan\n",
    "from skgpytorch.metrics import mean_squared_error, negative_log_predictive_density\n",
    "import time\n",
    "import numpy as np\n",
    "\n",
    "# from datasets.dataset_load import dataset_loader\n",
    "from utilities import plot,fits,gmm,errors,predict,preprocess\n",
    "\n",
    "# device = \"cpu\"\n",
    "# torch.set_default_dtype(torch.float32)\n",
    "# torch.set_default_tensor_type(torch.FloatTensor)\n"
   ]
  },
  {
   "cell_type": "code",
   "execution_count": 4,
   "metadata": {},
   "outputs": [],
   "source": [
    "train ={1:{\n",
    "            'start_time': \"2011-04-28\" ,\n",
    "            'end_time': \"2011-05-15\"\n",
    "        }, \n",
    "        3: {\n",
    "        'start_time': \"2011-04-19\" ,\n",
    "        'end_time': \"2011-05-22\"\n",
    "        },\n",
    "            \n",
    "        }\n",
    "\n",
    "test = {  2: {\n",
    "                    'start_time': \"2011-04-21\" ,\n",
    "                    'end_time': \"2011-05-21\"\n",
    "                },\n",
    "                }\n",
    "\n",
    "# 6: {\n",
    "#                     'start_time': \"2011-05-25\" ,\n",
    "#                     'end_time': \"2011-06-13\"\n",
    "#                 }\n",
    "\n",
    "# 5: {\n",
    "#                     'start_time': \"2011-04-22\" ,\n",
    "#                     'end_time': \"2011-06-01\"\n",
    "#                 }\n",
    "appliances = [\"Microwave\", \"Refrigerator\",  \"Dish Washer\"] #"
   ]
  },
  {
   "cell_type": "code",
   "execution_count": 7,
   "metadata": {},
   "outputs": [],
   "source": [
    "import pandas as pd\n",
    "import jax.numpy as jnp\n",
    "from datetime import datetime\n",
    "from sklearn.preprocessing import StandardScaler\n",
    "\n",
    "\n",
    "def dataset_load(appliances, train, test=None):\n",
    "    x_train = []\n",
    "    y_train = []\n",
    "    x_train_timestamp = []\n",
    "    x_train_mean = []\n",
    "    x_train_std = []\n",
    "    x_train_max_min = []\n",
    "    x_train_main = []\n",
    "    x_train_main_dif = []\n",
    "    x_train_max = []\n",
    "    x_train_min = []\n",
    "    x_train_kurtosis = []\n",
    "    x_train_skew = []\n",
    "    n = 99\n",
    "    m = 9\n",
    "    units_to_pad = n // 2\n",
    "    units_to_pad1 = m//2\n",
    "    scaler_x = StandardScaler()\n",
    "    scaler_y = StandardScaler()\n",
    "    scaler_time = StandardScaler()\n",
    "    scaler_mean = StandardScaler()\n",
    "    scaler_std = StandardScaler()\n",
    "    scaler_max_min = StandardScaler()\n",
    "    scaler_main = StandardScaler()\n",
    "    scaler_diff = StandardScaler()\n",
    "    scaler_max = StandardScaler()\n",
    "    scaler_min = StandardScaler()\n",
    "    scaler_kurtosis = StandardScaler()\n",
    "    scaler_skew = StandardScaler()\n",
    "    # train\n",
    "    for key, values in train.items():\n",
    "        for app in range(len(appliances)):\n",
    "            df = pd.read_csv(\n",
    "                f\"datasets/Building{key}_NILM_data_basic.csv\", usecols=[\"Timestamp\", \"main\", appliances[app]])\n",
    "            df[\"date\"] = pd.to_datetime(df[\"Timestamp\"]).dt.date\n",
    "            startDate = datetime.strptime(values[\"start_time\"], \"%Y-%m-%d\").date()\n",
    "            endDate = datetime.strptime(values[\"end_time\"], \"%Y-%m-%d\").date()\n",
    "\n",
    "            if startDate > endDate:\n",
    "                raise \"Start Date must be smaller than Enddate.\"\n",
    "\n",
    "            df = df[(df[\"date\"] >= startDate) & (df[\"date\"] <= endDate)]\n",
    "            df.dropna(inplace=True)\n",
    "            # x = df[\"main\"].values\n",
    "\n",
    "            # x_diff = x\n",
    "            # for i in range(1,len(x)):\n",
    "            #     x_diff[i] = x_diff[i] - x_diff[i-1]\n",
    "            if app == 0:\n",
    "                x = df[appliances[app]].values\n",
    "            else:\n",
    "                print(app)\n",
    "                x += df[appliances[app]].values\n",
    "            if appliances[app] == \"Refrigerator\":\n",
    "                y = df[appliances[app]].values\n",
    "            # \n",
    "            # y = df[appliances[0]].values\n",
    "        x_train_main.extend(x)\n",
    "        timestamp_train = (pd.to_datetime(df[\"Timestamp\"]).astype(int)/ 10**18).values\n",
    "        x2 = x\n",
    "        x = jnp.pad(x, (units_to_pad, units_to_pad),\n",
    "                    'constant', constant_values=(0, 0))\n",
    "        x = jnp.array([x[i: i + n] for i in range(len(x) - n + 1)])\n",
    "        # print(0)\n",
    "        x_train_mean.extend(jnp.mean(x, axis=1))\n",
    "        # print(0)\n",
    "        x_train_std.extend(jnp.std(x, axis=1))\n",
    "        x1 = jnp.pad(x2, (units_to_pad1, units_to_pad1),\n",
    "                    'constant', constant_values=(0, 0))\n",
    "        x1 = jnp.array([x1[i: i + m] for i in range(len(x1) - m + 1)])\n",
    "        x_train_max_min.extend(jnp.max(x, axis=1)-jnp.min(x,axis=1))\n",
    "        x_train_max.extend(jnp.max(x1, axis = 1))\n",
    "        x_train_min.extend(jnp.min(x1, axis = 1))\n",
    "        x_train_kurtosis.extend(kurtosis(x,axis=1))\n",
    "        x_train_skew.extend(skew(x,axis = 1))\n",
    "        x_train.extend(x)\n",
    "        y_train.extend(y)\n",
    "        x_train_timestamp.extend(torch.tensor(timestamp_train))\n",
    "        # x_train_diff.extend(x_diff)\n",
    "\n",
    "    # for i in range(1,len(x_train)):\n",
    "    #     x_train[i] = x_train[i] - x_train[i-1]\n",
    "    x_train = jnp.array(x_train)\n",
    "    y_train = jnp.array(y_train).reshape(-1, 1)\n",
    "    x_train_timestamp = torch.tensor(x_train_timestamp).reshape(-1,1)\n",
    "    x_train_main = jnp.array(x_train_main).reshape(-1,1)\n",
    "    x_train_mean = jnp.array(x_train_mean).reshape(-1,1)\n",
    "    x_train_std =  jnp.array(x_train_std).reshape(-1,1)\n",
    "    x_train_max_min =  jnp.array(x_train_max_min).reshape(-1,1)\n",
    "    x_train_max =  jnp.array(x_train_max).reshape(-1,1)\n",
    "    x_train_skew = jnp.array(x_train_skew).reshape(-1,1)\n",
    "    x_train_min =  jnp.array(x_train_min).reshape(-1,1)\n",
    "    x_train_kurtosis = jnp.array(x_train_kurtosis).reshape(-1,1)\n",
    "    # x_train_diff =  jnp.array(x_train_diff).reshape(-1,1)\n",
    "   \n",
    "\n",
    "\n",
    "    x_train = scaler_x.fit_transform(x_train)\n",
    "    y_train = scaler_y.fit_transform(y_train)\n",
    "    x_train_timestamp = scaler_time.fit_transform(x_train_timestamp)\n",
    "    x_train_main = scaler_main.fit_transform(x_train_main)\n",
    "    x_train_mean = scaler_mean.fit_transform(x_train_mean)\n",
    "    x_train_std = scaler_std.fit_transform(x_train_std)\n",
    "    x_train_max_min = scaler_max_min.fit_transform(x_train_max_min)\n",
    "    x_train_max = scaler_max.fit_transform(x_train_max)\n",
    "    x_train_min = scaler_min.fit_transform(x_train_min)\n",
    "    x_train_kurtosis = scaler_kurtosis.fit_transform(x_train_kurtosis)\n",
    "    x_train_skew = scaler_skew.fit_transform(x_train_skew)\n",
    "    # x_train_diff = scaler_diff.fit_transform(x_train_diff)\n",
    "\n",
    "    print(0)\n",
    "    # test\n",
    "    x_test = []\n",
    "    y_test = []\n",
    "    x_test_timestamp = []\n",
    "    x_test_mean = []\n",
    "    x_test_std = []\n",
    "    x_test_max_min = []\n",
    "    x_test_timestamp_true =[]\n",
    "    x_test_main = []\n",
    "    x_test_max = []\n",
    "    x_test_min = []\n",
    "    x_test_kurtosis = []\n",
    "    x_test_skew = []\n",
    "\n",
    "    for key, values in test.items():\n",
    "        for app in range(len(appliances)):\n",
    "            df = pd.read_csv(\n",
    "                f\"datasets/Building{key}_NILM_data_basic.csv\", usecols=[\"Timestamp\", \"main\", appliances[app]])\n",
    "            df[\"date\"] = pd.to_datetime(df[\"Timestamp\"]).dt.date\n",
    "            startDate = datetime.strptime(values[\"start_time\"], \"%Y-%m-%d\").date()\n",
    "            endDate = datetime.strptime(values[\"end_time\"], \"%Y-%m-%d\").date()\n",
    "\n",
    "            if startDate > endDate:\n",
    "                raise \"Start Date must be smaller than Enddate.\"\n",
    "\n",
    "            df = df[(df[\"date\"] >= startDate) & (df[\"date\"] <= endDate)]\n",
    "            df.dropna(inplace=True)\n",
    "            # x = df[\"main\"].values \n",
    "\n",
    "            if app == 0:\n",
    "                x = df[appliances[app]].values\n",
    "            else:\n",
    "                print(app)\n",
    "                x += df[appliances[app]].values\n",
    "            if appliances[app] == \"Refrigerator\":\n",
    "                y = df[appliances[app]].values\n",
    "            # x = x - 100\n",
    "            # x_diff = x\n",
    "            # for i in range(1,len(x)):\n",
    "            #     x_diff[i] = x_diff[i] - x_diff[i-1]\n",
    "            # \n",
    "            # y = df[appliances[0]].values\n",
    "        x =  x + 100*np.ones(x.shape[0])\n",
    "        x_test_main.extend(x)\n",
    "        timestamp_true = df[\"Timestamp\"].values\n",
    "        timestamp = (pd.to_datetime(df[\"Timestamp\"]).astype(int)/ 10**18).values\n",
    "        x2 = x\n",
    "        x = jnp.pad(x, (units_to_pad, units_to_pad),\n",
    "                    'constant', constant_values=(0, 0))\n",
    "        x = jnp.array([x[i: i + n] for i in range(len(x) - n + 1)])\n",
    "        \n",
    "        x_test_mean.extend(jnp.mean(x, axis=1))\n",
    "        x_test_std.extend(jnp.std(x, axis=1))\n",
    "        x1 = jnp.pad(x2, (units_to_pad1, units_to_pad1),\n",
    "                    'constant', constant_values=(0, 0))\n",
    "        x1 = jnp.array([x1[i: i + m] for i in range(len(x1) - m + 1)])\n",
    "        x_test_max_min.extend(jnp.max(x, axis=1)-jnp.min(x, axis=1))\n",
    "        x_test_max.extend(jnp.max(x1, axis=1))\n",
    "        x_test_min.extend(jnp.min(x1, axis=1))\n",
    "        x_test.extend(x)\n",
    "        x_test_kurtosis.extend(kurtosis(x,axis=1))\n",
    "        x_test_skew.extend(skew(x,axis=1))\n",
    "        y_test.extend(y)\n",
    "        x_test_timestamp_true.extend(timestamp_true)\n",
    "        x_test_timestamp.extend(timestamp)\n",
    "        # x_test_diff.extend(x_diff)\n",
    "\n",
    "    # for i in range(1,len(x_test)):\n",
    "    #     x_test[i] = x_test[i] - x_test[i-1]\n",
    "    x_test = jnp.array(x_test)\n",
    "    y_test = jnp.array(y_test).reshape(-1, 1)\n",
    "    x_test_timestamp = torch.tensor(x_test_timestamp).reshape(-1,1)\n",
    "    x_test_main = jnp.array(x_test_main).reshape(-1,1)\n",
    "    x_test_mean = jnp.array(x_test_mean).reshape(-1,1)\n",
    "    x_test_std =  jnp.array(x_test_std).reshape(-1,1)\n",
    "    x_test_max_min =  jnp.array(x_test_max_min).reshape(-1,1)\n",
    "    x_test_max = jnp.array(x_test_max).reshape(-1,1)\n",
    "    x_test_min = jnp.array(x_test_min).reshape(-1,1)\n",
    "    x_test_kurtosis = jnp.array(x_test_kurtosis).reshape(-1,1)\n",
    "    x_test_skew = jnp.array(x_test_skew).reshape(-1,1)\n",
    "\n",
    "    x_test = scaler_x.transform(x_test)\n",
    "    x_test_timestamp = scaler_time.transform(x_test_timestamp)\n",
    "    x_test_mean = scaler_mean.transform(x_test_mean)\n",
    "    x_test_std = scaler_std.transform(x_test_std)\n",
    "    x_test_max_min = scaler_max_min.transform(x_test_max_min)\n",
    "    x_test_main = scaler_main.transform(x_test_main)\n",
    "    x_test_max =  scaler_max.transform(x_test_max)\n",
    "    x_test_min = scaler_min.transform(x_test_min)\n",
    "    x_test_kurtosis = scaler_kurtosis.transform(x_test_kurtosis)\n",
    "    x_test_skew = scaler_skew.transform(x_test_skew)\n",
    "    # x_test_diff = scaler_diff.transform(x_test_diff)\n",
    "#     y_test = scaler_y.transform(y_test)\n",
    "\n",
    "    # x_train_features = x_train_main_dif\n",
    "    # x_test_features = x_test_main_dif\n",
    "\n",
    "    x_train = jnp.array(x_train[:,1:]).reshape(x_train.shape[0], n-1)\n",
    "    y_train = jnp.array(y_train)\n",
    "    x_train_timestamp = torch.tensor(x_train_timestamp).reshape(x_train_timestamp.shape[0], 1)\n",
    "    x_test = jnp.array(x_test[:,1:]).reshape(x_test.shape[0], n-1)\n",
    "    y_test = jnp.array(y_test)\n",
    "    x_test_timestamp = torch.tensor(x_test_timestamp).reshape(x_test_timestamp.shape[0], 1).to(torch.float64)\n",
    "\n",
    "    #x_train_std, \n",
    "    #, x_test_std, x_test_max_min,\n",
    "    num_features_selected = 99\n",
    "    x_train_features = jnp.concatenate((x_train, x_train_max_min,), axis=1).reshape(x_train.shape[0], num_features_selected)\n",
    "    x_test_features = jnp.concatenate((x_test,  x_test_max_min,), axis=1).reshape(x_test.shape[0], num_features_selected)\n",
    "\n",
    "    scalers = np.array([scaler_x, scaler_y, scaler_time, scaler_main, scaler_mean, scaler_std, scaler_max_min, scaler_max, scaler_min, scaler_kurtosis, scaler_skew])\n",
    "    return x_train, y_train, x_test, y_test, x_train_features, x_test_features, x_train_timestamp, x_test_timestamp, scalers, x_test_main\n"
   ]
  },
  {
   "cell_type": "code",
   "execution_count": 8,
   "metadata": {},
   "outputs": [
    {
     "name": "stdout",
     "output_type": "stream",
     "text": [
      "1\n",
      "2\n",
      "1\n",
      "2\n",
      "0\n",
      "1\n",
      "2\n"
     ]
    }
   ],
   "source": [
    "x_train, y_train, x_test, y_test, x_train_features, x_test_features, x_train_timstamp, x_test_timestamp, scalers, x_test_main = dataset_load(appliances, train, test)"
   ]
  },
  {
   "cell_type": "code",
   "execution_count": 7,
   "metadata": {},
   "outputs": [],
   "source": [
    "# x_train_full = jnp.concatenate((x_train_features, jnp.array(np.array(x_train_timstamp))), axis=1)\n",
    "# x_test_full = jnp.concatenate((x_test_features, jnp.array(np.array(x_test_timestamp))), axis=1)"
   ]
  },
  {
   "cell_type": "code",
   "execution_count": 8,
   "metadata": {},
   "outputs": [],
   "source": [
    "# x_train_full = jnp.concatenate((x_train.reshape(-1,n), jnp.array(np.array(x_train_timstamp))), axis=1)\n",
    "# x_test_full = jnp.concatenate((x_test.reshape(-1,n), jnp.array(np.array(x_test_timestamp))), axis=1)\n",
    "# x_train_full.shape, x_test_full.shape"
   ]
  },
  {
   "cell_type": "code",
   "execution_count": 9,
   "metadata": {},
   "outputs": [],
   "source": [
    "# x_train.reshape(-1,n).shape, x_test.reshape(-1,n).shape, y_train.shape, y_test.shape"
   ]
  },
  {
   "cell_type": "code",
   "execution_count": 10,
   "metadata": {},
   "outputs": [],
   "source": [
    "# x = x_train_full[:14000]\n",
    "# y = y_train[:14000]\n",
    "# xt = x_train_full[14000:]\n",
    "# yt = y_train[14000:]"
   ]
  },
  {
   "cell_type": "code",
   "execution_count": 11,
   "metadata": {},
   "outputs": [],
   "source": [
    "# x.shape, y.shape"
   ]
  },
  {
   "cell_type": "code",
   "execution_count": 7,
   "metadata": {},
   "outputs": [],
   "source": [
    "x_train_diff = x_train_features[:,0]\n",
    "diff = np.array(x_train_diff)\n",
    "for i in range(1, len(x_train_diff)):\n",
    "\t\tvalue = x_train_diff[i] - x_train_diff[i - 1]\n",
    "\t\tdiff[i] = value\n",
    "\n",
    "x_test_diff = x_test_features[:,0]\n",
    "diff = np.array(x_test_diff)\n",
    "for i in range(1, len(x_test_diff)):\n",
    "\t\tvalue = x_test_diff[i] - x_test_diff[i - 1]\n",
    "\t\tdiff[i] = value\n",
    "\n",
    "# x_train_zeros = np.zeros(x_train_diff.shape)\n",
    "# x_test_zeros = np.zeros(x_test_diff.shape)"
   ]
  },
  {
   "cell_type": "code",
   "execution_count": 8,
   "metadata": {},
   "outputs": [],
   "source": [
    "# x1 = x_train_features[:,0]\n",
    "# x2 = x_test_features[:,0]\n",
    "# x_train_thresh = np.array(x1)\n",
    "# x_test_thresh = np.array(x2)\n",
    "\n",
    "# for i in range(len(x1)):\n",
    "#   if x_train_thresh[i]<250:\n",
    "#     x_train_thresh[i] = 0\n",
    "#   if x_train_thresh[i]>340:\n",
    "#     x_train_thresh[i] = 360\n",
    "  \n",
    "\n",
    "# for i in range(len(x2)):\n",
    "#   if x_test_thresh[i]<250:\n",
    "#     x_test_thresh[i] = 0\n",
    "#   if x_test_thresh[i]>340:\n",
    "#     x_test_thresh[i] = 360\n",
    "\n",
    "# #jnp.array(np.array(x_train_thresh.reshape(-1,1))), jnp.array(np.array(x_test_thresh.reshape(-1,1))),"
   ]
  },
  {
   "cell_type": "code",
   "execution_count": 9,
   "metadata": {},
   "outputs": [],
   "source": [
    "# x_train_fft = jnp.array(np.fft.fft(scalers[3].inverse_transform(x_train_features[:,0].reshape(-1,1))))\n",
    "# x_test_fft = jnp.array(np.fft.fft(scalers[3].inverse_transform(x_test_features[:,0].reshape(-1,1))))"
   ]
  },
  {
   "cell_type": "code",
   "execution_count": 10,
   "metadata": {},
   "outputs": [],
   "source": [
    "# x_train_features = jnp.concatenate(( x_train_features, jnp.array(np.array(x_train_diff.reshape(-1,1)))), axis=1)\n",
    "# x_test_features = jnp.concatenate((x_test_features, jnp.array(np.array(x_test_diff.reshape(-1,1)))), axis=1)"
   ]
  },
  {
   "cell_type": "code",
   "execution_count": 11,
   "metadata": {},
   "outputs": [],
   "source": [
    "# from sklearn.decomposition import PCA\n",
    "# pca = PCA(.90)\n",
    "\n",
    "# pca.fit(x_train)\n",
    "# x_train = pca.transform(x_train)\n",
    "# x_test = pca.transform(x_test)"
   ]
  },
  {
   "cell_type": "code",
   "execution_count": 9,
   "metadata": {},
   "outputs": [],
   "source": [
    "x_train_features = jnp.concatenate((x_train_features, jnp.array(x_train_timstamp)), axis=1)\n",
    "x_test_features = jnp.concatenate((x_test_features, jnp.array(x_test_timestamp)), axis=1)"
   ]
  },
  {
   "cell_type": "code",
   "execution_count": 10,
   "metadata": {},
   "outputs": [
    {
     "data": {
      "text/plain": [
       "(24918, 100)"
      ]
     },
     "execution_count": 10,
     "metadata": {},
     "output_type": "execute_result"
    }
   ],
   "source": [
    "x_train_features.shape"
   ]
  },
  {
   "cell_type": "code",
   "execution_count": 11,
   "metadata": {},
   "outputs": [],
   "source": [
    "import gpytorch\n",
    "indexes = 53456\n",
    "n = x_train_features.shape[1]\n",
    "x = torch.tensor(np.array(x_train_features)).to(torch.float64)\n",
    "y = torch.tensor(np.array(y_train)).reshape(-1,).to(torch.float64)\n",
    "xt = torch.tensor(np.array(x_test_features)).to(torch.float64)\n",
    "yt = torch.tensor(np.array(y_test)).reshape(-1,).to(torch.float64)\n",
    "\n",
    "if x.shape[0]>indexes:\n",
    "  x = x[:indexes]\n",
    "  y = y[:indexes]\n",
    "\n",
    "# xt = xt[:16000]\n",
    "# yt = yt[:16000]"
   ]
  },
  {
   "cell_type": "code",
   "execution_count": 12,
   "metadata": {},
   "outputs": [
    {
     "data": {
      "text/plain": [
       "torch.float64"
      ]
     },
     "execution_count": 12,
     "metadata": {},
     "output_type": "execute_result"
    }
   ],
   "source": [
    "x.dtype"
   ]
  },
  {
   "cell_type": "code",
   "execution_count": 13,
   "metadata": {},
   "outputs": [
    {
     "data": {
      "text/plain": [
       "(torch.Size([24918, 100]),\n",
       " torch.Size([24918]),\n",
       " torch.Size([15656, 100]),\n",
       " torch.Size([15656]))"
      ]
     },
     "execution_count": 13,
     "metadata": {},
     "output_type": "execute_result"
    }
   ],
   "source": [
    "x.shape, y.shape, xt.shape, yt.shape"
   ]
  },
  {
   "cell_type": "code",
   "execution_count": 14,
   "metadata": {},
   "outputs": [],
   "source": [
    "from gpytorch.kernels import LinearKernel"
   ]
  },
  {
   "cell_type": "code",
   "execution_count": 15,
   "metadata": {},
   "outputs": [
    {
     "name": "stdout",
     "output_type": "stream",
     "text": [
      "restart: 0, epoch: 1, iter: 1, loss: 1.8705\n",
      "restart: 0, epoch: 2, iter: 1, loss: 1.8564\n",
      "restart: 0, epoch: 3, iter: 1, loss: 1.8437\n",
      "restart: 0, epoch: 4, iter: 1, loss: 1.8290\n",
      "restart: 0, epoch: 5, iter: 1, loss: 1.8145\n",
      "restart: 0, epoch: 6, iter: 1, loss: 1.8026\n"
     ]
    },
    {
     "name": "stderr",
     "output_type": "stream",
     "text": [
      "/home/desai.aadesh/miniconda3/envs/nlim/lib/python3.10/site-packages/gpytorch/lazy/lazy_tensor.py:1810: UserWarning: torch.triangular_solve is deprecated in favor of torch.linalg.solve_triangularand will be removed in a future PyTorch release.\n",
      "torch.linalg.solve_triangular has its arguments reversed and does not return a copy of one of the inputs.\n",
      "X = torch.triangular_solve(B, A).solution\n",
      "should be replaced with\n",
      "X = torch.linalg.solve_triangular(A, B). (Triggered internally at  /opt/conda/conda-bld/pytorch_1656352645774/work/aten/src/ATen/native/BatchLinearAlgebra.cpp:2183.)\n",
      "  Linv = torch.triangular_solve(Eye, L, upper=False).solution\n"
     ]
    },
    {
     "name": "stdout",
     "output_type": "stream",
     "text": [
      "restart: 0, epoch: 7, iter: 1, loss: 1.7910\n",
      "restart: 0, epoch: 8, iter: 1, loss: 1.7763\n",
      "restart: 0, epoch: 9, iter: 1, loss: 1.7628\n",
      "restart: 0, epoch: 10, iter: 1, loss: 1.7512\n",
      "restart: 0, epoch: 11, iter: 1, loss: 1.7406\n",
      "restart: 0, epoch: 12, iter: 1, loss: 1.7271\n",
      "restart: 0, epoch: 13, iter: 1, loss: 1.7167\n",
      "restart: 0, epoch: 14, iter: 1, loss: 1.7047\n",
      "restart: 0, epoch: 15, iter: 1, loss: 1.6942\n",
      "restart: 0, epoch: 16, iter: 1, loss: 1.6829\n",
      "restart: 0, epoch: 17, iter: 1, loss: 1.6724\n",
      "restart: 0, epoch: 18, iter: 1, loss: 1.6628\n",
      "restart: 0, epoch: 19, iter: 1, loss: 1.6522\n",
      "restart: 0, epoch: 20, iter: 1, loss: 1.6433\n",
      "restart: 0, epoch: 21, iter: 1, loss: 1.6364\n",
      "restart: 0, epoch: 22, iter: 1, loss: 1.6275\n",
      "restart: 0, epoch: 23, iter: 1, loss: 1.6192\n",
      "restart: 0, epoch: 24, iter: 1, loss: 1.6110\n",
      "restart: 0, epoch: 25, iter: 1, loss: 1.6027\n",
      "restart: 0, epoch: 26, iter: 1, loss: 1.5952\n",
      "restart: 0, epoch: 27, iter: 1, loss: 1.5893\n",
      "restart: 0, epoch: 28, iter: 1, loss: 1.5803\n",
      "restart: 0, epoch: 29, iter: 1, loss: 1.5739\n",
      "restart: 0, epoch: 30, iter: 1, loss: 1.5674\n",
      "restart: 0, epoch: 31, iter: 1, loss: 1.5605\n",
      "restart: 0, epoch: 32, iter: 1, loss: 1.5548\n",
      "restart: 0, epoch: 33, iter: 1, loss: 1.5473\n",
      "restart: 0, epoch: 34, iter: 1, loss: 1.5423\n",
      "restart: 0, epoch: 35, iter: 1, loss: 1.5359\n",
      "restart: 0, epoch: 36, iter: 1, loss: 1.5302\n",
      "restart: 0, epoch: 37, iter: 1, loss: 1.5258\n",
      "restart: 0, epoch: 38, iter: 1, loss: 1.5219\n",
      "restart: 0, epoch: 39, iter: 1, loss: 1.5146\n",
      "restart: 0, epoch: 40, iter: 1, loss: 1.5088\n",
      "restart: 0, epoch: 41, iter: 1, loss: 1.5060\n",
      "restart: 0, epoch: 42, iter: 1, loss: 1.5015\n",
      "restart: 0, epoch: 43, iter: 1, loss: 1.4960\n",
      "restart: 0, epoch: 44, iter: 1, loss: 1.4920\n",
      "restart: 0, epoch: 45, iter: 1, loss: 1.4868\n",
      "restart: 0, epoch: 46, iter: 1, loss: 1.4818\n",
      "restart: 0, epoch: 47, iter: 1, loss: 1.4792\n",
      "restart: 0, epoch: 48, iter: 1, loss: 1.4762\n",
      "restart: 0, epoch: 49, iter: 1, loss: 1.4720\n",
      "restart: 0, epoch: 50, iter: 1, loss: 1.4675\n",
      "restart: 0, epoch: 51, iter: 1, loss: 1.4646\n",
      "restart: 0, epoch: 52, iter: 1, loss: 1.4601\n",
      "restart: 0, epoch: 53, iter: 1, loss: 1.4579\n",
      "restart: 0, epoch: 54, iter: 1, loss: 1.4553\n",
      "restart: 0, epoch: 55, iter: 1, loss: 1.4503\n",
      "restart: 0, epoch: 56, iter: 1, loss: 1.4466\n",
      "restart: 0, epoch: 57, iter: 1, loss: 1.4425\n",
      "restart: 0, epoch: 58, iter: 1, loss: 1.4408\n",
      "restart: 0, epoch: 59, iter: 1, loss: 1.4380\n",
      "restart: 0, epoch: 60, iter: 1, loss: 1.4348\n",
      "restart: 0, epoch: 61, iter: 1, loss: 1.4310\n",
      "restart: 0, epoch: 62, iter: 1, loss: 1.4282\n",
      "restart: 0, epoch: 63, iter: 1, loss: 1.4249\n",
      "restart: 0, epoch: 64, iter: 1, loss: 1.4223\n",
      "restart: 0, epoch: 65, iter: 1, loss: 1.4190\n",
      "restart: 0, epoch: 66, iter: 1, loss: 1.4156\n",
      "restart: 0, epoch: 67, iter: 1, loss: 1.4128\n",
      "restart: 0, epoch: 68, iter: 1, loss: 1.4085\n",
      "restart: 0, epoch: 69, iter: 1, loss: 1.4073\n",
      "restart: 0, epoch: 70, iter: 1, loss: 1.4043\n",
      "restart: 0, epoch: 71, iter: 1, loss: 1.4015\n",
      "restart: 0, epoch: 72, iter: 1, loss: 1.3987\n",
      "restart: 0, epoch: 73, iter: 1, loss: 1.3966\n",
      "restart: 0, epoch: 74, iter: 1, loss: 1.3933\n",
      "restart: 0, epoch: 75, iter: 1, loss: 1.3912\n",
      "restart: 0, epoch: 76, iter: 1, loss: 1.3886\n",
      "restart: 0, epoch: 77, iter: 1, loss: 1.3857\n",
      "restart: 0, epoch: 78, iter: 1, loss: 1.3830\n",
      "restart: 0, epoch: 79, iter: 1, loss: 1.3812\n",
      "restart: 0, epoch: 80, iter: 1, loss: 1.3779\n",
      "restart: 0, epoch: 81, iter: 1, loss: 1.3766\n",
      "restart: 0, epoch: 82, iter: 1, loss: 1.3723\n",
      "restart: 0, epoch: 83, iter: 1, loss: 1.3703\n",
      "restart: 0, epoch: 84, iter: 1, loss: 1.3685\n",
      "restart: 0, epoch: 85, iter: 1, loss: 1.3659\n",
      "restart: 0, epoch: 86, iter: 1, loss: 1.3642\n",
      "restart: 0, epoch: 87, iter: 1, loss: 1.3625\n",
      "restart: 0, epoch: 88, iter: 1, loss: 1.3593\n",
      "restart: 0, epoch: 89, iter: 1, loss: 1.3563\n",
      "restart: 0, epoch: 90, iter: 1, loss: 1.3555\n",
      "restart: 0, epoch: 91, iter: 1, loss: 1.3540\n",
      "restart: 0, epoch: 92, iter: 1, loss: 1.3520\n",
      "restart: 0, epoch: 93, iter: 1, loss: 1.3498\n",
      "restart: 0, epoch: 94, iter: 1, loss: 1.3473\n",
      "restart: 0, epoch: 95, iter: 1, loss: 1.3451\n",
      "restart: 0, epoch: 96, iter: 1, loss: 1.3430\n",
      "restart: 0, epoch: 97, iter: 1, loss: 1.3413\n",
      "restart: 0, epoch: 98, iter: 1, loss: 1.3383\n",
      "restart: 0, epoch: 99, iter: 1, loss: 1.3379\n",
      "restart: 0, epoch: 100, iter: 1, loss: 1.3353\n",
      "restart: 0, epoch: 101, iter: 1, loss: 1.3327\n",
      "restart: 0, epoch: 102, iter: 1, loss: 1.3313\n",
      "restart: 0, epoch: 103, iter: 1, loss: 1.3283\n",
      "restart: 0, epoch: 104, iter: 1, loss: 1.3273\n",
      "restart: 0, epoch: 105, iter: 1, loss: 1.3244\n",
      "restart: 0, epoch: 106, iter: 1, loss: 1.3229\n",
      "restart: 0, epoch: 107, iter: 1, loss: 1.3205\n",
      "restart: 0, epoch: 108, iter: 1, loss: 1.3198\n",
      "restart: 0, epoch: 109, iter: 1, loss: 1.3177\n",
      "restart: 0, epoch: 110, iter: 1, loss: 1.3150\n",
      "restart: 0, epoch: 111, iter: 1, loss: 1.3137\n",
      "restart: 0, epoch: 112, iter: 1, loss: 1.3110\n",
      "restart: 0, epoch: 113, iter: 1, loss: 1.3095\n",
      "restart: 0, epoch: 114, iter: 1, loss: 1.3081\n",
      "restart: 0, epoch: 115, iter: 1, loss: 1.3058\n",
      "restart: 0, epoch: 116, iter: 1, loss: 1.3040\n",
      "restart: 0, epoch: 117, iter: 1, loss: 1.3019\n",
      "restart: 0, epoch: 118, iter: 1, loss: 1.3001\n",
      "restart: 0, epoch: 119, iter: 1, loss: 1.2987\n",
      "restart: 0, epoch: 120, iter: 1, loss: 1.2965\n",
      "restart: 0, epoch: 121, iter: 1, loss: 1.2951\n",
      "restart: 0, epoch: 122, iter: 1, loss: 1.2933\n",
      "restart: 0, epoch: 123, iter: 1, loss: 1.2919\n",
      "restart: 0, epoch: 124, iter: 1, loss: 1.2895\n",
      "restart: 0, epoch: 125, iter: 1, loss: 1.2879\n",
      "restart: 0, epoch: 126, iter: 1, loss: 1.2865\n",
      "restart: 0, epoch: 127, iter: 1, loss: 1.2851\n",
      "restart: 0, epoch: 128, iter: 1, loss: 1.2828\n",
      "restart: 0, epoch: 129, iter: 1, loss: 1.2811\n",
      "restart: 0, epoch: 130, iter: 1, loss: 1.2785\n",
      "restart: 0, epoch: 131, iter: 1, loss: 1.2778\n",
      "restart: 0, epoch: 132, iter: 1, loss: 1.2755\n",
      "restart: 0, epoch: 133, iter: 1, loss: 1.2734\n",
      "restart: 0, epoch: 134, iter: 1, loss: 1.2716\n",
      "restart: 0, epoch: 135, iter: 1, loss: 1.2702\n",
      "restart: 0, epoch: 136, iter: 1, loss: 1.2685\n",
      "restart: 0, epoch: 137, iter: 1, loss: 1.2667\n",
      "restart: 0, epoch: 138, iter: 1, loss: 1.2650\n",
      "restart: 0, epoch: 139, iter: 1, loss: 1.2637\n",
      "restart: 0, epoch: 140, iter: 1, loss: 1.2621\n",
      "restart: 0, epoch: 141, iter: 1, loss: 1.2602\n",
      "restart: 0, epoch: 142, iter: 1, loss: 1.2585\n",
      "restart: 0, epoch: 143, iter: 1, loss: 1.2571\n",
      "restart: 0, epoch: 144, iter: 1, loss: 1.2552\n",
      "restart: 0, epoch: 145, iter: 1, loss: 1.2535\n",
      "restart: 0, epoch: 146, iter: 1, loss: 1.2521\n",
      "restart: 0, epoch: 147, iter: 1, loss: 1.2508\n",
      "restart: 0, epoch: 148, iter: 1, loss: 1.2492\n",
      "restart: 0, epoch: 149, iter: 1, loss: 1.2474\n",
      "restart: 0, epoch: 150, iter: 1, loss: 1.2457\n",
      "restart: 0, epoch: 151, iter: 1, loss: 1.2444\n",
      "restart: 0, epoch: 152, iter: 1, loss: 1.2429\n",
      "restart: 0, epoch: 153, iter: 1, loss: 1.2414\n",
      "restart: 0, epoch: 154, iter: 1, loss: 1.2395\n",
      "restart: 0, epoch: 155, iter: 1, loss: 1.2380\n",
      "restart: 0, epoch: 156, iter: 1, loss: 1.2364\n",
      "restart: 0, epoch: 157, iter: 1, loss: 1.2348\n",
      "restart: 0, epoch: 158, iter: 1, loss: 1.2333\n",
      "restart: 0, epoch: 159, iter: 1, loss: 1.2319\n",
      "restart: 0, epoch: 160, iter: 1, loss: 1.2302\n",
      "restart: 0, epoch: 161, iter: 1, loss: 1.2288\n",
      "restart: 0, epoch: 162, iter: 1, loss: 1.2271\n",
      "restart: 0, epoch: 163, iter: 1, loss: 1.2256\n",
      "restart: 0, epoch: 164, iter: 1, loss: 1.2240\n",
      "restart: 0, epoch: 165, iter: 1, loss: 1.2222\n",
      "restart: 0, epoch: 166, iter: 1, loss: 1.2211\n",
      "restart: 0, epoch: 167, iter: 1, loss: 1.2201\n",
      "restart: 0, epoch: 168, iter: 1, loss: 1.2189\n",
      "restart: 0, epoch: 169, iter: 1, loss: 1.2176\n",
      "restart: 0, epoch: 170, iter: 1, loss: 1.2153\n",
      "restart: 0, epoch: 171, iter: 1, loss: 1.2137\n",
      "restart: 0, epoch: 172, iter: 1, loss: 1.2122\n",
      "restart: 0, epoch: 173, iter: 1, loss: 1.2107\n",
      "restart: 0, epoch: 174, iter: 1, loss: 1.2097\n",
      "restart: 0, epoch: 175, iter: 1, loss: 1.2077\n",
      "restart: 0, epoch: 176, iter: 1, loss: 1.2064\n",
      "restart: 0, epoch: 177, iter: 1, loss: 1.2049\n",
      "restart: 0, epoch: 178, iter: 1, loss: 1.2038\n",
      "restart: 0, epoch: 179, iter: 1, loss: 1.2022\n",
      "restart: 0, epoch: 180, iter: 1, loss: 1.2006\n",
      "restart: 0, epoch: 181, iter: 1, loss: 1.1993\n",
      "restart: 0, epoch: 182, iter: 1, loss: 1.1979\n",
      "restart: 0, epoch: 183, iter: 1, loss: 1.1969\n",
      "restart: 0, epoch: 184, iter: 1, loss: 1.1951\n",
      "restart: 0, epoch: 185, iter: 1, loss: 1.1940\n",
      "restart: 0, epoch: 186, iter: 1, loss: 1.1928\n",
      "restart: 0, epoch: 187, iter: 1, loss: 1.1911\n",
      "restart: 0, epoch: 188, iter: 1, loss: 1.1897\n",
      "restart: 0, epoch: 189, iter: 1, loss: 1.1879\n",
      "restart: 0, epoch: 190, iter: 1, loss: 1.1868\n",
      "restart: 0, epoch: 191, iter: 1, loss: 1.1856\n",
      "restart: 0, epoch: 192, iter: 1, loss: 1.1844\n",
      "restart: 0, epoch: 193, iter: 1, loss: 1.1826\n",
      "restart: 0, epoch: 194, iter: 1, loss: 1.1811\n",
      "restart: 0, epoch: 195, iter: 1, loss: 1.1800\n",
      "restart: 0, epoch: 196, iter: 1, loss: 1.1788\n",
      "restart: 0, epoch: 197, iter: 1, loss: 1.1772\n",
      "restart: 0, epoch: 198, iter: 1, loss: 1.1761\n",
      "restart: 0, epoch: 199, iter: 1, loss: 1.1745\n",
      "restart: 0, epoch: 200, iter: 1, loss: 1.1735\n",
      "restart: 0, epoch: 201, iter: 1, loss: 1.1722\n",
      "restart: 0, epoch: 202, iter: 1, loss: 1.1709\n",
      "restart: 0, epoch: 203, iter: 1, loss: 1.1692\n",
      "restart: 0, epoch: 204, iter: 1, loss: 1.1674\n",
      "restart: 0, epoch: 205, iter: 1, loss: 1.1664\n",
      "restart: 0, epoch: 206, iter: 1, loss: 1.1647\n",
      "restart: 0, epoch: 207, iter: 1, loss: 1.1636\n",
      "restart: 0, epoch: 208, iter: 1, loss: 1.1614\n",
      "restart: 0, epoch: 209, iter: 1, loss: 1.1598\n",
      "restart: 0, epoch: 210, iter: 1, loss: 1.1598\n",
      "restart: 0, epoch: 211, iter: 1, loss: 1.1589\n",
      "restart: 0, epoch: 212, iter: 1, loss: 1.1581\n",
      "restart: 0, epoch: 213, iter: 1, loss: 1.1568\n",
      "restart: 0, epoch: 214, iter: 1, loss: 1.1555\n",
      "restart: 0, epoch: 215, iter: 1, loss: 1.1541\n",
      "restart: 0, epoch: 216, iter: 1, loss: 1.1528\n",
      "restart: 0, epoch: 217, iter: 1, loss: 1.1517\n",
      "restart: 0, epoch: 218, iter: 1, loss: 1.1502\n",
      "restart: 0, epoch: 219, iter: 1, loss: 1.1494\n",
      "restart: 0, epoch: 220, iter: 1, loss: 1.1481\n",
      "restart: 0, epoch: 221, iter: 1, loss: 1.1470\n",
      "restart: 0, epoch: 222, iter: 1, loss: 1.1461\n",
      "restart: 0, epoch: 223, iter: 1, loss: 1.1445\n",
      "restart: 0, epoch: 224, iter: 1, loss: 1.1433\n",
      "restart: 0, epoch: 225, iter: 1, loss: 1.1413\n",
      "restart: 0, epoch: 226, iter: 1, loss: 1.1388\n",
      "restart: 0, epoch: 227, iter: 1, loss: 1.1382\n",
      "restart: 0, epoch: 228, iter: 1, loss: 1.1375\n",
      "restart: 0, epoch: 229, iter: 1, loss: 1.1368\n",
      "restart: 0, epoch: 230, iter: 1, loss: 1.1356\n",
      "restart: 0, epoch: 231, iter: 1, loss: 1.1343\n",
      "restart: 0, epoch: 232, iter: 1, loss: 1.1329\n",
      "restart: 0, epoch: 233, iter: 1, loss: 1.1324\n",
      "restart: 0, epoch: 234, iter: 1, loss: 1.1307\n",
      "restart: 0, epoch: 235, iter: 1, loss: 1.1298\n",
      "restart: 0, epoch: 236, iter: 1, loss: 1.1285\n",
      "restart: 0, epoch: 237, iter: 1, loss: 1.1275\n",
      "restart: 0, epoch: 238, iter: 1, loss: 1.1268\n",
      "restart: 0, epoch: 239, iter: 1, loss: 1.1251\n",
      "restart: 0, epoch: 240, iter: 1, loss: 1.1240\n",
      "restart: 0, epoch: 241, iter: 1, loss: 1.1229\n",
      "restart: 0, epoch: 242, iter: 1, loss: 1.1220\n",
      "restart: 0, epoch: 243, iter: 1, loss: 1.1210\n",
      "restart: 0, epoch: 244, iter: 1, loss: 1.1193\n",
      "restart: 0, epoch: 245, iter: 1, loss: 1.1194\n",
      "restart: 0, epoch: 246, iter: 1, loss: 1.1165\n",
      "restart: 0, epoch: 247, iter: 1, loss: 1.1167\n",
      "restart: 0, epoch: 248, iter: 1, loss: 1.1148\n",
      "restart: 0, epoch: 249, iter: 1, loss: 1.1142\n",
      "restart: 0, epoch: 250, iter: 1, loss: 1.1132\n",
      "restart: 0, epoch: 251, iter: 1, loss: 1.1122\n",
      "restart: 0, epoch: 252, iter: 1, loss: 1.1103\n",
      "restart: 0, epoch: 253, iter: 1, loss: 1.1093\n",
      "restart: 0, epoch: 254, iter: 1, loss: 1.1076\n",
      "restart: 0, epoch: 255, iter: 1, loss: 1.1070\n",
      "restart: 0, epoch: 256, iter: 1, loss: 1.1064\n",
      "restart: 0, epoch: 257, iter: 1, loss: 1.1060\n",
      "restart: 0, epoch: 258, iter: 1, loss: 1.1040\n",
      "restart: 0, epoch: 259, iter: 1, loss: 1.1032\n",
      "restart: 0, epoch: 260, iter: 1, loss: 1.1020\n",
      "restart: 0, epoch: 261, iter: 1, loss: 1.1015\n",
      "restart: 0, epoch: 262, iter: 1, loss: 1.0997\n",
      "restart: 0, epoch: 263, iter: 1, loss: 1.0986\n",
      "restart: 0, epoch: 264, iter: 1, loss: 1.0970\n",
      "restart: 0, epoch: 265, iter: 1, loss: 1.0951\n",
      "restart: 0, epoch: 266, iter: 1, loss: 1.0942\n",
      "restart: 0, epoch: 267, iter: 1, loss: 1.0934\n",
      "restart: 0, epoch: 268, iter: 1, loss: 1.0915\n",
      "restart: 0, epoch: 269, iter: 1, loss: 1.0912\n",
      "restart: 0, epoch: 270, iter: 1, loss: 1.0895\n",
      "restart: 0, epoch: 271, iter: 1, loss: 1.0891\n",
      "restart: 0, epoch: 272, iter: 1, loss: 1.0874\n",
      "restart: 0, epoch: 273, iter: 1, loss: 1.0869\n",
      "restart: 0, epoch: 274, iter: 1, loss: 1.0856\n",
      "restart: 0, epoch: 275, iter: 1, loss: 1.0849\n",
      "restart: 0, epoch: 276, iter: 1, loss: 1.0834\n",
      "restart: 0, epoch: 277, iter: 1, loss: 1.0826\n",
      "restart: 0, epoch: 278, iter: 1, loss: 1.0814\n",
      "restart: 0, epoch: 279, iter: 1, loss: 1.0800\n",
      "restart: 0, epoch: 280, iter: 1, loss: 1.0794\n",
      "restart: 0, epoch: 281, iter: 1, loss: 1.0783\n",
      "restart: 0, epoch: 282, iter: 1, loss: 1.0762\n",
      "restart: 0, epoch: 283, iter: 1, loss: 1.0773\n",
      "restart: 0, epoch: 284, iter: 1, loss: 1.0754\n",
      "restart: 0, epoch: 285, iter: 1, loss: 1.0750\n",
      "restart: 0, epoch: 286, iter: 1, loss: 1.0744\n",
      "restart: 0, epoch: 287, iter: 1, loss: 1.0720\n",
      "restart: 0, epoch: 288, iter: 1, loss: 1.0712\n",
      "restart: 0, epoch: 289, iter: 1, loss: 1.0706\n",
      "restart: 0, epoch: 290, iter: 1, loss: 1.0683\n",
      "restart: 0, epoch: 291, iter: 1, loss: 1.0684\n",
      "restart: 0, epoch: 292, iter: 1, loss: 1.0674\n",
      "restart: 0, epoch: 293, iter: 1, loss: 1.0665\n",
      "restart: 0, epoch: 294, iter: 1, loss: 1.0643\n",
      "restart: 0, epoch: 295, iter: 1, loss: 1.0641\n",
      "restart: 0, epoch: 296, iter: 1, loss: 1.0625\n",
      "restart: 0, epoch: 297, iter: 1, loss: 1.0616\n",
      "restart: 0, epoch: 298, iter: 1, loss: 1.0610\n",
      "restart: 0, epoch: 299, iter: 1, loss: 1.0599\n",
      "restart: 0, epoch: 300, iter: 1, loss: 1.0587\n",
      "restart: 0, epoch: 301, iter: 1, loss: 1.0581\n",
      "restart: 0, epoch: 302, iter: 1, loss: 1.0566\n",
      "restart: 0, epoch: 303, iter: 1, loss: 1.0552\n",
      "restart: 0, epoch: 304, iter: 1, loss: 1.0539\n",
      "restart: 0, epoch: 305, iter: 1, loss: 1.0533\n",
      "restart: 0, epoch: 306, iter: 1, loss: 1.0526\n",
      "restart: 0, epoch: 307, iter: 1, loss: 1.0510\n",
      "restart: 0, epoch: 308, iter: 1, loss: 1.0490\n",
      "restart: 0, epoch: 309, iter: 1, loss: 1.0485\n",
      "restart: 0, epoch: 310, iter: 1, loss: 1.0472\n",
      "restart: 0, epoch: 311, iter: 1, loss: 1.0464\n",
      "restart: 0, epoch: 312, iter: 1, loss: 1.0461\n",
      "restart: 0, epoch: 313, iter: 1, loss: 1.0448\n",
      "restart: 0, epoch: 314, iter: 1, loss: 1.0443\n",
      "restart: 0, epoch: 315, iter: 1, loss: 1.0430\n",
      "restart: 0, epoch: 316, iter: 1, loss: 1.0390\n",
      "restart: 0, epoch: 317, iter: 1, loss: 1.0406\n",
      "restart: 0, epoch: 318, iter: 1, loss: 1.0388\n",
      "restart: 0, epoch: 319, iter: 1, loss: 1.0373\n",
      "restart: 0, epoch: 320, iter: 1, loss: 1.0357\n",
      "restart: 0, epoch: 321, iter: 1, loss: 1.0333\n",
      "restart: 0, epoch: 322, iter: 1, loss: 1.0321\n",
      "restart: 0, epoch: 323, iter: 1, loss: 1.0324\n",
      "restart: 0, epoch: 324, iter: 1, loss: 1.0332\n",
      "restart: 0, epoch: 325, iter: 1, loss: 1.0294\n",
      "restart: 0, epoch: 326, iter: 1, loss: 1.0288\n",
      "restart: 0, epoch: 327, iter: 1, loss: 1.0283\n",
      "restart: 0, epoch: 328, iter: 1, loss: 1.0284\n",
      "restart: 0, epoch: 329, iter: 1, loss: 1.0259\n",
      "restart: 0, epoch: 330, iter: 1, loss: 1.0243\n",
      "restart: 0, epoch: 331, iter: 1, loss: 1.0234\n",
      "restart: 0, epoch: 332, iter: 1, loss: 1.0224\n",
      "restart: 0, epoch: 333, iter: 1, loss: 1.0207\n",
      "restart: 0, epoch: 334, iter: 1, loss: 1.0193\n",
      "restart: 0, epoch: 335, iter: 1, loss: 1.0177\n",
      "restart: 0, epoch: 336, iter: 1, loss: 1.0162\n",
      "restart: 0, epoch: 337, iter: 1, loss: 1.0147\n",
      "restart: 0, epoch: 338, iter: 1, loss: 1.0134\n",
      "restart: 0, epoch: 339, iter: 1, loss: 1.0100\n",
      "restart: 0, epoch: 340, iter: 1, loss: 1.0073\n",
      "restart: 0, epoch: 341, iter: 1, loss: 1.0050\n",
      "restart: 0, epoch: 342, iter: 1, loss: 1.0038\n",
      "restart: 0, epoch: 343, iter: 1, loss: 1.0020\n",
      "restart: 0, epoch: 344, iter: 1, loss: 1.0008\n",
      "restart: 0, epoch: 345, iter: 1, loss: 0.9979\n",
      "restart: 0, epoch: 346, iter: 1, loss: 0.9968\n",
      "restart: 0, epoch: 347, iter: 1, loss: 0.9939\n",
      "restart: 0, epoch: 348, iter: 1, loss: 0.9913\n",
      "restart: 0, epoch: 349, iter: 1, loss: 0.9887\n",
      "restart: 0, epoch: 350, iter: 1, loss: 0.9871\n",
      "restart: 0, epoch: 351, iter: 1, loss: 0.9851\n",
      "restart: 0, epoch: 352, iter: 1, loss: 0.9826\n",
      "restart: 0, epoch: 353, iter: 1, loss: 0.9792\n",
      "restart: 0, epoch: 354, iter: 1, loss: 0.9777\n",
      "restart: 0, epoch: 355, iter: 1, loss: 0.9747\n",
      "restart: 0, epoch: 356, iter: 1, loss: 0.9717\n",
      "restart: 0, epoch: 357, iter: 1, loss: 0.9689\n",
      "restart: 0, epoch: 358, iter: 1, loss: 0.9680\n",
      "restart: 0, epoch: 359, iter: 1, loss: 0.9642\n",
      "restart: 0, epoch: 360, iter: 1, loss: 0.9601\n",
      "restart: 0, epoch: 361, iter: 1, loss: 0.9563\n",
      "restart: 0, epoch: 362, iter: 1, loss: 0.9550\n",
      "restart: 0, epoch: 363, iter: 1, loss: 0.9511\n",
      "restart: 0, epoch: 364, iter: 1, loss: 0.9500\n",
      "restart: 0, epoch: 365, iter: 1, loss: 0.9473\n",
      "restart: 0, epoch: 366, iter: 1, loss: 0.9443\n",
      "restart: 0, epoch: 367, iter: 1, loss: 0.9420\n",
      "restart: 0, epoch: 368, iter: 1, loss: 0.9390\n",
      "restart: 0, epoch: 369, iter: 1, loss: 0.9369\n",
      "restart: 0, epoch: 370, iter: 1, loss: 0.9331\n",
      "restart: 0, epoch: 371, iter: 1, loss: 0.9305\n",
      "restart: 0, epoch: 372, iter: 1, loss: 0.9274\n",
      "restart: 0, epoch: 373, iter: 1, loss: 0.9243\n",
      "restart: 0, epoch: 374, iter: 1, loss: 0.9223\n",
      "restart: 0, epoch: 375, iter: 1, loss: 0.9188\n",
      "restart: 0, epoch: 376, iter: 1, loss: 0.9156\n",
      "restart: 0, epoch: 377, iter: 1, loss: 0.9129\n",
      "restart: 0, epoch: 378, iter: 1, loss: 0.9116\n",
      "restart: 0, epoch: 379, iter: 1, loss: 0.9068\n",
      "restart: 0, epoch: 380, iter: 1, loss: 0.9039\n",
      "restart: 0, epoch: 381, iter: 1, loss: 0.9020\n",
      "restart: 0, epoch: 382, iter: 1, loss: 0.8995\n",
      "restart: 0, epoch: 383, iter: 1, loss: 0.8967\n",
      "restart: 0, epoch: 384, iter: 1, loss: 0.8950\n",
      "restart: 0, epoch: 385, iter: 1, loss: 0.8921\n",
      "restart: 0, epoch: 386, iter: 1, loss: 0.8898\n",
      "restart: 0, epoch: 387, iter: 1, loss: 0.8869\n",
      "restart: 0, epoch: 388, iter: 1, loss: 0.8843\n",
      "restart: 0, epoch: 389, iter: 1, loss: 0.8831\n",
      "restart: 0, epoch: 390, iter: 1, loss: 0.8803\n",
      "restart: 0, epoch: 391, iter: 1, loss: 0.8774\n",
      "restart: 0, epoch: 392, iter: 1, loss: 0.8753\n",
      "restart: 0, epoch: 393, iter: 1, loss: 0.8727\n",
      "restart: 0, epoch: 394, iter: 1, loss: 0.8688\n",
      "restart: 0, epoch: 395, iter: 1, loss: 0.8683\n",
      "restart: 0, epoch: 396, iter: 1, loss: 0.8637\n",
      "restart: 0, epoch: 397, iter: 1, loss: 0.8619\n",
      "restart: 0, epoch: 398, iter: 1, loss: 0.8609\n",
      "restart: 0, epoch: 399, iter: 1, loss: 0.8577\n",
      "restart: 0, epoch: 400, iter: 1, loss: 0.8557\n",
      "restart: 0, epoch: 401, iter: 1, loss: 0.8539\n",
      "restart: 0, epoch: 402, iter: 1, loss: 0.8530\n",
      "restart: 0, epoch: 403, iter: 1, loss: 0.8498\n",
      "restart: 0, epoch: 404, iter: 1, loss: 0.8476\n",
      "restart: 0, epoch: 405, iter: 1, loss: 0.8444\n",
      "restart: 0, epoch: 406, iter: 1, loss: 0.8424\n",
      "restart: 0, epoch: 407, iter: 1, loss: 0.8396\n",
      "restart: 0, epoch: 408, iter: 1, loss: 0.8387\n",
      "restart: 0, epoch: 409, iter: 1, loss: 0.8365\n",
      "restart: 0, epoch: 410, iter: 1, loss: 0.8344\n",
      "restart: 0, epoch: 411, iter: 1, loss: 0.8317\n",
      "restart: 0, epoch: 412, iter: 1, loss: 0.8307\n",
      "restart: 0, epoch: 413, iter: 1, loss: 0.8280\n",
      "restart: 0, epoch: 414, iter: 1, loss: 0.8259\n",
      "restart: 0, epoch: 415, iter: 1, loss: 0.8243\n",
      "restart: 0, epoch: 416, iter: 1, loss: 0.8223\n",
      "restart: 0, epoch: 417, iter: 1, loss: 0.8188\n",
      "restart: 0, epoch: 418, iter: 1, loss: 0.8181\n",
      "restart: 0, epoch: 419, iter: 1, loss: 0.8166\n",
      "restart: 0, epoch: 420, iter: 1, loss: 0.8142\n",
      "restart: 0, epoch: 421, iter: 1, loss: 0.8119\n",
      "restart: 0, epoch: 422, iter: 1, loss: 0.8119\n",
      "restart: 0, epoch: 423, iter: 1, loss: 0.8081\n",
      "restart: 0, epoch: 424, iter: 1, loss: 0.8058\n",
      "restart: 0, epoch: 425, iter: 1, loss: 0.8054\n",
      "restart: 0, epoch: 426, iter: 1, loss: 0.8035\n",
      "restart: 0, epoch: 427, iter: 1, loss: 0.8006\n",
      "restart: 0, epoch: 428, iter: 1, loss: 0.7996\n",
      "restart: 0, epoch: 429, iter: 1, loss: 0.7975\n",
      "restart: 0, epoch: 430, iter: 1, loss: 0.7962\n",
      "restart: 0, epoch: 431, iter: 1, loss: 0.7942\n",
      "restart: 0, epoch: 432, iter: 1, loss: 0.7916\n",
      "restart: 0, epoch: 433, iter: 1, loss: 0.7900\n",
      "restart: 0, epoch: 434, iter: 1, loss: 0.7888\n",
      "restart: 0, epoch: 435, iter: 1, loss: 0.7869\n",
      "restart: 0, epoch: 436, iter: 1, loss: 0.7854\n",
      "restart: 0, epoch: 437, iter: 1, loss: 0.7831\n",
      "restart: 0, epoch: 438, iter: 1, loss: 0.7821\n",
      "restart: 0, epoch: 439, iter: 1, loss: 0.7797\n",
      "restart: 0, epoch: 440, iter: 1, loss: 0.7784\n",
      "restart: 0, epoch: 441, iter: 1, loss: 0.7766\n",
      "restart: 0, epoch: 442, iter: 1, loss: 0.7751\n",
      "restart: 0, epoch: 443, iter: 1, loss: 0.7733\n",
      "restart: 0, epoch: 444, iter: 1, loss: 0.7715\n",
      "restart: 0, epoch: 445, iter: 1, loss: 0.7694\n",
      "restart: 0, epoch: 446, iter: 1, loss: 0.7678\n",
      "restart: 0, epoch: 447, iter: 1, loss: 0.7664\n",
      "restart: 0, epoch: 448, iter: 1, loss: 0.7654\n",
      "restart: 0, epoch: 449, iter: 1, loss: 0.7639\n",
      "restart: 0, epoch: 450, iter: 1, loss: 0.7618\n",
      "restart: 0, epoch: 451, iter: 1, loss: 0.7605\n",
      "restart: 0, epoch: 452, iter: 1, loss: 0.7586\n",
      "restart: 0, epoch: 453, iter: 1, loss: 0.7554\n",
      "restart: 0, epoch: 454, iter: 1, loss: 0.7545\n",
      "restart: 0, epoch: 455, iter: 1, loss: 0.7526\n",
      "restart: 0, epoch: 456, iter: 1, loss: 0.7521\n",
      "restart: 0, epoch: 457, iter: 1, loss: 0.7513\n",
      "restart: 0, epoch: 458, iter: 1, loss: 0.7494\n",
      "restart: 0, epoch: 459, iter: 1, loss: 0.7476\n",
      "restart: 0, epoch: 460, iter: 1, loss: 0.7469\n",
      "restart: 0, epoch: 461, iter: 1, loss: 0.7441\n",
      "restart: 0, epoch: 462, iter: 1, loss: 0.7423\n",
      "restart: 0, epoch: 463, iter: 1, loss: 0.7422\n",
      "restart: 0, epoch: 464, iter: 1, loss: 0.7403\n",
      "restart: 0, epoch: 465, iter: 1, loss: 0.7392\n",
      "restart: 0, epoch: 466, iter: 1, loss: 0.7379\n",
      "restart: 0, epoch: 467, iter: 1, loss: 0.7358\n",
      "restart: 0, epoch: 468, iter: 1, loss: 0.7340\n",
      "restart: 0, epoch: 469, iter: 1, loss: 0.7323\n",
      "restart: 0, epoch: 470, iter: 1, loss: 0.7308\n",
      "restart: 0, epoch: 471, iter: 1, loss: 0.7290\n",
      "restart: 0, epoch: 472, iter: 1, loss: 0.7275\n",
      "restart: 0, epoch: 473, iter: 1, loss: 0.7258\n",
      "restart: 0, epoch: 474, iter: 1, loss: 0.7249\n",
      "restart: 0, epoch: 475, iter: 1, loss: 0.7232\n",
      "restart: 0, epoch: 476, iter: 1, loss: 0.7226\n",
      "restart: 0, epoch: 477, iter: 1, loss: 0.7210\n",
      "restart: 0, epoch: 478, iter: 1, loss: 0.7194\n",
      "restart: 0, epoch: 479, iter: 1, loss: 0.7181\n",
      "restart: 0, epoch: 480, iter: 1, loss: 0.7164\n",
      "restart: 0, epoch: 481, iter: 1, loss: 0.7151\n",
      "restart: 0, epoch: 482, iter: 1, loss: 0.7137\n",
      "restart: 0, epoch: 483, iter: 1, loss: 0.7127\n",
      "restart: 0, epoch: 484, iter: 1, loss: 0.7104\n",
      "restart: 0, epoch: 485, iter: 1, loss: 0.7087\n",
      "restart: 0, epoch: 486, iter: 1, loss: 0.7072\n",
      "restart: 0, epoch: 487, iter: 1, loss: 0.7058\n",
      "restart: 0, epoch: 488, iter: 1, loss: 0.7046\n",
      "restart: 0, epoch: 489, iter: 1, loss: 0.7026\n",
      "restart: 0, epoch: 490, iter: 1, loss: 0.7013\n",
      "restart: 0, epoch: 491, iter: 1, loss: 0.7009\n",
      "restart: 0, epoch: 492, iter: 1, loss: 0.6983\n",
      "restart: 0, epoch: 493, iter: 1, loss: 0.6966\n",
      "restart: 0, epoch: 494, iter: 1, loss: 0.6940\n",
      "restart: 0, epoch: 495, iter: 1, loss: 0.6910\n",
      "restart: 0, epoch: 496, iter: 1, loss: 0.6900\n",
      "restart: 0, epoch: 497, iter: 1, loss: 0.6900\n",
      "restart: 0, epoch: 498, iter: 1, loss: 0.6891\n",
      "restart: 0, epoch: 499, iter: 1, loss: 0.6882\n",
      "restart: 0, epoch: 500, iter: 1, loss: 0.6863\n",
      "restart: 0, epoch: 501, iter: 1, loss: 0.6847\n",
      "restart: 0, epoch: 502, iter: 1, loss: 0.6832\n",
      "restart: 0, epoch: 503, iter: 1, loss: 0.6808\n",
      "restart: 0, epoch: 504, iter: 1, loss: 0.6794\n",
      "restart: 0, epoch: 505, iter: 1, loss: 0.6783\n",
      "restart: 0, epoch: 506, iter: 1, loss: 0.6770\n",
      "restart: 0, epoch: 507, iter: 1, loss: 0.6751\n",
      "restart: 0, epoch: 508, iter: 1, loss: 0.6738\n",
      "restart: 0, epoch: 509, iter: 1, loss: 0.6713\n",
      "restart: 0, epoch: 510, iter: 1, loss: 0.6701\n",
      "restart: 0, epoch: 511, iter: 1, loss: 0.6684\n",
      "restart: 0, epoch: 512, iter: 1, loss: 0.6665\n",
      "restart: 0, epoch: 513, iter: 1, loss: 0.6652\n",
      "restart: 0, epoch: 514, iter: 1, loss: 0.6641\n",
      "restart: 0, epoch: 515, iter: 1, loss: 0.6623\n",
      "restart: 0, epoch: 516, iter: 1, loss: 0.6608\n",
      "restart: 0, epoch: 517, iter: 1, loss: 0.6596\n",
      "restart: 0, epoch: 518, iter: 1, loss: 0.6576\n",
      "restart: 0, epoch: 519, iter: 1, loss: 0.6561\n",
      "restart: 0, epoch: 520, iter: 1, loss: 0.6539\n",
      "restart: 0, epoch: 521, iter: 1, loss: 0.6523\n",
      "restart: 0, epoch: 522, iter: 1, loss: 0.6511\n",
      "restart: 0, epoch: 523, iter: 1, loss: 0.6493\n",
      "restart: 0, epoch: 524, iter: 1, loss: 0.6472\n",
      "restart: 0, epoch: 525, iter: 1, loss: 0.6450\n",
      "restart: 0, epoch: 526, iter: 1, loss: 0.6424\n",
      "restart: 0, epoch: 527, iter: 1, loss: 0.6404\n",
      "restart: 0, epoch: 528, iter: 1, loss: 0.6409\n",
      "restart: 0, epoch: 529, iter: 1, loss: 0.6385\n",
      "restart: 0, epoch: 530, iter: 1, loss: 0.6374\n",
      "restart: 0, epoch: 531, iter: 1, loss: 0.6349\n",
      "restart: 0, epoch: 532, iter: 1, loss: 0.6340\n",
      "restart: 0, epoch: 533, iter: 1, loss: 0.6319\n",
      "restart: 0, epoch: 534, iter: 1, loss: 0.6299\n",
      "restart: 0, epoch: 535, iter: 1, loss: 0.6280\n",
      "restart: 0, epoch: 536, iter: 1, loss: 0.6264\n",
      "restart: 0, epoch: 537, iter: 1, loss: 0.6250\n",
      "restart: 0, epoch: 538, iter: 1, loss: 0.6227\n",
      "restart: 0, epoch: 539, iter: 1, loss: 0.6213\n",
      "restart: 0, epoch: 540, iter: 1, loss: 0.6192\n",
      "restart: 0, epoch: 541, iter: 1, loss: 0.6177\n",
      "restart: 0, epoch: 542, iter: 1, loss: 0.6161\n",
      "restart: 0, epoch: 543, iter: 1, loss: 0.6140\n",
      "restart: 0, epoch: 544, iter: 1, loss: 0.6121\n",
      "restart: 0, epoch: 545, iter: 1, loss: 0.6099\n",
      "restart: 0, epoch: 546, iter: 1, loss: 0.6079\n",
      "restart: 0, epoch: 547, iter: 1, loss: 0.6061\n",
      "restart: 0, epoch: 548, iter: 1, loss: 0.6043\n",
      "restart: 0, epoch: 549, iter: 1, loss: 0.6029\n",
      "restart: 0, epoch: 550, iter: 1, loss: 0.6004\n",
      "restart: 0, epoch: 551, iter: 1, loss: 0.5987\n",
      "restart: 0, epoch: 552, iter: 1, loss: 0.5958\n",
      "restart: 0, epoch: 553, iter: 1, loss: 0.5945\n",
      "restart: 0, epoch: 554, iter: 1, loss: 0.5900\n",
      "restart: 0, epoch: 555, iter: 1, loss: 0.5900\n",
      "restart: 0, epoch: 556, iter: 1, loss: 0.5871\n",
      "restart: 0, epoch: 557, iter: 1, loss: 0.5866\n",
      "restart: 0, epoch: 558, iter: 1, loss: 0.5829\n",
      "restart: 0, epoch: 559, iter: 1, loss: 0.5828\n",
      "restart: 0, epoch: 560, iter: 1, loss: 0.5803\n",
      "restart: 0, epoch: 561, iter: 1, loss: 0.5772\n",
      "restart: 0, epoch: 562, iter: 1, loss: 0.5749\n",
      "restart: 0, epoch: 563, iter: 1, loss: 0.5723\n",
      "restart: 0, epoch: 564, iter: 1, loss: 0.5712\n",
      "restart: 0, epoch: 565, iter: 1, loss: 0.5681\n",
      "restart: 0, epoch: 566, iter: 1, loss: 0.5664\n",
      "restart: 0, epoch: 567, iter: 1, loss: 0.5646\n",
      "restart: 0, epoch: 568, iter: 1, loss: 0.5626\n",
      "restart: 0, epoch: 569, iter: 1, loss: 0.5602\n",
      "restart: 0, epoch: 570, iter: 1, loss: 0.5582\n",
      "restart: 0, epoch: 571, iter: 1, loss: 0.5561\n",
      "restart: 0, epoch: 572, iter: 1, loss: 0.5543\n",
      "restart: 0, epoch: 573, iter: 1, loss: 0.5520\n",
      "restart: 0, epoch: 574, iter: 1, loss: 0.5493\n",
      "restart: 0, epoch: 575, iter: 1, loss: 0.5471\n",
      "restart: 0, epoch: 576, iter: 1, loss: 0.5453\n",
      "restart: 0, epoch: 577, iter: 1, loss: 0.5433\n",
      "restart: 0, epoch: 578, iter: 1, loss: 0.5415\n",
      "restart: 0, epoch: 579, iter: 1, loss: 0.5391\n",
      "restart: 0, epoch: 580, iter: 1, loss: 0.5368\n",
      "restart: 0, epoch: 581, iter: 1, loss: 0.5358\n",
      "restart: 0, epoch: 582, iter: 1, loss: 0.5335\n",
      "restart: 0, epoch: 583, iter: 1, loss: 0.5312\n",
      "restart: 0, epoch: 584, iter: 1, loss: 0.5284\n",
      "restart: 0, epoch: 585, iter: 1, loss: 0.5255\n",
      "restart: 0, epoch: 586, iter: 1, loss: 0.5237\n",
      "restart: 0, epoch: 587, iter: 1, loss: 0.5211\n",
      "restart: 0, epoch: 588, iter: 1, loss: 0.5188\n",
      "restart: 0, epoch: 589, iter: 1, loss: 0.5179\n",
      "restart: 0, epoch: 590, iter: 1, loss: 0.5155\n",
      "restart: 0, epoch: 591, iter: 1, loss: 0.5123\n",
      "restart: 0, epoch: 592, iter: 1, loss: 0.5107\n",
      "restart: 0, epoch: 593, iter: 1, loss: 0.5082\n",
      "restart: 0, epoch: 594, iter: 1, loss: 0.5071\n",
      "restart: 0, epoch: 595, iter: 1, loss: 0.5056\n",
      "restart: 0, epoch: 596, iter: 1, loss: 0.5028\n",
      "restart: 0, epoch: 597, iter: 1, loss: 0.5000\n",
      "restart: 0, epoch: 598, iter: 1, loss: 0.4984\n",
      "restart: 0, epoch: 599, iter: 1, loss: 0.4957\n",
      "restart: 0, epoch: 600, iter: 1, loss: 0.4936\n",
      "restart: 0, epoch: 601, iter: 1, loss: 0.4914\n",
      "restart: 0, epoch: 602, iter: 1, loss: 0.4890\n",
      "restart: 0, epoch: 603, iter: 1, loss: 0.4876\n",
      "restart: 0, epoch: 604, iter: 1, loss: 0.4855\n",
      "restart: 0, epoch: 605, iter: 1, loss: 0.4835\n",
      "restart: 0, epoch: 606, iter: 1, loss: 0.4806\n",
      "restart: 0, epoch: 607, iter: 1, loss: 0.4790\n",
      "restart: 0, epoch: 608, iter: 1, loss: 0.4775\n",
      "restart: 0, epoch: 609, iter: 1, loss: 0.4751\n",
      "restart: 0, epoch: 610, iter: 1, loss: 0.4731\n",
      "restart: 0, epoch: 611, iter: 1, loss: 0.4705\n",
      "restart: 0, epoch: 612, iter: 1, loss: 0.4673\n",
      "restart: 0, epoch: 613, iter: 1, loss: 0.4653\n",
      "restart: 0, epoch: 614, iter: 1, loss: 0.4628\n",
      "restart: 0, epoch: 615, iter: 1, loss: 0.4621\n",
      "restart: 0, epoch: 616, iter: 1, loss: 0.4603\n",
      "restart: 0, epoch: 617, iter: 1, loss: 0.4581\n",
      "restart: 0, epoch: 618, iter: 1, loss: 0.4555\n",
      "restart: 0, epoch: 619, iter: 1, loss: 0.4545\n",
      "restart: 0, epoch: 620, iter: 1, loss: 0.4518\n",
      "restart: 0, epoch: 621, iter: 1, loss: 0.4496\n",
      "restart: 0, epoch: 622, iter: 1, loss: 0.4476\n",
      "restart: 0, epoch: 623, iter: 1, loss: 0.4459\n",
      "restart: 0, epoch: 624, iter: 1, loss: 0.4438\n",
      "restart: 0, epoch: 625, iter: 1, loss: 0.4403\n",
      "restart: 0, epoch: 626, iter: 1, loss: 0.4392\n",
      "restart: 0, epoch: 627, iter: 1, loss: 0.4381\n",
      "restart: 0, epoch: 628, iter: 1, loss: 0.4355\n",
      "restart: 0, epoch: 629, iter: 1, loss: 0.4339\n",
      "restart: 0, epoch: 630, iter: 1, loss: 0.4313\n",
      "restart: 0, epoch: 631, iter: 1, loss: 0.4297\n",
      "restart: 0, epoch: 632, iter: 1, loss: 0.4275\n",
      "restart: 0, epoch: 633, iter: 1, loss: 0.4264\n",
      "restart: 0, epoch: 634, iter: 1, loss: 0.4238\n",
      "restart: 0, epoch: 635, iter: 1, loss: 0.4225\n",
      "restart: 0, epoch: 636, iter: 1, loss: 0.4195\n",
      "restart: 0, epoch: 637, iter: 1, loss: 0.4181\n",
      "restart: 0, epoch: 638, iter: 1, loss: 0.4161\n",
      "restart: 0, epoch: 639, iter: 1, loss: 0.4158\n",
      "restart: 0, epoch: 640, iter: 1, loss: 0.4127\n",
      "restart: 0, epoch: 641, iter: 1, loss: 0.4102\n",
      "restart: 0, epoch: 642, iter: 1, loss: 0.4082\n",
      "restart: 0, epoch: 643, iter: 1, loss: 0.4061\n",
      "restart: 0, epoch: 644, iter: 1, loss: 0.4044\n",
      "restart: 0, epoch: 645, iter: 1, loss: 0.4025\n",
      "restart: 0, epoch: 646, iter: 1, loss: 0.4004\n",
      "restart: 0, epoch: 647, iter: 1, loss: 0.3990\n",
      "restart: 0, epoch: 648, iter: 1, loss: 0.3966\n",
      "restart: 0, epoch: 649, iter: 1, loss: 0.3957\n",
      "restart: 0, epoch: 650, iter: 1, loss: 0.3935\n",
      "restart: 0, epoch: 651, iter: 1, loss: 0.3914\n",
      "restart: 0, epoch: 652, iter: 1, loss: 0.3890\n",
      "restart: 0, epoch: 653, iter: 1, loss: 0.3871\n",
      "restart: 0, epoch: 654, iter: 1, loss: 0.3854\n",
      "restart: 0, epoch: 655, iter: 1, loss: 0.3827\n",
      "restart: 0, epoch: 656, iter: 1, loss: 0.3805\n",
      "restart: 0, epoch: 657, iter: 1, loss: 0.3784\n",
      "restart: 0, epoch: 658, iter: 1, loss: 0.3772\n",
      "restart: 0, epoch: 659, iter: 1, loss: 0.3751\n",
      "restart: 0, epoch: 660, iter: 1, loss: 0.3739\n",
      "restart: 0, epoch: 661, iter: 1, loss: 0.3709\n",
      "restart: 0, epoch: 662, iter: 1, loss: 0.3698\n",
      "restart: 0, epoch: 663, iter: 1, loss: 0.3676\n",
      "restart: 0, epoch: 664, iter: 1, loss: 0.3656\n",
      "restart: 0, epoch: 665, iter: 1, loss: 0.3643\n",
      "restart: 0, epoch: 666, iter: 1, loss: 0.3624\n",
      "restart: 0, epoch: 667, iter: 1, loss: 0.3610\n",
      "restart: 0, epoch: 668, iter: 1, loss: 0.3599\n",
      "restart: 0, epoch: 669, iter: 1, loss: 0.3583\n",
      "restart: 0, epoch: 670, iter: 1, loss: 0.3573\n",
      "restart: 0, epoch: 671, iter: 1, loss: 0.3549\n",
      "restart: 0, epoch: 672, iter: 1, loss: 0.3531\n",
      "restart: 0, epoch: 673, iter: 1, loss: 0.3509\n",
      "restart: 0, epoch: 674, iter: 1, loss: 0.3497\n",
      "restart: 0, epoch: 675, iter: 1, loss: 0.3481\n",
      "restart: 0, epoch: 676, iter: 1, loss: 0.3461\n",
      "restart: 0, epoch: 677, iter: 1, loss: 0.3445\n",
      "restart: 0, epoch: 678, iter: 1, loss: 0.3419\n",
      "restart: 0, epoch: 679, iter: 1, loss: 0.3406\n",
      "restart: 0, epoch: 680, iter: 1, loss: 0.3385\n",
      "restart: 0, epoch: 681, iter: 1, loss: 0.3370\n",
      "restart: 0, epoch: 682, iter: 1, loss: 0.3351\n",
      "restart: 0, epoch: 683, iter: 1, loss: 0.3332\n",
      "restart: 0, epoch: 684, iter: 1, loss: 0.3321\n",
      "restart: 0, epoch: 685, iter: 1, loss: 0.3301\n",
      "restart: 0, epoch: 686, iter: 1, loss: 0.3288\n",
      "restart: 0, epoch: 687, iter: 1, loss: 0.3272\n",
      "restart: 0, epoch: 688, iter: 1, loss: 0.3255\n",
      "restart: 0, epoch: 689, iter: 1, loss: 0.3235\n",
      "restart: 0, epoch: 690, iter: 1, loss: 0.3215\n",
      "restart: 0, epoch: 691, iter: 1, loss: 0.3198\n",
      "restart: 0, epoch: 692, iter: 1, loss: 0.3183\n",
      "restart: 0, epoch: 693, iter: 1, loss: 0.3170\n",
      "restart: 0, epoch: 694, iter: 1, loss: 0.3155\n",
      "restart: 0, epoch: 695, iter: 1, loss: 0.3125\n",
      "restart: 0, epoch: 696, iter: 1, loss: 0.3103\n",
      "restart: 0, epoch: 697, iter: 1, loss: 0.3089\n",
      "restart: 0, epoch: 698, iter: 1, loss: 0.3078\n",
      "restart: 0, epoch: 699, iter: 1, loss: 0.3068\n",
      "restart: 0, epoch: 700, iter: 1, loss: 0.3061\n",
      "restart: 0, epoch: 701, iter: 1, loss: 0.3045\n",
      "restart: 0, epoch: 702, iter: 1, loss: 0.3022\n",
      "restart: 0, epoch: 703, iter: 1, loss: 0.3007\n",
      "restart: 0, epoch: 704, iter: 1, loss: 0.2998\n",
      "restart: 0, epoch: 705, iter: 1, loss: 0.2986\n",
      "restart: 0, epoch: 706, iter: 1, loss: 0.2967\n",
      "restart: 0, epoch: 707, iter: 1, loss: 0.2952\n",
      "restart: 0, epoch: 708, iter: 1, loss: 0.2933\n",
      "restart: 0, epoch: 709, iter: 1, loss: 0.2921\n",
      "restart: 0, epoch: 710, iter: 1, loss: 0.2908\n",
      "restart: 0, epoch: 711, iter: 1, loss: 0.2895\n",
      "restart: 0, epoch: 712, iter: 1, loss: 0.2876\n",
      "restart: 0, epoch: 713, iter: 1, loss: 0.2862\n",
      "restart: 0, epoch: 714, iter: 1, loss: 0.2847\n",
      "restart: 0, epoch: 715, iter: 1, loss: 0.2834\n",
      "restart: 0, epoch: 716, iter: 1, loss: 0.2828\n",
      "restart: 0, epoch: 717, iter: 1, loss: 0.2814\n",
      "restart: 0, epoch: 718, iter: 1, loss: 0.2793\n",
      "restart: 0, epoch: 719, iter: 1, loss: 0.2771\n",
      "restart: 0, epoch: 720, iter: 1, loss: 0.2765\n",
      "restart: 0, epoch: 721, iter: 1, loss: 0.2751\n",
      "restart: 0, epoch: 722, iter: 1, loss: 0.2734\n",
      "restart: 0, epoch: 723, iter: 1, loss: 0.2721\n",
      "restart: 0, epoch: 724, iter: 1, loss: 0.2707\n",
      "restart: 0, epoch: 725, iter: 1, loss: 0.2692\n",
      "restart: 0, epoch: 726, iter: 1, loss: 0.2685\n",
      "restart: 0, epoch: 727, iter: 1, loss: 0.2666\n",
      "restart: 0, epoch: 728, iter: 1, loss: 0.2652\n",
      "restart: 0, epoch: 729, iter: 1, loss: 0.2641\n",
      "restart: 0, epoch: 730, iter: 1, loss: 0.2621\n",
      "restart: 0, epoch: 731, iter: 1, loss: 0.2611\n",
      "restart: 0, epoch: 732, iter: 1, loss: 0.2592\n",
      "restart: 0, epoch: 733, iter: 1, loss: 0.2580\n",
      "restart: 0, epoch: 734, iter: 1, loss: 0.2563\n",
      "restart: 0, epoch: 735, iter: 1, loss: 0.2551\n",
      "restart: 0, epoch: 736, iter: 1, loss: 0.2537\n",
      "restart: 0, epoch: 737, iter: 1, loss: 0.2529\n",
      "restart: 0, epoch: 738, iter: 1, loss: 0.2513\n",
      "restart: 0, epoch: 739, iter: 1, loss: 0.2496\n",
      "restart: 0, epoch: 740, iter: 1, loss: 0.2482\n",
      "restart: 0, epoch: 741, iter: 1, loss: 0.2467\n",
      "restart: 0, epoch: 742, iter: 1, loss: 0.2454\n",
      "restart: 0, epoch: 743, iter: 1, loss: 0.2442\n",
      "restart: 0, epoch: 744, iter: 1, loss: 0.2428\n",
      "restart: 0, epoch: 745, iter: 1, loss: 0.2417\n",
      "restart: 0, epoch: 746, iter: 1, loss: 0.2408\n",
      "restart: 0, epoch: 747, iter: 1, loss: 0.2381\n",
      "restart: 0, epoch: 748, iter: 1, loss: 0.2377\n",
      "restart: 0, epoch: 749, iter: 1, loss: 0.2360\n",
      "restart: 0, epoch: 750, iter: 1, loss: 0.2343\n",
      "restart: 0, epoch: 751, iter: 1, loss: 0.2333\n",
      "restart: 0, epoch: 752, iter: 1, loss: 0.2318\n",
      "restart: 0, epoch: 753, iter: 1, loss: 0.2307\n",
      "restart: 0, epoch: 754, iter: 1, loss: 0.2292\n",
      "restart: 0, epoch: 755, iter: 1, loss: 0.2280\n",
      "restart: 0, epoch: 756, iter: 1, loss: 0.2267\n",
      "restart: 0, epoch: 757, iter: 1, loss: 0.2248\n",
      "restart: 0, epoch: 758, iter: 1, loss: 0.2233\n",
      "restart: 0, epoch: 759, iter: 1, loss: 0.2220\n",
      "restart: 0, epoch: 760, iter: 1, loss: 0.2206\n",
      "restart: 0, epoch: 761, iter: 1, loss: 0.2198\n",
      "restart: 0, epoch: 762, iter: 1, loss: 0.2187\n",
      "restart: 0, epoch: 763, iter: 1, loss: 0.2168\n",
      "restart: 0, epoch: 764, iter: 1, loss: 0.2156\n",
      "restart: 0, epoch: 765, iter: 1, loss: 0.2144\n",
      "restart: 0, epoch: 766, iter: 1, loss: 0.2144\n",
      "restart: 0, epoch: 767, iter: 1, loss: 0.2123\n",
      "restart: 0, epoch: 768, iter: 1, loss: 0.2118\n",
      "restart: 0, epoch: 769, iter: 1, loss: 0.2104\n",
      "restart: 0, epoch: 770, iter: 1, loss: 0.2097\n",
      "restart: 0, epoch: 771, iter: 1, loss: 0.2074\n",
      "restart: 0, epoch: 772, iter: 1, loss: 0.2061\n",
      "restart: 0, epoch: 773, iter: 1, loss: 0.2055\n",
      "restart: 0, epoch: 774, iter: 1, loss: 0.2043\n",
      "restart: 0, epoch: 775, iter: 1, loss: 0.2030\n",
      "restart: 0, epoch: 776, iter: 1, loss: 0.2027\n",
      "restart: 0, epoch: 777, iter: 1, loss: 0.2005\n",
      "restart: 0, epoch: 778, iter: 1, loss: 0.1995\n",
      "restart: 0, epoch: 779, iter: 1, loss: 0.1982\n",
      "restart: 0, epoch: 780, iter: 1, loss: 0.1971\n",
      "restart: 0, epoch: 781, iter: 1, loss: 0.1959\n",
      "restart: 0, epoch: 782, iter: 1, loss: 0.1952\n",
      "restart: 0, epoch: 783, iter: 1, loss: 0.1938\n",
      "restart: 0, epoch: 784, iter: 1, loss: 0.1924\n",
      "restart: 0, epoch: 785, iter: 1, loss: 0.1913\n",
      "restart: 0, epoch: 786, iter: 1, loss: 0.1900\n",
      "restart: 0, epoch: 787, iter: 1, loss: 0.1890\n",
      "restart: 0, epoch: 788, iter: 1, loss: 0.1884\n",
      "restart: 0, epoch: 789, iter: 1, loss: 0.1871\n",
      "restart: 0, epoch: 790, iter: 1, loss: 0.1857\n",
      "restart: 0, epoch: 791, iter: 1, loss: 0.1853\n",
      "restart: 0, epoch: 792, iter: 1, loss: 0.1835\n",
      "restart: 0, epoch: 793, iter: 1, loss: 0.1819\n",
      "restart: 0, epoch: 794, iter: 1, loss: 0.1809\n",
      "restart: 0, epoch: 795, iter: 1, loss: 0.1808\n",
      "restart: 0, epoch: 796, iter: 1, loss: 0.1792\n",
      "restart: 0, epoch: 797, iter: 1, loss: 0.1780\n",
      "restart: 0, epoch: 798, iter: 1, loss: 0.1770\n",
      "restart: 0, epoch: 799, iter: 1, loss: 0.1761\n",
      "restart: 0, epoch: 800, iter: 1, loss: 0.1753\n",
      "restart: 0, epoch: 801, iter: 1, loss: 0.1744\n",
      "restart: 0, epoch: 802, iter: 1, loss: 0.1727\n",
      "restart: 0, epoch: 803, iter: 1, loss: 0.1713\n",
      "restart: 0, epoch: 804, iter: 1, loss: 0.1709\n",
      "restart: 0, epoch: 805, iter: 1, loss: 0.1696\n",
      "restart: 0, epoch: 806, iter: 1, loss: 0.1682\n",
      "restart: 0, epoch: 807, iter: 1, loss: 0.1676\n",
      "restart: 0, epoch: 808, iter: 1, loss: 0.1672\n",
      "restart: 0, epoch: 809, iter: 1, loss: 0.1648\n",
      "restart: 0, epoch: 810, iter: 1, loss: 0.1640\n",
      "restart: 0, epoch: 811, iter: 1, loss: 0.1627\n",
      "restart: 0, epoch: 812, iter: 1, loss: 0.1619\n",
      "restart: 0, epoch: 813, iter: 1, loss: 0.1610\n",
      "restart: 0, epoch: 814, iter: 1, loss: 0.1596\n",
      "restart: 0, epoch: 815, iter: 1, loss: 0.1587\n",
      "restart: 0, epoch: 816, iter: 1, loss: 0.1588\n",
      "restart: 0, epoch: 817, iter: 1, loss: 0.1569\n",
      "restart: 0, epoch: 818, iter: 1, loss: 0.1568\n",
      "restart: 0, epoch: 819, iter: 1, loss: 0.1551\n",
      "restart: 0, epoch: 820, iter: 1, loss: 0.1536\n",
      "restart: 0, epoch: 821, iter: 1, loss: 0.1536\n",
      "restart: 0, epoch: 822, iter: 1, loss: 0.1519\n",
      "restart: 0, epoch: 823, iter: 1, loss: 0.1509\n",
      "restart: 0, epoch: 824, iter: 1, loss: 0.1494\n",
      "restart: 0, epoch: 825, iter: 1, loss: 0.1484\n",
      "restart: 0, epoch: 826, iter: 1, loss: 0.1475\n",
      "restart: 0, epoch: 827, iter: 1, loss: 0.1466\n",
      "restart: 0, epoch: 828, iter: 1, loss: 0.1462\n",
      "restart: 0, epoch: 829, iter: 1, loss: 0.1450\n",
      "restart: 0, epoch: 830, iter: 1, loss: 0.1438\n",
      "restart: 0, epoch: 831, iter: 1, loss: 0.1429\n",
      "restart: 0, epoch: 832, iter: 1, loss: 0.1427\n",
      "restart: 0, epoch: 833, iter: 1, loss: 0.1417\n",
      "restart: 0, epoch: 834, iter: 1, loss: 0.1404\n",
      "restart: 0, epoch: 835, iter: 1, loss: 0.1399\n",
      "restart: 0, epoch: 836, iter: 1, loss: 0.1385\n",
      "restart: 0, epoch: 837, iter: 1, loss: 0.1376\n",
      "restart: 0, epoch: 838, iter: 1, loss: 0.1372\n",
      "restart: 0, epoch: 839, iter: 1, loss: 0.1366\n",
      "restart: 0, epoch: 840, iter: 1, loss: 0.1344\n",
      "restart: 0, epoch: 841, iter: 1, loss: 0.1341\n",
      "restart: 0, epoch: 842, iter: 1, loss: 0.1325\n",
      "restart: 0, epoch: 843, iter: 1, loss: 0.1317\n",
      "restart: 0, epoch: 844, iter: 1, loss: 0.1308\n",
      "restart: 0, epoch: 845, iter: 1, loss: 0.1295\n",
      "restart: 0, epoch: 846, iter: 1, loss: 0.1283\n",
      "restart: 0, epoch: 847, iter: 1, loss: 0.1275\n",
      "restart: 0, epoch: 848, iter: 1, loss: 0.1267\n",
      "restart: 0, epoch: 849, iter: 1, loss: 0.1262\n",
      "restart: 0, epoch: 850, iter: 1, loss: 0.1249\n",
      "restart: 0, epoch: 851, iter: 1, loss: 0.1233\n",
      "restart: 0, epoch: 852, iter: 1, loss: 0.1231\n",
      "restart: 0, epoch: 853, iter: 1, loss: 0.1221\n",
      "restart: 0, epoch: 854, iter: 1, loss: 0.1208\n",
      "restart: 0, epoch: 855, iter: 1, loss: 0.1193\n",
      "restart: 0, epoch: 856, iter: 1, loss: 0.1184\n",
      "restart: 0, epoch: 857, iter: 1, loss: 0.1168\n",
      "restart: 0, epoch: 858, iter: 1, loss: 0.1159\n",
      "restart: 0, epoch: 859, iter: 1, loss: 0.1152\n",
      "restart: 0, epoch: 860, iter: 1, loss: 0.1150\n",
      "restart: 0, epoch: 861, iter: 1, loss: 0.1145\n",
      "restart: 0, epoch: 862, iter: 1, loss: 0.1128\n",
      "restart: 0, epoch: 863, iter: 1, loss: 0.1120\n",
      "restart: 0, epoch: 864, iter: 1, loss: 0.1118\n",
      "restart: 0, epoch: 865, iter: 1, loss: 0.1104\n",
      "restart: 0, epoch: 866, iter: 1, loss: 0.1091\n",
      "restart: 0, epoch: 867, iter: 1, loss: 0.1086\n",
      "restart: 0, epoch: 868, iter: 1, loss: 0.1068\n",
      "restart: 0, epoch: 869, iter: 1, loss: 0.1063\n",
      "restart: 0, epoch: 870, iter: 1, loss: 0.1054\n",
      "restart: 0, epoch: 871, iter: 1, loss: 0.1049\n",
      "restart: 0, epoch: 872, iter: 1, loss: 0.1040\n",
      "restart: 0, epoch: 873, iter: 1, loss: 0.1024\n",
      "restart: 0, epoch: 874, iter: 1, loss: 0.1016\n",
      "restart: 0, epoch: 875, iter: 1, loss: 0.1013\n",
      "restart: 0, epoch: 876, iter: 1, loss: 0.1000\n",
      "restart: 0, epoch: 877, iter: 1, loss: 0.0998\n",
      "restart: 0, epoch: 878, iter: 1, loss: 0.0993\n",
      "restart: 0, epoch: 879, iter: 1, loss: 0.0979\n",
      "restart: 0, epoch: 880, iter: 1, loss: 0.0967\n",
      "restart: 0, epoch: 881, iter: 1, loss: 0.0960\n",
      "restart: 0, epoch: 882, iter: 1, loss: 0.0954\n",
      "restart: 0, epoch: 883, iter: 1, loss: 0.0944\n",
      "restart: 0, epoch: 884, iter: 1, loss: 0.0935\n",
      "restart: 0, epoch: 885, iter: 1, loss: 0.0929\n",
      "restart: 0, epoch: 886, iter: 1, loss: 0.0920\n",
      "restart: 0, epoch: 887, iter: 1, loss: 0.0917\n",
      "restart: 0, epoch: 888, iter: 1, loss: 0.0911\n",
      "restart: 0, epoch: 889, iter: 1, loss: 0.0892\n",
      "restart: 0, epoch: 890, iter: 1, loss: 0.0888\n",
      "restart: 0, epoch: 891, iter: 1, loss: 0.0879\n",
      "restart: 0, epoch: 892, iter: 1, loss: 0.0871\n",
      "restart: 0, epoch: 893, iter: 1, loss: 0.0870\n",
      "restart: 0, epoch: 894, iter: 1, loss: 0.0868\n",
      "restart: 0, epoch: 895, iter: 1, loss: 0.0859\n",
      "restart: 0, epoch: 896, iter: 1, loss: 0.0850\n",
      "restart: 0, epoch: 897, iter: 1, loss: 0.0831\n",
      "restart: 0, epoch: 898, iter: 1, loss: 0.0826\n",
      "restart: 0, epoch: 899, iter: 1, loss: 0.0825\n",
      "restart: 0, epoch: 900, iter: 1, loss: 0.0811\n",
      "restart: 0, epoch: 901, iter: 1, loss: 0.0806\n",
      "restart: 0, epoch: 902, iter: 1, loss: 0.0800\n",
      "restart: 0, epoch: 903, iter: 1, loss: 0.0782\n",
      "restart: 0, epoch: 904, iter: 1, loss: 0.0789\n",
      "restart: 0, epoch: 905, iter: 1, loss: 0.0781\n",
      "restart: 0, epoch: 906, iter: 1, loss: 0.0765\n",
      "restart: 0, epoch: 907, iter: 1, loss: 0.0769\n",
      "restart: 0, epoch: 908, iter: 1, loss: 0.0756\n",
      "restart: 0, epoch: 909, iter: 1, loss: 0.0746\n",
      "restart: 0, epoch: 910, iter: 1, loss: 0.0750\n",
      "restart: 0, epoch: 911, iter: 1, loss: 0.0747\n",
      "restart: 0, epoch: 912, iter: 1, loss: 0.0743\n",
      "restart: 0, epoch: 913, iter: 1, loss: 0.0727\n",
      "restart: 0, epoch: 914, iter: 1, loss: 0.0712\n",
      "restart: 0, epoch: 915, iter: 1, loss: 0.0705\n",
      "restart: 0, epoch: 916, iter: 1, loss: 0.0701\n",
      "restart: 0, epoch: 917, iter: 1, loss: 0.0696\n",
      "restart: 0, epoch: 918, iter: 1, loss: 0.0687\n",
      "restart: 0, epoch: 919, iter: 1, loss: 0.0679\n",
      "restart: 0, epoch: 920, iter: 1, loss: 0.0670\n",
      "restart: 0, epoch: 921, iter: 1, loss: 0.0664\n",
      "restart: 0, epoch: 922, iter: 1, loss: 0.0658\n",
      "restart: 0, epoch: 923, iter: 1, loss: 0.0647\n",
      "restart: 0, epoch: 924, iter: 1, loss: 0.0638\n",
      "restart: 0, epoch: 925, iter: 1, loss: 0.0634\n",
      "restart: 0, epoch: 926, iter: 1, loss: 0.0631\n",
      "restart: 0, epoch: 927, iter: 1, loss: 0.0619\n",
      "restart: 0, epoch: 928, iter: 1, loss: 0.0618\n",
      "restart: 0, epoch: 929, iter: 1, loss: 0.0609\n",
      "restart: 0, epoch: 930, iter: 1, loss: 0.0601\n",
      "restart: 0, epoch: 931, iter: 1, loss: 0.0591\n",
      "restart: 0, epoch: 932, iter: 1, loss: 0.0591\n",
      "restart: 0, epoch: 933, iter: 1, loss: 0.0583\n",
      "restart: 0, epoch: 934, iter: 1, loss: 0.0574\n",
      "restart: 0, epoch: 935, iter: 1, loss: 0.0573\n",
      "restart: 0, epoch: 936, iter: 1, loss: 0.0564\n",
      "restart: 0, epoch: 937, iter: 1, loss: 0.0562\n",
      "restart: 0, epoch: 938, iter: 1, loss: 0.0549\n",
      "restart: 0, epoch: 939, iter: 1, loss: 0.0544\n",
      "restart: 0, epoch: 940, iter: 1, loss: 0.0535\n",
      "restart: 0, epoch: 941, iter: 1, loss: 0.0536\n",
      "restart: 0, epoch: 942, iter: 1, loss: 0.0521\n",
      "restart: 0, epoch: 943, iter: 1, loss: 0.0519\n",
      "restart: 0, epoch: 944, iter: 1, loss: 0.0515\n",
      "restart: 0, epoch: 945, iter: 1, loss: 0.0511\n",
      "restart: 0, epoch: 946, iter: 1, loss: 0.0498\n",
      "restart: 0, epoch: 947, iter: 1, loss: 0.0492\n",
      "restart: 0, epoch: 948, iter: 1, loss: 0.0486\n",
      "restart: 0, epoch: 949, iter: 1, loss: 0.0484\n",
      "restart: 0, epoch: 950, iter: 1, loss: 0.0473\n",
      "restart: 0, epoch: 951, iter: 1, loss: 0.0461\n",
      "restart: 0, epoch: 952, iter: 1, loss: 0.0459\n",
      "restart: 0, epoch: 953, iter: 1, loss: 0.0461\n",
      "restart: 0, epoch: 954, iter: 1, loss: 0.0450\n",
      "restart: 0, epoch: 955, iter: 1, loss: 0.0441\n",
      "restart: 0, epoch: 956, iter: 1, loss: 0.0437\n",
      "restart: 0, epoch: 957, iter: 1, loss: 0.0431\n",
      "restart: 0, epoch: 958, iter: 1, loss: 0.0427\n",
      "restart: 0, epoch: 959, iter: 1, loss: 0.0419\n",
      "restart: 0, epoch: 960, iter: 1, loss: 0.0412\n",
      "restart: 0, epoch: 961, iter: 1, loss: 0.0405\n",
      "restart: 0, epoch: 962, iter: 1, loss: 0.0404\n",
      "restart: 0, epoch: 963, iter: 1, loss: 0.0396\n",
      "restart: 0, epoch: 964, iter: 1, loss: 0.0387\n",
      "restart: 0, epoch: 965, iter: 1, loss: 0.0382\n",
      "restart: 0, epoch: 966, iter: 1, loss: 0.0379\n",
      "restart: 0, epoch: 967, iter: 1, loss: 0.0366\n",
      "restart: 0, epoch: 968, iter: 1, loss: 0.0361\n",
      "restart: 0, epoch: 969, iter: 1, loss: 0.0356\n",
      "restart: 0, epoch: 970, iter: 1, loss: 0.0352\n",
      "restart: 0, epoch: 971, iter: 1, loss: 0.0340\n",
      "restart: 0, epoch: 972, iter: 1, loss: 0.0345\n",
      "restart: 0, epoch: 973, iter: 1, loss: 0.0330\n",
      "restart: 0, epoch: 974, iter: 1, loss: 0.0328\n",
      "restart: 0, epoch: 975, iter: 1, loss: 0.0325\n",
      "restart: 0, epoch: 976, iter: 1, loss: 0.0313\n",
      "restart: 0, epoch: 977, iter: 1, loss: 0.0307\n",
      "restart: 0, epoch: 978, iter: 1, loss: 0.0301\n",
      "restart: 0, epoch: 979, iter: 1, loss: 0.0294\n",
      "restart: 0, epoch: 980, iter: 1, loss: 0.0291\n",
      "restart: 0, epoch: 981, iter: 1, loss: 0.0285\n",
      "restart: 0, epoch: 982, iter: 1, loss: 0.0278\n",
      "restart: 0, epoch: 983, iter: 1, loss: 0.0278\n",
      "restart: 0, epoch: 984, iter: 1, loss: 0.0266\n",
      "restart: 0, epoch: 985, iter: 1, loss: 0.0258\n",
      "restart: 0, epoch: 986, iter: 1, loss: 0.0254\n",
      "restart: 0, epoch: 987, iter: 1, loss: 0.0248\n",
      "restart: 0, epoch: 988, iter: 1, loss: 0.0242\n",
      "restart: 0, epoch: 989, iter: 1, loss: 0.0234\n",
      "restart: 0, epoch: 990, iter: 1, loss: 0.0229\n",
      "restart: 0, epoch: 991, iter: 1, loss: 0.0223\n",
      "restart: 0, epoch: 992, iter: 1, loss: 0.0216\n",
      "restart: 0, epoch: 993, iter: 1, loss: 0.0212\n",
      "restart: 0, epoch: 994, iter: 1, loss: 0.0206\n",
      "restart: 0, epoch: 995, iter: 1, loss: 0.0203\n",
      "restart: 0, epoch: 996, iter: 1, loss: 0.0192\n",
      "restart: 0, epoch: 997, iter: 1, loss: 0.0190\n",
      "restart: 0, epoch: 998, iter: 1, loss: 0.0181\n",
      "restart: 0, epoch: 999, iter: 1, loss: 0.0176\n",
      "restart: 0, epoch: 1000, iter: 1, loss: 0.0171\n",
      "restart: 0, epoch: 1001, iter: 1, loss: 0.0167\n",
      "restart: 0, epoch: 1002, iter: 1, loss: 0.0159\n",
      "restart: 0, epoch: 1003, iter: 1, loss: 0.0155\n",
      "restart: 0, epoch: 1004, iter: 1, loss: 0.0150\n",
      "restart: 0, epoch: 1005, iter: 1, loss: 0.0144\n",
      "restart: 0, epoch: 1006, iter: 1, loss: 0.0140\n",
      "restart: 0, epoch: 1007, iter: 1, loss: 0.0130\n",
      "restart: 0, epoch: 1008, iter: 1, loss: 0.0126\n",
      "restart: 0, epoch: 1009, iter: 1, loss: 0.0118\n",
      "restart: 0, epoch: 1010, iter: 1, loss: 0.0117\n",
      "restart: 0, epoch: 1011, iter: 1, loss: 0.0109\n",
      "restart: 0, epoch: 1012, iter: 1, loss: 0.0103\n",
      "restart: 0, epoch: 1013, iter: 1, loss: 0.0095\n",
      "restart: 0, epoch: 1014, iter: 1, loss: 0.0090\n",
      "restart: 0, epoch: 1015, iter: 1, loss: 0.0086\n",
      "restart: 0, epoch: 1016, iter: 1, loss: 0.0083\n",
      "restart: 0, epoch: 1017, iter: 1, loss: 0.0075\n",
      "restart: 0, epoch: 1018, iter: 1, loss: 0.0073\n",
      "restart: 0, epoch: 1019, iter: 1, loss: 0.0065\n",
      "restart: 0, epoch: 1020, iter: 1, loss: 0.0060\n",
      "restart: 0, epoch: 1021, iter: 1, loss: 0.0052\n",
      "restart: 0, epoch: 1022, iter: 1, loss: 0.0046\n",
      "restart: 0, epoch: 1023, iter: 1, loss: 0.0041\n",
      "restart: 0, epoch: 1024, iter: 1, loss: 0.0036\n",
      "restart: 0, epoch: 1025, iter: 1, loss: 0.0035\n",
      "restart: 0, epoch: 1026, iter: 1, loss: 0.0030\n",
      "restart: 0, epoch: 1027, iter: 1, loss: 0.0022\n",
      "restart: 0, epoch: 1028, iter: 1, loss: 0.0020\n",
      "restart: 0, epoch: 1029, iter: 1, loss: 0.0010\n",
      "restart: 0, epoch: 1030, iter: 1, loss: 0.0004\n",
      "restart: 0, epoch: 1031, iter: 1, loss: -0.0000\n",
      "restart: 0, epoch: 1032, iter: 1, loss: -0.0010\n",
      "restart: 0, epoch: 1033, iter: 1, loss: -0.0014\n",
      "restart: 0, epoch: 1034, iter: 1, loss: -0.0016\n",
      "restart: 0, epoch: 1035, iter: 1, loss: -0.0023\n",
      "restart: 0, epoch: 1036, iter: 1, loss: -0.0028\n",
      "restart: 0, epoch: 1037, iter: 1, loss: -0.0037\n",
      "restart: 0, epoch: 1038, iter: 1, loss: -0.0045\n",
      "restart: 0, epoch: 1039, iter: 1, loss: -0.0052\n",
      "restart: 0, epoch: 1040, iter: 1, loss: -0.0057\n",
      "restart: 0, epoch: 1041, iter: 1, loss: -0.0063\n",
      "restart: 0, epoch: 1042, iter: 1, loss: -0.0066\n",
      "restart: 0, epoch: 1043, iter: 1, loss: -0.0075\n",
      "restart: 0, epoch: 1044, iter: 1, loss: -0.0082\n",
      "restart: 0, epoch: 1045, iter: 1, loss: -0.0087\n",
      "restart: 0, epoch: 1046, iter: 1, loss: -0.0093\n",
      "restart: 0, epoch: 1047, iter: 1, loss: -0.0099\n",
      "restart: 0, epoch: 1048, iter: 1, loss: -0.0105\n",
      "restart: 0, epoch: 1049, iter: 1, loss: -0.0112\n",
      "restart: 0, epoch: 1050, iter: 1, loss: -0.0117\n",
      "restart: 0, epoch: 1051, iter: 1, loss: -0.0124\n",
      "restart: 0, epoch: 1052, iter: 1, loss: -0.0129\n",
      "restart: 0, epoch: 1053, iter: 1, loss: -0.0134\n",
      "restart: 0, epoch: 1054, iter: 1, loss: -0.0140\n",
      "restart: 0, epoch: 1055, iter: 1, loss: -0.0146\n",
      "restart: 0, epoch: 1056, iter: 1, loss: -0.0153\n",
      "restart: 0, epoch: 1057, iter: 1, loss: -0.0159\n",
      "restart: 0, epoch: 1058, iter: 1, loss: -0.0162\n",
      "restart: 0, epoch: 1059, iter: 1, loss: -0.0170\n",
      "restart: 0, epoch: 1060, iter: 1, loss: -0.0176\n",
      "restart: 0, epoch: 1061, iter: 1, loss: -0.0174\n",
      "restart: 0, epoch: 1062, iter: 1, loss: -0.0181\n",
      "restart: 0, epoch: 1063, iter: 1, loss: -0.0191\n",
      "restart: 0, epoch: 1064, iter: 1, loss: -0.0197\n",
      "restart: 0, epoch: 1065, iter: 1, loss: -0.0201\n",
      "restart: 0, epoch: 1066, iter: 1, loss: -0.0210\n",
      "restart: 0, epoch: 1067, iter: 1, loss: -0.0214\n",
      "restart: 0, epoch: 1068, iter: 1, loss: -0.0221\n",
      "restart: 0, epoch: 1069, iter: 1, loss: -0.0226\n",
      "restart: 0, epoch: 1070, iter: 1, loss: -0.0228\n",
      "restart: 0, epoch: 1071, iter: 1, loss: -0.0237\n",
      "restart: 0, epoch: 1072, iter: 1, loss: -0.0238\n",
      "restart: 0, epoch: 1073, iter: 1, loss: -0.0245\n",
      "restart: 0, epoch: 1074, iter: 1, loss: -0.0247\n",
      "restart: 0, epoch: 1075, iter: 1, loss: -0.0255\n",
      "restart: 0, epoch: 1076, iter: 1, loss: -0.0260\n",
      "restart: 0, epoch: 1077, iter: 1, loss: -0.0261\n",
      "restart: 0, epoch: 1078, iter: 1, loss: -0.0267\n",
      "restart: 0, epoch: 1079, iter: 1, loss: -0.0273\n",
      "restart: 0, epoch: 1080, iter: 1, loss: -0.0278\n",
      "restart: 0, epoch: 1081, iter: 1, loss: -0.0287\n",
      "restart: 0, epoch: 1082, iter: 1, loss: -0.0282\n",
      "restart: 0, epoch: 1083, iter: 1, loss: -0.0289\n",
      "restart: 0, epoch: 1084, iter: 1, loss: -0.0302\n",
      "restart: 0, epoch: 1085, iter: 1, loss: -0.0305\n",
      "restart: 0, epoch: 1086, iter: 1, loss: -0.0309\n",
      "restart: 0, epoch: 1087, iter: 1, loss: -0.0313\n",
      "restart: 0, epoch: 1088, iter: 1, loss: -0.0322\n",
      "restart: 0, epoch: 1089, iter: 1, loss: -0.0329\n",
      "restart: 0, epoch: 1090, iter: 1, loss: -0.0332\n",
      "restart: 0, epoch: 1091, iter: 1, loss: -0.0331\n",
      "restart: 0, epoch: 1092, iter: 1, loss: -0.0337\n",
      "restart: 0, epoch: 1093, iter: 1, loss: -0.0341\n",
      "restart: 0, epoch: 1094, iter: 1, loss: -0.0351\n",
      "restart: 0, epoch: 1095, iter: 1, loss: -0.0351\n",
      "restart: 0, epoch: 1096, iter: 1, loss: -0.0357\n",
      "restart: 0, epoch: 1097, iter: 1, loss: -0.0362\n",
      "restart: 0, epoch: 1098, iter: 1, loss: -0.0364\n",
      "restart: 0, epoch: 1099, iter: 1, loss: -0.0375\n",
      "restart: 0, epoch: 1100, iter: 1, loss: -0.0381\n",
      "restart: 0, epoch: 1101, iter: 1, loss: -0.0381\n",
      "restart: 0, epoch: 1102, iter: 1, loss: -0.0386\n",
      "restart: 0, epoch: 1103, iter: 1, loss: -0.0395\n",
      "restart: 0, epoch: 1104, iter: 1, loss: -0.0401\n",
      "restart: 0, epoch: 1105, iter: 1, loss: -0.0399\n",
      "restart: 0, epoch: 1106, iter: 1, loss: -0.0400\n",
      "restart: 0, epoch: 1107, iter: 1, loss: -0.0408\n",
      "restart: 0, epoch: 1108, iter: 1, loss: -0.0406\n",
      "restart: 0, epoch: 1109, iter: 1, loss: -0.0403\n",
      "restart: 0, epoch: 1110, iter: 1, loss: -0.0412\n",
      "restart: 0, epoch: 1111, iter: 1, loss: -0.0424\n",
      "restart: 0, epoch: 1112, iter: 1, loss: -0.0424\n",
      "restart: 0, epoch: 1113, iter: 1, loss: -0.0430\n",
      "restart: 0, epoch: 1114, iter: 1, loss: -0.0424\n",
      "restart: 0, epoch: 1115, iter: 1, loss: -0.0439\n",
      "restart: 0, epoch: 1116, iter: 1, loss: -0.0438\n",
      "restart: 0, epoch: 1117, iter: 1, loss: -0.0444\n",
      "restart: 0, epoch: 1118, iter: 1, loss: -0.0449\n",
      "restart: 0, epoch: 1119, iter: 1, loss: -0.0457\n",
      "restart: 0, epoch: 1120, iter: 1, loss: -0.0462\n",
      "restart: 0, epoch: 1121, iter: 1, loss: -0.0457\n",
      "restart: 0, epoch: 1122, iter: 1, loss: -0.0468\n",
      "restart: 0, epoch: 1123, iter: 1, loss: -0.0474\n",
      "restart: 0, epoch: 1124, iter: 1, loss: -0.0479\n",
      "restart: 0, epoch: 1125, iter: 1, loss: -0.0483\n",
      "restart: 0, epoch: 1126, iter: 1, loss: -0.0486\n",
      "restart: 0, epoch: 1127, iter: 1, loss: -0.0484\n",
      "restart: 0, epoch: 1128, iter: 1, loss: -0.0496\n",
      "restart: 0, epoch: 1129, iter: 1, loss: -0.0495\n",
      "restart: 0, epoch: 1130, iter: 1, loss: -0.0491\n",
      "restart: 0, epoch: 1131, iter: 1, loss: -0.0510\n",
      "restart: 0, epoch: 1132, iter: 1, loss: -0.0508\n",
      "restart: 0, epoch: 1133, iter: 1, loss: -0.0507\n",
      "restart: 0, epoch: 1134, iter: 1, loss: -0.0515\n",
      "restart: 0, epoch: 1135, iter: 1, loss: -0.0521\n",
      "restart: 0, epoch: 1136, iter: 1, loss: -0.0525\n",
      "restart: 0, epoch: 1137, iter: 1, loss: -0.0530\n",
      "restart: 0, epoch: 1138, iter: 1, loss: -0.0535\n",
      "restart: 0, epoch: 1139, iter: 1, loss: -0.0531\n",
      "restart: 0, epoch: 1140, iter: 1, loss: -0.0540\n",
      "restart: 0, epoch: 1141, iter: 1, loss: -0.0549\n",
      "restart: 0, epoch: 1142, iter: 1, loss: -0.0547\n",
      "restart: 0, epoch: 1143, iter: 1, loss: -0.0555\n",
      "restart: 0, epoch: 1144, iter: 1, loss: -0.0556\n",
      "restart: 0, epoch: 1145, iter: 1, loss: -0.0559\n",
      "restart: 0, epoch: 1146, iter: 1, loss: -0.0566\n",
      "restart: 0, epoch: 1147, iter: 1, loss: -0.0570\n",
      "restart: 0, epoch: 1148, iter: 1, loss: -0.0574\n",
      "restart: 0, epoch: 1149, iter: 1, loss: -0.0574\n",
      "restart: 0, epoch: 1150, iter: 1, loss: -0.0581\n",
      "restart: 0, epoch: 1151, iter: 1, loss: -0.0583\n",
      "restart: 0, epoch: 1152, iter: 1, loss: -0.0590\n",
      "restart: 0, epoch: 1153, iter: 1, loss: -0.0585\n",
      "restart: 0, epoch: 1154, iter: 1, loss: -0.0590\n",
      "restart: 0, epoch: 1155, iter: 1, loss: -0.0599\n",
      "restart: 0, epoch: 1156, iter: 1, loss: -0.0603\n",
      "restart: 0, epoch: 1157, iter: 1, loss: -0.0604\n",
      "restart: 0, epoch: 1158, iter: 1, loss: -0.0617\n",
      "restart: 0, epoch: 1159, iter: 1, loss: -0.0608\n",
      "restart: 0, epoch: 1160, iter: 1, loss: -0.0618\n",
      "restart: 0, epoch: 1161, iter: 1, loss: -0.0618\n",
      "restart: 0, epoch: 1162, iter: 1, loss: -0.0621\n",
      "restart: 0, epoch: 1163, iter: 1, loss: -0.0625\n",
      "restart: 0, epoch: 1164, iter: 1, loss: -0.0630\n",
      "restart: 0, epoch: 1165, iter: 1, loss: -0.0642\n",
      "restart: 0, epoch: 1166, iter: 1, loss: -0.0634\n",
      "restart: 0, epoch: 1167, iter: 1, loss: -0.0648\n",
      "restart: 0, epoch: 1168, iter: 1, loss: -0.0656\n",
      "restart: 0, epoch: 1169, iter: 1, loss: -0.0653\n",
      "restart: 0, epoch: 1170, iter: 1, loss: -0.0659\n",
      "restart: 0, epoch: 1171, iter: 1, loss: -0.0662\n",
      "restart: 0, epoch: 1172, iter: 1, loss: -0.0666\n",
      "restart: 0, epoch: 1173, iter: 1, loss: -0.0676\n",
      "restart: 0, epoch: 1174, iter: 1, loss: -0.0680\n",
      "restart: 0, epoch: 1175, iter: 1, loss: -0.0680\n",
      "restart: 0, epoch: 1176, iter: 1, loss: -0.0683\n",
      "restart: 0, epoch: 1177, iter: 1, loss: -0.0692\n",
      "restart: 0, epoch: 1178, iter: 1, loss: -0.0697\n",
      "restart: 0, epoch: 1179, iter: 1, loss: -0.0697\n",
      "restart: 0, epoch: 1180, iter: 1, loss: -0.0697\n",
      "restart: 0, epoch: 1181, iter: 1, loss: -0.0702\n",
      "restart: 0, epoch: 1182, iter: 1, loss: -0.0708\n",
      "restart: 0, epoch: 1183, iter: 1, loss: -0.0710\n",
      "restart: 0, epoch: 1184, iter: 1, loss: -0.0714\n",
      "restart: 0, epoch: 1185, iter: 1, loss: -0.0720\n",
      "restart: 0, epoch: 1186, iter: 1, loss: -0.0720\n",
      "restart: 0, epoch: 1187, iter: 1, loss: -0.0727\n",
      "restart: 0, epoch: 1188, iter: 1, loss: -0.0731\n",
      "restart: 0, epoch: 1189, iter: 1, loss: -0.0736\n",
      "restart: 0, epoch: 1190, iter: 1, loss: -0.0737\n",
      "restart: 0, epoch: 1191, iter: 1, loss: -0.0740\n",
      "restart: 0, epoch: 1192, iter: 1, loss: -0.0741\n",
      "restart: 0, epoch: 1193, iter: 1, loss: -0.0748\n",
      "restart: 0, epoch: 1194, iter: 1, loss: -0.0752\n",
      "restart: 0, epoch: 1195, iter: 1, loss: -0.0757\n",
      "restart: 0, epoch: 1196, iter: 1, loss: -0.0758\n",
      "restart: 0, epoch: 1197, iter: 1, loss: -0.0764\n",
      "restart: 0, epoch: 1198, iter: 1, loss: -0.0767\n",
      "restart: 0, epoch: 1199, iter: 1, loss: -0.0771\n",
      "restart: 0, epoch: 1200, iter: 1, loss: -0.0774\n",
      "restart: 0, epoch: 1201, iter: 1, loss: -0.0778\n",
      "restart: 0, epoch: 1202, iter: 1, loss: -0.0783\n",
      "restart: 0, epoch: 1203, iter: 1, loss: -0.0786\n",
      "restart: 0, epoch: 1204, iter: 1, loss: -0.0789\n",
      "restart: 0, epoch: 1205, iter: 1, loss: -0.0795\n",
      "restart: 0, epoch: 1206, iter: 1, loss: -0.0798\n",
      "restart: 0, epoch: 1207, iter: 1, loss: -0.0802\n",
      "restart: 0, epoch: 1208, iter: 1, loss: -0.0805\n",
      "restart: 0, epoch: 1209, iter: 1, loss: -0.0810\n",
      "restart: 0, epoch: 1210, iter: 1, loss: -0.0813\n",
      "restart: 0, epoch: 1211, iter: 1, loss: -0.0817\n",
      "restart: 0, epoch: 1212, iter: 1, loss: -0.0821\n",
      "restart: 0, epoch: 1213, iter: 1, loss: -0.0825\n",
      "restart: 0, epoch: 1214, iter: 1, loss: -0.0829\n",
      "restart: 0, epoch: 1215, iter: 1, loss: -0.0832\n",
      "restart: 0, epoch: 1216, iter: 1, loss: -0.0836\n",
      "restart: 0, epoch: 1217, iter: 1, loss: -0.0840\n",
      "restart: 0, epoch: 1218, iter: 1, loss: -0.0844\n",
      "restart: 0, epoch: 1219, iter: 1, loss: -0.0848\n",
      "restart: 0, epoch: 1220, iter: 1, loss: -0.0851\n",
      "restart: 0, epoch: 1221, iter: 1, loss: -0.0855\n",
      "restart: 0, epoch: 1222, iter: 1, loss: -0.0859\n",
      "restart: 0, epoch: 1223, iter: 1, loss: -0.0862\n",
      "restart: 0, epoch: 1224, iter: 1, loss: -0.0866\n",
      "restart: 0, epoch: 1225, iter: 1, loss: -0.0870\n",
      "restart: 0, epoch: 1226, iter: 1, loss: -0.0873\n",
      "restart: 0, epoch: 1227, iter: 1, loss: -0.0877\n",
      "restart: 0, epoch: 1228, iter: 1, loss: -0.0880\n",
      "restart: 0, epoch: 1229, iter: 1, loss: -0.0884\n",
      "restart: 0, epoch: 1230, iter: 1, loss: -0.0887\n",
      "restart: 0, epoch: 1231, iter: 1, loss: -0.0891\n",
      "restart: 0, epoch: 1232, iter: 1, loss: -0.0894\n",
      "restart: 0, epoch: 1233, iter: 1, loss: -0.0898\n",
      "restart: 0, epoch: 1234, iter: 1, loss: -0.0901\n",
      "restart: 0, epoch: 1235, iter: 1, loss: -0.0905\n",
      "restart: 0, epoch: 1236, iter: 1, loss: -0.0908\n",
      "restart: 0, epoch: 1237, iter: 1, loss: -0.0912\n",
      "restart: 0, epoch: 1238, iter: 1, loss: -0.0915\n",
      "restart: 0, epoch: 1239, iter: 1, loss: -0.0918\n",
      "restart: 0, epoch: 1240, iter: 1, loss: -0.0922\n",
      "restart: 0, epoch: 1241, iter: 1, loss: -0.0925\n",
      "restart: 0, epoch: 1242, iter: 1, loss: -0.0928\n",
      "restart: 0, epoch: 1243, iter: 1, loss: -0.0932\n",
      "restart: 0, epoch: 1244, iter: 1, loss: -0.0935\n",
      "restart: 0, epoch: 1245, iter: 1, loss: -0.0938\n",
      "restart: 0, epoch: 1246, iter: 1, loss: -0.0942\n",
      "restart: 0, epoch: 1247, iter: 1, loss: -0.0945\n",
      "restart: 0, epoch: 1248, iter: 1, loss: -0.0948\n",
      "restart: 0, epoch: 1249, iter: 1, loss: -0.0951\n",
      "restart: 0, epoch: 1250, iter: 1, loss: -0.0955\n",
      "restart: 0, epoch: 1251, iter: 1, loss: -0.0958\n",
      "restart: 0, epoch: 1252, iter: 1, loss: -0.0961\n",
      "restart: 0, epoch: 1253, iter: 1, loss: -0.0964\n",
      "restart: 0, epoch: 1254, iter: 1, loss: -0.0967\n",
      "restart: 0, epoch: 1255, iter: 1, loss: -0.0971\n",
      "restart: 0, epoch: 1256, iter: 1, loss: -0.0974\n",
      "restart: 0, epoch: 1257, iter: 1, loss: -0.0977\n",
      "restart: 0, epoch: 1258, iter: 1, loss: -0.0980\n",
      "restart: 0, epoch: 1259, iter: 1, loss: -0.0983\n",
      "restart: 0, epoch: 1260, iter: 1, loss: -0.0986\n",
      "restart: 0, epoch: 1261, iter: 1, loss: -0.0989\n",
      "restart: 0, epoch: 1262, iter: 1, loss: -0.0992\n",
      "restart: 0, epoch: 1263, iter: 1, loss: -0.0995\n",
      "restart: 0, epoch: 1264, iter: 1, loss: -0.0999\n",
      "restart: 0, epoch: 1265, iter: 1, loss: -0.1002\n",
      "restart: 0, epoch: 1266, iter: 1, loss: -0.1005\n",
      "restart: 0, epoch: 1267, iter: 1, loss: -0.1008\n",
      "restart: 0, epoch: 1268, iter: 1, loss: -0.1011\n",
      "restart: 0, epoch: 1269, iter: 1, loss: -0.1014\n",
      "restart: 0, epoch: 1270, iter: 1, loss: -0.1017\n",
      "restart: 0, epoch: 1271, iter: 1, loss: -0.1020\n",
      "restart: 0, epoch: 1272, iter: 1, loss: -0.1023\n",
      "restart: 0, epoch: 1273, iter: 1, loss: -0.1026\n",
      "restart: 0, epoch: 1274, iter: 1, loss: -0.1029\n",
      "restart: 0, epoch: 1275, iter: 1, loss: -0.1032\n",
      "restart: 0, epoch: 1276, iter: 1, loss: -0.1035\n",
      "restart: 0, epoch: 1277, iter: 1, loss: -0.1038\n",
      "restart: 0, epoch: 1278, iter: 1, loss: -0.1041\n",
      "restart: 0, epoch: 1279, iter: 1, loss: -0.1044\n",
      "restart: 0, epoch: 1280, iter: 1, loss: -0.1047\n",
      "restart: 0, epoch: 1281, iter: 1, loss: -0.1050\n",
      "restart: 0, epoch: 1282, iter: 1, loss: -0.1053\n",
      "restart: 0, epoch: 1283, iter: 1, loss: -0.1055\n",
      "restart: 0, epoch: 1284, iter: 1, loss: -0.1058\n",
      "restart: 0, epoch: 1285, iter: 1, loss: -0.1061\n",
      "restart: 0, epoch: 1286, iter: 1, loss: -0.1064\n",
      "restart: 0, epoch: 1287, iter: 1, loss: -0.1068\n",
      "restart: 0, epoch: 1288, iter: 1, loss: -0.1071\n",
      "restart: 0, epoch: 1289, iter: 1, loss: -0.1073\n",
      "restart: 0, epoch: 1290, iter: 1, loss: -0.1076\n",
      "restart: 0, epoch: 1291, iter: 1, loss: -0.1080\n",
      "restart: 0, epoch: 1292, iter: 1, loss: -0.1083\n",
      "restart: 0, epoch: 1293, iter: 1, loss: -0.1086\n",
      "restart: 0, epoch: 1294, iter: 1, loss: -0.1089\n",
      "restart: 0, epoch: 1295, iter: 1, loss: -0.1092\n",
      "restart: 0, epoch: 1296, iter: 1, loss: -0.1096\n",
      "restart: 0, epoch: 1297, iter: 1, loss: -0.1099\n",
      "restart: 0, epoch: 1298, iter: 1, loss: -0.1102\n",
      "restart: 0, epoch: 1299, iter: 1, loss: -0.1105\n",
      "restart: 0, epoch: 1300, iter: 1, loss: -0.1109\n",
      "restart: 0, epoch: 1301, iter: 1, loss: -0.1112\n",
      "restart: 0, epoch: 1302, iter: 1, loss: -0.1115\n",
      "restart: 0, epoch: 1303, iter: 1, loss: -0.1119\n",
      "restart: 0, epoch: 1304, iter: 1, loss: -0.1122\n",
      "restart: 0, epoch: 1305, iter: 1, loss: -0.1126\n",
      "restart: 0, epoch: 1306, iter: 1, loss: -0.1130\n",
      "restart: 0, epoch: 1307, iter: 1, loss: -0.1133\n",
      "restart: 0, epoch: 1308, iter: 1, loss: -0.1137\n",
      "restart: 0, epoch: 1309, iter: 1, loss: -0.1140\n",
      "restart: 0, epoch: 1310, iter: 1, loss: -0.1144\n",
      "restart: 0, epoch: 1311, iter: 1, loss: -0.1147\n",
      "restart: 0, epoch: 1312, iter: 1, loss: -0.1151\n",
      "restart: 0, epoch: 1313, iter: 1, loss: -0.1155\n",
      "restart: 0, epoch: 1314, iter: 1, loss: -0.1158\n",
      "restart: 0, epoch: 1315, iter: 1, loss: -0.1162\n",
      "restart: 0, epoch: 1316, iter: 1, loss: -0.1167\n",
      "restart: 0, epoch: 1317, iter: 1, loss: -0.1171\n",
      "restart: 0, epoch: 1318, iter: 1, loss: -0.1174\n",
      "restart: 0, epoch: 1319, iter: 1, loss: -0.1179\n",
      "restart: 0, epoch: 1320, iter: 1, loss: -0.1182\n",
      "restart: 0, epoch: 1321, iter: 1, loss: -0.1186\n",
      "restart: 0, epoch: 1322, iter: 1, loss: -0.1189\n",
      "restart: 0, epoch: 1323, iter: 1, loss: -0.1194\n",
      "restart: 0, epoch: 1324, iter: 1, loss: -0.1198\n",
      "restart: 0, epoch: 1325, iter: 1, loss: -0.1201\n",
      "restart: 0, epoch: 1326, iter: 1, loss: -0.1204\n",
      "restart: 0, epoch: 1327, iter: 1, loss: -0.1208\n",
      "restart: 0, epoch: 1328, iter: 1, loss: -0.1212\n",
      "restart: 0, epoch: 1329, iter: 1, loss: -0.1215\n",
      "restart: 0, epoch: 1330, iter: 1, loss: -0.1219\n",
      "restart: 0, epoch: 1331, iter: 1, loss: -0.1223\n",
      "restart: 0, epoch: 1332, iter: 1, loss: -0.1227\n",
      "restart: 0, epoch: 1333, iter: 1, loss: -0.1230\n",
      "restart: 0, epoch: 1334, iter: 1, loss: -0.1234\n",
      "restart: 0, epoch: 1335, iter: 1, loss: -0.1239\n",
      "restart: 0, epoch: 1336, iter: 1, loss: -0.1242\n",
      "restart: 0, epoch: 1337, iter: 1, loss: -0.1245\n",
      "restart: 0, epoch: 1338, iter: 1, loss: -0.1248\n",
      "restart: 0, epoch: 1339, iter: 1, loss: -0.1252\n",
      "restart: 0, epoch: 1340, iter: 1, loss: -0.1251\n",
      "restart: 0, epoch: 1341, iter: 1, loss: -0.1257\n",
      "restart: 0, epoch: 1342, iter: 1, loss: -0.1259\n",
      "restart: 0, epoch: 1343, iter: 1, loss: -0.1259\n",
      "restart: 0, epoch: 1344, iter: 1, loss: -0.1257\n",
      "restart: 0, epoch: 1345, iter: 1, loss: -0.1263\n",
      "restart: 0, epoch: 1346, iter: 1, loss: -0.1262\n",
      "restart: 0, epoch: 1347, iter: 1, loss: -0.1260\n",
      "restart: 0, epoch: 1348, iter: 1, loss: -0.1269\n",
      "restart: 0, epoch: 1349, iter: 1, loss: -0.1273\n",
      "restart: 0, epoch: 1350, iter: 1, loss: -0.1274\n",
      "restart: 0, epoch: 1351, iter: 1, loss: -0.1279\n",
      "restart: 0, epoch: 1352, iter: 1, loss: -0.1282\n",
      "restart: 0, epoch: 1353, iter: 1, loss: -0.1285\n",
      "restart: 0, epoch: 1354, iter: 1, loss: -0.1286\n",
      "restart: 0, epoch: 1355, iter: 1, loss: -0.1278\n",
      "restart: 0, epoch: 1356, iter: 1, loss: -0.1290\n",
      "restart: 0, epoch: 1357, iter: 1, loss: -0.1294\n",
      "restart: 0, epoch: 1358, iter: 1, loss: -0.1297\n",
      "restart: 0, epoch: 1359, iter: 1, loss: -0.1298\n",
      "restart: 0, epoch: 1360, iter: 1, loss: -0.1303\n",
      "restart: 0, epoch: 1361, iter: 1, loss: -0.1309\n",
      "restart: 0, epoch: 1362, iter: 1, loss: -0.1308\n",
      "restart: 0, epoch: 1363, iter: 1, loss: -0.1312\n",
      "restart: 0, epoch: 1364, iter: 1, loss: -0.1317\n",
      "restart: 0, epoch: 1365, iter: 1, loss: -0.1319\n",
      "restart: 0, epoch: 1366, iter: 1, loss: -0.1320\n",
      "restart: 0, epoch: 1367, iter: 1, loss: -0.1320\n",
      "restart: 0, epoch: 1368, iter: 1, loss: -0.1327\n",
      "restart: 0, epoch: 1369, iter: 1, loss: -0.1326\n",
      "restart: 0, epoch: 1370, iter: 1, loss: -0.1324\n",
      "restart: 0, epoch: 1371, iter: 1, loss: -0.1328\n",
      "restart: 0, epoch: 1372, iter: 1, loss: -0.1336\n",
      "restart: 0, epoch: 1373, iter: 1, loss: -0.1342\n",
      "restart: 0, epoch: 1374, iter: 1, loss: -0.1344\n",
      "restart: 0, epoch: 1375, iter: 1, loss: -0.1348\n",
      "restart: 0, epoch: 1376, iter: 1, loss: -0.1352\n",
      "restart: 0, epoch: 1377, iter: 1, loss: -0.1353\n",
      "restart: 0, epoch: 1378, iter: 1, loss: -0.1351\n",
      "restart: 0, epoch: 1379, iter: 1, loss: -0.1358\n",
      "restart: 0, epoch: 1380, iter: 1, loss: -0.1361\n",
      "restart: 0, epoch: 1381, iter: 1, loss: -0.1363\n",
      "restart: 0, epoch: 1382, iter: 1, loss: -0.1367\n",
      "restart: 0, epoch: 1383, iter: 1, loss: -0.1366\n",
      "restart: 0, epoch: 1384, iter: 1, loss: -0.1372\n",
      "restart: 0, epoch: 1385, iter: 1, loss: -0.1375\n",
      "restart: 0, epoch: 1386, iter: 1, loss: -0.1378\n",
      "restart: 0, epoch: 1387, iter: 1, loss: -0.1381\n",
      "restart: 0, epoch: 1388, iter: 1, loss: -0.1383\n",
      "restart: 0, epoch: 1389, iter: 1, loss: -0.1385\n",
      "restart: 0, epoch: 1390, iter: 1, loss: -0.1384\n",
      "restart: 0, epoch: 1391, iter: 1, loss: -0.1390\n",
      "restart: 0, epoch: 1392, iter: 1, loss: -0.1393\n",
      "restart: 0, epoch: 1393, iter: 1, loss: -0.1391\n",
      "restart: 0, epoch: 1394, iter: 1, loss: -0.1396\n",
      "restart: 0, epoch: 1395, iter: 1, loss: -0.1396\n",
      "restart: 0, epoch: 1396, iter: 1, loss: -0.1400\n",
      "restart: 0, epoch: 1397, iter: 1, loss: -0.1400\n",
      "restart: 0, epoch: 1398, iter: 1, loss: -0.1404\n",
      "restart: 0, epoch: 1399, iter: 1, loss: -0.1405\n",
      "restart: 0, epoch: 1400, iter: 1, loss: -0.1409\n",
      "restart: 0, epoch: 1401, iter: 1, loss: -0.1412\n",
      "restart: 0, epoch: 1402, iter: 1, loss: -0.1402\n",
      "restart: 0, epoch: 1403, iter: 1, loss: -0.1407\n",
      "restart: 0, epoch: 1404, iter: 1, loss: -0.1408\n",
      "restart: 0, epoch: 1405, iter: 1, loss: -0.1411\n",
      "restart: 0, epoch: 1406, iter: 1, loss: -0.1406\n",
      "restart: 0, epoch: 1407, iter: 1, loss: -0.1409\n",
      "restart: 0, epoch: 1408, iter: 1, loss: -0.1413\n",
      "restart: 0, epoch: 1409, iter: 1, loss: -0.1418\n",
      "restart: 0, epoch: 1410, iter: 1, loss: -0.1421\n",
      "restart: 0, epoch: 1411, iter: 1, loss: -0.1420\n",
      "restart: 0, epoch: 1412, iter: 1, loss: -0.1425\n",
      "restart: 0, epoch: 1413, iter: 1, loss: -0.1428\n",
      "restart: 0, epoch: 1414, iter: 1, loss: -0.1430\n",
      "restart: 0, epoch: 1415, iter: 1, loss: -0.1433\n",
      "restart: 0, epoch: 1416, iter: 1, loss: -0.1441\n",
      "restart: 0, epoch: 1417, iter: 1, loss: -0.1431\n",
      "restart: 0, epoch: 1418, iter: 1, loss: -0.1438\n",
      "restart: 0, epoch: 1419, iter: 1, loss: -0.1438\n",
      "restart: 0, epoch: 1420, iter: 1, loss: -0.1447\n",
      "restart: 0, epoch: 1421, iter: 1, loss: -0.1447\n",
      "restart: 0, epoch: 1422, iter: 1, loss: -0.1449\n",
      "restart: 0, epoch: 1423, iter: 1, loss: -0.1450\n",
      "restart: 0, epoch: 1424, iter: 1, loss: -0.1450\n",
      "restart: 0, epoch: 1425, iter: 1, loss: -0.1454\n",
      "restart: 0, epoch: 1426, iter: 1, loss: -0.1458\n",
      "restart: 0, epoch: 1427, iter: 1, loss: -0.1454\n",
      "restart: 0, epoch: 1428, iter: 1, loss: -0.1463\n",
      "restart: 0, epoch: 1429, iter: 1, loss: -0.1463\n",
      "restart: 0, epoch: 1430, iter: 1, loss: -0.1465\n",
      "restart: 0, epoch: 1431, iter: 1, loss: -0.1469\n",
      "restart: 0, epoch: 1432, iter: 1, loss: -0.1470\n",
      "restart: 0, epoch: 1433, iter: 1, loss: -0.1476\n",
      "restart: 0, epoch: 1434, iter: 1, loss: -0.1479\n",
      "restart: 0, epoch: 1435, iter: 1, loss: -0.1479\n",
      "restart: 0, epoch: 1436, iter: 1, loss: -0.1484\n",
      "restart: 0, epoch: 1437, iter: 1, loss: -0.1486\n",
      "restart: 0, epoch: 1438, iter: 1, loss: -0.1489\n",
      "restart: 0, epoch: 1439, iter: 1, loss: -0.1493\n",
      "restart: 0, epoch: 1440, iter: 1, loss: -0.1495\n",
      "restart: 0, epoch: 1441, iter: 1, loss: -0.1497\n",
      "restart: 0, epoch: 1442, iter: 1, loss: -0.1497\n",
      "restart: 0, epoch: 1443, iter: 1, loss: -0.1493\n",
      "restart: 0, epoch: 1444, iter: 1, loss: -0.1500\n",
      "restart: 0, epoch: 1445, iter: 1, loss: -0.1506\n",
      "restart: 0, epoch: 1446, iter: 1, loss: -0.1510\n",
      "restart: 0, epoch: 1447, iter: 1, loss: -0.1510\n",
      "restart: 0, epoch: 1448, iter: 1, loss: -0.1509\n",
      "restart: 0, epoch: 1449, iter: 1, loss: -0.1513\n",
      "restart: 0, epoch: 1450, iter: 1, loss: -0.1516\n",
      "restart: 0, epoch: 1451, iter: 1, loss: -0.1519\n",
      "restart: 0, epoch: 1452, iter: 1, loss: -0.1528\n",
      "restart: 0, epoch: 1453, iter: 1, loss: -0.1533\n",
      "restart: 0, epoch: 1454, iter: 1, loss: -0.1530\n",
      "restart: 0, epoch: 1455, iter: 1, loss: -0.1528\n",
      "restart: 0, epoch: 1456, iter: 1, loss: -0.1536\n",
      "restart: 0, epoch: 1457, iter: 1, loss: -0.1538\n",
      "restart: 0, epoch: 1458, iter: 1, loss: -0.1540\n",
      "restart: 0, epoch: 1459, iter: 1, loss: -0.1548\n",
      "restart: 0, epoch: 1460, iter: 1, loss: -0.1550\n",
      "restart: 0, epoch: 1461, iter: 1, loss: -0.1549\n",
      "restart: 0, epoch: 1462, iter: 1, loss: -0.1554\n",
      "restart: 0, epoch: 1463, iter: 1, loss: -0.1561\n",
      "restart: 0, epoch: 1464, iter: 1, loss: -0.1559\n",
      "restart: 0, epoch: 1465, iter: 1, loss: -0.1560\n",
      "restart: 0, epoch: 1466, iter: 1, loss: -0.1564\n",
      "restart: 0, epoch: 1467, iter: 1, loss: -0.1556\n",
      "restart: 0, epoch: 1468, iter: 1, loss: -0.1563\n",
      "restart: 0, epoch: 1469, iter: 1, loss: -0.1570\n",
      "restart: 0, epoch: 1470, iter: 1, loss: -0.1573\n",
      "restart: 0, epoch: 1471, iter: 1, loss: -0.1574\n",
      "restart: 0, epoch: 1472, iter: 1, loss: -0.1576\n",
      "restart: 0, epoch: 1473, iter: 1, loss: -0.1576\n",
      "restart: 0, epoch: 1474, iter: 1, loss: -0.1576\n",
      "restart: 0, epoch: 1475, iter: 1, loss: -0.1587\n",
      "restart: 0, epoch: 1476, iter: 1, loss: -0.1593\n",
      "restart: 0, epoch: 1477, iter: 1, loss: -0.1596\n",
      "restart: 0, epoch: 1478, iter: 1, loss: -0.1598\n",
      "restart: 0, epoch: 1479, iter: 1, loss: -0.1602\n",
      "restart: 0, epoch: 1480, iter: 1, loss: -0.1608\n",
      "restart: 0, epoch: 1481, iter: 1, loss: -0.1613\n",
      "restart: 0, epoch: 1482, iter: 1, loss: -0.1608\n",
      "restart: 0, epoch: 1483, iter: 1, loss: -0.1608\n",
      "restart: 0, epoch: 1484, iter: 1, loss: -0.1609\n",
      "restart: 0, epoch: 1485, iter: 1, loss: -0.1614\n",
      "restart: 0, epoch: 1486, iter: 1, loss: -0.1614\n",
      "restart: 0, epoch: 1487, iter: 1, loss: -0.1616\n",
      "restart: 0, epoch: 1488, iter: 1, loss: -0.1618\n",
      "restart: 0, epoch: 1489, iter: 1, loss: -0.1622\n",
      "restart: 0, epoch: 1490, iter: 1, loss: -0.1623\n",
      "restart: 0, epoch: 1491, iter: 1, loss: -0.1620\n",
      "restart: 0, epoch: 1492, iter: 1, loss: -0.1622\n",
      "restart: 0, epoch: 1493, iter: 1, loss: -0.1627\n",
      "restart: 0, epoch: 1494, iter: 1, loss: -0.1634\n",
      "restart: 0, epoch: 1495, iter: 1, loss: -0.1636\n",
      "restart: 0, epoch: 1496, iter: 1, loss: -0.1636\n",
      "restart: 0, epoch: 1497, iter: 1, loss: -0.1641\n",
      "restart: 0, epoch: 1498, iter: 1, loss: -0.1646\n",
      "restart: 0, epoch: 1499, iter: 1, loss: -0.1655\n",
      "restart: 0, epoch: 1500, iter: 1, loss: -0.1656\n"
     ]
    },
    {
     "data": {
      "image/png": "[encoded data removed]",
      "text/plain": [
       "<Figure size 432x288 with 1 Axes>"
      ]
     },
     "metadata": {
      "needs_background": "light"
     },
     "output_type": "display_data"
    }
   ],
   "source": [
    "mae_arr =[]\n",
    "rms_arr = []\n",
    "y_pred_arr = []\n",
    "\n",
    "batch = 512\n",
    "\n",
    "# x_train = x_train[:4500]\n",
    "# y_train = y_train[:4500]\n",
    "\n",
    "# y_test_trans = torch.tensor(torch.tensor(scaler_x.transform(y_test.reshape(-1,1))).reshape(-1,)).contiguous().to(torch.float64)\n",
    "for i in range(1):\n",
    "\n",
    "\n",
    "   #nu=2.5,\n",
    "\n",
    "  kernel1 = ScaleKernel(MaternKernel(nu=2.5, ard_num_dims=n))\n",
    "  kernel2 = ScaleKernel(MaternKernel(nu=0.5,ard_num_dims=1,active_dims=(n-1)))\n",
    "  kernel4 = ScaleKernel(PeriodicKernel(ard_num_dims=1, active_dims=(n-1)))\n",
    "  kernel6 = ScaleKernel(LinearKernel(active_dims = (99)))\n",
    "  # kernel5 = ScaleKernel(gpytorch.kernels.SpectralDeltaKernel(num_dims=n,ard_num_dims=n))\n",
    "#   theta =  {'base_covar_module.kernels.0.base_kernel.lengthscale': torch.tensor(0.5),\n",
    "#         'base_covar_module.kernels.0.outputscale': torch.tensor(5.0),\n",
    "#         'base_covar_module.kernels.1.kernels.0.outputscale':torch.tensor(1.0),\n",
    "#         'base_covar_module.kernels.1.kernels.0.base_kernel.lengthscale': torch.tensor(0.1),\n",
    "#         'base_covar_module.kernels.1.kernels.1.outputscale':torch.tensor(1.0),\n",
    "#         'base_covar_module.kernels.1.kernels.1.base_kernel.lengthscale': torch.tensor(1.0),\n",
    "#         'base_covar_module.kernels.1.kernels.1.base_kernel.period_length': torch.tensor(0.01),}\n",
    "  theta = { \n",
    "      'base_covar_module.kernels.2.base_kernel.period_length': torch.tensor(0.01),}\n",
    "\n",
    "    # 'base_covar_module.kernels.1.kernels.1.base_kernel.period_length': torch.tensor(0.01),\n",
    "  kernel5 = kernel2 + kernel4\n",
    "  kernel = kernel1 + kernel5 + kernel6\n",
    "  # induce_points = 512\n",
    "  inducing_points =  x[np.arange(0,x.shape[0],95)]  # 95\n",
    "  # inducing_points = x[torch.randperm(x.shape[0])[: 1500]]\n",
    "  \n",
    "  model = SGPRegressor(x.to(\"cuda\"), y.to(\"cuda\"), kernel, \n",
    "                       inducing_points).to(\"cuda\")\n",
    "  # model.base_covar_module.base_kernel.raw_lengthscale_constraint\n",
    "  # model.mll.likelihood.noise_covar.register_constraint(\"raw_noise\", GreaterThan(1e-2))\n",
    "  # for param in model.parameters():\n",
    "  #   # print(param)\n",
    "  #   torch.nn.init.normal_(param, 0, 1)\n",
    "  # theta1 = {'likelihood.noise_covar.noise': torch.tensor(3),\n",
    "  #       'covar_module.base_kernel.lengthscale': torch.tensor(0.1),\n",
    "  #       'covar_module.outputscale': torch.tensor(5),}\n",
    "  loss = model.fit(lr=0.01, n_epochs=1500,verbose=1,thetas = theta,\n",
    "          random_state=0, n_restarts=1)\n",
    "#   loss_arr.append(loss)\n",
    "  # print(loss)\n",
    "  plt.plot(np.asarray(loss[0]))\n",
    "  # plt.plot(np.asarray(test_loss[0]))\n",
    "\n",
    "\n",
    "\n",
    "\n",
    "\n",
    "\n",
    "\n",
    "  # y_pred_arr.append(pred_dist.loc)\n",
    "\n",
    "  "
   ]
  },
  {
   "cell_type": "code",
   "execution_count": 19,
   "metadata": {},
   "outputs": [],
   "source": [
    "model_name = \"Point_to_point_main_features_and_time.pt\"\n",
    "torch.save(model.state_dict(), os.path.join(\n",
    "  \"Neurips/models\", model_name))"
   ]
  },
  {
   "cell_type": "markdown",
   "metadata": {},
   "source": [
    "## Decomp"
   ]
  },
  {
   "cell_type": "code",
   "execution_count": 18,
   "metadata": {},
   "outputs": [
    {
     "data": {
      "text/plain": [
       "<All keys matched successfully>"
      ]
     },
     "execution_count": 18,
     "metadata": {},
     "output_type": "execute_result"
    }
   ],
   "source": [
    "kernel1 = ScaleKernel(RBFKernel(ard_num_dims=n))\n",
    "# kernel2 = ScaleKernel(RBFKernel(ard_num_dims=1,active_dims=(99)))\n",
    "# kernel3 = ScaleKernel(CosineKernel(ard_num_dims=1,active_dims=(99)))\n",
    "\n",
    "# kernel4 = kernel2*kernel3\n",
    "kernel = kernel1 #ernel4\n",
    "# induce_points = 512\n",
    "inducing_points =  x[np.arange(0,x.shape[0],70)] \n",
    "# inducing_points = x[torch.randperm(x.shape[0])[: 1500]]\n",
    "\n",
    "model = SGPRegressor(x.to(\"cuda\"), y.to(\"cuda\"), kernel,\n",
    "                      inducing_points).to(\"cuda\")\n",
    "\n",
    "model_name =  \"Refrigerator_rbf_building6_\" + str(0) + \".pt\"\n",
    "model.load_state_dict(torch.load(\n",
    "    os.path.join(\"./final_models/\", model_name)))"
   ]
  },
  {
   "cell_type": "code",
   "execution_count": 40,
   "metadata": {},
   "outputs": [],
   "source": [
    "model1 = SGPRegressor(x.to(\"cuda\"), y.to(\"cuda\"), kernel1,\n",
    "                      inducing_points).to(\"cuda\")"
   ]
  },
  {
   "cell_type": "code",
   "execution_count": 41,
   "metadata": {},
   "outputs": [],
   "source": [
    "pred_dist1 = model1.predict(xt[:4000].to(\"cuda\"))\n",
    "# print(\"Done \", i)\n",
    "\n",
    "y_mean1 = pred_dist1.loc"
   ]
  },
  {
   "cell_type": "code",
   "execution_count": 42,
   "metadata": {},
   "outputs": [
    {
     "data": {
      "text/plain": [
       "torch.Size([4000])"
      ]
     },
     "execution_count": 42,
     "metadata": {},
     "output_type": "execute_result"
    }
   ],
   "source": [
    "y_mean1.shape"
   ]
  },
  {
   "cell_type": "code",
   "execution_count": 43,
   "metadata": {},
   "outputs": [],
   "source": [
    "pred_arr =[]\n",
    "pred_arr.append(np.array(pred_dist1.mean.cpu()))"
   ]
  },
  {
   "cell_type": "code",
   "execution_count": 44,
   "metadata": {},
   "outputs": [],
   "source": [
    "y_mean1 = np.mean(pred_arr, axis =0)\n",
    "\n",
    "# y_Std = np.std(np.array(pred_arr), axis =0)"
   ]
  },
  {
   "cell_type": "code",
   "execution_count": 45,
   "metadata": {},
   "outputs": [],
   "source": [
    "y_mean1 = scalers[1].inverse_transform(y_mean1.reshape(-1,1)).squeeze()\n",
    "# y_std = scaler_y.inverse_transform(y_Std.reshape(-1,1)).squeeze()"
   ]
  },
  {
   "cell_type": "code",
   "execution_count": 46,
   "metadata": {},
   "outputs": [
    {
     "data": {
      "text/plain": [
       "(4000,)"
      ]
     },
     "execution_count": 46,
     "metadata": {},
     "output_type": "execute_result"
    }
   ],
   "source": [
    "y_mean1.shape"
   ]
  },
  {
   "cell_type": "code",
   "execution_count": 47,
   "metadata": {},
   "outputs": [],
   "source": [
    "y_mean_ = np.clip(y_mean1,0,y_mean1.max())\n",
    "# y_sigma =  np.clip(y_mean,0,y_mean.max())"
   ]
  },
  {
   "cell_type": "code",
   "execution_count": 48,
   "metadata": {},
   "outputs": [
    {
     "data": {
      "image/png": "[encoded data removed]",
      "text/plain": [
       "<Figure size 720x432 with 1 Axes>"
      ]
     },
     "metadata": {
      "needs_background": "light"
     },
     "output_type": "display_data"
    }
   ],
   "source": [
    "idx = 3000\n",
    "plt.figure(figsize=(10,6))\n",
    "# plt.plot(x_test_timestamp[:idx], scalers[].inverse_transform(xt.cpu().reshape(-1,1))[:idx], label = \"Main\")\n",
    "plt.plot(x_test_timestamp[:idx], yt.cpu()[:idx], label = \"Refri\")\n",
    "plt.plot(x_test_timestamp[:idx], y_mean_[:idx], label = \"Predicted\")\n",
    "plt.legend(bbox_to_anchor=(1, 1),fontsize=20)\n",
    "plt.xlabel(\"TimeStamp test Scaled\")\n",
    "plt.ylabel(\"Fridge  test Power\")\n",
    "sns.despine()\n",
    "# savefig(\"Uncertainity\")"
   ]
  },
  {
   "cell_type": "code",
   "execution_count": 49,
   "metadata": {},
   "outputs": [],
   "source": [
    "model2 = SGPRegressor(x.to(\"cuda\"), y.to(\"cuda\"), kernel4,\n",
    "                      inducing_points).to(\"cuda\")"
   ]
  },
  {
   "cell_type": "code",
   "execution_count": 50,
   "metadata": {},
   "outputs": [],
   "source": [
    "pred_dist2 = model2.predict(xt[:4000].to(\"cuda\"))\n",
    "# print(\"Done \", i)\n",
    "\n",
    "y_mean2 = pred_dist2.loc"
   ]
  },
  {
   "cell_type": "code",
   "execution_count": 51,
   "metadata": {},
   "outputs": [
    {
     "name": "stdout",
     "output_type": "stream",
     "text": [
      "torch.Size([16781]) (4000,)\n"
     ]
    }
   ],
   "source": [
    "y_mean2 = scalers[1].inverse_transform(y_mean2.cpu().reshape(-1,1)).squeeze()\n",
    "# y_sigma = scaler_y.inverse_transform(y_sigma.reshape(-1,1)).squeeze()\n",
    "print(yt.shape, y_mean2.shape)"
   ]
  },
  {
   "cell_type": "code",
   "execution_count": 52,
   "metadata": {},
   "outputs": [],
   "source": [
    "y_mean_ = np.clip(y_mean2,0,y_mean2.max())"
   ]
  },
  {
   "cell_type": "code",
   "execution_count": 53,
   "metadata": {},
   "outputs": [
    {
     "data": {
      "image/png": "[encoded data removed]",
      "text/plain": [
       "<Figure size 720x432 with 1 Axes>"
      ]
     },
     "metadata": {
      "needs_background": "light"
     },
     "output_type": "display_data"
    }
   ],
   "source": [
    "idx = 3000\n",
    "plt.figure(figsize=(10,6))\n",
    "# plt.plot(x_test_timestamp[:idx], scaler_y.inverse_transform(y.cpu().reshape(-1,1))[:idx], label = \"Main\")\n",
    "plt.plot(x_test_timestamp[:idx], yt.cpu()[:idx], label = \"Refri\")\n",
    "plt.plot(x_test_timestamp[:idx], y_mean_[:idx], label = \"Predicted\")\n",
    "plt.legend(bbox_to_anchor=(1, 1),fontsize=20)\n",
    "plt.xlabel(\"TimeStamp test Scaled\")\n",
    "plt.ylabel(\"Fridge  test Power\")\n",
    "sns.despine()"
   ]
  },
  {
   "cell_type": "code",
   "execution_count": 42,
   "metadata": {},
   "outputs": [
    {
     "data": {
      "image/png": "[encoded data removed]",
      "text/plain": [
       "<Figure size 432x288 with 1 Axes>"
      ]
     },
     "metadata": {
      "needs_background": "light"
     },
     "output_type": "display_data"
    }
   ],
   "source": [
    "idx = 3000\n",
    "# plt.figure(figsize=(10,6))\n",
    "plt.plot(jnp.arange(idx),  yt.cpu().reshape(-1,1)[:idx], label = \"Ground Truth\", color=\"green\")\n",
    "plt.plot(jnp.arange(idx), y_mean_[:idx].reshape(-1,1), label = \"Predicted\")\n",
    "# for i in range(2,3):\n",
    "#     plt.fill_between(jnp.arange(idx), y_mean[:idx] - i*y_std[:idx], y_mean[:idx] + i*y_std[:idx],\n",
    "#                     color=\"orange\", alpha=(1/(i*3)), label=f\"$\\mu\\pm{i}*\\sigma$\")\n",
    "# plt.legend(bbox_to_anchor=(1, 1),fontsize=20)\n",
    "plt.legend( prop={'size': 5.5})\n",
    "plt.ylabel(\"Power\")\n",
    "sns.despine()"
   ]
  },
  {
   "cell_type": "code",
   "execution_count": 22,
   "metadata": {},
   "outputs": [
    {
     "name": "stdout",
     "output_type": "stream",
     "text": [
      "MAE:  27.80521506352558\n",
      "RMSE:  44.84471\n"
     ]
    }
   ],
   "source": [
    "mae = np.mean(np.abs(np.array(yt) - y_mean))\n",
    "rms = errors.rmse(jnp.array(yt), y_mean)\n",
    "\n",
    "print(\"MAE: \", mae)\n",
    "print(\"RMSE: \", rms)"
   ]
  },
  {
   "cell_type": "code",
   "execution_count": 59,
   "metadata": {},
   "outputs": [],
   "source": [
    "try:\n",
    "    from probml_utils import latexify, savefig, is_latexify_enabled\n",
    "except ModuleNotFoundError:\n",
    "    %pip install git+https://github.com/probml/probml-utils.git\n",
    "    from probml_utils import latexify, savefig, is_latexify_enabled\n"
   ]
  },
  {
   "cell_type": "code",
   "execution_count": 60,
   "metadata": {},
   "outputs": [],
   "source": [
    "os.environ[\"LATEXIFY\"] = \"1\"\n",
    "os.environ[\"FIG_DIR\"] = \"./Final_plotss/\""
   ]
  },
  {
   "cell_type": "code",
   "execution_count": 62,
   "metadata": {},
   "outputs": [],
   "source": [
    "latexify(width_scale_factor=2, fig_height=2)"
   ]
  },
  {
   "cell_type": "code",
   "execution_count": 22,
   "metadata": {},
   "outputs": [
    {
     "name": "stdout",
     "output_type": "stream",
     "text": [
      "saving image to ./Final_plotss/CombinationKernel_latexified.pdf\n",
      "Figure size: [2. 2.]\n"
     ]
    }
   ],
   "source": [
    "idx = 2000\n",
    "# plt.figure(figsize=(10,6))\n",
    "plt.figure()\n",
    "plt.plot(jnp.arange(idx), yt[300:idx+300], label = \"Fridge True\")\n",
    "plt.plot(jnp.arange(idx), y_mean[300:idx+300], label = \"Fridge Predicted\")\n",
    "plt.legend()\n",
    "sns.despine()\n",
    "savefig(\"CombinationKernel\")"
   ]
  },
  {
   "cell_type": "code",
   "execution_count": 23,
   "metadata": {},
   "outputs": [],
   "source": [
    "model1 = SGPRegressor(x.to(\"cuda\"), y.to(\"cuda\"), kernel1,\n",
    "                       inducing_points).to(\"cuda\")"
   ]
  },
  {
   "cell_type": "code",
   "execution_count": 24,
   "metadata": {},
   "outputs": [],
   "source": [
    "pred_dist1 = model1.predict(xt.to(\"cuda\"))\n",
    "# print(\"Done \", i)\n",
    "\n",
    "y_mean1 = pred_dist1.loc"
   ]
  },
  {
   "cell_type": "code",
   "execution_count": 25,
   "metadata": {},
   "outputs": [
    {
     "name": "stdout",
     "output_type": "stream",
     "text": [
      "torch.Size([14780]) (14780,)\n"
     ]
    }
   ],
   "source": [
    "y_mean1 = scalers[1].inverse_transform(y_mean1.cpu().reshape(-1,1)).squeeze()\n",
    "# y_sigma = scaler_y.inverse_transform(y_sigma.reshape(-1,1)).squeeze()\n",
    "print(yt.shape, y_mean1.shape)"
   ]
  },
  {
   "cell_type": "code",
   "execution_count": 26,
   "metadata": {},
   "outputs": [
    {
     "name": "stdout",
     "output_type": "stream",
     "text": [
      "saving image to ./Final_plotss/RBFKernel_latexified.pdf\n",
      "Figure size: [2. 2.]\n"
     ]
    }
   ],
   "source": [
    "idx = 2000\n",
    "# plt.figure(figsize=(10,6))\n",
    "plt.figure()\n",
    "plt.plot(jnp.arange(idx), yt[300:idx+300], label = \"Fridge True\")\n",
    "plt.plot(jnp.arange(idx), y_mean1[300:idx+300], label = \"Fridge Predicted\")\n",
    "# plt.legend()\n",
    "sns.despine()\n",
    "savefig(\"RBFKernel\")"
   ]
  },
  {
   "cell_type": "code",
   "execution_count": null,
   "metadata": {},
   "outputs": [],
   "source": [
    "# for name, params in model.named_parameters():\n",
    "#   print(name, params)\n",
    "\n",
    "# # model.mll.model.base_covar_module.kernels.base_kernel.raw_lengthscale"
   ]
  },
  {
   "cell_type": "code",
   "execution_count": 19,
   "metadata": {},
   "outputs": [
    {
     "data": {
      "text/plain": [
       "torch.Size([55457, 100])"
      ]
     },
     "execution_count": 19,
     "metadata": {},
     "output_type": "execute_result"
    }
   ],
   "source": [
    "x.shape"
   ]
  },
  {
   "cell_type": "code",
   "execution_count": 22,
   "metadata": {},
   "outputs": [],
   "source": [
    "model2 = SGPRegressor(x.to(\"cuda\"), y.to(\"cuda\"), kernel4,\n",
    "                       inducing_points).to(\"cuda\")"
   ]
  },
  {
   "cell_type": "code",
   "execution_count": 23,
   "metadata": {},
   "outputs": [
    {
     "name": "stderr",
     "output_type": "stream",
     "text": [
      "/home/desai.aadesh/miniconda3/envs/nlim/lib/python3.10/site-packages/gpytorch/utils/cholesky.py:40: NumericalWarning: A not p.d., added jitter of 1.0e-08 to the diagonal\n",
      "  warnings.warn(\n",
      "/home/desai.aadesh/miniconda3/envs/nlim/lib/python3.10/site-packages/gpytorch/kernels/inducing_point_kernel.py:61: UserWarning: torch.triangular_solve is deprecated in favor of torch.linalg.solve_triangularand will be removed in a future PyTorch release.\n",
      "torch.linalg.solve_triangular has its arguments reversed and does not return a copy of one of the inputs.\n",
      "X = torch.triangular_solve(B, A).solution\n",
      "should be replaced with\n",
      "X = torch.linalg.solve_triangular(A, B). (Triggered internally at  /opt/conda/conda-bld/pytorch_1656352645774/work/aten/src/ATen/native/BatchLinearAlgebra.cpp:2183.)\n",
      "  inv_root = torch.triangular_solve(eye, chol)[0]\n"
     ]
    }
   ],
   "source": [
    "pred_dist2 = model2.predict(xt.to(\"cuda\"))\n",
    "# print(\"Done \", i)\n",
    "\n",
    "y_mean2 = pred_dist2.loc"
   ]
  },
  {
   "cell_type": "code",
   "execution_count": 24,
   "metadata": {},
   "outputs": [
    {
     "name": "stdout",
     "output_type": "stream",
     "text": [
      "torch.Size([14780]) (14780,)\n"
     ]
    }
   ],
   "source": [
    "y_mean2 = scaler_y.inverse_transform(y_mean2.cpu().reshape(-1,1)).squeeze()\n",
    "# y_sigma = scaler_y.inverse_transform(y_sigma.reshape(-1,1)).squeeze()\n",
    "print(yt.shape, y_mean2.shape)"
   ]
  },
  {
   "cell_type": "code",
   "execution_count": 26,
   "metadata": {},
   "outputs": [
    {
     "name": "stdout",
     "output_type": "stream",
     "text": [
      "saving image to ./Final_plotss/RBFxPeriodicKernel_latexified.pdf\n",
      "Figure size: [2. 2.]\n"
     ]
    }
   ],
   "source": [
    "idx = 2000\n",
    "plt.figure()\n",
    "# plt.figure(figsize=(10,6))\n",
    "plt.plot(jnp.arange(idx), yt[300:idx+300], label = \"Fridge True\")\n",
    "plt.plot(jnp.arange(idx), y_mean2[300:idx+300], label = \"Fridge Predicted\")\n",
    "# plt.legend()\n",
    "sns.despine()\n",
    "savefig(\"RBFxPeriodicKernel\")"
   ]
  },
  {
   "cell_type": "markdown",
   "metadata": {},
   "source": [
    "## Normal"
   ]
  },
  {
   "cell_type": "code",
   "execution_count": 16,
   "metadata": {},
   "outputs": [],
   "source": [
    "# kernel1 = ScaleKernel(MaternKernel(nu=2.5,ard_num_dims=n))\n",
    "# # kernel2 = ScaleKernel(MaternKernel(nu=0.5,ard_num_dims=1,active_dims=(99)))\n",
    "# # kernel3 = ScaleKernel(PeriodicKernel(ard_num_dims=1,active_dims=(99)))\n",
    "# # # kernel5 = ScaleKernel(gpytorch.kernels.SpectralDeltaKernel(num_dims=n,ard_num_dims=n))\n",
    "# # #   theta =  {'base_covar_module.kernels.0.base_kernel.lengthscale': torch.tensor(0.5),\n",
    "# # #         'base_covar_module.kernels.0.outputscale': torch.tensor(5.0),\n",
    "# # #         'base_covar_module.kernels.1.kernels.0.outputscale':torch.tensor(1.0),\n",
    "# # #         'base_covar_module.kernels.1.kernels.0.base_kernel.lengthscale': torch.tensor(0.1),\n",
    "# # #         'base_covar_module.kernels.1.kernels.1.outputscale':torch.tensor(1.0),\n",
    "# # #         'base_covar_module.kernels.1.kernels.1.base_kernel.lengthscale': torch.tensor(1.0),\n",
    "# # #         'base_covar_module.kernels.1.kernels.1.base_kernel.period_length': torch.tensor(0.01),}\n",
    "# # #theta = { 'base_covar_module.kernels.1.kernels.1.base_kernel.period_length': torch.tensor(0.01),}\n",
    "# # kernel4 = kernel2*kernel3\n",
    "# kernel = kernel1 #+ kernel4\n",
    "# inducing_points =  x[np.arange(0,x.shape[0],95)] \n",
    "# # inducing_points = x[torch.randperm(x.shape[0])[: 1500]]\n",
    "\n",
    "# model = SGPRegressor(x.to(\"cuda\"), y.to(\"cuda\"), kernel,\n",
    "#                       inducing_points).to(\"cuda\")\n",
    "# model_name = \"Refrigerator_trial_seq_time.pt\"\n",
    "# # model_name =  \"Refrigerator_trial_seq_time.pt\"\n",
    "# model.load_state_dict(torch.load(\n",
    "#     os.path.join(\"models/\", model_name)))"
   ]
  },
  {
   "cell_type": "code",
   "execution_count": 17,
   "metadata": {},
   "outputs": [
    {
     "data": {
      "text/plain": [
       "<matplotlib.collections.PathCollection at 0x7f3c86c11ba0>"
      ]
     },
     "execution_count": 17,
     "metadata": {},
     "output_type": "execute_result"
    },
    {
     "data": {
      "image/png": "[encoded data removed]",
      "text/plain": [
       "<Figure size 432x288 with 1 Axes>"
      ]
     },
     "metadata": {
      "needs_background": "light"
     },
     "output_type": "display_data"
    }
   ],
   "source": [
    "plt.scatter(range(x_train_features.shape[1]),model.mll.model.base_covar_module.base_kernel.lengthscale.cpu().detach().reshape(-1,1))"
   ]
  },
  {
   "cell_type": "code",
   "execution_count": null,
   "metadata": {},
   "outputs": [
    {
     "data": {
      "text/plain": [
       "<matplotlib.collections.PathCollection at 0x7f8ff1191a50>"
      ]
     },
     "execution_count": 17,
     "metadata": {},
     "output_type": "execute_result"
    },
    {
     "data": {
      "image/png": "[encoded data removed]",
      "text/plain": [
       "<Figure size 432x288 with 1 Axes>"
      ]
     },
     "metadata": {
      "needs_background": "light"
     },
     "output_type": "display_data"
    }
   ],
   "source": [
    "# plt.scatter(range(7),model.mll.model.base_covar_module.kernels[0].base_kernel.lengthscale.cpu().detach().reshape(-1,1)[:7])"
   ]
  },
  {
   "cell_type": "code",
   "execution_count": 23,
   "metadata": {},
   "outputs": [
    {
     "name": "stdout",
     "output_type": "stream",
     "text": [
      "mll.likelihood.noise_covar.raw_noise Parameter containing:\n",
      "tensor([0.], device='cuda:0', requires_grad=True)\n",
      "mll.model.mean_module.constant Parameter containing:\n",
      "tensor([0.], device='cuda:0', requires_grad=True)\n",
      "mll.model.base_covar_module.kernels.0.raw_outputscale Parameter containing:\n",
      "tensor(0., device='cuda:0', requires_grad=True)\n",
      "mll.model.base_covar_module.kernels.0.base_kernel.raw_lengthscale Parameter containing:\n",
      "tensor([[0., 0., 0., 0., 0., 0., 0., 0.]], device='cuda:0', requires_grad=True)\n",
      "mll.model.base_covar_module.kernels.1.kernels.0.raw_outputscale Parameter containing:\n",
      "tensor(0., device='cuda:0', requires_grad=True)\n",
      "mll.model.base_covar_module.kernels.1.kernels.0.base_kernel.raw_lengthscale Parameter containing:\n",
      "tensor([[0.]], device='cuda:0', requires_grad=True)\n",
      "mll.model.base_covar_module.kernels.1.kernels.1.raw_outputscale Parameter containing:\n",
      "tensor(0., device='cuda:0', requires_grad=True)\n",
      "mll.model.base_covar_module.kernels.1.kernels.1.base_kernel.raw_lengthscale Parameter containing:\n",
      "tensor([[0.]], device='cuda:0', requires_grad=True)\n",
      "mll.model.base_covar_module.kernels.1.kernels.1.base_kernel.raw_period_length Parameter containing:\n",
      "tensor([[-4.6002]], device='cuda:0', requires_grad=True)\n",
      "mll.model.base_covar_module.kernels.2.raw_outputscale Parameter containing:\n",
      "tensor(0., device='cuda:0', requires_grad=True)\n",
      "mll.model.base_covar_module.kernels.2.base_kernel.raw_lengthscale Parameter containing:\n",
      "tensor([[0.]], device='cuda:0', requires_grad=True)\n",
      "mll.model.base_covar_module.kernels.2.base_kernel.raw_period_length Parameter containing:\n",
      "tensor([[0.]], device='cuda:0', requires_grad=True)\n",
      "mll.model.covar_module.inducing_points Parameter containing:\n",
      "tensor([[-0.2894, -0.5732, -0.4339,  ..., -0.3728, -0.2894, -0.9552],\n",
      "        [-0.0950, -0.3617, -0.5689,  ..., -0.0872, -0.0950, -0.9464],\n",
      "        [-0.0724,  0.3677,  0.5707,  ...,  0.1996, -0.0724, -0.9248],\n",
      "        ...,\n",
      "        [ 5.0168,  4.7217,  1.9852,  ..., -0.5320,  5.0168,  3.1885],\n",
      "        [ 5.0279,  6.9658,  1.9885,  ...,  0.8021,  5.0279,  3.1974],\n",
      "        [-0.0485,  0.7413,  1.9217,  ...,  0.4286, -0.0485,  3.2063]],\n",
      "       device='cuda:0', dtype=torch.float64, requires_grad=True)\n"
     ]
    }
   ],
   "source": [
    "for name, params in model.named_parameters():\n",
    "  print(name, params)"
   ]
  },
  {
   "cell_type": "code",
   "execution_count": 16,
   "metadata": {},
   "outputs": [],
   "source": [
    "# import numpy as np\n",
    "# try:\n",
    "#     from probml_utils import latexify, savefig, is_latexify_enabled\n",
    "# except ModuleNotFoundError:\n",
    "#     %pip install git+https://github.com/probml/probml-utils.git\n",
    "#     from probml_utils import latexify, savefig, is_latexify_enabled\n",
    "\n",
    "\n",
    "# os.environ[\"LATEXIFY\"] = \"1\"\n",
    "# os.environ[\"FIG_DIR\"] = \"./Final_plotss/\"\n",
    "\n",
    "# latexify(width_scale_factor=2, fig_height=2)\n"
   ]
  },
  {
   "cell_type": "code",
   "execution_count": 17,
   "metadata": {},
   "outputs": [],
   "source": [
    "# import seaborn as sns\n",
    "# import matplotlib.pyplot as plt"
   ]
  },
  {
   "cell_type": "code",
   "execution_count": 18,
   "metadata": {},
   "outputs": [],
   "source": [
    "# arr = np.array([3.8464, 4.5094, 4.7394, 4.9024, 4.9117, 5.0150, 4.8746, 4.9372, 4.3143,\n",
    "#          4.5656, 5.0050, 5.1365, 5.1490, 5.2152, 5.2837, 5.2594, 5.1965, 5.0747,\n",
    "#          5.1212, 4.8200, 4.6431, 4.8732, 4.7529, 0.3853, 4.4826, 4.9550, 5.0677,\n",
    "#          5.2859, 4.9612, 5.1401, 5.2131, 4.4774, 4.5654, 4.5685, 3.8310, 3.0889,\n",
    "#          2.7822, 4.0948, 4.0399, 4.6180, 4.5923, 4.5015, 4.0521, 4.8423, 5.2143,\n",
    "#          5.4020, 4.8021, 4.5021, 0.6626, 0.1252, 1.3779, 4.8821, 4.6781, 4.8554,\n",
    "#          4.5223, 4.5568, 5.0172, 5.4072, 5.0706, 4.5916, 4.5663, 4.1121, 4.2572,\n",
    "#          4.2228, 3.7784, 0.4839, 3.6554, 4.3523, 4.6682, 4.6549, 4.8291, 5.0260,\n",
    "#          4.7748, 4.5609, 4.4541, 4.4165, 4.4292, 4.1279, 3.6382, 4.1110, 4.7252,\n",
    "#          5.0184, 5.0391, 5.2424, 5.5062, 5.4739, 5.5326, 5.6874, 5.6897, 5.4765,\n",
    "#          5.4602, 5.4513, 5.5450, 5.6225, 5.5479, 5.3580, 5.3926, 5.1536, 4.6321])\n",
    "# ar1 = np.arange(0,99,1)\n",
    "# plt.plot(ar1,arr,'b')\n",
    "# plt.xlabel('ARD')\n",
    "# plt.ylabel('Learned ARD LengthScale values')\n",
    "# # plt.title(\"Building 6 Test\")\n",
    "\n",
    "# plt.show()\n",
    "# sns.despine()\n",
    "# savefig(\"ARD_Ref\")\n"
   ]
  },
  {
   "cell_type": "code",
   "execution_count": 16,
   "metadata": {},
   "outputs": [],
   "source": [
    "pred_dist = model.predict(xt.to(\"cuda\"))\n",
    "# print(\"Done \", i)/\n",
    "\n"
   ]
  },
  {
   "cell_type": "code",
   "execution_count": 17,
   "metadata": {},
   "outputs": [],
   "source": [
    "y_mean = pred_dist.loc"
   ]
  },
  {
   "cell_type": "code",
   "execution_count": 18,
   "metadata": {},
   "outputs": [
    {
     "name": "stdout",
     "output_type": "stream",
     "text": [
      "torch.Size([15656]) (15656,)\n"
     ]
    }
   ],
   "source": [
    "y_mean = scalers[1].inverse_transform(y_mean.cpu().reshape(-1,1)).squeeze()\n",
    "# y_sigma = scaler_y.inverse_transform(y_sigma.reshape(-1,1)).squeeze()\n",
    "print(yt.shape, y_mean.shape)"
   ]
  },
  {
   "cell_type": "code",
   "execution_count": 19,
   "metadata": {},
   "outputs": [],
   "source": [
    "y_mean = np.clip(y_mean,0,y_mean.max(),out=y_mean)"
   ]
  },
  {
   "cell_type": "markdown",
   "metadata": {},
   "source": []
  },
  {
   "cell_type": "code",
   "execution_count": 24,
   "metadata": {},
   "outputs": [
    {
     "data": {
      "text/plain": [
       "Text(0, 0.5, 'Raw Error on Test')"
      ]
     },
     "execution_count": 24,
     "metadata": {},
     "output_type": "execute_result"
    },
    {
     "data": {
      "image/png": "[encoded data removed]",
      "text/plain": [
       "<Figure size 432x288 with 1 Axes>"
      ]
     },
     "metadata": {
      "needs_background": "light"
     },
     "output_type": "display_data"
    }
   ],
   "source": [
    "idx=3000\n",
    "mae_arr = (np.array(yt) - y_mean)\n",
    "# mae_arr = np.abs(np.array(yt) - y_mean)\n",
    "plt.plot(x_test_timestamp[:idx],mae_arr[:idx])\n",
    "plt.xlabel(\"TimeStamp\")\n",
    "plt.ylabel(\"Raw Error on Test\")"
   ]
  },
  {
   "cell_type": "code",
   "execution_count": 25,
   "metadata": {},
   "outputs": [
    {
     "data": {
      "text/plain": [
       "<matplotlib.legend.Legend at 0x7fe4743aa500>"
      ]
     },
     "execution_count": 25,
     "metadata": {},
     "output_type": "execute_result"
    },
    {
     "data": {
      "image/png": "[encoded data removed]",
      "text/plain": [
       "<Figure size 432x288 with 1 Axes>"
      ]
     },
     "metadata": {
      "needs_background": "light"
     },
     "output_type": "display_data"
    }
   ],
   "source": [
    "idx=yt.shape[0]\n",
    "mae_arr = np.abs(np.array(yt) - y_mean)\n",
    "plt.plot(x_test_timestamp[:idx],yt[:idx], label = \"ref\")\n",
    "plt.plot(x_test_timestamp[:idx],mae_arr[:idx], label=\"Eror\")\n",
    "plt.xlabel(\"TimeStamp\")\n",
    "plt.ylabel(\"Power and Error\")\n",
    "plt.legend()"
   ]
  },
  {
   "cell_type": "code",
   "execution_count": 26,
   "metadata": {},
   "outputs": [
    {
     "data": {
      "text/plain": [
       "<AxesSubplot:ylabel='Density'>"
      ]
     },
     "execution_count": 26,
     "metadata": {},
     "output_type": "execute_result"
    },
    {
     "data": {
      "image/png": "[encoded data removed]",
      "text/plain": [
       "<Figure size 432x288 with 1 Axes>"
      ]
     },
     "metadata": {
      "needs_background": "light"
     },
     "output_type": "display_data"
    }
   ],
   "source": [
    "sns.kdeplot(mae_arr)"
   ]
  },
  {
   "cell_type": "code",
   "execution_count": 27,
   "metadata": {},
   "outputs": [
    {
     "data": {
      "text/plain": [
       "Text(0, 0.5, 'Absolute Error on Test')"
      ]
     },
     "execution_count": 27,
     "metadata": {},
     "output_type": "execute_result"
    },
    {
     "data": {
      "image/png": "[encoded data removed]",
      "text/plain": [
       "<Figure size 432x288 with 1 Axes>"
      ]
     },
     "metadata": {
      "needs_background": "light"
     },
     "output_type": "display_data"
    }
   ],
   "source": [
    "mae_arr1 = []\n",
    "\n",
    "\n",
    "for i in range(len(mae_arr)):\n",
    "  if (mae_arr[i]>300):\n",
    "    mae_arr1.append(0)\n",
    "  else:\n",
    "    mae_arr1.append(mae_arr[i])\n",
    "\n",
    "np.mean(mae_arr1)\n",
    "\n",
    "plt.plot(x_test_timestamp[:],mae_arr1[:])\n",
    "plt.xlabel(\"TimeStamp\")\n",
    "plt.ylabel(\"Absolute Error on Test\")"
   ]
  },
  {
   "cell_type": "code",
   "execution_count": 20,
   "metadata": {},
   "outputs": [
    {
     "name": "stdout",
     "output_type": "stream",
     "text": [
      "MAE:  89.83019394049025\n",
      "RMSE:  93.94758\n"
     ]
    }
   ],
   "source": [
    "mae = np.mean(np.abs(np.array(yt) - y_mean))\n",
    "rms = errors.rmse(jnp.array(yt), y_mean)\n",
    "\n",
    "print(\"MAE: \", mae)\n",
    "print(\"RMSE: \", rms)"
   ]
  },
  {
   "cell_type": "code",
   "execution_count": 29,
   "metadata": {},
   "outputs": [],
   "source": [
    "x1 = x_test_features[:,0].reshape(-1,1)"
   ]
  },
  {
   "cell_type": "code",
   "execution_count": 30,
   "metadata": {},
   "outputs": [],
   "source": [
    "x2 =  x_test_features[:,1].reshape(-1,1)"
   ]
  },
  {
   "cell_type": "code",
   "execution_count": 31,
   "metadata": {},
   "outputs": [],
   "source": [
    "\n",
    "# x3 = x_train_features[:,0].reshape(-1,1)\n",
    "# x4 =  x_train_features[:,1].reshape(-1,1)\n",
    "# print(x4.min())\n",
    "# idx = 5000\n",
    "# plt.figure(figsize=(10,6))\n",
    "# plt.plot(x_train_timstamp[:idx], scalers[3].inverse_transform(x3)[:idx], label = \"Main\")\n",
    "# plt.legend()\n",
    "# plt.title(\"Train\")"
   ]
  },
  {
   "cell_type": "code",
   "execution_count": 32,
   "metadata": {},
   "outputs": [],
   "source": [
    "# idx = 3000\n",
    "# plt.figure(figsize=(10,6))\n",
    "# plt.plot(x_test_timestamp[:idx], scalers[3].inverse_transform(x1)[:idx], label = \"Main\")\n",
    "# plt.plot(x_test_timestamp[:idx], scalers[-1].inverse_transform(x2)[:idx], label = \"Main Ref Dif\")\n",
    "# plt.legend()\n",
    "# plt.title(\"Test\")"
   ]
  },
  {
   "cell_type": "code",
   "execution_count": 33,
   "metadata": {},
   "outputs": [
    {
     "data": {
      "text/plain": [
       "0.0"
      ]
     },
     "execution_count": 33,
     "metadata": {},
     "output_type": "execute_result"
    }
   ],
   "source": [
    "y_mean.min()"
   ]
  },
  {
   "cell_type": "code",
   "execution_count": 38,
   "metadata": {},
   "outputs": [
    {
     "data": {
      "text/plain": [
       "<matplotlib.legend.Legend at 0x7fa2986f3520>"
      ]
     },
     "execution_count": 38,
     "metadata": {},
     "output_type": "execute_result"
    },
    {
     "data": {
      "image/png": "[encoded data removed]",
      "text/plain": [
       "<Figure size 432x288 with 1 Axes>"
      ]
     },
     "metadata": {
      "needs_background": "light"
     },
     "output_type": "display_data"
    }
   ],
   "source": [
    "\n",
    "y_train1 = scalers[1].inverse_transform(y_train.reshape(-1,1))\n",
    "idx = 1000\n",
    "start = 0\n",
    "x_train_plt = scalers[3].inverse_transform (x_train_features[:,0].reshape(-1,1))\n",
    "plt.plot(x_train_timstamp[start : start + idx], x_train_plt[start : start + idx], label = \"Main\")\n",
    "plt.plot(x_train_timstamp[start : start + idx], y_train1[start : start + idx], label = \"Refri\")\n",
    "plt.legend()"
   ]
  },
  {
   "cell_type": "code",
   "execution_count": 31,
   "metadata": {},
   "outputs": [
    {
     "name": "stdout",
     "output_type": "stream",
     "text": [
      "-4.809015e-08\n"
     ]
    },
    {
     "data": {
      "text/plain": [
       "<matplotlib.collections.PathCollection at 0x7fa298613ac0>"
      ]
     },
     "execution_count": 31,
     "metadata": {},
     "output_type": "execute_result"
    },
    {
     "data": {
      "image/png": "[encoded data removed]",
      "text/plain": [
       "<Figure size 432x288 with 1 Axes>"
      ]
     },
     "metadata": {
      "needs_background": "light"
     },
     "output_type": "display_data"
    }
   ],
   "source": [
    "y_train1 = scalers[1].inverse_transform(y_train.reshape(-1,1))\n",
    "print(y_train1.min())\n",
    "plt.scatter(x_train_timstamp[:idx], y_train1[:idx], label = \"Refri\")"
   ]
  },
  {
   "cell_type": "code",
   "execution_count": 34,
   "metadata": {},
   "outputs": [],
   "source": [
    "time_plot = scalers[2].inverse_transform(x_test_timestamp.reshape(-1,1))"
   ]
  },
  {
   "cell_type": "code",
   "execution_count": 35,
   "metadata": {},
   "outputs": [
    {
     "data": {
      "image/png": "[encoded data removed]",
      "text/plain": [
       "<Figure size 720x432 with 1 Axes>"
      ]
     },
     "metadata": {
      "needs_background": "light"
     },
     "output_type": "display_data"
    }
   ],
   "source": [
    "idx = 1000 #x2.shape[0]\n",
    "start = 4000\n",
    "plt.figure(figsize=(10,6))\n",
    "# plt.plot(time_plot[start:start+idx], scalers[3].inverse_transform(x1)[start:start+idx], label = \"Main\")\n",
    "# plt.plot(x_test_timestamp[:idx], scalers[-1].inverse_transform(x2)[:idx], label = \"Main Ref Dif\")\n",
    "plt.plot(time_plot[start:start+idx], yt.cpu()[start:start+idx], label = \"Refri\")\n",
    "plt.plot(time_plot[start:start+idx], y_mean[start:start+idx], label = \"Predicted\")\n",
    "plt.legend(bbox_to_anchor=(1, 1),fontsize=20)\n",
    "plt.xlabel(\"TimeStamp test Scaled\")\n",
    "plt.ylabel(\"Fridge  test Power\")\n",
    "plt.title(\"Building 6\")\n",
    "sns.despine()"
   ]
  },
  {
   "cell_type": "code",
   "execution_count": 33,
   "metadata": {},
   "outputs": [
    {
     "data": {
      "text/plain": [
       "<matplotlib.legend.Legend at 0x7fa298713760>"
      ]
     },
     "execution_count": 33,
     "metadata": {},
     "output_type": "execute_result"
    },
    {
     "data": {
      "image/png": "[encoded data removed]",
      "text/plain": [
       "<Figure size 432x288 with 1 Axes>"
      ]
     },
     "metadata": {
      "needs_background": "light"
     },
     "output_type": "display_data"
    }
   ],
   "source": [
    "# idx= 6000#yt.shape[0]\n",
    "# start = 3000\n",
    "mae_arr = np.abs(np.array(yt) - y_mean)\n",
    "plt.plot(x_test_timestamp[start:start+idx],yt[start:start+idx], label = \"ref ground truth\")\n",
    "plt.plot(x_test_timestamp[start:start+idx],mae_arr[start:start+idx], label=\"Eror\")\n",
    "plt.xlabel(\"TimeStamp\")\n",
    "plt.ylabel(\"Power and Error\")\n",
    "plt.legend()"
   ]
  },
  {
   "cell_type": "code",
   "execution_count": 34,
   "metadata": {},
   "outputs": [
    {
     "data": {
      "text/plain": [
       "(172.19618234826427, 1)"
      ]
     },
     "execution_count": 34,
     "metadata": {},
     "output_type": "execute_result"
    }
   ],
   "source": [
    "value, count = np.unique(y_mean, return_counts=True)\n",
    "\n",
    "Z = [x for _,x in sorted(zip(value,count))]\n",
    "\n",
    "value[13000:14000].max(), count[13000:14000].max()"
   ]
  },
  {
   "cell_type": "code",
   "execution_count": 35,
   "metadata": {},
   "outputs": [],
   "source": [
    "y_mean1 = np.array(y_mean)\n",
    "for i in range(len(y_mean)):\n",
    "\n",
    "  # if y_mean1[i]>80 and y_mean[i]<120:\n",
    "  if y_mean[i]>150:\n",
    "    y_mean1[i] = 145\n",
    "  if y_mean1[i]<100 and y_mean1[i]>50:\n",
    "    y_mean1[i] = 145\n",
    "  if y_mean1[i]<50:\n",
    "      y_mean1[i] = 0"
   ]
  },
  {
   "cell_type": "code",
   "execution_count": 36,
   "metadata": {},
   "outputs": [
    {
     "data": {
      "image/png": "[encoded data removed]",
      "text/plain": [
       "<Figure size 720x432 with 1 Axes>"
      ]
     },
     "metadata": {
      "needs_background": "light"
     },
     "output_type": "display_data"
    }
   ],
   "source": [
    "index = 3009\n",
    "start = 0\n",
    "plt.figure(figsize=(10,6))\n",
    "# plt.plot(x_test_timestamp[:idx], scalers[3].inverse_transform(x1)[:idx], label = \"Main\")\n",
    "# plt.plot(x_test_timestamp[:idx], scalers[-1].inverse_transform(x2)[:idx], label = \"Main Ref Dif\")\n",
    "plt.plot(x_test_timestamp[start:start+index], yt.cpu()[start:start+index], label = \"Refri\")\n",
    "plt.plot(x_test_timestamp[start:start+index], y_mean1[start:start+index], label = \"Predicted\")\n",
    "plt.legend(bbox_to_anchor=(1, 1),fontsize=20)\n",
    "plt.xlabel(\"TimeStamp test Scaled\")\n",
    "plt.ylabel(\"Fridge  test Power\")\n",
    "plt.title(\"Building 6\")\n",
    "sns.despine()"
   ]
  },
  {
   "cell_type": "code",
   "execution_count": 37,
   "metadata": {},
   "outputs": [
    {
     "name": "stdout",
     "output_type": "stream",
     "text": [
      "MAE:  18.530257224714664\n",
      "RMSE:  39.461452\n"
     ]
    }
   ],
   "source": [
    "mae = np.mean(np.abs(np.array(yt) - y_mean1))\n",
    "rms = errors.rmse(jnp.array(yt), y_mean1)\n",
    "\n",
    "print(\"MAE: \", mae)\n",
    "print(\"RMSE: \", rms)"
   ]
  },
  {
   "cell_type": "code",
   "execution_count": 41,
   "metadata": {},
   "outputs": [
    {
     "data": {
      "text/plain": [
       "24.50672942623629"
      ]
     },
     "execution_count": 41,
     "metadata": {},
     "output_type": "execute_result"
    }
   ],
   "source": [
    "mae_arr = np.abs(np.array(yt) - y_mean1)\n",
    "mae_arr1 = []\n",
    "for i in range(len(mae_arr)):\n",
    "  if (mae_arr[i]>300):\n",
    "    mae_arr1.append(0)\n",
    "  else:\n",
    "    mae_arr1.append(mae_arr[i])\n",
    "\n",
    "np.mean(mae_arr1)\n"
   ]
  },
  {
   "cell_type": "code",
   "execution_count": null,
   "metadata": {},
   "outputs": [],
   "source": [
    "# idx = 3000\n",
    "# plt.figure(figsize=(10,6))\n",
    "# plt.plot(jnp.arange(idx), scaler_y.inverse_transform(y.cpu().reshape(-1,1))[:idx], label = \"Main\")\n",
    "# plt.plot(jnp.arange(idx), yt.cpu()[:idx], label = \"Refri\")\n",
    "# plt.plot(jnp.arange(idx), y_mean[:idx], label = \"Predicted\")\n",
    "# plt.legend(bbox_to_anchor=(1, 1),fontsize=20)\n",
    "# plt.xlabel(\"Indexes\")\n",
    "# plt.ylabel(\"Fridge Power\")\n",
    "# sns.despine()"
   ]
  },
  {
   "cell_type": "code",
   "execution_count": 20,
   "metadata": {},
   "outputs": [],
   "source": [
    "# plt.plot(np.array(test_timestamp_orig)[:300],np.array(yt)[:300])\n",
    "# plt.plot(np.array(test_timestamp_orig)[:300],np.array(y_mean)[:300])"
   ]
  },
  {
   "cell_type": "code",
   "execution_count": 21,
   "metadata": {},
   "outputs": [],
   "source": [
    "# plt.scatter(np.array(test_timestamp_orig)[:3000],np.array(y_mean)[:3000],label=\"True\")\n",
    "# plt.scatter(np.array(test_timestamp_orig)[:3000],np.array(yt)[:3000],label=\"Pred\")\n",
    "# plt.legend()\n",
    "# plt.xlabel(\"TimeStamp\")\n",
    "# plt.xlabel(\"Refrogerator Power\")"
   ]
  },
  {
   "cell_type": "code",
   "execution_count": 22,
   "metadata": {},
   "outputs": [
    {
     "data": {
      "image/png": "[encoded data removed]",
      "text/plain": [
       "<Figure size 720x432 with 1 Axes>"
      ]
     },
     "metadata": {
      "needs_background": "light"
     },
     "output_type": "display_data"
    }
   ],
   "source": [
    "idx = x_test.shape[0]\n",
    "plt.figure(figsize=(10,6))\n",
    "plt.plot(x_test_timestamp, y_test[:idx], label = \"Refri\")\n",
    "plt.plot(x_test_timestamp, y_mean[:idx], label = \"Predicted\")\n",
    "plt.legend(bbox_to_anchor=(1, 1),fontsize=20)\n",
    "plt.xlabel(\"TimeStamp test Scaled\")\n",
    "plt.ylabel(\"Fridge  test Power\")\n",
    "sns.despine()\n",
    "# savefig(\"CombinationKernel\")\n",
    "# plt.savefig(\"./Results/Refrigerator_building5.png\", bbox_inches=\"tight\")"
   ]
  },
  {
   "cell_type": "code",
   "execution_count": 27,
   "metadata": {},
   "outputs": [],
   "source": [
    "model1 = SGPRegressor(x.to(\"cuda\"), y.to(\"cuda\"), kernel1,\n",
    "                      inducing_points).to(\"cuda\")"
   ]
  },
  {
   "cell_type": "code",
   "execution_count": null,
   "metadata": {},
   "outputs": [],
   "source": [
    "pred_dist1 = model.predict(torch.tensor(np.array(x_train_full)).to(\"cuda\"))\n",
    "# print(\"Done \", i)\n",
    "\n",
    "y_mean1 = pred_dist1.loc"
   ]
  },
  {
   "cell_type": "code",
   "execution_count": null,
   "metadata": {},
   "outputs": [],
   "source": [
    "y_mean1 = scaler_y.inverse_transform(y_mean1.cpu().reshape(-1,1)).squeeze()\n",
    "# y_sigma = scaler_y.inverse_transform(y_sigma.reshape(-1,1)).squeeze()\n",
    "print(y_train.shape, y_mean1.shape)"
   ]
  },
  {
   "cell_type": "code",
   "execution_count": null,
   "metadata": {},
   "outputs": [],
   "source": [
    "mae = np.mean(np.abs(np.array(y_train) - y_mean1))\n",
    "rms = errors.rmse(jnp.array(y_train), y_mean1)\n",
    "\n",
    "print(\"MAE: \", mae)\n",
    "print(\"RMSE: \", rms)"
   ]
  },
  {
   "cell_type": "code",
   "execution_count": null,
   "metadata": {},
   "outputs": [],
   "source": [
    "idx = x_train.shape[0]\n",
    "plt.figure(figsize=(10,6))\n",
    "plt.plot(x_train_timstamp, y_train[:idx], label = \"Refri\")\n",
    "plt.plot(x_train_timstamp, y_mean[:idx], label = \"Predicted\")\n",
    "plt.legend(bbox_to_anchor=(1, 1),fontsize=20)\n",
    "plt.xlabel(\"TimeStamp test Scaled\")\n",
    "plt.ylabel(\"Fridge  test Power\")\n",
    "sns.despine()\n",
    "# savefig(\"CombinationKernel\")\n",
    "# plt.savefig(\"./Results/Refrigerator_building5.png\", bbox_inches=\"tight\")"
   ]
  },
  {
   "cell_type": "code",
   "execution_count": null,
   "metadata": {},
   "outputs": [],
   "source": [
    "#MAE:  39.81858310475401 build 6\n",
    "#MAE:  30.333733374869247 build 3\n",
    "#MAE:  37.32115756605644 build 2\n",
    "#MAE: 43.212248588857065 build 5\n",
    "#MAE:  48.917852990726765"
   ]
  },
  {
   "cell_type": "code",
   "execution_count": null,
   "metadata": {},
   "outputs": [],
   "source": [
    "# MAE: Building 6 MAE: 35.07\n",
    "# MAE: Building 3 MAE:  31.565\n",
    "# MAE: Building 2 MAE: 31.089\n",
    "# MAE: Building 1 MAE: 37.3657\n",
    "# MAE: Building 5 MAE:  46.316869"
   ]
  },
  {
   "cell_type": "code",
   "execution_count": null,
   "metadata": {},
   "outputs": [],
   "source": [
    "# MAE: Building 6 MAE: 34.3709125\n",
    "# MAE: Building 3 MAE: 30.919\n",
    "# MAE: Building 2 MAE: 30.43776\n",
    "# MAE: Building 1 MAE: 37.10209\n",
    "# MAE: Building 5 MAE: 45.02767"
   ]
  },
  {
   "cell_type": "code",
   "execution_count": null,
   "metadata": {},
   "outputs": [],
   "source": [
    "frequency decomposition\n",
    "knn for all features \n",
    "try features which have numpy inbuilt\n",
    "spectral kernel"
   ]
  }
 ],
 "metadata": {
  "kernelspec": {
   "display_name": "Python 3.10.4 ('nlim')",
   "language": "python",
   "name": "python3"
  },
  "language_info": {
   "codemirror_mode": {
    "name": "ipython",
    "version": 3
   },
   "file_extension": ".py",
   "mimetype": "text/x-python",
   "name": "python",
   "nbconvert_exporter": "python",
   "pygments_lexer": "ipython3",
   "version": "3.10.4"
  },
  "orig_nbformat": 4,
  "vscode": {
   "interpreter": {
    "hash": "4a19952a8cb0d513e360355f3718fc7b5b0ccef7313ddd97e7b7ab66b1ecfbb8"
   }
  }
 },
 "nbformat": 4,
 "nbformat_minor": 2
}
