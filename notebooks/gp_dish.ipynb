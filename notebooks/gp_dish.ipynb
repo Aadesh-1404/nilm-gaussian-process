{
 "cells": [
  {
   "cell_type": "code",
   "execution_count": null,
   "metadata": {},
   "outputs": [],
   "source": [
    "import os\n",
    "os.chdir(\"../\")"
   ]
  },
  {
   "cell_type": "code",
   "execution_count": null,
   "metadata": {},
   "outputs": [],
   "source": [
    "import flax.linen as nn\n",
    "import jax\n",
    "import jax.numpy as jnp\n",
    "import optax\n",
    "import pandas as pd\n",
    "from functools import partial\n",
    "from sklearn.preprocessing import StandardScaler\n",
    "import tqdm\n",
    "from flax.training import train_state\n",
    "import matplotlib.pyplot as plt\n",
    "import seaborn as sns\n",
    "from utilities.fits import fit\n",
    "# from utilities import plot\n",
    "import tinygp\n",
    "from tinygp import kernels, GaussianProcess\n",
    "import tensorflow_probability.substrates.jax as tfp\n",
    "\n",
    "dist = tfp.distributions\n",
    "\n",
    "from datasets.dataset_load import dataset_loader\n",
    "from utilities import plot,fits,gmm,errors,predict,preprocess"
   ]
  },
  {
   "cell_type": "code",
   "execution_count": null,
   "metadata": {},
   "outputs": [],
   "source": [
    "train ={ \n",
    "    1: {\n",
    "          'start_time': \"2011-04-28\" ,\n",
    "          'end_time': \"2011-05-15\"\n",
    "        },\n",
    "    # 3: {\n",
    "    #       'start_time': \"2011-04-19\" ,\n",
    "    #       'end_time': \"2011-05-22\"\n",
    "    # }\n",
    "}\n",
    "test = {\n",
    "     2: {\n",
    "          'start_time': \"2011-04-21\" ,\n",
    "          'end_time': \"2011-05-21\"\n",
    "    }\n",
    "}\n",
    "appliances = [\"Dish Washer\"]"
   ]
  },
  {
   "cell_type": "code",
   "execution_count": null,
   "metadata": {},
   "outputs": [],
   "source": [
    "x_train, y_train, x_test, y_test, x_test_timestamp, scaler_x, scaler_y = dataset_loader(appliances, train, test)\n",
    "print(x_train.shape, y_train.shape, x_test.shape, y_test.shape)\n",
    "## pandas to hourly conversion"
   ]
  },
  {
   "cell_type": "code",
   "execution_count": null,
   "metadata": {},
   "outputs": [],
   "source": [
    "plt.plot(x_train)\n"
   ]
  },
  {
   "cell_type": "code",
   "execution_count": null,
   "metadata": {},
   "outputs": [],
   "source": [
    "plt.plot(y_test)"
   ]
  },
  {
   "cell_type": "code",
   "execution_count": null,
   "metadata": {},
   "outputs": [],
   "source": [
    "def build_gp(theta_, x):\n",
    "    # x = x/(jnp.exp(theta_[\"len_scale\"]))\n",
    "    # kernel1 = (jnp.exp(theta_[\"varf_\"]))*kernels.ExpSquared(scale=jnp.exp(theta_[\"len_scale_\"]))\n",
    "    kernel2 = (jnp.exp(theta_[\"varf\"]))*kernels.ExpSineSquared(scale=jnp.exp(theta_[\"len_scale\"]), gamma=jnp.exp(theta_[\"gamma\"]))\n",
    "    kernel = kernel2\n",
    "    return GaussianProcess(kernel, x, diag=(jnp.exp(theta_[\"vary\"])))\n",
    "\n",
    "# def build_gp(theta_, x):\n",
    "#     # x = x/(jnp.exp(theta_[\"len_scale\"]))\n",
    "#     kernel = (jnp.exp(theta_[\"varf\"]))*kernels.ExpSineSquared(scale=jnp.exp(theta_[\"len_scale\"]), gamma=jnp.exp(theta_[\"gamma\"]))\n",
    "#     return GaussianProcess(kernel, x, diag=(jnp.exp(theta_[\"vary\"])))\n",
    "\n",
    "def NLL(theta_, x, y_):\n",
    "    gp = build_gp(theta_, x)\n",
    "    return -gp.log_probability(y_)"
   ]
  },
  {
   "cell_type": "code",
   "execution_count": null,
   "metadata": {},
   "outputs": [],
   "source": [
    "theta_init = {\n",
    "  \"varf\": jnp.log(1.0),\n",
    "  # \"varf_\": jnp.log(1.0),\n",
    "  \"vary\": jnp.log(1.0),\n",
    "  \"len_scale\": jnp.log(1.0),\n",
    "  # \"len_scale_\": jnp.log(1.0),\n",
    "  \"gamma\": jnp.log(1.0)}\n",
    "\n",
    "\n",
    "obj = jax.jit(jax.value_and_grad(NLL))\n",
    "\n",
    "\n",
    "print(f\"Initial negative log likelihood: {obj(theta_init, x_train, y_train)[0]}\")\n",
    "print(\n",
    "    f\"Gradient of the negative log likelihood, wrt the parameters:\\n{obj(theta_init,x_train, y_train)[1]}\")"
   ]
  },
  {
   "cell_type": "code",
   "execution_count": null,
   "metadata": {},
   "outputs": [],
   "source": [
    "import jaxopt\n",
    "solver = jaxopt.ScipyMinimize(fun=NLL, method='L-BFGS-B')\n",
    "# print(X.shape, y.shape)\n",
    "soln = solver.run(theta_init, x_train, y_train)\n",
    "print(f\"Final negative log likelihood: {soln.state.fun_val}\")"
   ]
  },
  {
   "cell_type": "code",
   "execution_count": null,
   "metadata": {},
   "outputs": [],
   "source": [
    "gp = build_gp(soln.params, x_train)\n",
    "cond_gp = gp.condition(y_train, x_test).gp\n",
    "mu, var = cond_gp.loc, cond_gp.variance\n",
    "print(mu.shape,var.shape)\n",
    "mean = scaler_y.inverse_transform(mu.reshape(-1,1)).squeeze()\n",
    "sigma = scaler_y.scale_*jnp.sqrt(var)\n",
    "print(mean.shape, sigma.shape)"
   ]
  },
  {
   "cell_type": "code",
   "execution_count": null,
   "metadata": {},
   "outputs": [],
   "source": [
    "y_trans = scaler_y.inverse_transform(y_test.reshape(-1,1))\n",
    "def NLL(mean,sigma,y):\n",
    "    def loss_fn(mean, sigma, y):\n",
    "      d = dist.Normal(loc=mean, scale=sigma)\n",
    "      return -d.log_prob(y)\n",
    "    return jnp.mean(jax.vmap(loss_fn, in_axes=(0, 0, 0))(mean, sigma, y))\n",
    "\n",
    "NLL(mean, sigma, scaler_y.inverse_transform(y_test.reshape(-1,1)))"
   ]
  },
  {
   "cell_type": "code",
   "execution_count": null,
   "metadata": {},
   "outputs": [],
   "source": [
    "idx = 300\n",
    "plt.figure(figsize=(10,6))\n",
    "plt.plot(jnp.arange(idx), scaler_y.inverse_transform(y_test.reshape(-1,1)).reshape(-1)[:idx], label = \"Refrigerator\", color=\"green\")\n",
    "plt.plot(jnp.arange(idx), mean[:idx].reshape(-1,1), label = \"Predicted\")\n",
    "for i in range(1,4):\n",
    "    plt.fill_between(jnp.arange(idx), mean[:idx] - i*sigma[:idx], mean[:idx] + i*sigma[:idx],\n",
    "                    color=\"orange\", alpha=(1/(i*3)), label=f\"$\\mu\\pm{i}*\\sigma$\")\n",
    "plt.legend(bbox_to_anchor=(1, 1),fontsize=20)\n",
    "plt.ylabel(\"Power\", fontsize=20)\n",
    "sns.despine()"
   ]
  },
  {
   "cell_type": "code",
   "execution_count": null,
   "metadata": {},
   "outputs": [],
   "source": [
    "idx = 3000\n",
    "plt.figure(figsize=(10,6))\n",
    "plt.plot(jnp.arange(idx), scaler_y.inverse_transform(y_test.reshape(-1,1)[:idx]), label = \"Dish Washer\")\n",
    "plt.plot(jnp.arange(idx), scaler_y.inverse_transform(mu.reshape(-1,1)[:idx]), label = \"Predicted\")\n",
    "plt.legend(bbox_to_anchor=(1, 1),fontsize=20)\n",
    "sns.despine()\n",
    "plt.savefig(\"GP.pdf\", bbox_inches=\"tight\")"
   ]
  }
 ],
 "metadata": {
  "language_info": {
   "name": "python"
  },
  "orig_nbformat": 4
 },
 "nbformat": 4,
 "nbformat_minor": 2
}
