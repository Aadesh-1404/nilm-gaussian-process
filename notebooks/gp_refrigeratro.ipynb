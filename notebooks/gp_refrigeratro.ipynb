{
 "cells": [
  {
   "cell_type": "code",
   "execution_count": 1,
   "metadata": {},
   "outputs": [],
   "source": [
    "CUDA_VISIBLE_DEVICES = \"3\""
   ]
  },
  {
   "cell_type": "code",
   "execution_count": 2,
   "metadata": {},
   "outputs": [],
   "source": [
    "import os\n",
    "os.chdir(\"../\")"
   ]
  },
  {
   "cell_type": "code",
   "execution_count": 3,
   "metadata": {},
   "outputs": [
    {
     "name": "stderr",
     "output_type": "stream",
     "text": [
      "WARNING:absl:No GPU/TPU found, falling back to CPU. (Set TF_CPP_MIN_LOG_LEVEL=0 and rerun for more info.)\n"
     ]
    }
   ],
   "source": [
    "import flax.linen as nn\n",
    "import jax\n",
    "import jax.numpy as jnp\n",
    "import optax\n",
    "import pandas as pd\n",
    "from functools import partial\n",
    "from sklearn.preprocessing import StandardScaler\n",
    "import tqdm\n",
    "from flax.training import train_state\n",
    "import matplotlib.pyplot as plt\n",
    "import seaborn as sns\n",
    "from utilities.fits import fit\n",
    "# from utilities import plot\n",
    "import tinygp\n",
    "from tinygp import kernels, GaussianProcess\n",
    "import tensorflow_probability.substrates.jax as tfp\n",
    "\n",
    "dist = tfp.distributions\n",
    "\n",
    "from datasets.dataset_load import dataset_loader\n",
    "from utilities import plot,fits,gmm,errors,predict,preprocess\n",
    "\n",
    "\n",
    "XLA_PYTHON_CLIENT_PREALLOCATE=False"
   ]
  },
  {
   "cell_type": "markdown",
   "metadata": {},
   "source": [
    "## Dish Washer"
   ]
  },
  {
   "cell_type": "code",
   "execution_count": null,
   "metadata": {},
   "outputs": [],
   "source": [
    "# train ={ \n",
    "#     1: {\n",
    "#           'start_time': \"2011-04-28\" ,\n",
    "#           'end_time': \"2011-05-15\"\n",
    "#         },\n",
    "#     # 3: {\n",
    "#     #       'start_time': \"2011-04-19\" ,\n",
    "#     #       'end_time': \"2011-05-22\"\n",
    "#     # }\n",
    "# }\n",
    "# test = {\n",
    "#      2: {\n",
    "#           'start_time': \"2011-04-21\" ,\n",
    "#           'end_time': \"2011-05-21\"\n",
    "#     }\n",
    "# }\n",
    "# appliances = [\"Dish Washer\"]"
   ]
  },
  {
   "cell_type": "code",
   "execution_count": null,
   "metadata": {},
   "outputs": [],
   "source": [
    "# x_train, y_train, x_test, y_test, x_test_timestamp, scaler_x, scaler_y = dataset_loader(appliances, train, test)"
   ]
  },
  {
   "cell_type": "code",
   "execution_count": null,
   "metadata": {},
   "outputs": [],
   "source": [
    "# print(x_train.shape, y_train.shape, x_test.shape, y_test.shape)\n",
    "## pandas to hourly conversion"
   ]
  },
  {
   "cell_type": "code",
   "execution_count": null,
   "metadata": {},
   "outputs": [],
   "source": [
    "# plt.plot(x_train)"
   ]
  },
  {
   "cell_type": "code",
   "execution_count": null,
   "metadata": {},
   "outputs": [],
   "source": [
    "# plt.plot(y_test)"
   ]
  },
  {
   "cell_type": "markdown",
   "metadata": {},
   "source": [
    "## Ref"
   ]
  },
  {
   "cell_type": "code",
   "execution_count": 4,
   "metadata": {},
   "outputs": [],
   "source": [
    "train ={ \n",
    "        1:{\n",
    "            'start_time': \"2011-04-21\" ,\n",
    "            'end_time': \"2011-05-21\"\n",
    "                }}\n",
    "\n",
    "test ={2:{\n",
    "                    'start_time': \"2011-04-21\" ,\n",
    "                    'end_time': \"2011-05-21\"\n",
    "                },}\n",
    "appliances = [\"Refrigerator\"]"
   ]
  },
  {
   "cell_type": "code",
   "execution_count": null,
   "metadata": {},
   "outputs": [],
   "source": [
    "# train ={1:{\n",
    "#                     'start_time': \"2011-04-21\" ,\n",
    "#                     'end_time': \"2011-05-21\"\n",
    "#                 },\n",
    "#                 3: {\n",
    "#                     'start_time': \"2011-04-19\" ,\n",
    "#                     'end_time': \"2011-05-22\"\n",
    "#                 },\n",
    "#                 2: {\n",
    "#                     'start_time': \"2011-04-21\" ,\n",
    "#                     'end_time': \"2011-05-21\"\n",
    "#                 },\n",
    "#                 5: {\n",
    "#                     'start_time': \"2011-04-22\" ,\n",
    "#                     'end_time': \"2011-06-01\"\n",
    "#                 }\n",
    "#                 }\n",
    "# test = {6: {\n",
    "#                     'start_time': \"2011-05-25\" ,\n",
    "#                     'end_time': \"2011-06-13\"\n",
    "#                 }}\n",
    "# appliances = [\"Refrigerator\"]\n",
    "\n"
   ]
  },
  {
   "cell_type": "code",
   "execution_count": 5,
   "metadata": {},
   "outputs": [],
   "source": [
    "x_train, y_train, x_test, y_test, x_test_timestamp, scaler_x, scaler_y = dataset_loader(appliances, train, test)"
   ]
  },
  {
   "cell_type": "markdown",
   "metadata": {},
   "source": [
    "When testing 1 building split:"
   ]
  },
  {
   "cell_type": "code",
   "execution_count": 6,
   "metadata": {},
   "outputs": [
    {
     "name": "stdout",
     "output_type": "stream",
     "text": [
      "(13000, 1) (6917, 1)\n"
     ]
    }
   ],
   "source": [
    "x_1 = x_train[:13000,:]\n",
    "x_2 = x_train[13000:19917,:]\n",
    "y_1 = y_train[:13000]\n",
    "y_2 = y_train[13000:19917]\n",
    "\n",
    "print(x_1.shape, x_2.shape)"
   ]
  },
  {
   "cell_type": "code",
   "execution_count": 7,
   "metadata": {},
   "outputs": [
    {
     "name": "stdout",
     "output_type": "stream",
     "text": [
      "(19917, 1) (19917,) (15656, 1) (15656,)\n"
     ]
    },
    {
     "data": {
      "text/plain": [
       "[<matplotlib.lines.Line2D at 0x7fbeb81a0670>]"
      ]
     },
     "execution_count": 7,
     "metadata": {},
     "output_type": "execute_result"
    },
    {
     "data": {
      "image/png": "[encoded data removed]",
      "text/plain": [
       "<Figure size 432x288 with 1 Axes>"
      ]
     },
     "metadata": {
      "needs_background": "light"
     },
     "output_type": "display_data"
    }
   ],
   "source": [
    "print(x_train.shape, y_train.shape, x_test.shape, y_test.shape)\n",
    "plt.plot(x_train)"
   ]
  },
  {
   "cell_type": "code",
   "execution_count": 8,
   "metadata": {},
   "outputs": [
    {
     "data": {
      "text/plain": [
       "[<matplotlib.lines.Line2D at 0x7fc61c12dc00>]"
      ]
     },
     "execution_count": 8,
     "metadata": {},
     "output_type": "execute_result"
    },
    {
     "data": {
      "image/png": "[encoded data removed]",
      "text/plain": [
       "<Figure size 432x288 with 1 Axes>"
      ]
     },
     "metadata": {
      "needs_background": "light"
     },
     "output_type": "display_data"
    }
   ],
   "source": [
    "plt.plot(y_train)"
   ]
  },
  {
   "cell_type": "markdown",
   "metadata": {},
   "source": [
    "## GP"
   ]
  },
  {
   "cell_type": "code",
   "execution_count": 8,
   "metadata": {},
   "outputs": [],
   "source": [
    "import tensorflow_probability.substrates.jax as tfp\n",
    "import jax.numpy as jnp\n",
    "import jax\n",
    "dist = tfp.distributions"
   ]
  },
  {
   "cell_type": "code",
   "execution_count": 9,
   "metadata": {},
   "outputs": [],
   "source": [
    "def build_gp(theta_, x):\n",
    "    # x = x/(jnp.exp(theta_[\"len_scale\"]))\n",
    "    kernel1 = (jnp.exp(theta_[\"varf_rbf\"]))*kernels.ExpSquared(scale=jnp.exp(theta_[\"len_scale_rbf\"]))\n",
    "    kernel2 = (jnp.exp(theta_[\"varf\"]))*kernels.ExpSineSquared(scale=jnp.exp(theta_[\"len_scale\"]), gamma=jnp.exp(theta_[\"gamma\"]))\n",
    "    kernel3 =  (jnp.exp(theta_[\"varf_rbf1\"]))*kernels.ExpSquared(scale=jnp.exp(theta_[\"len_scale_rbf1\"]))\n",
    "    kernel = kernel1 + kernel3*kernel2 \n",
    "    return GaussianProcess(kernel, x, diag=(jnp.exp(theta_[\"vary\"])))\n",
    "\n",
    "# def build_gp(theta_, x):\n",
    "#     # x = x/(jnp.exp(theta_[\"len_scale\"]))\n",
    "#     kernel = (jnp.exp(theta_[\"varf\"]))*kernels.ExpSineSquared(scale=jnp.exp(theta_[\"len_scale\"]), gamma=jnp.exp(theta_[\"gamma\"]))\n",
    "#     return GaussianProcess(kernel, x, diag=(jnp.exp(theta_[\"vary\"])))\n",
    "\n",
    "def NLL(theta_, x, y_):\n",
    "    gp = build_gp(theta_, x)\n",
    "    return -gp.log_probability(y_)"
   ]
  },
  {
   "cell_type": "code",
   "execution_count": 10,
   "metadata": {},
   "outputs": [
    {
     "name": "stdout",
     "output_type": "stream",
     "text": [
      "Initial negative log likelihood: 15462.880859375\n"
     ]
    }
   ],
   "source": [
    "theta_init = {\n",
    "  \"varf\": jnp.log(1.0),\n",
    "  \"varf_rbf\": jnp.log(1.0),\n",
    "  \"varf_rbf1\": jnp.log(1.0),\n",
    "  \"vary\": jnp.log(1.0),\n",
    "  \"len_scale\": jnp.log(1.0),\n",
    "  \"len_scale_rbf\": jnp.log(1.0),\n",
    "  \"len_scale_rbf1\": jnp.log(1.0),\n",
    "  \"gamma\": jnp.log(1.0)}\n",
    "\n",
    "\n",
    "obj = jax.jit(jax.value_and_grad(NLL))\n",
    "\n",
    "print(f\"Initial negative log likelihood: {obj(theta_init, x_1, y_1)[0]}\")\n",
    "# print(f\"Gradient of the negative log likelihood, wrt the parameters:\\n{obj(theta_init,x_1, y_1)[1]}\")\n",
    "# print(f\"Initial negative log likelihood: {obj(theta_init, x_train, y_train)[0]}\")\n",
    "# print(\n",
    "#     f\"Gradient of the negative log likelihood, wrt the parameters:\\n{obj(theta_init,x_train, y_train)[1]}\")"
   ]
  },
  {
   "cell_type": "code",
   "execution_count": 11,
   "metadata": {},
   "outputs": [
    {
     "name": "stdout",
     "output_type": "stream",
     "text": [
      "Final negative log likelihood: 9549.0546875\n"
     ]
    }
   ],
   "source": [
    "import jaxopt\n",
    "solver = jaxopt.ScipyMinimize(fun=NLL, method='L-BFGS-B')\n",
    "# print(X.shape, y.shape)\n",
    "soln = solver.run(theta_init, x_1, y_1)\n",
    "# soln = solver.run(theta_init, x_train, y_train)\n",
    "print(f\"Final negative log likelihood: {soln.state.fun_val}\")"
   ]
  },
  {
   "cell_type": "code",
   "execution_count": null,
   "metadata": {},
   "outputs": [],
   "source": [
    "print(soln.params)\n",
    "#{'gamma': DeviceArray(8.213193, dtype=float32), 'len_scale': DeviceArray(0.60124433, dtype=float32), 'varf': DeviceArray(-0.2495472, dtype=float32), 'vary': DeviceArray(-0.7555641, dtype=float32)}"
   ]
  },
  {
   "cell_type": "code",
   "execution_count": 12,
   "metadata": {},
   "outputs": [],
   "source": [
    "# Nearest Neighbour calculation\n",
    "from sklearn.neighbors import NearestNeighbors\n",
    "batch_size = 5000\n",
    "neigh = NearestNeighbors(n_neighbors=batch_size, algorithm='kd_tree')\n",
    "neigh.fit(x_train)\n",
    "_, neigh_idx = neigh.kneighbors(x_train, batch_size)\n",
    "neigh_idx = jnp.array(neigh_idx)"
   ]
  },
  {
   "cell_type": "code",
   "execution_count": null,
   "metadata": {},
   "outputs": [],
   "source": [
    "mean_ar1 = jnp.array([])\n",
    "sigma_ar1 = jnp.array([])\n",
    "\n",
    "for i in range(x_test.shape[0]):\n",
    "  key = jax.random.PRNGKey(0)\n",
    "  key = jax.random.split(key,2)\n",
    "  center_idx = jax.random.randint(key[0], (1,), 1, len(y_train))\n",
    "  nn_batch_indices = neigh_idx[center_idx, ]\n",
    "  nn_batch_X = x_train[nn_batch_indices][:].squeeze()\n",
    "  nn_batch_y = y_train[nn_batch_indices][:].squeeze()\n",
    "  print(nn_batch_X.shape, nn_batch_y.shape)\n",
    "  gp = build_gp(soln.params, nn_batch_X.reshape(-1,1))\n",
    "  cond_gp = gp.condition(nn_batch_y, x_test[i : i + 1]).gp\n",
    "  mu, var = cond_gp.loc, cond_gp.variance\n",
    "  mean_ar1 = jnp.concatenate((mean_ar1, mu))\n",
    "  sigma_ar1 = jnp.concatenate((sigma_ar1,jnp.sqrt(var)))\n"
   ]
  },
  {
   "cell_type": "code",
   "execution_count": 17,
   "metadata": {},
   "outputs": [],
   "source": [
    "# # final_theta = {'gamma': jnp.log(jnp.exp(8.213193)), 'len_scale': jnp.log(jnp.exp(0.60124433)), 'varf': jnp.log(jnp.exp(-0.2495472)), 'vary': jnp.log(jnp.exp(-0.7555641))}\n",
    "# gp = build_gp(soln.params, x_train)\n",
    "# batch = 64\n",
    "# if (len(y_test)%batch == 0):\n",
    "#   num_batches = int(len(y_test)/batch)\n",
    "# else:\n",
    "#   num_batches = int(len(y_test)/batch) + 1\n",
    "# index = 0\n",
    "# mean_arr = []\n",
    "# sigma_arr = []\n",
    "# for i in range(num_batches):\n",
    "#   if (index+batch <= len(y_test)):\n",
    "#     x_test_batch = x_test[index:index+batch,:]\n",
    "#   else:\n",
    "#     x_test_batch = x_test[index:,:]\n",
    "#   index = index+batch\n",
    "#   print(x_test_batch.shape)\n",
    "#   cond_gp = gp.condition(y_train, x_test_batch).gp\n",
    "#   mu, var = cond_gp.loc, cond_gp.variance\n",
    "#   mean_arr.append(mu)\n",
    "#   sigma_arr.append(jnp.sqrt(var))\n",
    "#   print(mu.shape,var.shape)\n"
   ]
  },
  {
   "cell_type": "code",
   "execution_count": 18,
   "metadata": {},
   "outputs": [
    {
     "data": {
      "text/plain": [
       "((689,), (689,))"
      ]
     },
     "execution_count": 18,
     "metadata": {},
     "output_type": "execute_result"
    }
   ],
   "source": [
    "# mean_ar1 = jnp.array([])\n",
    "# sigma_ar1 = jnp.array([])\n",
    "# for i in range(len(mean_arr)):\n",
    "#   mean_ar1 = jnp.concatenate((mean_ar1, mean_arr[i]))\n",
    "#   sigma_ar1 = jnp.concatenate((sigma_ar1, sigma_arr[i]))\n",
    "mean_ar1.shape, sigma_ar1.shape"
   ]
  },
  {
   "cell_type": "code",
   "execution_count": 19,
   "metadata": {},
   "outputs": [
    {
     "name": "stdout",
     "output_type": "stream",
     "text": [
      "(689,) (689,)\n"
     ]
    }
   ],
   "source": [
    "mean = scaler_y.inverse_transform(jnp.array(mean_ar1).reshape(-1,1)).squeeze()\n",
    "sigma = scaler_y.scale_*jnp.array(sigma_ar1)\n",
    "print(mean.shape, sigma.shape)\n",
    "y_trans = scaler_y.inverse_transform(y_test[:689].reshape(-1,1)).reshape(-1,)"
   ]
  },
  {
   "cell_type": "code",
   "execution_count": 20,
   "metadata": {},
   "outputs": [
    {
     "data": {
      "image/png": "[encoded data removed]",
      "text/plain": [
       "<Figure size 720x432 with 1 Axes>"
      ]
     },
     "metadata": {
      "needs_background": "light"
     },
     "output_type": "display_data"
    }
   ],
   "source": [
    "idx = 300\n",
    "plt.figure(figsize=(10,6))\n",
    "plt.plot(jnp.arange(idx), y_trans[:idx], label = \"Refrigerator\", color=\"green\")\n",
    "plt.plot(jnp.arange(idx), mean[:idx].reshape(-1,1), label = \"Predicted\")\n",
    "for i in range(1,4):\n",
    "    plt.fill_between(jnp.arange(idx), mean[:idx] - i*sigma[:idx], mean[:idx] + i*sigma[:idx],\n",
    "                    color=\"orange\", alpha=(1/(i*3)), label=f\"$\\mu\\pm{i}*\\sigma$\")\n",
    "plt.legend(bbox_to_anchor=(1, 1),fontsize=20)\n",
    "plt.ylabel(\"Power\", fontsize=20)\n",
    "sns.despine()\n",
    "plt.savefig(\"gp_ref_full.png\")"
   ]
  },
  {
   "cell_type": "code",
   "execution_count": 21,
   "metadata": {},
   "outputs": [
    {
     "data": {
      "image/png": "[encoded data removed]",
      "text/plain": [
       "<Figure size 720x432 with 1 Axes>"
      ]
     },
     "metadata": {
      "needs_background": "light"
     },
     "output_type": "display_data"
    }
   ],
   "source": [
    "idx = 300\n",
    "plt.figure(figsize=(10,6))\n",
    "plt.plot(jnp.arange(idx), y_trans[:idx], label = \"Dish Washer\")\n",
    "plt.plot(jnp.arange(idx), mean[:idx], label = \"Predicted\")\n",
    "plt.legend(bbox_to_anchor=(1, 1),fontsize=20)\n",
    "sns.despine()\n",
    "plt.savefig(\"gp_ref_full_.png\", bbox_inches=\"tight\")"
   ]
  },
  {
   "cell_type": "code",
   "execution_count": null,
   "metadata": {},
   "outputs": [],
   "source": [
    "rms = errors.rmse(y_trans, mean)\n",
    "print(\"RMSE:\", rms)\n",
    "\n",
    "nll = errors.NLL(mean, sigma, y_trans)\n",
    "print(\"NLL:\", nll)"
   ]
  },
  {
   "cell_type": "markdown",
   "metadata": {},
   "source": [
    "## GPy"
   ]
  },
  {
   "cell_type": "code",
   "execution_count": null,
   "metadata": {},
   "outputs": [],
   "source": [
    "# try:\n",
    "#   import GPy\n",
    "# except ModuleNotFoundError:\n",
    "#   %pip install GPy\n",
    "#   import GPy\n"
   ]
  },
  {
   "cell_type": "code",
   "execution_count": null,
   "metadata": {},
   "outputs": [],
   "source": [
    "# sigmaf = 1\n",
    "# len_scale =  1.0\n",
    "# kernel1 = GPy.kern.RBF(1, sigmaf, len_scale)\n",
    "# kernel2= GPy.kern.StdPeriodic(1, 1, 1.0, 1.0)\n",
    "# kernel = kernel2\n",
    "# model = GPy.models.GPRegression(x_1, y_1.reshape(-1,1), kernel, normalizer=False) \n",
    "# model.Gaussian_noise = 1.0\n",
    "# print(model)\n",
    "# model.plot()"
   ]
  },
  {
   "cell_type": "code",
   "execution_count": null,
   "metadata": {},
   "outputs": [],
   "source": [
    "# model.optimize(messages=True)\n",
    "# model.optimize_restarts(num_restarts = 3)"
   ]
  },
  {
   "cell_type": "code",
   "execution_count": null,
   "metadata": {},
   "outputs": [],
   "source": [
    "# print(model)\n",
    "# model.plot()"
   ]
  }
 ],
 "metadata": {
  "kernelspec": {
   "display_name": "Python 3.10.4 ('nlim')",
   "language": "python",
   "name": "python3"
  },
  "language_info": {
   "codemirror_mode": {
    "name": "ipython",
    "version": 3
   },
   "file_extension": ".py",
   "mimetype": "text/x-python",
   "name": "python",
   "nbconvert_exporter": "python",
   "pygments_lexer": "ipython3",
   "version": "3.10.4"
  },
  "orig_nbformat": 4,
  "vscode": {
   "interpreter": {
    "hash": "4a19952a8cb0d513e360355f3718fc7b5b0ccef7313ddd97e7b7ab66b1ecfbb8"
   }
  }
 },
 "nbformat": 4,
 "nbformat_minor": 2
}
